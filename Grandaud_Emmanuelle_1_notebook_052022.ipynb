{
 "cells": [
  {
   "attachments": {
    "bottleneck.PNG": {
     "image/png": "[encoded data removed]"
    }
   },
   "cell_type": "markdown",
   "id": "d88ac94b",
   "metadata": {},
   "source": [
    "![bottleneck.PNG](attachment:bottleneck.PNG)\n",
    "\n",
    "\n",
    "\n",
    "# <center>OPTIMISATION DE LA GESTION DES DONNEES </center>"
   ]
  },
  {
   "cell_type": "markdown",
   "id": "9edb3943",
   "metadata": {},
   "source": [
    "## Importation et inspection des data"
   ]
  },
  {
   "cell_type": "code",
   "execution_count": 1,
   "id": "cf439886",
   "metadata": {},
   "outputs": [
    {
     "data": {
      "text/html": [
       "        <script type=\"text/javascript\">\n",
       "        window.PlotlyConfig = {MathJaxConfig: 'local'};\n",
       "        if (window.MathJax) {MathJax.Hub.Config({SVG: {font: \"STIX-Web\"}});}\n",
       "        if (typeof require !== 'undefined') {\n",
       "        require.undef(\"plotly\");\n",
       "        requirejs.config({\n",
       "            paths: {\n",
       "                'plotly': ['https://cdn.plot.ly/plotly-2.9.0.min']\n",
       "            }\n",
       "        });\n",
       "        require(['plotly'], function(Plotly) {\n",
       "            window._Plotly = Plotly;\n",
       "        });\n",
       "        }\n",
       "        </script>\n",
       "        "
      ]
     },
     "metadata": {},
     "output_type": "display_data"
    },
    {
     "data": {
      "text/html": [
       "        <script type=\"text/javascript\">\n",
       "        window.PlotlyConfig = {MathJaxConfig: 'local'};\n",
       "        if (window.MathJax) {MathJax.Hub.Config({SVG: {font: \"STIX-Web\"}});}\n",
       "        if (typeof require !== 'undefined') {\n",
       "        require.undef(\"plotly\");\n",
       "        requirejs.config({\n",
       "            paths: {\n",
       "                'plotly': ['https://cdn.plot.ly/plotly-2.9.0.min']\n",
       "            }\n",
       "        });\n",
       "        require(['plotly'], function(Plotly) {\n",
       "            window._Plotly = Plotly;\n",
       "        });\n",
       "        }\n",
       "        </script>\n",
       "        "
      ]
     },
     "metadata": {},
     "output_type": "display_data"
    }
   ],
   "source": [
    "import pandas as pd\n",
    "import seaborn as sns\n",
    "import matplotlib.pyplot as plt\n",
    "import numpy as np\n",
    "import plotly.express as px\n",
    "import chart_studio.plotly as py\n",
    "import cufflinks as cf\n",
    "%matplotlib inline\n",
    "\n",
    "# Plotly\n",
    "from plotly.offline import download_plotlyjs, init_notebook_mode, plot, iplot\n",
    "init_notebook_mode(connected=True)\n",
    "\n",
    "# Utiliser plotly en local\n",
    "cf.go_offline()\n",
    "\n",
    "# créer des grafs et les customiser\n",
    "import plotly.graph_objects as go"
   ]
  },
  {
   "cell_type": "markdown",
   "id": "55c4f47b",
   "metadata": {},
   "source": [
    "### Importation des fichiers de données"
   ]
  },
  {
   "cell_type": "markdown",
   "id": "78ca398b",
   "metadata": {},
   "source": [
    "Déclaration des formats possibles de valeurs nulles :"
   ]
  },
  {
   "cell_type": "code",
   "execution_count": 2,
   "id": "e5870505",
   "metadata": {},
   "outputs": [],
   "source": [
    "v_null = ['na', '', 'n/a', '-', '--']"
   ]
  },
  {
   "cell_type": "markdown",
   "id": "804f90bd",
   "metadata": {},
   "source": [
    "#### Fichier ERP\n",
    "L'export de l'ERP contenant les références produits, leur prix de vente et leur état de stock : \n",
    "5 variables : l'id produit (product_id), le statut de vente en ligne (onsale_web),\n",
    "le prix de vente (price), la quantité en stock (stock_quantity) et le statut du stock (stock_status)"
   ]
  },
  {
   "cell_type": "code",
   "execution_count": 3,
   "id": "521f95c7",
   "metadata": {},
   "outputs": [
    {
     "data": {
      "text/html": [
       "<div>\n",
       "<style scoped>\n",
       "    .dataframe tbody tr th:only-of-type {\n",
       "        vertical-align: middle;\n",
       "    }\n",
       "\n",
       "    .dataframe tbody tr th {\n",
       "        vertical-align: top;\n",
       "    }\n",
       "\n",
       "    .dataframe thead th {\n",
       "        text-align: right;\n",
       "    }\n",
       "</style>\n",
       "<table border=\"1\" class=\"dataframe\">\n",
       "  <thead>\n",
       "    <tr style=\"text-align: right;\">\n",
       "      <th></th>\n",
       "      <th>product_id</th>\n",
       "      <th>onsale_web</th>\n",
       "      <th>price</th>\n",
       "      <th>stock_quantity</th>\n",
       "      <th>stock_status</th>\n",
       "    </tr>\n",
       "  </thead>\n",
       "  <tbody>\n",
       "    <tr>\n",
       "      <th>0</th>\n",
       "      <td>3847</td>\n",
       "      <td>1</td>\n",
       "      <td>24.2</td>\n",
       "      <td>0</td>\n",
       "      <td>outofstock</td>\n",
       "    </tr>\n",
       "    <tr>\n",
       "      <th>1</th>\n",
       "      <td>3849</td>\n",
       "      <td>1</td>\n",
       "      <td>34.3</td>\n",
       "      <td>0</td>\n",
       "      <td>outofstock</td>\n",
       "    </tr>\n",
       "    <tr>\n",
       "      <th>2</th>\n",
       "      <td>3850</td>\n",
       "      <td>1</td>\n",
       "      <td>20.8</td>\n",
       "      <td>0</td>\n",
       "      <td>outofstock</td>\n",
       "    </tr>\n",
       "    <tr>\n",
       "      <th>3</th>\n",
       "      <td>4032</td>\n",
       "      <td>1</td>\n",
       "      <td>14.1</td>\n",
       "      <td>0</td>\n",
       "      <td>outofstock</td>\n",
       "    </tr>\n",
       "    <tr>\n",
       "      <th>4</th>\n",
       "      <td>4039</td>\n",
       "      <td>1</td>\n",
       "      <td>46.0</td>\n",
       "      <td>0</td>\n",
       "      <td>outofstock</td>\n",
       "    </tr>\n",
       "  </tbody>\n",
       "</table>\n",
       "</div>"
      ],
      "text/plain": [
       "   product_id  onsale_web  price  stock_quantity stock_status\n",
       "0        3847           1   24.2               0   outofstock\n",
       "1        3849           1   34.3               0   outofstock\n",
       "2        3850           1   20.8               0   outofstock\n",
       "3        4032           1   14.1               0   outofstock\n",
       "4        4039           1   46.0               0   outofstock"
      ]
     },
     "execution_count": 3,
     "metadata": {},
     "output_type": "execute_result"
    }
   ],
   "source": [
    "erp0 = pd.read_csv('erp.csv', sep = ';' , na_values = v_null)\n",
    "erp0.head()"
   ]
  },
  {
   "cell_type": "markdown",
   "id": "6a518551",
   "metadata": {},
   "source": [
    "Nous n'allons nous intéresser qu'aux produits ayant la variable 'onsale_web' à 1 D'autre part, la variable (stock_status) est redondante avec la variable (stock_quantity), donc nous n'en tiendrons pas compte"
   ]
  },
  {
   "cell_type": "code",
   "execution_count": 4,
   "id": "a2c12058",
   "metadata": {},
   "outputs": [
    {
     "data": {
      "text/html": [
       "<div>\n",
       "<style scoped>\n",
       "    .dataframe tbody tr th:only-of-type {\n",
       "        vertical-align: middle;\n",
       "    }\n",
       "\n",
       "    .dataframe tbody tr th {\n",
       "        vertical-align: top;\n",
       "    }\n",
       "\n",
       "    .dataframe thead th {\n",
       "        text-align: right;\n",
       "    }\n",
       "</style>\n",
       "<table border=\"1\" class=\"dataframe\">\n",
       "  <thead>\n",
       "    <tr style=\"text-align: right;\">\n",
       "      <th></th>\n",
       "      <th>product_id</th>\n",
       "      <th>price</th>\n",
       "      <th>stock_quantity</th>\n",
       "    </tr>\n",
       "  </thead>\n",
       "  <tbody>\n",
       "    <tr>\n",
       "      <th>0</th>\n",
       "      <td>3847</td>\n",
       "      <td>24.2</td>\n",
       "      <td>0</td>\n",
       "    </tr>\n",
       "    <tr>\n",
       "      <th>1</th>\n",
       "      <td>3849</td>\n",
       "      <td>34.3</td>\n",
       "      <td>0</td>\n",
       "    </tr>\n",
       "    <tr>\n",
       "      <th>2</th>\n",
       "      <td>3850</td>\n",
       "      <td>20.8</td>\n",
       "      <td>0</td>\n",
       "    </tr>\n",
       "    <tr>\n",
       "      <th>3</th>\n",
       "      <td>4032</td>\n",
       "      <td>14.1</td>\n",
       "      <td>0</td>\n",
       "    </tr>\n",
       "    <tr>\n",
       "      <th>4</th>\n",
       "      <td>4039</td>\n",
       "      <td>46.0</td>\n",
       "      <td>0</td>\n",
       "    </tr>\n",
       "  </tbody>\n",
       "</table>\n",
       "</div>"
      ],
      "text/plain": [
       "   product_id  price  stock_quantity\n",
       "0        3847   24.2               0\n",
       "1        3849   34.3               0\n",
       "2        3850   20.8               0\n",
       "3        4032   14.1               0\n",
       "4        4039   46.0               0"
      ]
     },
     "execution_count": 4,
     "metadata": {},
     "output_type": "execute_result"
    }
   ],
   "source": [
    "erp = erp0.loc[erp0['onsale_web']==1, [\"product_id\",\"price\", \"stock_quantity\" ]]\n",
    "erp.head()"
   ]
  },
  {
   "cell_type": "markdown",
   "id": "06bf7984",
   "metadata": {},
   "source": [
    "#### Fichier WEB\n",
    "\n",
    "L'export de l'outil de CMS contenant les informations produits : \n",
    "28 variables dont nous ne conserverons que celles qui nous intéressent et nous permettent d'identifier le produit et garantir unicité. "
   ]
  },
  {
   "cell_type": "code",
   "execution_count": 5,
   "id": "5dda7a79",
   "metadata": {
    "scrolled": false
   },
   "outputs": [
    {
     "data": {
      "text/html": [
       "<div>\n",
       "<style scoped>\n",
       "    .dataframe tbody tr th:only-of-type {\n",
       "        vertical-align: middle;\n",
       "    }\n",
       "\n",
       "    .dataframe tbody tr th {\n",
       "        vertical-align: top;\n",
       "    }\n",
       "\n",
       "    .dataframe thead th {\n",
       "        text-align: right;\n",
       "    }\n",
       "</style>\n",
       "<table border=\"1\" class=\"dataframe\">\n",
       "  <thead>\n",
       "    <tr style=\"text-align: right;\">\n",
       "      <th></th>\n",
       "      <th>sku</th>\n",
       "      <th>virtual</th>\n",
       "      <th>downloadable</th>\n",
       "      <th>rating_count</th>\n",
       "      <th>average_rating</th>\n",
       "      <th>total_sales</th>\n",
       "      <th>tax_status</th>\n",
       "      <th>tax_class</th>\n",
       "      <th>post_author</th>\n",
       "      <th>post_date</th>\n",
       "      <th>...</th>\n",
       "      <th>post_name</th>\n",
       "      <th>post_modified</th>\n",
       "      <th>post_modified_gmt</th>\n",
       "      <th>post_content_filtered</th>\n",
       "      <th>post_parent</th>\n",
       "      <th>guid</th>\n",
       "      <th>menu_order</th>\n",
       "      <th>post_type</th>\n",
       "      <th>post_mime_type</th>\n",
       "      <th>comment_count</th>\n",
       "    </tr>\n",
       "  </thead>\n",
       "  <tbody>\n",
       "    <tr>\n",
       "      <th>0</th>\n",
       "      <td>bon-cadeau-25-euros</td>\n",
       "      <td>0</td>\n",
       "      <td>0</td>\n",
       "      <td>0</td>\n",
       "      <td>0.0</td>\n",
       "      <td>10.0</td>\n",
       "      <td>taxable</td>\n",
       "      <td>NaN</td>\n",
       "      <td>1.0</td>\n",
       "      <td>2018-06-01 13:53:46</td>\n",
       "      <td>...</td>\n",
       "      <td>bon-cadeau-de-25-euros</td>\n",
       "      <td>2018-06-01 14:13:57</td>\n",
       "      <td>2018-06-01 12:13:57</td>\n",
       "      <td>NaN</td>\n",
       "      <td>0.0</td>\n",
       "      <td>https://www.bottle-neck.fr/?post_type=product&amp;...</td>\n",
       "      <td>0.0</td>\n",
       "      <td>product</td>\n",
       "      <td>NaN</td>\n",
       "      <td>0.0</td>\n",
       "    </tr>\n",
       "    <tr>\n",
       "      <th>1</th>\n",
       "      <td>15298</td>\n",
       "      <td>0</td>\n",
       "      <td>0</td>\n",
       "      <td>0</td>\n",
       "      <td>0.0</td>\n",
       "      <td>6.0</td>\n",
       "      <td>taxable</td>\n",
       "      <td>NaN</td>\n",
       "      <td>2.0</td>\n",
       "      <td>2018-02-08 12:58:52</td>\n",
       "      <td>...</td>\n",
       "      <td>pierre-jean-villa-saint-joseph-preface-2018</td>\n",
       "      <td>2019-12-30 09:30:29</td>\n",
       "      <td>2019-12-30 08:30:29</td>\n",
       "      <td>NaN</td>\n",
       "      <td>0.0</td>\n",
       "      <td>https://www.bottle-neck.fr/?post_type=product&amp;...</td>\n",
       "      <td>0.0</td>\n",
       "      <td>product</td>\n",
       "      <td>NaN</td>\n",
       "      <td>0.0</td>\n",
       "    </tr>\n",
       "    <tr>\n",
       "      <th>2</th>\n",
       "      <td>15296</td>\n",
       "      <td>0</td>\n",
       "      <td>0</td>\n",
       "      <td>0</td>\n",
       "      <td>0.0</td>\n",
       "      <td>0.0</td>\n",
       "      <td>taxable</td>\n",
       "      <td>NaN</td>\n",
       "      <td>2.0</td>\n",
       "      <td>2018-02-08 13:49:41</td>\n",
       "      <td>...</td>\n",
       "      <td>pierre-jean-villa-saint-joseph-tilde-2017</td>\n",
       "      <td>2019-12-21 09:00:17</td>\n",
       "      <td>2019-12-21 08:00:17</td>\n",
       "      <td>NaN</td>\n",
       "      <td>0.0</td>\n",
       "      <td>https://www.bottle-neck.fr/?post_type=product&amp;...</td>\n",
       "      <td>0.0</td>\n",
       "      <td>product</td>\n",
       "      <td>NaN</td>\n",
       "      <td>0.0</td>\n",
       "    </tr>\n",
       "    <tr>\n",
       "      <th>3</th>\n",
       "      <td>15300</td>\n",
       "      <td>0</td>\n",
       "      <td>0</td>\n",
       "      <td>0</td>\n",
       "      <td>0.0</td>\n",
       "      <td>0.0</td>\n",
       "      <td>taxable</td>\n",
       "      <td>NaN</td>\n",
       "      <td>2.0</td>\n",
       "      <td>2018-02-08 14:08:36</td>\n",
       "      <td>...</td>\n",
       "      <td>pierre-jean-villa-croze-hermitage-accroche-coe...</td>\n",
       "      <td>2020-06-26 18:15:03</td>\n",
       "      <td>2020-06-26 16:15:03</td>\n",
       "      <td>NaN</td>\n",
       "      <td>0.0</td>\n",
       "      <td>https://www.bottle-neck.fr/?post_type=product&amp;...</td>\n",
       "      <td>0.0</td>\n",
       "      <td>product</td>\n",
       "      <td>NaN</td>\n",
       "      <td>0.0</td>\n",
       "    </tr>\n",
       "    <tr>\n",
       "      <th>4</th>\n",
       "      <td>19814</td>\n",
       "      <td>0</td>\n",
       "      <td>0</td>\n",
       "      <td>0</td>\n",
       "      <td>0.0</td>\n",
       "      <td>3.0</td>\n",
       "      <td>taxable</td>\n",
       "      <td>NaN</td>\n",
       "      <td>2.0</td>\n",
       "      <td>2018-02-09 14:01:05</td>\n",
       "      <td>...</td>\n",
       "      <td>pierre-jean-villa-igp-gamine-2018</td>\n",
       "      <td>2020-01-04 16:36:01</td>\n",
       "      <td>2020-01-04 15:36:01</td>\n",
       "      <td>NaN</td>\n",
       "      <td>0.0</td>\n",
       "      <td>https://www.bottle-neck.fr/?post_type=product&amp;...</td>\n",
       "      <td>0.0</td>\n",
       "      <td>product</td>\n",
       "      <td>NaN</td>\n",
       "      <td>0.0</td>\n",
       "    </tr>\n",
       "  </tbody>\n",
       "</table>\n",
       "<p>5 rows × 28 columns</p>\n",
       "</div>"
      ],
      "text/plain": [
       "                   sku  virtual  downloadable  rating_count  average_rating  \\\n",
       "0  bon-cadeau-25-euros        0             0             0             0.0   \n",
       "1                15298        0             0             0             0.0   \n",
       "2                15296        0             0             0             0.0   \n",
       "3                15300        0             0             0             0.0   \n",
       "4                19814        0             0             0             0.0   \n",
       "\n",
       "   total_sales tax_status  tax_class  post_author            post_date  ...  \\\n",
       "0         10.0    taxable        NaN          1.0  2018-06-01 13:53:46  ...   \n",
       "1          6.0    taxable        NaN          2.0  2018-02-08 12:58:52  ...   \n",
       "2          0.0    taxable        NaN          2.0  2018-02-08 13:49:41  ...   \n",
       "3          0.0    taxable        NaN          2.0  2018-02-08 14:08:36  ...   \n",
       "4          3.0    taxable        NaN          2.0  2018-02-09 14:01:05  ...   \n",
       "\n",
       "                                           post_name        post_modified  \\\n",
       "0                             bon-cadeau-de-25-euros  2018-06-01 14:13:57   \n",
       "1        pierre-jean-villa-saint-joseph-preface-2018  2019-12-30 09:30:29   \n",
       "2          pierre-jean-villa-saint-joseph-tilde-2017  2019-12-21 09:00:17   \n",
       "3  pierre-jean-villa-croze-hermitage-accroche-coe...  2020-06-26 18:15:03   \n",
       "4                  pierre-jean-villa-igp-gamine-2018  2020-01-04 16:36:01   \n",
       "\n",
       "     post_modified_gmt post_content_filtered post_parent  \\\n",
       "0  2018-06-01 12:13:57                   NaN         0.0   \n",
       "1  2019-12-30 08:30:29                   NaN         0.0   \n",
       "2  2019-12-21 08:00:17                   NaN         0.0   \n",
       "3  2020-06-26 16:15:03                   NaN         0.0   \n",
       "4  2020-01-04 15:36:01                   NaN         0.0   \n",
       "\n",
       "                                                guid menu_order  post_type  \\\n",
       "0  https://www.bottle-neck.fr/?post_type=product&...        0.0    product   \n",
       "1  https://www.bottle-neck.fr/?post_type=product&...        0.0    product   \n",
       "2  https://www.bottle-neck.fr/?post_type=product&...        0.0    product   \n",
       "3  https://www.bottle-neck.fr/?post_type=product&...        0.0    product   \n",
       "4  https://www.bottle-neck.fr/?post_type=product&...        0.0    product   \n",
       "\n",
       "  post_mime_type comment_count  \n",
       "0            NaN           0.0  \n",
       "1            NaN           0.0  \n",
       "2            NaN           0.0  \n",
       "3            NaN           0.0  \n",
       "4            NaN           0.0  \n",
       "\n",
       "[5 rows x 28 columns]"
      ]
     },
     "execution_count": 5,
     "metadata": {},
     "output_type": "execute_result"
    }
   ],
   "source": [
    "web0 = pd.read_csv('web.csv', sep = ';' , na_values = v_null)\n",
    "web0.head()"
   ]
  },
  {
   "cell_type": "markdown",
   "id": "12e0ea8f",
   "metadata": {},
   "source": [
    "Nous ne gardons donc que les colonnes suivantes : \n",
    "(SKU) : la référence du produit, (total_sales) : le nombre d'exemplaires vendus, (post_title) : la description du produit"
   ]
  },
  {
   "cell_type": "code",
   "execution_count": 6,
   "id": "07b3d700",
   "metadata": {},
   "outputs": [
    {
     "data": {
      "text/html": [
       "<div>\n",
       "<style scoped>\n",
       "    .dataframe tbody tr th:only-of-type {\n",
       "        vertical-align: middle;\n",
       "    }\n",
       "\n",
       "    .dataframe tbody tr th {\n",
       "        vertical-align: top;\n",
       "    }\n",
       "\n",
       "    .dataframe thead th {\n",
       "        text-align: right;\n",
       "    }\n",
       "</style>\n",
       "<table border=\"1\" class=\"dataframe\">\n",
       "  <thead>\n",
       "    <tr style=\"text-align: right;\">\n",
       "      <th></th>\n",
       "      <th>sku</th>\n",
       "      <th>total_sales</th>\n",
       "      <th>post_title</th>\n",
       "    </tr>\n",
       "  </thead>\n",
       "  <tbody>\n",
       "    <tr>\n",
       "      <th>0</th>\n",
       "      <td>bon-cadeau-25-euros</td>\n",
       "      <td>10.0</td>\n",
       "      <td>Bon cadeau de 25€</td>\n",
       "    </tr>\n",
       "    <tr>\n",
       "      <th>1</th>\n",
       "      <td>15298</td>\n",
       "      <td>6.0</td>\n",
       "      <td>Pierre Jean Villa Saint-Joseph Préface 2018</td>\n",
       "    </tr>\n",
       "    <tr>\n",
       "      <th>2</th>\n",
       "      <td>15296</td>\n",
       "      <td>0.0</td>\n",
       "      <td>Pierre Jean Villa Saint-Joseph Rouge Tildé 2017</td>\n",
       "    </tr>\n",
       "    <tr>\n",
       "      <th>3</th>\n",
       "      <td>15300</td>\n",
       "      <td>0.0</td>\n",
       "      <td>Pierre Jean Villa Crozes-Hermitage Accroche Co...</td>\n",
       "    </tr>\n",
       "    <tr>\n",
       "      <th>4</th>\n",
       "      <td>19814</td>\n",
       "      <td>3.0</td>\n",
       "      <td>Pierre Jean Villa IGP Collines Rhodaniennes Ga...</td>\n",
       "    </tr>\n",
       "  </tbody>\n",
       "</table>\n",
       "</div>"
      ],
      "text/plain": [
       "                   sku  total_sales  \\\n",
       "0  bon-cadeau-25-euros         10.0   \n",
       "1                15298          6.0   \n",
       "2                15296          0.0   \n",
       "3                15300          0.0   \n",
       "4                19814          3.0   \n",
       "\n",
       "                                          post_title  \n",
       "0                                  Bon cadeau de 25€  \n",
       "1        Pierre Jean Villa Saint-Joseph Préface 2018  \n",
       "2    Pierre Jean Villa Saint-Joseph Rouge Tildé 2017  \n",
       "3  Pierre Jean Villa Crozes-Hermitage Accroche Co...  \n",
       "4  Pierre Jean Villa IGP Collines Rhodaniennes Ga...  "
      ]
     },
     "execution_count": 6,
     "metadata": {},
     "output_type": "execute_result"
    }
   ],
   "source": [
    "web = web0[[\"sku\",\"total_sales\", \"post_title\"]]\n",
    "web.head()"
   ]
  },
  {
   "cell_type": "markdown",
   "id": "73f07924",
   "metadata": {},
   "source": [
    "#### Fichier LIAISON\n",
    "\n",
    "Le fichier établissant le lien entre les deux fichiers précédents (réf produit).\n",
    "\n",
    "NB : nous constatons que certaines valeurs manquent dans la deuxième colonne \n",
    "\n",
    "Nous devrons donc les lister et les extraire des fichiers à analyser. (fichier liaison_vide)"
   ]
  },
  {
   "cell_type": "code",
   "execution_count": 7,
   "id": "6fbd09a6",
   "metadata": {},
   "outputs": [
    {
     "data": {
      "text/html": [
       "<div>\n",
       "<style scoped>\n",
       "    .dataframe tbody tr th:only-of-type {\n",
       "        vertical-align: middle;\n",
       "    }\n",
       "\n",
       "    .dataframe tbody tr th {\n",
       "        vertical-align: top;\n",
       "    }\n",
       "\n",
       "    .dataframe thead th {\n",
       "        text-align: right;\n",
       "    }\n",
       "</style>\n",
       "<table border=\"1\" class=\"dataframe\">\n",
       "  <thead>\n",
       "    <tr style=\"text-align: right;\">\n",
       "      <th></th>\n",
       "      <th>product_id</th>\n",
       "      <th>id_web</th>\n",
       "    </tr>\n",
       "  </thead>\n",
       "  <tbody>\n",
       "    <tr>\n",
       "      <th>0</th>\n",
       "      <td>3847</td>\n",
       "      <td>15298</td>\n",
       "    </tr>\n",
       "    <tr>\n",
       "      <th>1</th>\n",
       "      <td>3849</td>\n",
       "      <td>15296</td>\n",
       "    </tr>\n",
       "    <tr>\n",
       "      <th>2</th>\n",
       "      <td>3850</td>\n",
       "      <td>15300</td>\n",
       "    </tr>\n",
       "    <tr>\n",
       "      <th>3</th>\n",
       "      <td>4032</td>\n",
       "      <td>19814</td>\n",
       "    </tr>\n",
       "    <tr>\n",
       "      <th>4</th>\n",
       "      <td>4039</td>\n",
       "      <td>19815</td>\n",
       "    </tr>\n",
       "  </tbody>\n",
       "</table>\n",
       "</div>"
      ],
      "text/plain": [
       "   product_id id_web\n",
       "0        3847  15298\n",
       "1        3849  15296\n",
       "2        3850  15300\n",
       "3        4032  19814\n",
       "4        4039  19815"
      ]
     },
     "execution_count": 7,
     "metadata": {},
     "output_type": "execute_result"
    }
   ],
   "source": [
    "liaison = pd.read_csv('liaison.csv', sep = ';' , na_values = v_null)\n",
    "liaison.head()"
   ]
  },
  {
   "cell_type": "markdown",
   "id": "fbbf5efd",
   "metadata": {},
   "source": [
    "Nous devons remplacer le nom de la colonne (id_web) par (sku)"
   ]
  },
  {
   "cell_type": "code",
   "execution_count": 8,
   "id": "18fca842",
   "metadata": {},
   "outputs": [
    {
     "data": {
      "text/html": [
       "<div>\n",
       "<style scoped>\n",
       "    .dataframe tbody tr th:only-of-type {\n",
       "        vertical-align: middle;\n",
       "    }\n",
       "\n",
       "    .dataframe tbody tr th {\n",
       "        vertical-align: top;\n",
       "    }\n",
       "\n",
       "    .dataframe thead th {\n",
       "        text-align: right;\n",
       "    }\n",
       "</style>\n",
       "<table border=\"1\" class=\"dataframe\">\n",
       "  <thead>\n",
       "    <tr style=\"text-align: right;\">\n",
       "      <th></th>\n",
       "      <th>product_id</th>\n",
       "      <th>sku</th>\n",
       "    </tr>\n",
       "  </thead>\n",
       "  <tbody>\n",
       "    <tr>\n",
       "      <th>0</th>\n",
       "      <td>3847</td>\n",
       "      <td>15298</td>\n",
       "    </tr>\n",
       "    <tr>\n",
       "      <th>1</th>\n",
       "      <td>3849</td>\n",
       "      <td>15296</td>\n",
       "    </tr>\n",
       "    <tr>\n",
       "      <th>2</th>\n",
       "      <td>3850</td>\n",
       "      <td>15300</td>\n",
       "    </tr>\n",
       "    <tr>\n",
       "      <th>3</th>\n",
       "      <td>4032</td>\n",
       "      <td>19814</td>\n",
       "    </tr>\n",
       "    <tr>\n",
       "      <th>4</th>\n",
       "      <td>4039</td>\n",
       "      <td>19815</td>\n",
       "    </tr>\n",
       "  </tbody>\n",
       "</table>\n",
       "</div>"
      ],
      "text/plain": [
       "   product_id    sku\n",
       "0        3847  15298\n",
       "1        3849  15296\n",
       "2        3850  15300\n",
       "3        4032  19814\n",
       "4        4039  19815"
      ]
     },
     "execution_count": 8,
     "metadata": {},
     "output_type": "execute_result"
    }
   ],
   "source": [
    "liaison.rename(columns={\"id_web\" : \"sku\"}, inplace = True)\n",
    "liaison.head()"
   ]
  },
  {
   "cell_type": "markdown",
   "id": "143df652",
   "metadata": {},
   "source": [
    "### Inspection et contrôle des données"
   ]
  },
  {
   "cell_type": "markdown",
   "id": "5eaf0f94",
   "metadata": {},
   "source": [
    "#### Inspection des données : info, describe"
   ]
  },
  {
   "cell_type": "code",
   "execution_count": 9,
   "id": "3f344710",
   "metadata": {},
   "outputs": [
    {
     "data": {
      "text/html": [
       "<div>\n",
       "<style scoped>\n",
       "    .dataframe tbody tr th:only-of-type {\n",
       "        vertical-align: middle;\n",
       "    }\n",
       "\n",
       "    .dataframe tbody tr th {\n",
       "        vertical-align: top;\n",
       "    }\n",
       "\n",
       "    .dataframe thead th {\n",
       "        text-align: right;\n",
       "    }\n",
       "</style>\n",
       "<table border=\"1\" class=\"dataframe\">\n",
       "  <thead>\n",
       "    <tr style=\"text-align: right;\">\n",
       "      <th></th>\n",
       "      <th>product_id</th>\n",
       "    </tr>\n",
       "  </thead>\n",
       "  <tbody>\n",
       "    <tr>\n",
       "      <th>count</th>\n",
       "      <td>825.000000</td>\n",
       "    </tr>\n",
       "    <tr>\n",
       "      <th>mean</th>\n",
       "      <td>5162.597576</td>\n",
       "    </tr>\n",
       "    <tr>\n",
       "      <th>std</th>\n",
       "      <td>902.644635</td>\n",
       "    </tr>\n",
       "    <tr>\n",
       "      <th>min</th>\n",
       "      <td>3847.000000</td>\n",
       "    </tr>\n",
       "    <tr>\n",
       "      <th>25%</th>\n",
       "      <td>4348.000000</td>\n",
       "    </tr>\n",
       "    <tr>\n",
       "      <th>50%</th>\n",
       "      <td>4907.000000</td>\n",
       "    </tr>\n",
       "    <tr>\n",
       "      <th>75%</th>\n",
       "      <td>5805.000000</td>\n",
       "    </tr>\n",
       "    <tr>\n",
       "      <th>max</th>\n",
       "      <td>7338.000000</td>\n",
       "    </tr>\n",
       "  </tbody>\n",
       "</table>\n",
       "</div>"
      ],
      "text/plain": [
       "        product_id\n",
       "count   825.000000\n",
       "mean   5162.597576\n",
       "std     902.644635\n",
       "min    3847.000000\n",
       "25%    4348.000000\n",
       "50%    4907.000000\n",
       "75%    5805.000000\n",
       "max    7338.000000"
      ]
     },
     "execution_count": 9,
     "metadata": {},
     "output_type": "execute_result"
    }
   ],
   "source": [
    "# erp.info()\n",
    "liaison.describe()"
   ]
  },
  {
   "cell_type": "markdown",
   "id": "5dad3596",
   "metadata": {},
   "source": [
    "#### Contrôle des données "
   ]
  },
  {
   "cell_type": "markdown",
   "id": "32be9d81",
   "metadata": {},
   "source": [
    "##### Recherche des valeurs nulles"
   ]
  },
  {
   "cell_type": "code",
   "execution_count": 10,
   "id": "ca1f4485",
   "metadata": {},
   "outputs": [
    {
     "data": {
      "text/plain": [
       "sku            85\n",
       "total_sales    83\n",
       "post_title     83\n",
       "dtype: int64"
      ]
     },
     "execution_count": 10,
     "metadata": {},
     "output_type": "execute_result"
    }
   ],
   "source": [
    "# vérification des NaN fichier WEB\n",
    "web.isnull().sum()"
   ]
  },
  {
   "cell_type": "markdown",
   "id": "7546454c",
   "metadata": {},
   "source": [
    "Le fichier WEB contient 83 lignes totalement vides plus deux lignes pour lesquelles le sku seul manque <br>\n",
    "Nous allons donc identifier ces deux lignes afin de décider de les garder ou de les supprimer"
   ]
  },
  {
   "cell_type": "code",
   "execution_count": 11,
   "id": "68e05e53",
   "metadata": {},
   "outputs": [
    {
     "data": {
      "text/html": [
       "<div>\n",
       "<style scoped>\n",
       "    .dataframe tbody tr th:only-of-type {\n",
       "        vertical-align: middle;\n",
       "    }\n",
       "\n",
       "    .dataframe tbody tr th {\n",
       "        vertical-align: top;\n",
       "    }\n",
       "\n",
       "    .dataframe thead th {\n",
       "        text-align: right;\n",
       "    }\n",
       "</style>\n",
       "<table border=\"1\" class=\"dataframe\">\n",
       "  <thead>\n",
       "    <tr style=\"text-align: right;\">\n",
       "      <th></th>\n",
       "      <th>sku</th>\n",
       "      <th>total_sales</th>\n",
       "      <th>post_title</th>\n",
       "    </tr>\n",
       "  </thead>\n",
       "  <tbody>\n",
       "    <tr>\n",
       "      <th>470</th>\n",
       "      <td>NaN</td>\n",
       "      <td>0.0</td>\n",
       "      <td>Pierre Jean Villa Côte Rôtie Fongeant 2017</td>\n",
       "    </tr>\n",
       "    <tr>\n",
       "      <th>471</th>\n",
       "      <td>NaN</td>\n",
       "      <td>0.0</td>\n",
       "      <td>Pierre Jean Villa Condrieu Jardin Suspendu 2018</td>\n",
       "    </tr>\n",
       "  </tbody>\n",
       "</table>\n",
       "</div>"
      ],
      "text/plain": [
       "     sku  total_sales                                       post_title\n",
       "470  NaN          0.0       Pierre Jean Villa Côte Rôtie Fongeant 2017\n",
       "471  NaN          0.0  Pierre Jean Villa Condrieu Jardin Suspendu 2018"
      ]
     },
     "execution_count": 11,
     "metadata": {},
     "output_type": "execute_result"
    }
   ],
   "source": [
    "# select lignes where sku = '' and (total_sales or post_title !='')\n",
    "web_vide = web[(web['sku'].isna()) & ((web['total_sales'].isna() == False) | (web['post_title'].isna() == False))]\n",
    "web_vide"
   ]
  },
  {
   "cell_type": "markdown",
   "id": "5d854a5d",
   "metadata": {},
   "source": [
    "Il peut s'agir d'une erreur de saisie (sku, désignation, doublon corrigé...) <br>\n",
    "Puisqu'ils ne totalisent aucune vente, je les retire de l'analyse.\n"
   ]
  },
  {
   "cell_type": "code",
   "execution_count": 12,
   "id": "2576d07f",
   "metadata": {},
   "outputs": [],
   "source": [
    "w_id_supp = web_vide.index\n",
    "web.drop(w_id_supp, inplace = True)"
   ]
  },
  {
   "cell_type": "code",
   "execution_count": 13,
   "id": "8613bad8",
   "metadata": {},
   "outputs": [
    {
     "data": {
      "text/plain": [
       "sku            0\n",
       "total_sales    0\n",
       "post_title     0\n",
       "dtype: int64"
      ]
     },
     "execution_count": 13,
     "metadata": {},
     "output_type": "execute_result"
    }
   ],
   "source": [
    "# et je supprime les autres lignes à vide\n",
    "web = web.dropna()\n",
    "\n",
    "# et je vérifie \n",
    "web.isnull().sum() "
   ]
  },
  {
   "cell_type": "code",
   "execution_count": 14,
   "id": "5c216e28",
   "metadata": {},
   "outputs": [
    {
     "data": {
      "text/plain": [
       "product_id        0\n",
       "price             0\n",
       "stock_quantity    0\n",
       "dtype: int64"
      ]
     },
     "execution_count": 14,
     "metadata": {},
     "output_type": "execute_result"
    }
   ],
   "source": [
    "# vérification des NaN fichier ERP\n",
    "erp.isnull().sum()   ## OK "
   ]
  },
  {
   "cell_type": "code",
   "execution_count": 15,
   "id": "cf2a512b",
   "metadata": {},
   "outputs": [
    {
     "data": {
      "text/plain": [
       "product_id     0\n",
       "sku           91\n",
       "dtype: int64"
      ]
     },
     "execution_count": 15,
     "metadata": {},
     "output_type": "execute_result"
    }
   ],
   "source": [
    "# vérification des NaN fichier LIAISON\n",
    "liaison.isnull().sum()  ## A CONTROLER"
   ]
  },
  {
   "cell_type": "markdown",
   "id": "3b951c08",
   "metadata": {},
   "source": [
    "Aucune valeur vide pour ce qui concerne l'id produit. <br>\n",
    "Nous savions qu'il manquait des correspondances avec sku. <br>\n",
    "D'autre part, il faudra vérifier si ces 91 références manquantes correspondent \n",
    "aux produits présents dans l'ERP mais non vendues sur le site web."
   ]
  },
  {
   "cell_type": "code",
   "execution_count": 16,
   "id": "e178f11e",
   "metadata": {},
   "outputs": [
    {
     "data": {
      "text/plain": [
       "19     4055\n",
       "49     4090\n",
       "50     4092\n",
       "119    4195\n",
       "131    4209\n",
       "Name: product_id, dtype: int64"
      ]
     },
     "execution_count": 16,
     "metadata": {},
     "output_type": "execute_result"
    }
   ],
   "source": [
    "# je crée donc une série avec la liste des 91 id produits n'ayant pas de concordance avec id web\n",
    "liaison_vide = liaison.loc[(liaison['sku'].isna()) & (liaison['product_id'].isna() == False), 'product_id']\n",
    "liaison_vide.head()"
   ]
  },
  {
   "cell_type": "markdown",
   "id": "bb705512",
   "metadata": {},
   "source": [
    "##### Recherche des doublons"
   ]
  },
  {
   "cell_type": "code",
   "execution_count": 17,
   "id": "2a581165",
   "metadata": {},
   "outputs": [
    {
     "data": {
      "text/plain": [
       "714"
      ]
     },
     "execution_count": 17,
     "metadata": {},
     "output_type": "execute_result"
    }
   ],
   "source": [
    "# recherche des doublons dans le fichier WEB\n",
    "web.duplicated().sum()"
   ]
  },
  {
   "cell_type": "code",
   "execution_count": 18,
   "id": "e0f59c15",
   "metadata": {},
   "outputs": [
    {
     "data": {
      "text/plain": [
       "0"
      ]
     },
     "execution_count": 18,
     "metadata": {},
     "output_type": "execute_result"
    }
   ],
   "source": [
    "# suppression des doublons dans le fichier WEB\n",
    "web = web.drop_duplicates()\n",
    "\n",
    "# et je vérifie \n",
    "web.duplicated().sum()"
   ]
  },
  {
   "cell_type": "code",
   "execution_count": 19,
   "id": "aef69904",
   "metadata": {},
   "outputs": [
    {
     "data": {
      "text/plain": [
       "0"
      ]
     },
     "execution_count": 19,
     "metadata": {},
     "output_type": "execute_result"
    }
   ],
   "source": [
    "# recherche des doublons dans le fichier ERP\n",
    "erp.duplicated().sum()"
   ]
  },
  {
   "cell_type": "code",
   "execution_count": 20,
   "id": "8073ad56",
   "metadata": {},
   "outputs": [
    {
     "data": {
      "text/plain": [
       "0"
      ]
     },
     "execution_count": 20,
     "metadata": {},
     "output_type": "execute_result"
    }
   ],
   "source": [
    "# recherche des doublons dans le fichier LIAISON\n",
    "liaison.duplicated().sum()"
   ]
  },
  {
   "cell_type": "markdown",
   "id": "21d6e740",
   "metadata": {},
   "source": [
    "##### Vérification des formats"
   ]
  },
  {
   "cell_type": "code",
   "execution_count": 21,
   "id": "ae0af0e5",
   "metadata": {},
   "outputs": [
    {
     "data": {
      "text/plain": [
       "sku             object\n",
       "total_sales    float64\n",
       "post_title      object\n",
       "dtype: object"
      ]
     },
     "execution_count": 21,
     "metadata": {},
     "output_type": "execute_result"
    }
   ],
   "source": [
    "# vérification des formats du fichier WEB\n",
    "web.dtypes"
   ]
  },
  {
   "cell_type": "markdown",
   "id": "2414dcd6",
   "metadata": {},
   "source": [
    "SKU n'est pas au bon format : **object** au lieu de **int** <br>\n",
    "Nous constatons effectivement dès la première ligne qu'il existe des sku au format texte "
   ]
  },
  {
   "cell_type": "code",
   "execution_count": 22,
   "id": "578234f8",
   "metadata": {},
   "outputs": [
    {
     "data": {
      "text/plain": [
       "'bon-cadeau-25-euros'"
      ]
     },
     "execution_count": 22,
     "metadata": {},
     "output_type": "execute_result"
    }
   ],
   "source": [
    "web.iloc[0, 0]"
   ]
  },
  {
   "cell_type": "markdown",
   "id": "fa0d1abd",
   "metadata": {},
   "source": [
    "Je vérifie le fichier liaison\n",
    "Si dans ce dernier, la variable 'sku' est également au format object, alors je laisse ainsi"
   ]
  },
  {
   "cell_type": "code",
   "execution_count": 23,
   "id": "a0becba5",
   "metadata": {},
   "outputs": [
    {
     "data": {
      "text/plain": [
       "product_id     int64\n",
       "sku           object\n",
       "dtype: object"
      ]
     },
     "execution_count": 23,
     "metadata": {},
     "output_type": "execute_result"
    }
   ],
   "source": [
    "liaison.dtypes"
   ]
  },
  {
   "cell_type": "code",
   "execution_count": 24,
   "id": "99d2adde",
   "metadata": {},
   "outputs": [
    {
     "data": {
      "text/plain": [
       "product_id          int64\n",
       "price             float64\n",
       "stock_quantity      int64\n",
       "dtype: object"
      ]
     },
     "execution_count": 24,
     "metadata": {},
     "output_type": "execute_result"
    }
   ],
   "source": [
    "erp.dtypes"
   ]
  },
  {
   "cell_type": "markdown",
   "id": "2552c4ea",
   "metadata": {},
   "source": [
    "### Gestion des valeurs manquantes dans le fichier Liaison"
   ]
  },
  {
   "cell_type": "markdown",
   "id": "f0d0c4df",
   "metadata": {},
   "source": [
    "Il s'agit de contrôler si les **product_id** formant la série **liaison_vide** sont présents ou non dans le fichier **erp**\n",
    "Notre hypothèse est que les **sku** manquants concernent des produits qui ne sont pas vendus en ligne (onsale_web = 0)."
   ]
  },
  {
   "cell_type": "code",
   "execution_count": 25,
   "id": "3584d2d5",
   "metadata": {},
   "outputs": [
    {
     "data": {
      "text/html": [
       "<div>\n",
       "<style scoped>\n",
       "    .dataframe tbody tr th:only-of-type {\n",
       "        vertical-align: middle;\n",
       "    }\n",
       "\n",
       "    .dataframe tbody tr th {\n",
       "        vertical-align: top;\n",
       "    }\n",
       "\n",
       "    .dataframe thead th {\n",
       "        text-align: right;\n",
       "    }\n",
       "</style>\n",
       "<table border=\"1\" class=\"dataframe\">\n",
       "  <thead>\n",
       "    <tr style=\"text-align: right;\">\n",
       "      <th></th>\n",
       "      <th>product_id</th>\n",
       "      <th>price</th>\n",
       "      <th>stock_quantity</th>\n",
       "    </tr>\n",
       "  </thead>\n",
       "  <tbody>\n",
       "    <tr>\n",
       "      <th>242</th>\n",
       "      <td>4594</td>\n",
       "      <td>144.0</td>\n",
       "      <td>0</td>\n",
       "    </tr>\n",
       "    <tr>\n",
       "      <th>486</th>\n",
       "      <td>5070</td>\n",
       "      <td>84.7</td>\n",
       "      <td>0</td>\n",
       "    </tr>\n",
       "    <tr>\n",
       "      <th>487</th>\n",
       "      <td>5075</td>\n",
       "      <td>43.3</td>\n",
       "      <td>0</td>\n",
       "    </tr>\n",
       "  </tbody>\n",
       "</table>\n",
       "</div>"
      ],
      "text/plain": [
       "     product_id  price  stock_quantity\n",
       "242        4594  144.0               0\n",
       "486        5070   84.7               0\n",
       "487        5075   43.3               0"
      ]
     },
     "execution_count": 25,
     "metadata": {},
     "output_type": "execute_result"
    }
   ],
   "source": [
    "# je cherche les éléments de la liste présents dans le fichier erp et je les stocke dans le fichier v_erp_liaison\n",
    "v_erp_liaison = erp.loc[erp['product_id'].isin(liaison_vide)]\n",
    "v_erp_liaison"
   ]
  },
  {
   "cell_type": "markdown",
   "id": "7ca62e92",
   "metadata": {},
   "source": [
    "Notre hypothèse semble confirmée puisque sur les 91 valeurs manquantes, seules 3 sont présentes dans le fichier erp.\n",
    "Je vais donc retirer ces 91 lignes du fichier liaison."
   ]
  },
  {
   "cell_type": "code",
   "execution_count": 26,
   "id": "5907ce4f",
   "metadata": {},
   "outputs": [],
   "source": [
    "liaison.drop(liaison.loc[liaison['product_id'].isin(liaison_vide)].index, inplace = True)"
   ]
  },
  {
   "cell_type": "markdown",
   "id": "cb4bad0a",
   "metadata": {},
   "source": [
    "Je retire également les 3 lignes précédemment identifiées du fichier erp :"
   ]
  },
  {
   "cell_type": "code",
   "execution_count": 27,
   "id": "a1f39d58",
   "metadata": {},
   "outputs": [],
   "source": [
    "erp.drop(erp.loc[erp['product_id'].isin(v_erp_liaison['product_id'])].index, inplace = True)"
   ]
  },
  {
   "cell_type": "markdown",
   "id": "5249439f",
   "metadata": {},
   "source": [
    "le fichier **erp** comprend 714 lignes <br>\n",
    "le fichier **web** comprend 714 lignes <br>\n",
    "le fichier **liaison** comprend 734 lignes <br>\n",
    "Au départ, ce dernier en comprenait 825. Le nombre de produits retirés du fichier **erp** car non vendus en ligne est de 108. <br>\n",
    "825-108-3 = 714. <br>\n",
    "Il convient alors d'identifier les produits non vendus en ligne encore présents dans le fichier liaison et de les retirer.<br>\n",
    "Il conviendra ensuite de vérifier que les références sont bien les mêmes dans les trois fichiers."
   ]
  },
  {
   "cell_type": "code",
   "execution_count": 28,
   "id": "ebfb8cbc",
   "metadata": {},
   "outputs": [
    {
     "data": {
      "text/plain": [
       "product_id        714\n",
       "price             714\n",
       "stock_quantity    714\n",
       "dtype: int64"
      ]
     },
     "execution_count": 28,
     "metadata": {},
     "output_type": "execute_result"
    }
   ],
   "source": [
    "# 1/ je vérifie que toutes les produits de l'erp sont dans liaison \n",
    "comp_erp_liaison = erp.loc[erp['product_id'].isin(liaison['product_id'])].count()\n",
    "comp_erp_liaison   # 714 >> oK toutes les lignes erp sont dans liaison"
   ]
  },
  {
   "cell_type": "code",
   "execution_count": 29,
   "id": "1d5732f2",
   "metadata": {},
   "outputs": [
    {
     "data": {
      "text/plain": [
       "(714, 2)"
      ]
     },
     "execution_count": 29,
     "metadata": {},
     "output_type": "execute_result"
    }
   ],
   "source": [
    "# 2/ je sélectionne et supprime toutes les autres lignes, \n",
    "# celles qui ne sont pas présentes dans erp mais qui le sont dans liaison (20)\n",
    "liaison.drop(liaison.loc[~liaison['product_id'].isin(erp['product_id'])].index, inplace = True)\n",
    "liaison.shape"
   ]
  },
  {
   "cell_type": "code",
   "execution_count": 30,
   "id": "5fa370d7",
   "metadata": {},
   "outputs": [
    {
     "data": {
      "text/plain": [
       "sku            714\n",
       "total_sales    714\n",
       "post_title     714\n",
       "dtype: int64"
      ]
     },
     "execution_count": 30,
     "metadata": {},
     "output_type": "execute_result"
    }
   ],
   "source": [
    "# 3/ je vérifie que toutes les produits de web sont dans liaison  \n",
    "comp_web_liaison = web.loc[web['sku'].isin(liaison['sku'])].count()\n",
    "comp_web_liaison   # 714 >> oK toutes les lignes web sont dans liaison"
   ]
  },
  {
   "cell_type": "markdown",
   "id": "89f853a8",
   "metadata": {},
   "source": [
    "## Rapprochement des data"
   ]
  },
  {
   "cell_type": "code",
   "execution_count": 31,
   "id": "cea8e798",
   "metadata": {},
   "outputs": [
    {
     "data": {
      "text/html": [
       "<div>\n",
       "<style scoped>\n",
       "    .dataframe tbody tr th:only-of-type {\n",
       "        vertical-align: middle;\n",
       "    }\n",
       "\n",
       "    .dataframe tbody tr th {\n",
       "        vertical-align: top;\n",
       "    }\n",
       "\n",
       "    .dataframe thead th {\n",
       "        text-align: right;\n",
       "    }\n",
       "</style>\n",
       "<table border=\"1\" class=\"dataframe\">\n",
       "  <thead>\n",
       "    <tr style=\"text-align: right;\">\n",
       "      <th></th>\n",
       "      <th>product_id</th>\n",
       "      <th>price</th>\n",
       "      <th>stock_quantity</th>\n",
       "      <th>sku</th>\n",
       "      <th>total_sales</th>\n",
       "      <th>post_title</th>\n",
       "    </tr>\n",
       "  </thead>\n",
       "  <tbody>\n",
       "    <tr>\n",
       "      <th>0</th>\n",
       "      <td>3847</td>\n",
       "      <td>24.2</td>\n",
       "      <td>0</td>\n",
       "      <td>15298</td>\n",
       "      <td>6.0</td>\n",
       "      <td>Pierre Jean Villa Saint-Joseph Préface 2018</td>\n",
       "    </tr>\n",
       "    <tr>\n",
       "      <th>1</th>\n",
       "      <td>3849</td>\n",
       "      <td>34.3</td>\n",
       "      <td>0</td>\n",
       "      <td>15296</td>\n",
       "      <td>0.0</td>\n",
       "      <td>Pierre Jean Villa Saint-Joseph Rouge Tildé 2017</td>\n",
       "    </tr>\n",
       "    <tr>\n",
       "      <th>2</th>\n",
       "      <td>3850</td>\n",
       "      <td>20.8</td>\n",
       "      <td>0</td>\n",
       "      <td>15300</td>\n",
       "      <td>0.0</td>\n",
       "      <td>Pierre Jean Villa Crozes-Hermitage Accroche Co...</td>\n",
       "    </tr>\n",
       "    <tr>\n",
       "      <th>3</th>\n",
       "      <td>4032</td>\n",
       "      <td>14.1</td>\n",
       "      <td>0</td>\n",
       "      <td>19814</td>\n",
       "      <td>3.0</td>\n",
       "      <td>Pierre Jean Villa IGP Collines Rhodaniennes Ga...</td>\n",
       "    </tr>\n",
       "    <tr>\n",
       "      <th>4</th>\n",
       "      <td>4039</td>\n",
       "      <td>46.0</td>\n",
       "      <td>0</td>\n",
       "      <td>19815</td>\n",
       "      <td>0.0</td>\n",
       "      <td>Pierre Jean Villa Côte Rôtie Carmina 2017</td>\n",
       "    </tr>\n",
       "    <tr>\n",
       "      <th>...</th>\n",
       "      <td>...</td>\n",
       "      <td>...</td>\n",
       "      <td>...</td>\n",
       "      <td>...</td>\n",
       "      <td>...</td>\n",
       "      <td>...</td>\n",
       "    </tr>\n",
       "    <tr>\n",
       "      <th>709</th>\n",
       "      <td>6930</td>\n",
       "      <td>8.4</td>\n",
       "      <td>83</td>\n",
       "      <td>16135</td>\n",
       "      <td>5.0</td>\n",
       "      <td>Mouthes Le Bihan Côtes de Duras L'Aimé Chai 2015</td>\n",
       "    </tr>\n",
       "    <tr>\n",
       "      <th>710</th>\n",
       "      <td>7023</td>\n",
       "      <td>27.5</td>\n",
       "      <td>15</td>\n",
       "      <td>15891</td>\n",
       "      <td>0.0</td>\n",
       "      <td>Camin Larredya Jurançon Sec La Virada 2018</td>\n",
       "    </tr>\n",
       "    <tr>\n",
       "      <th>711</th>\n",
       "      <td>7025</td>\n",
       "      <td>69.0</td>\n",
       "      <td>2</td>\n",
       "      <td>15887</td>\n",
       "      <td>0.0</td>\n",
       "      <td>Domaine Jamet Côte Rôtie Fructus Voluptas 2018</td>\n",
       "    </tr>\n",
       "    <tr>\n",
       "      <th>712</th>\n",
       "      <td>7247</td>\n",
       "      <td>54.8</td>\n",
       "      <td>23</td>\n",
       "      <td>13127-1</td>\n",
       "      <td>0.0</td>\n",
       "      <td>Clos du Mont-Olivet Châteauneuf-du-Pape 2007</td>\n",
       "    </tr>\n",
       "    <tr>\n",
       "      <th>713</th>\n",
       "      <td>7338</td>\n",
       "      <td>16.3</td>\n",
       "      <td>45</td>\n",
       "      <td>16230</td>\n",
       "      <td>0.0</td>\n",
       "      <td>Domaine Saint-Nicolas Vin de France Blanc Les ...</td>\n",
       "    </tr>\n",
       "  </tbody>\n",
       "</table>\n",
       "<p>714 rows × 6 columns</p>\n",
       "</div>"
      ],
      "text/plain": [
       "     product_id  price  stock_quantity      sku  total_sales  \\\n",
       "0          3847   24.2               0    15298          6.0   \n",
       "1          3849   34.3               0    15296          0.0   \n",
       "2          3850   20.8               0    15300          0.0   \n",
       "3          4032   14.1               0    19814          3.0   \n",
       "4          4039   46.0               0    19815          0.0   \n",
       "..          ...    ...             ...      ...          ...   \n",
       "709        6930    8.4              83    16135          5.0   \n",
       "710        7023   27.5              15    15891          0.0   \n",
       "711        7025   69.0               2    15887          0.0   \n",
       "712        7247   54.8              23  13127-1          0.0   \n",
       "713        7338   16.3              45    16230          0.0   \n",
       "\n",
       "                                            post_title  \n",
       "0          Pierre Jean Villa Saint-Joseph Préface 2018  \n",
       "1      Pierre Jean Villa Saint-Joseph Rouge Tildé 2017  \n",
       "2    Pierre Jean Villa Crozes-Hermitage Accroche Co...  \n",
       "3    Pierre Jean Villa IGP Collines Rhodaniennes Ga...  \n",
       "4            Pierre Jean Villa Côte Rôtie Carmina 2017  \n",
       "..                                                 ...  \n",
       "709   Mouthes Le Bihan Côtes de Duras L'Aimé Chai 2015  \n",
       "710         Camin Larredya Jurançon Sec La Virada 2018  \n",
       "711     Domaine Jamet Côte Rôtie Fructus Voluptas 2018  \n",
       "712       Clos du Mont-Olivet Châteauneuf-du-Pape 2007  \n",
       "713  Domaine Saint-Nicolas Vin de France Blanc Les ...  \n",
       "\n",
       "[714 rows x 6 columns]"
      ]
     },
     "execution_count": 31,
     "metadata": {},
     "output_type": "execute_result"
    }
   ],
   "source": [
    "# les vérifications précédentes me permettent de réaliser une jointure simple (inner)\n",
    "base_compl = pd.merge(pd.merge(erp, liaison, on='product_id'), web, on='sku')\n",
    "base_compl"
   ]
  },
  {
   "cell_type": "markdown",
   "id": "132a1b1c",
   "metadata": {},
   "source": [
    "## Analyse du chiffre d'affaires"
   ]
  },
  {
   "cell_type": "markdown",
   "id": "1e17a284",
   "metadata": {},
   "source": [
    "### Chiffre d'affaires par produit"
   ]
  },
  {
   "cell_type": "code",
   "execution_count": 32,
   "id": "0dce476d",
   "metadata": {},
   "outputs": [
    {
     "data": {
      "text/html": [
       "<div>\n",
       "<style scoped>\n",
       "    .dataframe tbody tr th:only-of-type {\n",
       "        vertical-align: middle;\n",
       "    }\n",
       "\n",
       "    .dataframe tbody tr th {\n",
       "        vertical-align: top;\n",
       "    }\n",
       "\n",
       "    .dataframe thead th {\n",
       "        text-align: right;\n",
       "    }\n",
       "</style>\n",
       "<table border=\"1\" class=\"dataframe\">\n",
       "  <thead>\n",
       "    <tr style=\"text-align: right;\">\n",
       "      <th></th>\n",
       "      <th>product_id</th>\n",
       "      <th>price</th>\n",
       "      <th>stock_quantity</th>\n",
       "      <th>sku</th>\n",
       "      <th>total_sales</th>\n",
       "      <th>post_title</th>\n",
       "      <th>CA</th>\n",
       "    </tr>\n",
       "  </thead>\n",
       "  <tbody>\n",
       "    <tr>\n",
       "      <th>0</th>\n",
       "      <td>3847</td>\n",
       "      <td>24.2</td>\n",
       "      <td>0</td>\n",
       "      <td>15298</td>\n",
       "      <td>6.0</td>\n",
       "      <td>Pierre Jean Villa Saint-Joseph Préface 2018</td>\n",
       "      <td>145.2</td>\n",
       "    </tr>\n",
       "    <tr>\n",
       "      <th>1</th>\n",
       "      <td>3849</td>\n",
       "      <td>34.3</td>\n",
       "      <td>0</td>\n",
       "      <td>15296</td>\n",
       "      <td>0.0</td>\n",
       "      <td>Pierre Jean Villa Saint-Joseph Rouge Tildé 2017</td>\n",
       "      <td>0.0</td>\n",
       "    </tr>\n",
       "    <tr>\n",
       "      <th>2</th>\n",
       "      <td>3850</td>\n",
       "      <td>20.8</td>\n",
       "      <td>0</td>\n",
       "      <td>15300</td>\n",
       "      <td>0.0</td>\n",
       "      <td>Pierre Jean Villa Crozes-Hermitage Accroche Co...</td>\n",
       "      <td>0.0</td>\n",
       "    </tr>\n",
       "    <tr>\n",
       "      <th>3</th>\n",
       "      <td>4032</td>\n",
       "      <td>14.1</td>\n",
       "      <td>0</td>\n",
       "      <td>19814</td>\n",
       "      <td>3.0</td>\n",
       "      <td>Pierre Jean Villa IGP Collines Rhodaniennes Ga...</td>\n",
       "      <td>42.3</td>\n",
       "    </tr>\n",
       "    <tr>\n",
       "      <th>4</th>\n",
       "      <td>4039</td>\n",
       "      <td>46.0</td>\n",
       "      <td>0</td>\n",
       "      <td>19815</td>\n",
       "      <td>0.0</td>\n",
       "      <td>Pierre Jean Villa Côte Rôtie Carmina 2017</td>\n",
       "      <td>0.0</td>\n",
       "    </tr>\n",
       "    <tr>\n",
       "      <th>...</th>\n",
       "      <td>...</td>\n",
       "      <td>...</td>\n",
       "      <td>...</td>\n",
       "      <td>...</td>\n",
       "      <td>...</td>\n",
       "      <td>...</td>\n",
       "      <td>...</td>\n",
       "    </tr>\n",
       "    <tr>\n",
       "      <th>709</th>\n",
       "      <td>6930</td>\n",
       "      <td>8.4</td>\n",
       "      <td>83</td>\n",
       "      <td>16135</td>\n",
       "      <td>5.0</td>\n",
       "      <td>Mouthes Le Bihan Côtes de Duras L'Aimé Chai 2015</td>\n",
       "      <td>42.0</td>\n",
       "    </tr>\n",
       "    <tr>\n",
       "      <th>710</th>\n",
       "      <td>7023</td>\n",
       "      <td>27.5</td>\n",
       "      <td>15</td>\n",
       "      <td>15891</td>\n",
       "      <td>0.0</td>\n",
       "      <td>Camin Larredya Jurançon Sec La Virada 2018</td>\n",
       "      <td>0.0</td>\n",
       "    </tr>\n",
       "    <tr>\n",
       "      <th>711</th>\n",
       "      <td>7025</td>\n",
       "      <td>69.0</td>\n",
       "      <td>2</td>\n",
       "      <td>15887</td>\n",
       "      <td>0.0</td>\n",
       "      <td>Domaine Jamet Côte Rôtie Fructus Voluptas 2018</td>\n",
       "      <td>0.0</td>\n",
       "    </tr>\n",
       "    <tr>\n",
       "      <th>712</th>\n",
       "      <td>7247</td>\n",
       "      <td>54.8</td>\n",
       "      <td>23</td>\n",
       "      <td>13127-1</td>\n",
       "      <td>0.0</td>\n",
       "      <td>Clos du Mont-Olivet Châteauneuf-du-Pape 2007</td>\n",
       "      <td>0.0</td>\n",
       "    </tr>\n",
       "    <tr>\n",
       "      <th>713</th>\n",
       "      <td>7338</td>\n",
       "      <td>16.3</td>\n",
       "      <td>45</td>\n",
       "      <td>16230</td>\n",
       "      <td>0.0</td>\n",
       "      <td>Domaine Saint-Nicolas Vin de France Blanc Les ...</td>\n",
       "      <td>0.0</td>\n",
       "    </tr>\n",
       "  </tbody>\n",
       "</table>\n",
       "<p>714 rows × 7 columns</p>\n",
       "</div>"
      ],
      "text/plain": [
       "     product_id  price  stock_quantity      sku  total_sales  \\\n",
       "0          3847   24.2               0    15298          6.0   \n",
       "1          3849   34.3               0    15296          0.0   \n",
       "2          3850   20.8               0    15300          0.0   \n",
       "3          4032   14.1               0    19814          3.0   \n",
       "4          4039   46.0               0    19815          0.0   \n",
       "..          ...    ...             ...      ...          ...   \n",
       "709        6930    8.4              83    16135          5.0   \n",
       "710        7023   27.5              15    15891          0.0   \n",
       "711        7025   69.0               2    15887          0.0   \n",
       "712        7247   54.8              23  13127-1          0.0   \n",
       "713        7338   16.3              45    16230          0.0   \n",
       "\n",
       "                                            post_title     CA  \n",
       "0          Pierre Jean Villa Saint-Joseph Préface 2018  145.2  \n",
       "1      Pierre Jean Villa Saint-Joseph Rouge Tildé 2017    0.0  \n",
       "2    Pierre Jean Villa Crozes-Hermitage Accroche Co...    0.0  \n",
       "3    Pierre Jean Villa IGP Collines Rhodaniennes Ga...   42.3  \n",
       "4            Pierre Jean Villa Côte Rôtie Carmina 2017    0.0  \n",
       "..                                                 ...    ...  \n",
       "709   Mouthes Le Bihan Côtes de Duras L'Aimé Chai 2015   42.0  \n",
       "710         Camin Larredya Jurançon Sec La Virada 2018    0.0  \n",
       "711     Domaine Jamet Côte Rôtie Fructus Voluptas 2018    0.0  \n",
       "712       Clos du Mont-Olivet Châteauneuf-du-Pape 2007    0.0  \n",
       "713  Domaine Saint-Nicolas Vin de France Blanc Les ...    0.0  \n",
       "\n",
       "[714 rows x 7 columns]"
      ]
     },
     "execution_count": 32,
     "metadata": {},
     "output_type": "execute_result"
    }
   ],
   "source": [
    "# le CA par produit correspond au prix * nb de ventes\n",
    "base_compl['CA'] = base_compl['price'] * base_compl['total_sales']\n",
    "base_compl"
   ]
  },
  {
   "cell_type": "markdown",
   "id": "236215a6",
   "metadata": {},
   "source": [
    "### Chiffre d'affaires total réalisé en ligne"
   ]
  },
  {
   "cell_type": "code",
   "execution_count": 33,
   "id": "00d94792",
   "metadata": {},
   "outputs": [
    {
     "name": "stdout",
     "output_type": "stream",
     "text": [
      "Le CA total des produits vendus en ligne est de :  70,568.60 €\n"
     ]
    }
   ],
   "source": [
    "CA_tot = base_compl[\"CA\"].sum()\n",
    "print('Le CA total des produits vendus en ligne est de : ', f'{CA_tot:,.2f}', '€')"
   ]
  },
  {
   "cell_type": "markdown",
   "id": "c1c64bfc",
   "metadata": {},
   "source": [
    "## Vérification prix produit"
   ]
  },
  {
   "cell_type": "markdown",
   "id": "ceb8df95",
   "metadata": {},
   "source": [
    "### Identification des outliers"
   ]
  },
  {
   "cell_type": "markdown",
   "id": "a18a2f79",
   "metadata": {},
   "source": [
    "Il s'agit de rechercher les données aberrantes, celles qui sont très distantes de la moyenne du jeu de données. <br>\n",
    "Leur présence peut être normale ou relever d'un biais (problème de mesure, erreur de saisie...). <br>\n",
    "Dans tous les cas, elles peuvent perturber les opérations statistiques réalisées sur le jeu de données. <br>\n",
    "\n",
    "Je choisis de rechercher les outliers ayant plus de 2 écart-types d'écart, ce qui, sur une courbe normale, représente une probabilité de présence dans le jeu de données inférieure à 5%."
   ]
  },
  {
   "cell_type": "code",
   "execution_count": 34,
   "id": "2ce88f4e",
   "metadata": {},
   "outputs": [
    {
     "data": {
      "text/html": [
       "<div>\n",
       "<style scoped>\n",
       "    .dataframe tbody tr th:only-of-type {\n",
       "        vertical-align: middle;\n",
       "    }\n",
       "\n",
       "    .dataframe tbody tr th {\n",
       "        vertical-align: top;\n",
       "    }\n",
       "\n",
       "    .dataframe thead th {\n",
       "        text-align: right;\n",
       "    }\n",
       "</style>\n",
       "<table border=\"1\" class=\"dataframe\">\n",
       "  <thead>\n",
       "    <tr style=\"text-align: right;\">\n",
       "      <th></th>\n",
       "      <th>product_id</th>\n",
       "      <th>post_title</th>\n",
       "      <th>price</th>\n",
       "      <th>CA</th>\n",
       "    </tr>\n",
       "  </thead>\n",
       "  <tbody>\n",
       "    <tr>\n",
       "      <th>199</th>\n",
       "      <td>4352</td>\n",
       "      <td>Champagne Egly-Ouriet Grand Cru Millésimé 2008</td>\n",
       "      <td>225.0</td>\n",
       "      <td>1125.0</td>\n",
       "    </tr>\n",
       "    <tr>\n",
       "      <th>426</th>\n",
       "      <td>5001</td>\n",
       "      <td>David Duband Charmes-Chambertin Grand Cru 2014</td>\n",
       "      <td>217.5</td>\n",
       "      <td>0.0</td>\n",
       "    </tr>\n",
       "    <tr>\n",
       "      <th>587</th>\n",
       "      <td>5892</td>\n",
       "      <td>Coteaux Champenois Egly-Ouriet Ambonnay Rouge ...</td>\n",
       "      <td>191.3</td>\n",
       "      <td>573.9</td>\n",
       "    </tr>\n",
       "    <tr>\n",
       "      <th>218</th>\n",
       "      <td>4402</td>\n",
       "      <td>Cognac Frapin VIP XO</td>\n",
       "      <td>176.0</td>\n",
       "      <td>2288.0</td>\n",
       "    </tr>\n",
       "    <tr>\n",
       "      <th>553</th>\n",
       "      <td>5767</td>\n",
       "      <td>Camille Giroud Clos de Vougeot 2016</td>\n",
       "      <td>175.0</td>\n",
       "      <td>0.0</td>\n",
       "    </tr>\n",
       "    <tr>\n",
       "      <th>221</th>\n",
       "      <td>4406</td>\n",
       "      <td>Cognac Frapin Château de Fontpinot 1989 20 Ans...</td>\n",
       "      <td>157.0</td>\n",
       "      <td>0.0</td>\n",
       "    </tr>\n",
       "    <tr>\n",
       "      <th>381</th>\n",
       "      <td>4904</td>\n",
       "      <td>Domaine Des Croix Corton Charlemagne Grand Cru...</td>\n",
       "      <td>137.0</td>\n",
       "      <td>685.0</td>\n",
       "    </tr>\n",
       "    <tr>\n",
       "      <th>642</th>\n",
       "      <td>6126</td>\n",
       "      <td>Champagne Gosset Célébris Vintage 2007</td>\n",
       "      <td>135.0</td>\n",
       "      <td>270.0</td>\n",
       "    </tr>\n",
       "    <tr>\n",
       "      <th>201</th>\n",
       "      <td>4355</td>\n",
       "      <td>Champagne Egly-Ouriet Grand Cru Blanc de Noirs</td>\n",
       "      <td>126.5</td>\n",
       "      <td>1391.5</td>\n",
       "    </tr>\n",
       "    <tr>\n",
       "      <th>511</th>\n",
       "      <td>5612</td>\n",
       "      <td>Domaine Weinbach Gewurztraminer Grand Cru Furs...</td>\n",
       "      <td>124.8</td>\n",
       "      <td>0.0</td>\n",
       "    </tr>\n",
       "    <tr>\n",
       "      <th>603</th>\n",
       "      <td>5917</td>\n",
       "      <td>Wemyss Malts Single Cask Scotch Whisky Choc 'n...</td>\n",
       "      <td>122.0</td>\n",
       "      <td>0.0</td>\n",
       "    </tr>\n",
       "    <tr>\n",
       "      <th>657</th>\n",
       "      <td>6216</td>\n",
       "      <td>Domaine des Comtes Lafon Volnay 1er Cru Champa...</td>\n",
       "      <td>121.0</td>\n",
       "      <td>0.0</td>\n",
       "    </tr>\n",
       "    <tr>\n",
       "      <th>654</th>\n",
       "      <td>6213</td>\n",
       "      <td>Domaine des Comtes Lafon Volnay 1er Cru Santen...</td>\n",
       "      <td>121.0</td>\n",
       "      <td>0.0</td>\n",
       "    </tr>\n",
       "    <tr>\n",
       "      <th>648</th>\n",
       "      <td>6202</td>\n",
       "      <td>Domaine Clerget Echezeaux Grand Cru En Orveaux...</td>\n",
       "      <td>116.4</td>\n",
       "      <td>0.0</td>\n",
       "    </tr>\n",
       "    <tr>\n",
       "      <th>656</th>\n",
       "      <td>6215</td>\n",
       "      <td>Domaine des Comtes Lafon Volnay 1er Cru Champa...</td>\n",
       "      <td>115.0</td>\n",
       "      <td>0.0</td>\n",
       "    </tr>\n",
       "    <tr>\n",
       "      <th>653</th>\n",
       "      <td>6212</td>\n",
       "      <td>Domaine des Comtes Lafon Volnay 1er Cru Santen...</td>\n",
       "      <td>115.0</td>\n",
       "      <td>230.0</td>\n",
       "    </tr>\n",
       "    <tr>\n",
       "      <th>604</th>\n",
       "      <td>5918</td>\n",
       "      <td>Wemyss Malts Single Cask Scotch Whisky Chai Ca...</td>\n",
       "      <td>114.0</td>\n",
       "      <td>0.0</td>\n",
       "    </tr>\n",
       "    <tr>\n",
       "      <th>437</th>\n",
       "      <td>5025</td>\n",
       "      <td>Champagne Agrapart &amp;amp; Fils L'Avizoise Extra...</td>\n",
       "      <td>112.0</td>\n",
       "      <td>0.0</td>\n",
       "    </tr>\n",
       "    <tr>\n",
       "      <th>227</th>\n",
       "      <td>4582</td>\n",
       "      <td>Château de Meursault Puligny-Montrachet 1er Cr...</td>\n",
       "      <td>109.6</td>\n",
       "      <td>0.0</td>\n",
       "    </tr>\n",
       "    <tr>\n",
       "      <th>219</th>\n",
       "      <td>4404</td>\n",
       "      <td>Cognac Frapin Château de Fontpinot XO</td>\n",
       "      <td>108.5</td>\n",
       "      <td>217.0</td>\n",
       "    </tr>\n",
       "    <tr>\n",
       "      <th>647</th>\n",
       "      <td>6201</td>\n",
       "      <td>David Duband Chambolle-Musigny 1er Cru Les Sen...</td>\n",
       "      <td>105.6</td>\n",
       "      <td>0.0</td>\n",
       "    </tr>\n",
       "    <tr>\n",
       "      <th>432</th>\n",
       "      <td>5008</td>\n",
       "      <td>Domaine des Comtes Lafon Volnay 1er Cru Santen...</td>\n",
       "      <td>105.0</td>\n",
       "      <td>0.0</td>\n",
       "    </tr>\n",
       "    <tr>\n",
       "      <th>431</th>\n",
       "      <td>5007</td>\n",
       "      <td>Domaine des Comtes Lafon Volnay 1er Cru Santen...</td>\n",
       "      <td>105.0</td>\n",
       "      <td>0.0</td>\n",
       "    </tr>\n",
       "    <tr>\n",
       "      <th>222</th>\n",
       "      <td>4407</td>\n",
       "      <td>Cognac Frapin Cigar Blend</td>\n",
       "      <td>104.0</td>\n",
       "      <td>104.0</td>\n",
       "    </tr>\n",
       "    <tr>\n",
       "      <th>380</th>\n",
       "      <td>4903</td>\n",
       "      <td>Domaine Des Croix Corton Grand Cru Les Grèves ...</td>\n",
       "      <td>102.3</td>\n",
       "      <td>0.0</td>\n",
       "    </tr>\n",
       "    <tr>\n",
       "      <th>63</th>\n",
       "      <td>4115</td>\n",
       "      <td>Zind-Humbrecht Riesling Grand Cru Rangen De Th...</td>\n",
       "      <td>100.0</td>\n",
       "      <td>0.0</td>\n",
       "    </tr>\n",
       "    <tr>\n",
       "      <th>655</th>\n",
       "      <td>6214</td>\n",
       "      <td>Domaine des Comtes Lafon Volnay 1er Cru Champa...</td>\n",
       "      <td>99.0</td>\n",
       "      <td>0.0</td>\n",
       "    </tr>\n",
       "    <tr>\n",
       "      <th>602</th>\n",
       "      <td>5916</td>\n",
       "      <td>Wemyss Malts Single Cask Scotch Whisky Chocola...</td>\n",
       "      <td>93.0</td>\n",
       "      <td>0.0</td>\n",
       "    </tr>\n",
       "    <tr>\n",
       "      <th>502</th>\n",
       "      <td>5565</td>\n",
       "      <td>Tempier Bandol Cabassaou 2017</td>\n",
       "      <td>92.0</td>\n",
       "      <td>0.0</td>\n",
       "    </tr>\n",
       "    <tr>\n",
       "      <th>65</th>\n",
       "      <td>4132</td>\n",
       "      <td>Zind-Humbrecht Pinot Gris Grand Cru Rangen De ...</td>\n",
       "      <td>88.4</td>\n",
       "      <td>0.0</td>\n",
       "    </tr>\n",
       "  </tbody>\n",
       "</table>\n",
       "</div>"
      ],
      "text/plain": [
       "     product_id                                         post_title  price  \\\n",
       "199        4352     Champagne Egly-Ouriet Grand Cru Millésimé 2008  225.0   \n",
       "426        5001     David Duband Charmes-Chambertin Grand Cru 2014  217.5   \n",
       "587        5892  Coteaux Champenois Egly-Ouriet Ambonnay Rouge ...  191.3   \n",
       "218        4402                               Cognac Frapin VIP XO  176.0   \n",
       "553        5767                Camille Giroud Clos de Vougeot 2016  175.0   \n",
       "221        4406  Cognac Frapin Château de Fontpinot 1989 20 Ans...  157.0   \n",
       "381        4904  Domaine Des Croix Corton Charlemagne Grand Cru...  137.0   \n",
       "642        6126             Champagne Gosset Célébris Vintage 2007  135.0   \n",
       "201        4355     Champagne Egly-Ouriet Grand Cru Blanc de Noirs  126.5   \n",
       "511        5612  Domaine Weinbach Gewurztraminer Grand Cru Furs...  124.8   \n",
       "603        5917  Wemyss Malts Single Cask Scotch Whisky Choc 'n...  122.0   \n",
       "657        6216  Domaine des Comtes Lafon Volnay 1er Cru Champa...  121.0   \n",
       "654        6213  Domaine des Comtes Lafon Volnay 1er Cru Santen...  121.0   \n",
       "648        6202  Domaine Clerget Echezeaux Grand Cru En Orveaux...  116.4   \n",
       "656        6215  Domaine des Comtes Lafon Volnay 1er Cru Champa...  115.0   \n",
       "653        6212  Domaine des Comtes Lafon Volnay 1er Cru Santen...  115.0   \n",
       "604        5918  Wemyss Malts Single Cask Scotch Whisky Chai Ca...  114.0   \n",
       "437        5025  Champagne Agrapart &amp; Fils L'Avizoise Extra...  112.0   \n",
       "227        4582  Château de Meursault Puligny-Montrachet 1er Cr...  109.6   \n",
       "219        4404              Cognac Frapin Château de Fontpinot XO  108.5   \n",
       "647        6201  David Duband Chambolle-Musigny 1er Cru Les Sen...  105.6   \n",
       "432        5008  Domaine des Comtes Lafon Volnay 1er Cru Santen...  105.0   \n",
       "431        5007  Domaine des Comtes Lafon Volnay 1er Cru Santen...  105.0   \n",
       "222        4407                          Cognac Frapin Cigar Blend  104.0   \n",
       "380        4903  Domaine Des Croix Corton Grand Cru Les Grèves ...  102.3   \n",
       "63         4115  Zind-Humbrecht Riesling Grand Cru Rangen De Th...  100.0   \n",
       "655        6214  Domaine des Comtes Lafon Volnay 1er Cru Champa...   99.0   \n",
       "602        5916  Wemyss Malts Single Cask Scotch Whisky Chocola...   93.0   \n",
       "502        5565                      Tempier Bandol Cabassaou 2017   92.0   \n",
       "65         4132  Zind-Humbrecht Pinot Gris Grand Cru Rangen De ...   88.4   \n",
       "\n",
       "         CA  \n",
       "199  1125.0  \n",
       "426     0.0  \n",
       "587   573.9  \n",
       "218  2288.0  \n",
       "553     0.0  \n",
       "221     0.0  \n",
       "381   685.0  \n",
       "642   270.0  \n",
       "201  1391.5  \n",
       "511     0.0  \n",
       "603     0.0  \n",
       "657     0.0  \n",
       "654     0.0  \n",
       "648     0.0  \n",
       "656     0.0  \n",
       "653   230.0  \n",
       "604     0.0  \n",
       "437     0.0  \n",
       "227     0.0  \n",
       "219   217.0  \n",
       "647     0.0  \n",
       "432     0.0  \n",
       "431     0.0  \n",
       "222   104.0  \n",
       "380     0.0  \n",
       "63      0.0  \n",
       "655     0.0  \n",
       "602     0.0  \n",
       "502     0.0  \n",
       "65      0.0  "
      ]
     },
     "execution_count": 34,
     "metadata": {},
     "output_type": "execute_result"
    }
   ],
   "source": [
    "# calcul de la moyenne\n",
    "mean = base_compl['price'].mean()\n",
    "\n",
    "# calcul de l'écart-type\n",
    "std = base_compl['price'].std()\n",
    "\n",
    "# recherche des outliers avec écart-type > 2\n",
    "z_score_outlier = [i for i in base_compl['price'] if (i-mean)/std > 2]\n",
    "\n",
    "# sélection des outliers et enregistrement dans un fichier .csv pour transmission \n",
    "liste_out = base_compl.loc[(base_compl['price'].isin(z_score_outlier)), [\"product_id\", 'post_title','price', 'CA']]\n",
    "liste_out.to_csv('liste_out.csv', index=False)\n",
    "\n",
    "# affichage des outliers\n",
    "liste_out.sort_values(by='price',ascending=False)"
   ]
  },
  {
   "cell_type": "markdown",
   "id": "48f30264",
   "metadata": {},
   "source": [
    "Nous avons donc trente outliers dont les tarifs vont de 88.40 € à 225 €. <br>\n",
    "\n",
    "Il conviendra dans un premier temps, de se rapprocher du service commercial pour vérifier la validité des prix saisis. (transmettre le fichier liste_out.csv) <br>\n",
    "Nous pourrons ensuite comparer avec les prix du marché pour éviter toute autre erreur."
   ]
  },
  {
   "cell_type": "markdown",
   "id": "a21996e0",
   "metadata": {},
   "source": [
    "### Représentation graphique"
   ]
  },
  {
   "cell_type": "code",
   "execution_count": 35,
   "id": "f51d8436",
   "metadata": {},
   "outputs": [
    {
     "data": {
      "application/vnd.plotly.v1+json": {
       "config": {
        "plotlyServerURL": "https://plot.ly"
       },
       "data": [
        {
         "alignmentgroup": "True",
         "boxpoints": "all",
         "hovertemplate": "price=%{x}<extra></extra>",
         "legendgroup": "",
         "marker": {
          "color": "#636efa"
         },
         "name": "",
         "notched": false,
         "offsetgroup": "",
         "orientation": "h",
         "showlegend": false,
         "type": "box",
         "x": [
          24.2,
          34.3,
          20.8,
          14.1,
          46,
          34.3,
          32.7,
          31.2,
          60,
          42.6,
          80,
          18.3,
          22.8,
          19.3,
          21.8,
          7.7,
          33.7,
          44.3,
          71.6,
          12.7,
          8.7,
          8.7,
          8.7,
          11.9,
          11.9,
          14.5,
          14.4,
          19.5,
          20.8,
          22,
          16.6,
          60,
          23.4,
          33.2,
          32,
          77.8,
          12.7,
          14.7,
          14.05,
          22.9,
          44,
          37,
          39,
          17,
          23.2,
          19,
          16.4,
          14.4,
          13.7,
          12.6,
          22.8,
          12.8,
          22.1,
          12.8,
          15.8,
          15.8,
          16.3,
          16.3,
          9.7,
          6.8,
          12.6,
          35,
          31.7,
          100,
          23,
          88.4,
          29.8,
          25.7,
          77.4,
          39,
          53,
          49,
          29.5,
          33,
          37.5,
          69,
          59,
          13.7,
          19.2,
          29,
          9.8,
          14.5,
          20.35,
          12,
          18.5,
          9.3,
          9.3,
          11.6,
          14.3,
          10.8,
          7.6,
          12,
          20.5,
          14.3,
          18.2,
          9,
          7.8,
          5.7,
          5.7,
          5.7,
          13.5,
          13.5,
          11.5,
          24,
          24,
          11.9,
          16.7,
          21.4,
          16.6,
          13.3,
          9.5,
          12.1,
          9.3,
          17.8,
          13.5,
          10.8,
          27.2,
          9.4,
          5.8,
          5.8,
          38,
          38,
          9.9,
          11.3,
          23,
          6.7,
          7.6,
          79.8,
          48.5,
          39.8,
          58.8,
          26.5,
          13.4,
          17.1,
          16.7,
          11.6,
          12.8,
          8.9,
          9.7,
          17.2,
          16.9,
          12.6,
          29.9,
          9.6,
          11.1,
          11.1,
          17.1,
          28,
          28,
          8.9,
          8.6,
          13.5,
          8.9,
          15.3,
          14.8,
          19.5,
          14.1,
          59.6,
          26.9,
          24.4,
          31.7,
          32.1,
          12.2,
          9.9,
          15.8,
          15.8,
          17.8,
          9.6,
          19,
          15.2,
          10.2,
          15.5,
          16.6,
          9.2,
          12.9,
          14.9,
          17.6,
          24.8,
          18.9,
          11.6,
          27,
          41,
          69.8,
          38.6,
          26.7,
          19,
          23.2,
          39.1,
          44,
          17.5,
          30,
          8.1,
          10.7,
          10.9,
          49,
          35.5,
          83,
          59,
          79.5,
          225,
          79.5,
          126.5,
          51.6,
          39,
          77,
          85.6,
          49.5,
          49.5,
          49.5,
          57,
          59.8,
          27.5,
          62,
          59,
          59,
          59,
          44,
          62.5,
          176,
          108.5,
          68.1,
          157,
          104,
          28.1,
          21.7,
          28.5,
          67.2,
          109.6,
          43.9,
          61.6,
          41.8,
          26.5,
          16.1,
          31.5,
          31.5,
          49,
          32.2,
          50.1,
          13.4,
          11.8,
          13.1,
          26.2,
          20.6,
          16.9,
          19,
          24,
          57,
          67.5,
          30.6,
          59,
          11.9,
          16.5,
          52.4,
          52.9,
          58.3,
          39.6,
          52.4,
          62.4,
          76.8,
          50,
          52.4,
          41,
          62.4,
          50,
          21.5,
          28.5,
          24.3,
          16.5,
          25.3,
          49,
          36.2,
          33.4,
          40.2,
          43,
          43,
          48.8,
          20.8,
          16.4,
          14.4,
          21,
          12.3,
          20.2,
          17,
          21.9,
          17.8,
          19.8,
          19,
          10.7,
          12.9,
          9.5,
          29.8,
          13.2,
          6.3,
          7.1,
          9.1,
          9.1,
          18.1,
          14,
          30.1,
          12.8,
          12.8,
          19.8,
          18.2,
          31.6,
          16.8,
          22.8,
          32.6,
          44,
          55.4,
          15.8,
          18.4,
          13.3,
          11.1,
          18.6,
          23.4,
          18.2,
          12.5,
          15.9,
          13.7,
          29,
          23.4,
          12.7,
          26,
          29.5,
          8.6,
          14.3,
          22,
          16.8,
          15.3,
          7.4,
          9.7,
          14.5,
          11.9,
          16.4,
          27.9,
          12,
          7.4,
          26.5,
          24.3,
          16.9,
          6.8,
          13.9,
          7.8,
          13.7,
          9.8,
          29.5,
          28.5,
          10.1,
          12.1,
          12.3,
          11.1,
          11.1,
          13.6,
          21,
          18.7,
          41.6,
          12,
          78,
          14.9,
          6.5,
          8.7,
          8.5,
          9.9,
          8.2,
          9.8,
          9.9,
          9.3,
          22.8,
          18.7,
          28.4,
          27.9,
          25.3,
          17,
          27.9,
          20.1,
          27.9,
          21.2,
          20.8,
          41,
          46,
          102.3,
          137,
          22.9,
          53.2,
          25.9,
          17.3,
          25.9,
          28,
          25.9,
          25.9,
          37.2,
          24.4,
          24.4,
          7,
          12.8,
          23.2,
          7.9,
          6.5,
          7.9,
          16.7,
          17.5,
          27.8,
          25.7,
          18.4,
          22.2,
          11.1,
          9.9,
          12.5,
          12.9,
          20.5,
          25,
          11.3,
          7,
          12.1,
          7.1,
          49.5,
          23,
          23.7,
          16.45,
          16.3,
          18.5,
          26.5,
          78,
          78,
          78,
          27.3,
          217.5,
          64.9,
          48.7,
          59.4,
          48.7,
          105,
          105,
          55.6,
          9.3,
          19.8,
          45,
          112,
          86.8,
          62.1,
          22.5,
          7.5,
          52.6,
          45,
          67,
          59.9,
          59.9,
          65,
          15.2,
          19,
          11.1,
          18,
          22.8,
          19.5,
          28.8,
          16.1,
          24.2,
          35.3,
          10.7,
          12.7,
          17.1,
          24,
          39,
          13.2,
          23.6,
          15.5,
          16.3,
          16.2,
          7.2,
          54.8,
          42,
          19.8,
          10.2,
          10.4,
          11.5,
          17.9,
          21.6,
          33.4,
          49.5,
          43.5,
          43.5,
          26.5,
          13.8,
          18.2,
          12.9,
          38.6,
          48.4,
          60.4,
          38.6,
          12,
          61.6,
          65.9,
          15.2,
          24.6,
          48.8,
          34.3,
          36.3,
          57.7,
          38,
          58,
          58,
          30.8,
          92,
          27.5,
          34.7,
          59.6,
          83.7,
          30.5,
          38.6,
          18,
          63.4,
          124.8,
          19.2,
          19.2,
          56.4,
          38.4,
          27.8,
          71.3,
          71.3,
          25,
          10.3,
          28,
          44.6,
          13,
          12.7,
          6.5,
          17.5,
          29.9,
          44.5,
          29.4,
          16.9,
          19.8,
          10.3,
          10.8,
          31.7,
          25,
          57.6,
          13.7,
          7.1,
          14.9,
          11,
          14.6,
          10.7,
          73.3,
          42.1,
          57,
          24.5,
          10.1,
          42.2,
          13.1,
          19.5,
          12.9,
          35.6,
          175,
          35.6,
          33.6,
          34.4,
          38.4,
          29.7,
          32.8,
          5.7,
          5.8,
          5.8,
          21.7,
          23,
          12.5,
          17.2,
          40.2,
          24,
          23.8,
          17.1,
          25,
          17.4,
          27.3,
          17.9,
          24,
          16.6,
          16.9,
          57.6,
          63.5,
          56,
          63.5,
          41.2,
          55,
          57,
          19.3,
          19,
          191.3,
          26.6,
          15.4,
          24.7,
          28.1,
          18.25,
          35.1,
          27.3,
          18.8,
          43.9,
          19.8,
          17.7,
          57,
          36,
          36,
          93,
          122,
          114,
          48.5,
          49.5,
          14.1,
          59.9,
          46,
          74.5,
          17.2,
          8.7,
          15.4,
          12.7,
          30,
          13.5,
          16.3,
          56.3,
          71.5,
          69,
          17.9,
          48.5,
          71.7,
          8.5,
          10.9,
          21.8,
          38.5,
          9.3,
          13.6,
          24.5,
          12.6,
          13.4,
          29.8,
          36.9,
          40.7,
          33.2,
          34.8,
          74.8,
          62.4,
          46,
          39.2,
          135,
          10.6,
          10.6,
          5.2,
          46,
          105.6,
          116.4,
          31,
          20.2,
          25.2,
          25.2,
          115,
          121,
          99,
          115,
          121,
          23.5,
          26.4,
          26.7,
          20.4,
          20.4,
          40.2,
          9,
          45.9,
          10.4,
          78,
          40.5,
          27.9,
          22.4,
          28.4,
          72,
          29,
          29.2,
          44,
          68.3,
          41.8,
          40,
          13.5,
          19,
          24.4,
          32.8,
          15.4,
          9.9,
          13.5,
          51,
          35.2,
          42.2,
          33.2,
          41.8,
          32.2,
          37.7,
          47.2,
          52.7,
          22.4,
          50.4,
          35.6,
          27.7,
          48.5,
          15.4,
          46.5,
          46.5,
          46.5,
          42,
          21.8,
          50.5,
          49.9,
          19,
          8.4,
          27.5,
          69,
          54.8,
          16.3
         ],
         "x0": " ",
         "xaxis": "x",
         "y0": " ",
         "yaxis": "y"
        }
       ],
       "layout": {
        "boxmode": "group",
        "legend": {
         "tracegroupgap": 0
        },
        "margin": {
         "t": 60
        },
        "template": {
         "data": {
          "bar": [
           {
            "error_x": {
             "color": "#2a3f5f"
            },
            "error_y": {
             "color": "#2a3f5f"
            },
            "marker": {
             "line": {
              "color": "#E5ECF6",
              "width": 0.5
             },
             "pattern": {
              "fillmode": "overlay",
              "size": 10,
              "solidity": 0.2
             }
            },
            "type": "bar"
           }
          ],
          "barpolar": [
           {
            "marker": {
             "line": {
              "color": "#E5ECF6",
              "width": 0.5
             },
             "pattern": {
              "fillmode": "overlay",
              "size": 10,
              "solidity": 0.2
             }
            },
            "type": "barpolar"
           }
          ],
          "carpet": [
           {
            "aaxis": {
             "endlinecolor": "#2a3f5f",
             "gridcolor": "white",
             "linecolor": "white",
             "minorgridcolor": "white",
             "startlinecolor": "#2a3f5f"
            },
            "baxis": {
             "endlinecolor": "#2a3f5f",
             "gridcolor": "white",
             "linecolor": "white",
             "minorgridcolor": "white",
             "startlinecolor": "#2a3f5f"
            },
            "type": "carpet"
           }
          ],
          "choropleth": [
           {
            "colorbar": {
             "outlinewidth": 0,
             "ticks": ""
            },
            "type": "choropleth"
           }
          ],
          "contour": [
           {
            "colorbar": {
             "outlinewidth": 0,
             "ticks": ""
            },
            "colorscale": [
             [
              0,
              "#0d0887"
             ],
             [
              0.1111111111111111,
              "#46039f"
             ],
             [
              0.2222222222222222,
              "#7201a8"
             ],
             [
              0.3333333333333333,
              "#9c179e"
             ],
             [
              0.4444444444444444,
              "#bd3786"
             ],
             [
              0.5555555555555556,
              "#d8576b"
             ],
             [
              0.6666666666666666,
              "#ed7953"
             ],
             [
              0.7777777777777778,
              "#fb9f3a"
             ],
             [
              0.8888888888888888,
              "#fdca26"
             ],
             [
              1,
              "#f0f921"
             ]
            ],
            "type": "contour"
           }
          ],
          "contourcarpet": [
           {
            "colorbar": {
             "outlinewidth": 0,
             "ticks": ""
            },
            "type": "contourcarpet"
           }
          ],
          "heatmap": [
           {
            "colorbar": {
             "outlinewidth": 0,
             "ticks": ""
            },
            "colorscale": [
             [
              0,
              "#0d0887"
             ],
             [
              0.1111111111111111,
              "#46039f"
             ],
             [
              0.2222222222222222,
              "#7201a8"
             ],
             [
              0.3333333333333333,
              "#9c179e"
             ],
             [
              0.4444444444444444,
              "#bd3786"
             ],
             [
              0.5555555555555556,
              "#d8576b"
             ],
             [
              0.6666666666666666,
              "#ed7953"
             ],
             [
              0.7777777777777778,
              "#fb9f3a"
             ],
             [
              0.8888888888888888,
              "#fdca26"
             ],
             [
              1,
              "#f0f921"
             ]
            ],
            "type": "heatmap"
           }
          ],
          "heatmapgl": [
           {
            "colorbar": {
             "outlinewidth": 0,
             "ticks": ""
            },
            "colorscale": [
             [
              0,
              "#0d0887"
             ],
             [
              0.1111111111111111,
              "#46039f"
             ],
             [
              0.2222222222222222,
              "#7201a8"
             ],
             [
              0.3333333333333333,
              "#9c179e"
             ],
             [
              0.4444444444444444,
              "#bd3786"
             ],
             [
              0.5555555555555556,
              "#d8576b"
             ],
             [
              0.6666666666666666,
              "#ed7953"
             ],
             [
              0.7777777777777778,
              "#fb9f3a"
             ],
             [
              0.8888888888888888,
              "#fdca26"
             ],
             [
              1,
              "#f0f921"
             ]
            ],
            "type": "heatmapgl"
           }
          ],
          "histogram": [
           {
            "marker": {
             "pattern": {
              "fillmode": "overlay",
              "size": 10,
              "solidity": 0.2
             }
            },
            "type": "histogram"
           }
          ],
          "histogram2d": [
           {
            "colorbar": {
             "outlinewidth": 0,
             "ticks": ""
            },
            "colorscale": [
             [
              0,
              "#0d0887"
             ],
             [
              0.1111111111111111,
              "#46039f"
             ],
             [
              0.2222222222222222,
              "#7201a8"
             ],
             [
              0.3333333333333333,
              "#9c179e"
             ],
             [
              0.4444444444444444,
              "#bd3786"
             ],
             [
              0.5555555555555556,
              "#d8576b"
             ],
             [
              0.6666666666666666,
              "#ed7953"
             ],
             [
              0.7777777777777778,
              "#fb9f3a"
             ],
             [
              0.8888888888888888,
              "#fdca26"
             ],
             [
              1,
              "#f0f921"
             ]
            ],
            "type": "histogram2d"
           }
          ],
          "histogram2dcontour": [
           {
            "colorbar": {
             "outlinewidth": 0,
             "ticks": ""
            },
            "colorscale": [
             [
              0,
              "#0d0887"
             ],
             [
              0.1111111111111111,
              "#46039f"
             ],
             [
              0.2222222222222222,
              "#7201a8"
             ],
             [
              0.3333333333333333,
              "#9c179e"
             ],
             [
              0.4444444444444444,
              "#bd3786"
             ],
             [
              0.5555555555555556,
              "#d8576b"
             ],
             [
              0.6666666666666666,
              "#ed7953"
             ],
             [
              0.7777777777777778,
              "#fb9f3a"
             ],
             [
              0.8888888888888888,
              "#fdca26"
             ],
             [
              1,
              "#f0f921"
             ]
            ],
            "type": "histogram2dcontour"
           }
          ],
          "mesh3d": [
           {
            "colorbar": {
             "outlinewidth": 0,
             "ticks": ""
            },
            "type": "mesh3d"
           }
          ],
          "parcoords": [
           {
            "line": {
             "colorbar": {
              "outlinewidth": 0,
              "ticks": ""
             }
            },
            "type": "parcoords"
           }
          ],
          "pie": [
           {
            "automargin": true,
            "type": "pie"
           }
          ],
          "scatter": [
           {
            "marker": {
             "colorbar": {
              "outlinewidth": 0,
              "ticks": ""
             }
            },
            "type": "scatter"
           }
          ],
          "scatter3d": [
           {
            "line": {
             "colorbar": {
              "outlinewidth": 0,
              "ticks": ""
             }
            },
            "marker": {
             "colorbar": {
              "outlinewidth": 0,
              "ticks": ""
             }
            },
            "type": "scatter3d"
           }
          ],
          "scattercarpet": [
           {
            "marker": {
             "colorbar": {
              "outlinewidth": 0,
              "ticks": ""
             }
            },
            "type": "scattercarpet"
           }
          ],
          "scattergeo": [
           {
            "marker": {
             "colorbar": {
              "outlinewidth": 0,
              "ticks": ""
             }
            },
            "type": "scattergeo"
           }
          ],
          "scattergl": [
           {
            "marker": {
             "colorbar": {
              "outlinewidth": 0,
              "ticks": ""
             }
            },
            "type": "scattergl"
           }
          ],
          "scattermapbox": [
           {
            "marker": {
             "colorbar": {
              "outlinewidth": 0,
              "ticks": ""
             }
            },
            "type": "scattermapbox"
           }
          ],
          "scatterpolar": [
           {
            "marker": {
             "colorbar": {
              "outlinewidth": 0,
              "ticks": ""
             }
            },
            "type": "scatterpolar"
           }
          ],
          "scatterpolargl": [
           {
            "marker": {
             "colorbar": {
              "outlinewidth": 0,
              "ticks": ""
             }
            },
            "type": "scatterpolargl"
           }
          ],
          "scatterternary": [
           {
            "marker": {
             "colorbar": {
              "outlinewidth": 0,
              "ticks": ""
             }
            },
            "type": "scatterternary"
           }
          ],
          "surface": [
           {
            "colorbar": {
             "outlinewidth": 0,
             "ticks": ""
            },
            "colorscale": [
             [
              0,
              "#0d0887"
             ],
             [
              0.1111111111111111,
              "#46039f"
             ],
             [
              0.2222222222222222,
              "#7201a8"
             ],
             [
              0.3333333333333333,
              "#9c179e"
             ],
             [
              0.4444444444444444,
              "#bd3786"
             ],
             [
              0.5555555555555556,
              "#d8576b"
             ],
             [
              0.6666666666666666,
              "#ed7953"
             ],
             [
              0.7777777777777778,
              "#fb9f3a"
             ],
             [
              0.8888888888888888,
              "#fdca26"
             ],
             [
              1,
              "#f0f921"
             ]
            ],
            "type": "surface"
           }
          ],
          "table": [
           {
            "cells": {
             "fill": {
              "color": "#EBF0F8"
             },
             "line": {
              "color": "white"
             }
            },
            "header": {
             "fill": {
              "color": "#C8D4E3"
             },
             "line": {
              "color": "white"
             }
            },
            "type": "table"
           }
          ]
         },
         "layout": {
          "annotationdefaults": {
           "arrowcolor": "#2a3f5f",
           "arrowhead": 0,
           "arrowwidth": 1
          },
          "autotypenumbers": "strict",
          "coloraxis": {
           "colorbar": {
            "outlinewidth": 0,
            "ticks": ""
           }
          },
          "colorscale": {
           "diverging": [
            [
             0,
             "#8e0152"
            ],
            [
             0.1,
             "#c51b7d"
            ],
            [
             0.2,
             "#de77ae"
            ],
            [
             0.3,
             "#f1b6da"
            ],
            [
             0.4,
             "#fde0ef"
            ],
            [
             0.5,
             "#f7f7f7"
            ],
            [
             0.6,
             "#e6f5d0"
            ],
            [
             0.7,
             "#b8e186"
            ],
            [
             0.8,
             "#7fbc41"
            ],
            [
             0.9,
             "#4d9221"
            ],
            [
             1,
             "#276419"
            ]
           ],
           "sequential": [
            [
             0,
             "#0d0887"
            ],
            [
             0.1111111111111111,
             "#46039f"
            ],
            [
             0.2222222222222222,
             "#7201a8"
            ],
            [
             0.3333333333333333,
             "#9c179e"
            ],
            [
             0.4444444444444444,
             "#bd3786"
            ],
            [
             0.5555555555555556,
             "#d8576b"
            ],
            [
             0.6666666666666666,
             "#ed7953"
            ],
            [
             0.7777777777777778,
             "#fb9f3a"
            ],
            [
             0.8888888888888888,
             "#fdca26"
            ],
            [
             1,
             "#f0f921"
            ]
           ],
           "sequentialminus": [
            [
             0,
             "#0d0887"
            ],
            [
             0.1111111111111111,
             "#46039f"
            ],
            [
             0.2222222222222222,
             "#7201a8"
            ],
            [
             0.3333333333333333,
             "#9c179e"
            ],
            [
             0.4444444444444444,
             "#bd3786"
            ],
            [
             0.5555555555555556,
             "#d8576b"
            ],
            [
             0.6666666666666666,
             "#ed7953"
            ],
            [
             0.7777777777777778,
             "#fb9f3a"
            ],
            [
             0.8888888888888888,
             "#fdca26"
            ],
            [
             1,
             "#f0f921"
            ]
           ]
          },
          "colorway": [
           "#636efa",
           "#EF553B",
           "#00cc96",
           "#ab63fa",
           "#FFA15A",
           "#19d3f3",
           "#FF6692",
           "#B6E880",
           "#FF97FF",
           "#FECB52"
          ],
          "font": {
           "color": "#2a3f5f"
          },
          "geo": {
           "bgcolor": "white",
           "lakecolor": "white",
           "landcolor": "#E5ECF6",
           "showlakes": true,
           "showland": true,
           "subunitcolor": "white"
          },
          "hoverlabel": {
           "align": "left"
          },
          "hovermode": "closest",
          "mapbox": {
           "style": "light"
          },
          "paper_bgcolor": "white",
          "plot_bgcolor": "#E5ECF6",
          "polar": {
           "angularaxis": {
            "gridcolor": "white",
            "linecolor": "white",
            "ticks": ""
           },
           "bgcolor": "#E5ECF6",
           "radialaxis": {
            "gridcolor": "white",
            "linecolor": "white",
            "ticks": ""
           }
          },
          "scene": {
           "xaxis": {
            "backgroundcolor": "#E5ECF6",
            "gridcolor": "white",
            "gridwidth": 2,
            "linecolor": "white",
            "showbackground": true,
            "ticks": "",
            "zerolinecolor": "white"
           },
           "yaxis": {
            "backgroundcolor": "#E5ECF6",
            "gridcolor": "white",
            "gridwidth": 2,
            "linecolor": "white",
            "showbackground": true,
            "ticks": "",
            "zerolinecolor": "white"
           },
           "zaxis": {
            "backgroundcolor": "#E5ECF6",
            "gridcolor": "white",
            "gridwidth": 2,
            "linecolor": "white",
            "showbackground": true,
            "ticks": "",
            "zerolinecolor": "white"
           }
          },
          "shapedefaults": {
           "line": {
            "color": "#2a3f5f"
           }
          },
          "ternary": {
           "aaxis": {
            "gridcolor": "white",
            "linecolor": "white",
            "ticks": ""
           },
           "baxis": {
            "gridcolor": "white",
            "linecolor": "white",
            "ticks": ""
           },
           "bgcolor": "#E5ECF6",
           "caxis": {
            "gridcolor": "white",
            "linecolor": "white",
            "ticks": ""
           }
          },
          "title": {
           "x": 0.05
          },
          "xaxis": {
           "automargin": true,
           "gridcolor": "white",
           "linecolor": "white",
           "ticks": "",
           "title": {
            "standoff": 15
           },
           "zerolinecolor": "white",
           "zerolinewidth": 2
          },
          "yaxis": {
           "automargin": true,
           "gridcolor": "white",
           "linecolor": "white",
           "ticks": "",
           "title": {
            "standoff": 15
           },
           "zerolinecolor": "white",
           "zerolinewidth": 2
          }
         }
        },
        "xaxis": {
         "anchor": "y",
         "domain": [
          0,
          1
         ],
         "title": {
          "text": "price"
         }
        },
        "yaxis": {
         "anchor": "x",
         "domain": [
          0,
          1
         ]
        }
       }
      },
      "text/html": [
       "<div>                            <div id=\"e6c5e699-13ed-4f08-9de1-7db1471f3857\" class=\"plotly-graph-div\" style=\"height:525px; width:100%;\"></div>            <script type=\"text/javascript\">                require([\"plotly\"], function(Plotly) {                    window.PLOTLYENV=window.PLOTLYENV || {};                                    if (document.getElementById(\"e6c5e699-13ed-4f08-9de1-7db1471f3857\")) {                    Plotly.newPlot(                        \"e6c5e699-13ed-4f08-9de1-7db1471f3857\",                        [{\"alignmentgroup\":\"True\",\"boxpoints\":\"all\",\"hovertemplate\":\"price=%{x}<extra></extra>\",\"legendgroup\":\"\",\"marker\":{\"color\":\"#636efa\"},\"name\":\"\",\"notched\":false,\"offsetgroup\":\"\",\"orientation\":\"h\",\"showlegend\":false,\"x\":[24.2,34.3,20.8,14.1,46.0,34.3,32.7,31.2,60.0,42.6,80.0,18.3,22.8,19.3,21.8,7.7,33.7,44.3,71.6,12.7,8.7,8.7,8.7,11.9,11.9,14.5,14.4,19.5,20.8,22.0,16.6,60.0,23.4,33.2,32.0,77.8,12.7,14.7,14.05,22.9,44.0,37.0,39.0,17.0,23.2,19.0,16.4,14.4,13.7,12.6,22.8,12.8,22.1,12.8,15.8,15.8,16.3,16.3,9.7,6.8,12.6,35.0,31.7,100.0,23.0,88.4,29.8,25.7,77.4,39.0,53.0,49.0,29.5,33.0,37.5,69.0,59.0,13.7,19.2,29.0,9.8,14.5,20.35,12.0,18.5,9.3,9.3,11.6,14.3,10.8,7.6,12.0,20.5,14.3,18.2,9.0,7.8,5.7,5.7,5.7,13.5,13.5,11.5,24.0,24.0,11.9,16.7,21.4,16.6,13.3,9.5,12.1,9.3,17.8,13.5,10.8,27.2,9.4,5.8,5.8,38.0,38.0,9.9,11.3,23.0,6.7,7.6,79.8,48.5,39.8,58.8,26.5,13.4,17.1,16.7,11.6,12.8,8.9,9.7,17.2,16.9,12.6,29.9,9.6,11.1,11.1,17.1,28.0,28.0,8.9,8.6,13.5,8.9,15.3,14.8,19.5,14.1,59.6,26.9,24.4,31.7,32.1,12.2,9.9,15.8,15.8,17.8,9.6,19.0,15.2,10.2,15.5,16.6,9.2,12.9,14.9,17.6,24.8,18.9,11.6,27.0,41.0,69.8,38.6,26.7,19.0,23.2,39.1,44.0,17.5,30.0,8.1,10.7,10.9,49.0,35.5,83.0,59.0,79.5,225.0,79.5,126.5,51.6,39.0,77.0,85.6,49.5,49.5,49.5,57.0,59.8,27.5,62.0,59.0,59.0,59.0,44.0,62.5,176.0,108.5,68.1,157.0,104.0,28.1,21.7,28.5,67.2,109.6,43.9,61.6,41.8,26.5,16.1,31.5,31.5,49.0,32.2,50.1,13.4,11.8,13.1,26.2,20.6,16.9,19.0,24.0,57.0,67.5,30.6,59.0,11.9,16.5,52.4,52.9,58.3,39.6,52.4,62.4,76.8,50.0,52.4,41.0,62.4,50.0,21.5,28.5,24.3,16.5,25.3,49.0,36.2,33.4,40.2,43.0,43.0,48.8,20.8,16.4,14.4,21.0,12.3,20.2,17.0,21.9,17.8,19.8,19.0,10.7,12.9,9.5,29.8,13.2,6.3,7.1,9.1,9.1,18.1,14.0,30.1,12.8,12.8,19.8,18.2,31.6,16.8,22.8,32.6,44.0,55.4,15.8,18.4,13.3,11.1,18.6,23.4,18.2,12.5,15.9,13.7,29.0,23.4,12.7,26.0,29.5,8.6,14.3,22.0,16.8,15.3,7.4,9.7,14.5,11.9,16.4,27.9,12.0,7.4,26.5,24.3,16.9,6.8,13.9,7.8,13.7,9.8,29.5,28.5,10.1,12.1,12.3,11.1,11.1,13.6,21.0,18.7,41.6,12.0,78.0,14.9,6.5,8.7,8.5,9.9,8.2,9.8,9.9,9.3,22.8,18.7,28.4,27.9,25.3,17.0,27.9,20.1,27.9,21.2,20.8,41.0,46.0,102.3,137.0,22.9,53.2,25.9,17.3,25.9,28.0,25.9,25.9,37.2,24.4,24.4,7.0,12.8,23.2,7.9,6.5,7.9,16.7,17.5,27.8,25.7,18.4,22.2,11.1,9.9,12.5,12.9,20.5,25.0,11.3,7.0,12.1,7.1,49.5,23.0,23.7,16.45,16.3,18.5,26.5,78.0,78.0,78.0,27.3,217.5,64.9,48.7,59.4,48.7,105.0,105.0,55.6,9.3,19.8,45.0,112.0,86.8,62.1,22.5,7.5,52.6,45.0,67.0,59.9,59.9,65.0,15.2,19.0,11.1,18.0,22.8,19.5,28.8,16.1,24.2,35.3,10.7,12.7,17.1,24.0,39.0,13.2,23.6,15.5,16.3,16.2,7.2,54.8,42.0,19.8,10.2,10.4,11.5,17.9,21.6,33.4,49.5,43.5,43.5,26.5,13.8,18.2,12.9,38.6,48.4,60.4,38.6,12.0,61.6,65.9,15.2,24.6,48.8,34.3,36.3,57.7,38.0,58.0,58.0,30.8,92.0,27.5,34.7,59.6,83.7,30.5,38.6,18.0,63.4,124.8,19.2,19.2,56.4,38.4,27.8,71.3,71.3,25.0,10.3,28.0,44.6,13.0,12.7,6.5,17.5,29.9,44.5,29.4,16.9,19.8,10.3,10.8,31.7,25.0,57.6,13.7,7.1,14.9,11.0,14.6,10.7,73.3,42.1,57.0,24.5,10.1,42.2,13.1,19.5,12.9,35.6,175.0,35.6,33.6,34.4,38.4,29.7,32.8,5.7,5.8,5.8,21.7,23.0,12.5,17.2,40.2,24.0,23.8,17.1,25.0,17.4,27.3,17.9,24.0,16.6,16.9,57.6,63.5,56.0,63.5,41.2,55.0,57.0,19.3,19.0,191.3,26.6,15.4,24.7,28.1,18.25,35.1,27.3,18.8,43.9,19.8,17.7,57.0,36.0,36.0,93.0,122.0,114.0,48.5,49.5,14.1,59.9,46.0,74.5,17.2,8.7,15.4,12.7,30.0,13.5,16.3,56.3,71.5,69.0,17.9,48.5,71.7,8.5,10.9,21.8,38.5,9.3,13.6,24.5,12.6,13.4,29.8,36.9,40.7,33.2,34.8,74.8,62.4,46.0,39.2,135.0,10.6,10.6,5.2,46.0,105.6,116.4,31.0,20.2,25.2,25.2,115.0,121.0,99.0,115.0,121.0,23.5,26.4,26.7,20.4,20.4,40.2,9.0,45.9,10.4,78.0,40.5,27.9,22.4,28.4,72.0,29.0,29.2,44.0,68.3,41.8,40.0,13.5,19.0,24.4,32.8,15.4,9.9,13.5,51.0,35.2,42.2,33.2,41.8,32.2,37.7,47.2,52.7,22.4,50.4,35.6,27.7,48.5,15.4,46.5,46.5,46.5,42.0,21.8,50.5,49.9,19.0,8.4,27.5,69.0,54.8,16.3],\"x0\":\" \",\"xaxis\":\"x\",\"y0\":\" \",\"yaxis\":\"y\",\"type\":\"box\"}],                        {\"template\":{\"data\":{\"bar\":[{\"error_x\":{\"color\":\"#2a3f5f\"},\"error_y\":{\"color\":\"#2a3f5f\"},\"marker\":{\"line\":{\"color\":\"#E5ECF6\",\"width\":0.5},\"pattern\":{\"fillmode\":\"overlay\",\"size\":10,\"solidity\":0.2}},\"type\":\"bar\"}],\"barpolar\":[{\"marker\":{\"line\":{\"color\":\"#E5ECF6\",\"width\":0.5},\"pattern\":{\"fillmode\":\"overlay\",\"size\":10,\"solidity\":0.2}},\"type\":\"barpolar\"}],\"carpet\":[{\"aaxis\":{\"endlinecolor\":\"#2a3f5f\",\"gridcolor\":\"white\",\"linecolor\":\"white\",\"minorgridcolor\":\"white\",\"startlinecolor\":\"#2a3f5f\"},\"baxis\":{\"endlinecolor\":\"#2a3f5f\",\"gridcolor\":\"white\",\"linecolor\":\"white\",\"minorgridcolor\":\"white\",\"startlinecolor\":\"#2a3f5f\"},\"type\":\"carpet\"}],\"choropleth\":[{\"colorbar\":{\"outlinewidth\":0,\"ticks\":\"\"},\"type\":\"choropleth\"}],\"contour\":[{\"colorbar\":{\"outlinewidth\":0,\"ticks\":\"\"},\"colorscale\":[[0.0,\"#0d0887\"],[0.1111111111111111,\"#46039f\"],[0.2222222222222222,\"#7201a8\"],[0.3333333333333333,\"#9c179e\"],[0.4444444444444444,\"#bd3786\"],[0.5555555555555556,\"#d8576b\"],[0.6666666666666666,\"#ed7953\"],[0.7777777777777778,\"#fb9f3a\"],[0.8888888888888888,\"#fdca26\"],[1.0,\"#f0f921\"]],\"type\":\"contour\"}],\"contourcarpet\":[{\"colorbar\":{\"outlinewidth\":0,\"ticks\":\"\"},\"type\":\"contourcarpet\"}],\"heatmap\":[{\"colorbar\":{\"outlinewidth\":0,\"ticks\":\"\"},\"colorscale\":[[0.0,\"#0d0887\"],[0.1111111111111111,\"#46039f\"],[0.2222222222222222,\"#7201a8\"],[0.3333333333333333,\"#9c179e\"],[0.4444444444444444,\"#bd3786\"],[0.5555555555555556,\"#d8576b\"],[0.6666666666666666,\"#ed7953\"],[0.7777777777777778,\"#fb9f3a\"],[0.8888888888888888,\"#fdca26\"],[1.0,\"#f0f921\"]],\"type\":\"heatmap\"}],\"heatmapgl\":[{\"colorbar\":{\"outlinewidth\":0,\"ticks\":\"\"},\"colorscale\":[[0.0,\"#0d0887\"],[0.1111111111111111,\"#46039f\"],[0.2222222222222222,\"#7201a8\"],[0.3333333333333333,\"#9c179e\"],[0.4444444444444444,\"#bd3786\"],[0.5555555555555556,\"#d8576b\"],[0.6666666666666666,\"#ed7953\"],[0.7777777777777778,\"#fb9f3a\"],[0.8888888888888888,\"#fdca26\"],[1.0,\"#f0f921\"]],\"type\":\"heatmapgl\"}],\"histogram\":[{\"marker\":{\"pattern\":{\"fillmode\":\"overlay\",\"size\":10,\"solidity\":0.2}},\"type\":\"histogram\"}],\"histogram2d\":[{\"colorbar\":{\"outlinewidth\":0,\"ticks\":\"\"},\"colorscale\":[[0.0,\"#0d0887\"],[0.1111111111111111,\"#46039f\"],[0.2222222222222222,\"#7201a8\"],[0.3333333333333333,\"#9c179e\"],[0.4444444444444444,\"#bd3786\"],[0.5555555555555556,\"#d8576b\"],[0.6666666666666666,\"#ed7953\"],[0.7777777777777778,\"#fb9f3a\"],[0.8888888888888888,\"#fdca26\"],[1.0,\"#f0f921\"]],\"type\":\"histogram2d\"}],\"histogram2dcontour\":[{\"colorbar\":{\"outlinewidth\":0,\"ticks\":\"\"},\"colorscale\":[[0.0,\"#0d0887\"],[0.1111111111111111,\"#46039f\"],[0.2222222222222222,\"#7201a8\"],[0.3333333333333333,\"#9c179e\"],[0.4444444444444444,\"#bd3786\"],[0.5555555555555556,\"#d8576b\"],[0.6666666666666666,\"#ed7953\"],[0.7777777777777778,\"#fb9f3a\"],[0.8888888888888888,\"#fdca26\"],[1.0,\"#f0f921\"]],\"type\":\"histogram2dcontour\"}],\"mesh3d\":[{\"colorbar\":{\"outlinewidth\":0,\"ticks\":\"\"},\"type\":\"mesh3d\"}],\"parcoords\":[{\"line\":{\"colorbar\":{\"outlinewidth\":0,\"ticks\":\"\"}},\"type\":\"parcoords\"}],\"pie\":[{\"automargin\":true,\"type\":\"pie\"}],\"scatter\":[{\"marker\":{\"colorbar\":{\"outlinewidth\":0,\"ticks\":\"\"}},\"type\":\"scatter\"}],\"scatter3d\":[{\"line\":{\"colorbar\":{\"outlinewidth\":0,\"ticks\":\"\"}},\"marker\":{\"colorbar\":{\"outlinewidth\":0,\"ticks\":\"\"}},\"type\":\"scatter3d\"}],\"scattercarpet\":[{\"marker\":{\"colorbar\":{\"outlinewidth\":0,\"ticks\":\"\"}},\"type\":\"scattercarpet\"}],\"scattergeo\":[{\"marker\":{\"colorbar\":{\"outlinewidth\":0,\"ticks\":\"\"}},\"type\":\"scattergeo\"}],\"scattergl\":[{\"marker\":{\"colorbar\":{\"outlinewidth\":0,\"ticks\":\"\"}},\"type\":\"scattergl\"}],\"scattermapbox\":[{\"marker\":{\"colorbar\":{\"outlinewidth\":0,\"ticks\":\"\"}},\"type\":\"scattermapbox\"}],\"scatterpolar\":[{\"marker\":{\"colorbar\":{\"outlinewidth\":0,\"ticks\":\"\"}},\"type\":\"scatterpolar\"}],\"scatterpolargl\":[{\"marker\":{\"colorbar\":{\"outlinewidth\":0,\"ticks\":\"\"}},\"type\":\"scatterpolargl\"}],\"scatterternary\":[{\"marker\":{\"colorbar\":{\"outlinewidth\":0,\"ticks\":\"\"}},\"type\":\"scatterternary\"}],\"surface\":[{\"colorbar\":{\"outlinewidth\":0,\"ticks\":\"\"},\"colorscale\":[[0.0,\"#0d0887\"],[0.1111111111111111,\"#46039f\"],[0.2222222222222222,\"#7201a8\"],[0.3333333333333333,\"#9c179e\"],[0.4444444444444444,\"#bd3786\"],[0.5555555555555556,\"#d8576b\"],[0.6666666666666666,\"#ed7953\"],[0.7777777777777778,\"#fb9f3a\"],[0.8888888888888888,\"#fdca26\"],[1.0,\"#f0f921\"]],\"type\":\"surface\"}],\"table\":[{\"cells\":{\"fill\":{\"color\":\"#EBF0F8\"},\"line\":{\"color\":\"white\"}},\"header\":{\"fill\":{\"color\":\"#C8D4E3\"},\"line\":{\"color\":\"white\"}},\"type\":\"table\"}]},\"layout\":{\"annotationdefaults\":{\"arrowcolor\":\"#2a3f5f\",\"arrowhead\":0,\"arrowwidth\":1},\"autotypenumbers\":\"strict\",\"coloraxis\":{\"colorbar\":{\"outlinewidth\":0,\"ticks\":\"\"}},\"colorscale\":{\"diverging\":[[0,\"#8e0152\"],[0.1,\"#c51b7d\"],[0.2,\"#de77ae\"],[0.3,\"#f1b6da\"],[0.4,\"#fde0ef\"],[0.5,\"#f7f7f7\"],[0.6,\"#e6f5d0\"],[0.7,\"#b8e186\"],[0.8,\"#7fbc41\"],[0.9,\"#4d9221\"],[1,\"#276419\"]],\"sequential\":[[0.0,\"#0d0887\"],[0.1111111111111111,\"#46039f\"],[0.2222222222222222,\"#7201a8\"],[0.3333333333333333,\"#9c179e\"],[0.4444444444444444,\"#bd3786\"],[0.5555555555555556,\"#d8576b\"],[0.6666666666666666,\"#ed7953\"],[0.7777777777777778,\"#fb9f3a\"],[0.8888888888888888,\"#fdca26\"],[1.0,\"#f0f921\"]],\"sequentialminus\":[[0.0,\"#0d0887\"],[0.1111111111111111,\"#46039f\"],[0.2222222222222222,\"#7201a8\"],[0.3333333333333333,\"#9c179e\"],[0.4444444444444444,\"#bd3786\"],[0.5555555555555556,\"#d8576b\"],[0.6666666666666666,\"#ed7953\"],[0.7777777777777778,\"#fb9f3a\"],[0.8888888888888888,\"#fdca26\"],[1.0,\"#f0f921\"]]},\"colorway\":[\"#636efa\",\"#EF553B\",\"#00cc96\",\"#ab63fa\",\"#FFA15A\",\"#19d3f3\",\"#FF6692\",\"#B6E880\",\"#FF97FF\",\"#FECB52\"],\"font\":{\"color\":\"#2a3f5f\"},\"geo\":{\"bgcolor\":\"white\",\"lakecolor\":\"white\",\"landcolor\":\"#E5ECF6\",\"showlakes\":true,\"showland\":true,\"subunitcolor\":\"white\"},\"hoverlabel\":{\"align\":\"left\"},\"hovermode\":\"closest\",\"mapbox\":{\"style\":\"light\"},\"paper_bgcolor\":\"white\",\"plot_bgcolor\":\"#E5ECF6\",\"polar\":{\"angularaxis\":{\"gridcolor\":\"white\",\"linecolor\":\"white\",\"ticks\":\"\"},\"bgcolor\":\"#E5ECF6\",\"radialaxis\":{\"gridcolor\":\"white\",\"linecolor\":\"white\",\"ticks\":\"\"}},\"scene\":{\"xaxis\":{\"backgroundcolor\":\"#E5ECF6\",\"gridcolor\":\"white\",\"gridwidth\":2,\"linecolor\":\"white\",\"showbackground\":true,\"ticks\":\"\",\"zerolinecolor\":\"white\"},\"yaxis\":{\"backgroundcolor\":\"#E5ECF6\",\"gridcolor\":\"white\",\"gridwidth\":2,\"linecolor\":\"white\",\"showbackground\":true,\"ticks\":\"\",\"zerolinecolor\":\"white\"},\"zaxis\":{\"backgroundcolor\":\"#E5ECF6\",\"gridcolor\":\"white\",\"gridwidth\":2,\"linecolor\":\"white\",\"showbackground\":true,\"ticks\":\"\",\"zerolinecolor\":\"white\"}},\"shapedefaults\":{\"line\":{\"color\":\"#2a3f5f\"}},\"ternary\":{\"aaxis\":{\"gridcolor\":\"white\",\"linecolor\":\"white\",\"ticks\":\"\"},\"baxis\":{\"gridcolor\":\"white\",\"linecolor\":\"white\",\"ticks\":\"\"},\"bgcolor\":\"#E5ECF6\",\"caxis\":{\"gridcolor\":\"white\",\"linecolor\":\"white\",\"ticks\":\"\"}},\"title\":{\"x\":0.05},\"xaxis\":{\"automargin\":true,\"gridcolor\":\"white\",\"linecolor\":\"white\",\"ticks\":\"\",\"title\":{\"standoff\":15},\"zerolinecolor\":\"white\",\"zerolinewidth\":2},\"yaxis\":{\"automargin\":true,\"gridcolor\":\"white\",\"linecolor\":\"white\",\"ticks\":\"\",\"title\":{\"standoff\":15},\"zerolinecolor\":\"white\",\"zerolinewidth\":2}}},\"xaxis\":{\"anchor\":\"y\",\"domain\":[0.0,1.0],\"title\":{\"text\":\"price\"}},\"yaxis\":{\"anchor\":\"x\",\"domain\":[0.0,1.0]},\"legend\":{\"tracegroupgap\":0},\"margin\":{\"t\":60},\"boxmode\":\"group\"},                        {\"responsive\": true}                    ).then(function(){\n",
       "                            \n",
       "var gd = document.getElementById('e6c5e699-13ed-4f08-9de1-7db1471f3857');\n",
       "var x = new MutationObserver(function (mutations, observer) {{\n",
       "        var display = window.getComputedStyle(gd).display;\n",
       "        if (!display || display === 'none') {{\n",
       "            console.log([gd, 'removed!']);\n",
       "            Plotly.purge(gd);\n",
       "            observer.disconnect();\n",
       "        }}\n",
       "}});\n",
       "\n",
       "// Listen for the removal of the full notebook cells\n",
       "var notebookContainer = gd.closest('#notebook-container');\n",
       "if (notebookContainer) {{\n",
       "    x.observe(notebookContainer, {childList: true});\n",
       "}}\n",
       "\n",
       "// Listen for the clearing of the current output cell\n",
       "var outputEl = gd.closest('.output');\n",
       "if (outputEl) {{\n",
       "    x.observe(outputEl, {childList: true});\n",
       "}}\n",
       "\n",
       "                        })                };                });            </script>        </div>"
      ]
     },
     "metadata": {},
     "output_type": "display_data"
    }
   ],
   "source": [
    "# création de la boxplot ou boîte à moustaches\n",
    "px.box(base_compl, x='price', points='all')      "
   ]
  },
  {
   "cell_type": "markdown",
   "id": "8a3543d4",
   "metadata": {},
   "source": [
    "Ce graphique représente la dispersion des produits en fonction de leur prix unitaire. <br>\n",
    "La boxplot représente la médiane (trait central) qui est de 23.55 € <br> \n",
    "  *=> il existe autant de valeurs supérieures qu'inférieures à cette valeur dans le jeu de données* <br>\n",
    "\n",
    "la répartition par quartiles : <br>\n",
    "Q1 = 14.10 € <br>\n",
    "Q2 = médiane = 23.55 € <br>\n",
    "Q3 = 42.20 € <br>\n",
    "\n",
    "et les valeurs min et max (5.20 € et 83.70 €) <br>\n",
    "   *=> max = Q3-Q1 * 1.5*<br>\n",
    "   \n",
    "Au-delà de ces éléments, nous retrouvons les outliers (de 88.40 € à 225.00 €) <br>\n",
    "\n",
    "Nous constatons que la grande majorité des produits a un prix unitaire inférieur à 14.10€."
   ]
  },
  {
   "cell_type": "markdown",
   "id": "a435d649",
   "metadata": {},
   "source": [
    "### Impact sur le CA"
   ]
  },
  {
   "cell_type": "markdown",
   "id": "4243e078",
   "metadata": {},
   "source": [
    "#### Proportion du CA total réalisé par les outliers"
   ]
  },
  {
   "cell_type": "code",
   "execution_count": 36,
   "id": "ac6d8c58",
   "metadata": {},
   "outputs": [
    {
     "name": "stdout",
     "output_type": "stream",
     "text": [
      "Le CA total des outliers :  6,884.40 €\n"
     ]
    },
    {
     "data": {
      "application/vnd.plotly.v1+json": {
       "config": {
        "plotlyServerURL": "https://plot.ly"
       },
       "data": [
        {
         "labels": [
          "CA Total",
          "CA Outliers"
         ],
         "pull": [
          0,
          0.2
         ],
         "type": "pie",
         "values": [
          70568.6,
          6884.4
         ]
        }
       ],
       "layout": {
        "template": {
         "data": {
          "bar": [
           {
            "error_x": {
             "color": "#2a3f5f"
            },
            "error_y": {
             "color": "#2a3f5f"
            },
            "marker": {
             "line": {
              "color": "#E5ECF6",
              "width": 0.5
             },
             "pattern": {
              "fillmode": "overlay",
              "size": 10,
              "solidity": 0.2
             }
            },
            "type": "bar"
           }
          ],
          "barpolar": [
           {
            "marker": {
             "line": {
              "color": "#E5ECF6",
              "width": 0.5
             },
             "pattern": {
              "fillmode": "overlay",
              "size": 10,
              "solidity": 0.2
             }
            },
            "type": "barpolar"
           }
          ],
          "carpet": [
           {
            "aaxis": {
             "endlinecolor": "#2a3f5f",
             "gridcolor": "white",
             "linecolor": "white",
             "minorgridcolor": "white",
             "startlinecolor": "#2a3f5f"
            },
            "baxis": {
             "endlinecolor": "#2a3f5f",
             "gridcolor": "white",
             "linecolor": "white",
             "minorgridcolor": "white",
             "startlinecolor": "#2a3f5f"
            },
            "type": "carpet"
           }
          ],
          "choropleth": [
           {
            "colorbar": {
             "outlinewidth": 0,
             "ticks": ""
            },
            "type": "choropleth"
           }
          ],
          "contour": [
           {
            "colorbar": {
             "outlinewidth": 0,
             "ticks": ""
            },
            "colorscale": [
             [
              0,
              "#0d0887"
             ],
             [
              0.1111111111111111,
              "#46039f"
             ],
             [
              0.2222222222222222,
              "#7201a8"
             ],
             [
              0.3333333333333333,
              "#9c179e"
             ],
             [
              0.4444444444444444,
              "#bd3786"
             ],
             [
              0.5555555555555556,
              "#d8576b"
             ],
             [
              0.6666666666666666,
              "#ed7953"
             ],
             [
              0.7777777777777778,
              "#fb9f3a"
             ],
             [
              0.8888888888888888,
              "#fdca26"
             ],
             [
              1,
              "#f0f921"
             ]
            ],
            "type": "contour"
           }
          ],
          "contourcarpet": [
           {
            "colorbar": {
             "outlinewidth": 0,
             "ticks": ""
            },
            "type": "contourcarpet"
           }
          ],
          "heatmap": [
           {
            "colorbar": {
             "outlinewidth": 0,
             "ticks": ""
            },
            "colorscale": [
             [
              0,
              "#0d0887"
             ],
             [
              0.1111111111111111,
              "#46039f"
             ],
             [
              0.2222222222222222,
              "#7201a8"
             ],
             [
              0.3333333333333333,
              "#9c179e"
             ],
             [
              0.4444444444444444,
              "#bd3786"
             ],
             [
              0.5555555555555556,
              "#d8576b"
             ],
             [
              0.6666666666666666,
              "#ed7953"
             ],
             [
              0.7777777777777778,
              "#fb9f3a"
             ],
             [
              0.8888888888888888,
              "#fdca26"
             ],
             [
              1,
              "#f0f921"
             ]
            ],
            "type": "heatmap"
           }
          ],
          "heatmapgl": [
           {
            "colorbar": {
             "outlinewidth": 0,
             "ticks": ""
            },
            "colorscale": [
             [
              0,
              "#0d0887"
             ],
             [
              0.1111111111111111,
              "#46039f"
             ],
             [
              0.2222222222222222,
              "#7201a8"
             ],
             [
              0.3333333333333333,
              "#9c179e"
             ],
             [
              0.4444444444444444,
              "#bd3786"
             ],
             [
              0.5555555555555556,
              "#d8576b"
             ],
             [
              0.6666666666666666,
              "#ed7953"
             ],
             [
              0.7777777777777778,
              "#fb9f3a"
             ],
             [
              0.8888888888888888,
              "#fdca26"
             ],
             [
              1,
              "#f0f921"
             ]
            ],
            "type": "heatmapgl"
           }
          ],
          "histogram": [
           {
            "marker": {
             "pattern": {
              "fillmode": "overlay",
              "size": 10,
              "solidity": 0.2
             }
            },
            "type": "histogram"
           }
          ],
          "histogram2d": [
           {
            "colorbar": {
             "outlinewidth": 0,
             "ticks": ""
            },
            "colorscale": [
             [
              0,
              "#0d0887"
             ],
             [
              0.1111111111111111,
              "#46039f"
             ],
             [
              0.2222222222222222,
              "#7201a8"
             ],
             [
              0.3333333333333333,
              "#9c179e"
             ],
             [
              0.4444444444444444,
              "#bd3786"
             ],
             [
              0.5555555555555556,
              "#d8576b"
             ],
             [
              0.6666666666666666,
              "#ed7953"
             ],
             [
              0.7777777777777778,
              "#fb9f3a"
             ],
             [
              0.8888888888888888,
              "#fdca26"
             ],
             [
              1,
              "#f0f921"
             ]
            ],
            "type": "histogram2d"
           }
          ],
          "histogram2dcontour": [
           {
            "colorbar": {
             "outlinewidth": 0,
             "ticks": ""
            },
            "colorscale": [
             [
              0,
              "#0d0887"
             ],
             [
              0.1111111111111111,
              "#46039f"
             ],
             [
              0.2222222222222222,
              "#7201a8"
             ],
             [
              0.3333333333333333,
              "#9c179e"
             ],
             [
              0.4444444444444444,
              "#bd3786"
             ],
             [
              0.5555555555555556,
              "#d8576b"
             ],
             [
              0.6666666666666666,
              "#ed7953"
             ],
             [
              0.7777777777777778,
              "#fb9f3a"
             ],
             [
              0.8888888888888888,
              "#fdca26"
             ],
             [
              1,
              "#f0f921"
             ]
            ],
            "type": "histogram2dcontour"
           }
          ],
          "mesh3d": [
           {
            "colorbar": {
             "outlinewidth": 0,
             "ticks": ""
            },
            "type": "mesh3d"
           }
          ],
          "parcoords": [
           {
            "line": {
             "colorbar": {
              "outlinewidth": 0,
              "ticks": ""
             }
            },
            "type": "parcoords"
           }
          ],
          "pie": [
           {
            "automargin": true,
            "type": "pie"
           }
          ],
          "scatter": [
           {
            "marker": {
             "colorbar": {
              "outlinewidth": 0,
              "ticks": ""
             }
            },
            "type": "scatter"
           }
          ],
          "scatter3d": [
           {
            "line": {
             "colorbar": {
              "outlinewidth": 0,
              "ticks": ""
             }
            },
            "marker": {
             "colorbar": {
              "outlinewidth": 0,
              "ticks": ""
             }
            },
            "type": "scatter3d"
           }
          ],
          "scattercarpet": [
           {
            "marker": {
             "colorbar": {
              "outlinewidth": 0,
              "ticks": ""
             }
            },
            "type": "scattercarpet"
           }
          ],
          "scattergeo": [
           {
            "marker": {
             "colorbar": {
              "outlinewidth": 0,
              "ticks": ""
             }
            },
            "type": "scattergeo"
           }
          ],
          "scattergl": [
           {
            "marker": {
             "colorbar": {
              "outlinewidth": 0,
              "ticks": ""
             }
            },
            "type": "scattergl"
           }
          ],
          "scattermapbox": [
           {
            "marker": {
             "colorbar": {
              "outlinewidth": 0,
              "ticks": ""
             }
            },
            "type": "scattermapbox"
           }
          ],
          "scatterpolar": [
           {
            "marker": {
             "colorbar": {
              "outlinewidth": 0,
              "ticks": ""
             }
            },
            "type": "scatterpolar"
           }
          ],
          "scatterpolargl": [
           {
            "marker": {
             "colorbar": {
              "outlinewidth": 0,
              "ticks": ""
             }
            },
            "type": "scatterpolargl"
           }
          ],
          "scatterternary": [
           {
            "marker": {
             "colorbar": {
              "outlinewidth": 0,
              "ticks": ""
             }
            },
            "type": "scatterternary"
           }
          ],
          "surface": [
           {
            "colorbar": {
             "outlinewidth": 0,
             "ticks": ""
            },
            "colorscale": [
             [
              0,
              "#0d0887"
             ],
             [
              0.1111111111111111,
              "#46039f"
             ],
             [
              0.2222222222222222,
              "#7201a8"
             ],
             [
              0.3333333333333333,
              "#9c179e"
             ],
             [
              0.4444444444444444,
              "#bd3786"
             ],
             [
              0.5555555555555556,
              "#d8576b"
             ],
             [
              0.6666666666666666,
              "#ed7953"
             ],
             [
              0.7777777777777778,
              "#fb9f3a"
             ],
             [
              0.8888888888888888,
              "#fdca26"
             ],
             [
              1,
              "#f0f921"
             ]
            ],
            "type": "surface"
           }
          ],
          "table": [
           {
            "cells": {
             "fill": {
              "color": "#EBF0F8"
             },
             "line": {
              "color": "white"
             }
            },
            "header": {
             "fill": {
              "color": "#C8D4E3"
             },
             "line": {
              "color": "white"
             }
            },
            "type": "table"
           }
          ]
         },
         "layout": {
          "annotationdefaults": {
           "arrowcolor": "#2a3f5f",
           "arrowhead": 0,
           "arrowwidth": 1
          },
          "autotypenumbers": "strict",
          "coloraxis": {
           "colorbar": {
            "outlinewidth": 0,
            "ticks": ""
           }
          },
          "colorscale": {
           "diverging": [
            [
             0,
             "#8e0152"
            ],
            [
             0.1,
             "#c51b7d"
            ],
            [
             0.2,
             "#de77ae"
            ],
            [
             0.3,
             "#f1b6da"
            ],
            [
             0.4,
             "#fde0ef"
            ],
            [
             0.5,
             "#f7f7f7"
            ],
            [
             0.6,
             "#e6f5d0"
            ],
            [
             0.7,
             "#b8e186"
            ],
            [
             0.8,
             "#7fbc41"
            ],
            [
             0.9,
             "#4d9221"
            ],
            [
             1,
             "#276419"
            ]
           ],
           "sequential": [
            [
             0,
             "#0d0887"
            ],
            [
             0.1111111111111111,
             "#46039f"
            ],
            [
             0.2222222222222222,
             "#7201a8"
            ],
            [
             0.3333333333333333,
             "#9c179e"
            ],
            [
             0.4444444444444444,
             "#bd3786"
            ],
            [
             0.5555555555555556,
             "#d8576b"
            ],
            [
             0.6666666666666666,
             "#ed7953"
            ],
            [
             0.7777777777777778,
             "#fb9f3a"
            ],
            [
             0.8888888888888888,
             "#fdca26"
            ],
            [
             1,
             "#f0f921"
            ]
           ],
           "sequentialminus": [
            [
             0,
             "#0d0887"
            ],
            [
             0.1111111111111111,
             "#46039f"
            ],
            [
             0.2222222222222222,
             "#7201a8"
            ],
            [
             0.3333333333333333,
             "#9c179e"
            ],
            [
             0.4444444444444444,
             "#bd3786"
            ],
            [
             0.5555555555555556,
             "#d8576b"
            ],
            [
             0.6666666666666666,
             "#ed7953"
            ],
            [
             0.7777777777777778,
             "#fb9f3a"
            ],
            [
             0.8888888888888888,
             "#fdca26"
            ],
            [
             1,
             "#f0f921"
            ]
           ]
          },
          "colorway": [
           "#636efa",
           "#EF553B",
           "#00cc96",
           "#ab63fa",
           "#FFA15A",
           "#19d3f3",
           "#FF6692",
           "#B6E880",
           "#FF97FF",
           "#FECB52"
          ],
          "font": {
           "color": "#2a3f5f"
          },
          "geo": {
           "bgcolor": "white",
           "lakecolor": "white",
           "landcolor": "#E5ECF6",
           "showlakes": true,
           "showland": true,
           "subunitcolor": "white"
          },
          "hoverlabel": {
           "align": "left"
          },
          "hovermode": "closest",
          "mapbox": {
           "style": "light"
          },
          "paper_bgcolor": "white",
          "plot_bgcolor": "#E5ECF6",
          "polar": {
           "angularaxis": {
            "gridcolor": "white",
            "linecolor": "white",
            "ticks": ""
           },
           "bgcolor": "#E5ECF6",
           "radialaxis": {
            "gridcolor": "white",
            "linecolor": "white",
            "ticks": ""
           }
          },
          "scene": {
           "xaxis": {
            "backgroundcolor": "#E5ECF6",
            "gridcolor": "white",
            "gridwidth": 2,
            "linecolor": "white",
            "showbackground": true,
            "ticks": "",
            "zerolinecolor": "white"
           },
           "yaxis": {
            "backgroundcolor": "#E5ECF6",
            "gridcolor": "white",
            "gridwidth": 2,
            "linecolor": "white",
            "showbackground": true,
            "ticks": "",
            "zerolinecolor": "white"
           },
           "zaxis": {
            "backgroundcolor": "#E5ECF6",
            "gridcolor": "white",
            "gridwidth": 2,
            "linecolor": "white",
            "showbackground": true,
            "ticks": "",
            "zerolinecolor": "white"
           }
          },
          "shapedefaults": {
           "line": {
            "color": "#2a3f5f"
           }
          },
          "ternary": {
           "aaxis": {
            "gridcolor": "white",
            "linecolor": "white",
            "ticks": ""
           },
           "baxis": {
            "gridcolor": "white",
            "linecolor": "white",
            "ticks": ""
           },
           "bgcolor": "#E5ECF6",
           "caxis": {
            "gridcolor": "white",
            "linecolor": "white",
            "ticks": ""
           }
          },
          "title": {
           "x": 0.05
          },
          "xaxis": {
           "automargin": true,
           "gridcolor": "white",
           "linecolor": "white",
           "ticks": "",
           "title": {
            "standoff": 15
           },
           "zerolinecolor": "white",
           "zerolinewidth": 2
          },
          "yaxis": {
           "automargin": true,
           "gridcolor": "white",
           "linecolor": "white",
           "ticks": "",
           "title": {
            "standoff": 15
           },
           "zerolinecolor": "white",
           "zerolinewidth": 2
          }
         }
        }
       }
      },
      "text/html": [
       "<div>                            <div id=\"ab041238-6524-42a2-8a07-58b8e79741c9\" class=\"plotly-graph-div\" style=\"height:525px; width:100%;\"></div>            <script type=\"text/javascript\">                require([\"plotly\"], function(Plotly) {                    window.PLOTLYENV=window.PLOTLYENV || {};                                    if (document.getElementById(\"ab041238-6524-42a2-8a07-58b8e79741c9\")) {                    Plotly.newPlot(                        \"ab041238-6524-42a2-8a07-58b8e79741c9\",                        [{\"labels\":[\"CA Total\",\"CA Outliers\"],\"pull\":[0,0.2],\"values\":[70568.6,6884.4],\"type\":\"pie\"}],                        {\"template\":{\"data\":{\"bar\":[{\"error_x\":{\"color\":\"#2a3f5f\"},\"error_y\":{\"color\":\"#2a3f5f\"},\"marker\":{\"line\":{\"color\":\"#E5ECF6\",\"width\":0.5},\"pattern\":{\"fillmode\":\"overlay\",\"size\":10,\"solidity\":0.2}},\"type\":\"bar\"}],\"barpolar\":[{\"marker\":{\"line\":{\"color\":\"#E5ECF6\",\"width\":0.5},\"pattern\":{\"fillmode\":\"overlay\",\"size\":10,\"solidity\":0.2}},\"type\":\"barpolar\"}],\"carpet\":[{\"aaxis\":{\"endlinecolor\":\"#2a3f5f\",\"gridcolor\":\"white\",\"linecolor\":\"white\",\"minorgridcolor\":\"white\",\"startlinecolor\":\"#2a3f5f\"},\"baxis\":{\"endlinecolor\":\"#2a3f5f\",\"gridcolor\":\"white\",\"linecolor\":\"white\",\"minorgridcolor\":\"white\",\"startlinecolor\":\"#2a3f5f\"},\"type\":\"carpet\"}],\"choropleth\":[{\"colorbar\":{\"outlinewidth\":0,\"ticks\":\"\"},\"type\":\"choropleth\"}],\"contour\":[{\"colorbar\":{\"outlinewidth\":0,\"ticks\":\"\"},\"colorscale\":[[0.0,\"#0d0887\"],[0.1111111111111111,\"#46039f\"],[0.2222222222222222,\"#7201a8\"],[0.3333333333333333,\"#9c179e\"],[0.4444444444444444,\"#bd3786\"],[0.5555555555555556,\"#d8576b\"],[0.6666666666666666,\"#ed7953\"],[0.7777777777777778,\"#fb9f3a\"],[0.8888888888888888,\"#fdca26\"],[1.0,\"#f0f921\"]],\"type\":\"contour\"}],\"contourcarpet\":[{\"colorbar\":{\"outlinewidth\":0,\"ticks\":\"\"},\"type\":\"contourcarpet\"}],\"heatmap\":[{\"colorbar\":{\"outlinewidth\":0,\"ticks\":\"\"},\"colorscale\":[[0.0,\"#0d0887\"],[0.1111111111111111,\"#46039f\"],[0.2222222222222222,\"#7201a8\"],[0.3333333333333333,\"#9c179e\"],[0.4444444444444444,\"#bd3786\"],[0.5555555555555556,\"#d8576b\"],[0.6666666666666666,\"#ed7953\"],[0.7777777777777778,\"#fb9f3a\"],[0.8888888888888888,\"#fdca26\"],[1.0,\"#f0f921\"]],\"type\":\"heatmap\"}],\"heatmapgl\":[{\"colorbar\":{\"outlinewidth\":0,\"ticks\":\"\"},\"colorscale\":[[0.0,\"#0d0887\"],[0.1111111111111111,\"#46039f\"],[0.2222222222222222,\"#7201a8\"],[0.3333333333333333,\"#9c179e\"],[0.4444444444444444,\"#bd3786\"],[0.5555555555555556,\"#d8576b\"],[0.6666666666666666,\"#ed7953\"],[0.7777777777777778,\"#fb9f3a\"],[0.8888888888888888,\"#fdca26\"],[1.0,\"#f0f921\"]],\"type\":\"heatmapgl\"}],\"histogram\":[{\"marker\":{\"pattern\":{\"fillmode\":\"overlay\",\"size\":10,\"solidity\":0.2}},\"type\":\"histogram\"}],\"histogram2d\":[{\"colorbar\":{\"outlinewidth\":0,\"ticks\":\"\"},\"colorscale\":[[0.0,\"#0d0887\"],[0.1111111111111111,\"#46039f\"],[0.2222222222222222,\"#7201a8\"],[0.3333333333333333,\"#9c179e\"],[0.4444444444444444,\"#bd3786\"],[0.5555555555555556,\"#d8576b\"],[0.6666666666666666,\"#ed7953\"],[0.7777777777777778,\"#fb9f3a\"],[0.8888888888888888,\"#fdca26\"],[1.0,\"#f0f921\"]],\"type\":\"histogram2d\"}],\"histogram2dcontour\":[{\"colorbar\":{\"outlinewidth\":0,\"ticks\":\"\"},\"colorscale\":[[0.0,\"#0d0887\"],[0.1111111111111111,\"#46039f\"],[0.2222222222222222,\"#7201a8\"],[0.3333333333333333,\"#9c179e\"],[0.4444444444444444,\"#bd3786\"],[0.5555555555555556,\"#d8576b\"],[0.6666666666666666,\"#ed7953\"],[0.7777777777777778,\"#fb9f3a\"],[0.8888888888888888,\"#fdca26\"],[1.0,\"#f0f921\"]],\"type\":\"histogram2dcontour\"}],\"mesh3d\":[{\"colorbar\":{\"outlinewidth\":0,\"ticks\":\"\"},\"type\":\"mesh3d\"}],\"parcoords\":[{\"line\":{\"colorbar\":{\"outlinewidth\":0,\"ticks\":\"\"}},\"type\":\"parcoords\"}],\"pie\":[{\"automargin\":true,\"type\":\"pie\"}],\"scatter\":[{\"marker\":{\"colorbar\":{\"outlinewidth\":0,\"ticks\":\"\"}},\"type\":\"scatter\"}],\"scatter3d\":[{\"line\":{\"colorbar\":{\"outlinewidth\":0,\"ticks\":\"\"}},\"marker\":{\"colorbar\":{\"outlinewidth\":0,\"ticks\":\"\"}},\"type\":\"scatter3d\"}],\"scattercarpet\":[{\"marker\":{\"colorbar\":{\"outlinewidth\":0,\"ticks\":\"\"}},\"type\":\"scattercarpet\"}],\"scattergeo\":[{\"marker\":{\"colorbar\":{\"outlinewidth\":0,\"ticks\":\"\"}},\"type\":\"scattergeo\"}],\"scattergl\":[{\"marker\":{\"colorbar\":{\"outlinewidth\":0,\"ticks\":\"\"}},\"type\":\"scattergl\"}],\"scattermapbox\":[{\"marker\":{\"colorbar\":{\"outlinewidth\":0,\"ticks\":\"\"}},\"type\":\"scattermapbox\"}],\"scatterpolar\":[{\"marker\":{\"colorbar\":{\"outlinewidth\":0,\"ticks\":\"\"}},\"type\":\"scatterpolar\"}],\"scatterpolargl\":[{\"marker\":{\"colorbar\":{\"outlinewidth\":0,\"ticks\":\"\"}},\"type\":\"scatterpolargl\"}],\"scatterternary\":[{\"marker\":{\"colorbar\":{\"outlinewidth\":0,\"ticks\":\"\"}},\"type\":\"scatterternary\"}],\"surface\":[{\"colorbar\":{\"outlinewidth\":0,\"ticks\":\"\"},\"colorscale\":[[0.0,\"#0d0887\"],[0.1111111111111111,\"#46039f\"],[0.2222222222222222,\"#7201a8\"],[0.3333333333333333,\"#9c179e\"],[0.4444444444444444,\"#bd3786\"],[0.5555555555555556,\"#d8576b\"],[0.6666666666666666,\"#ed7953\"],[0.7777777777777778,\"#fb9f3a\"],[0.8888888888888888,\"#fdca26\"],[1.0,\"#f0f921\"]],\"type\":\"surface\"}],\"table\":[{\"cells\":{\"fill\":{\"color\":\"#EBF0F8\"},\"line\":{\"color\":\"white\"}},\"header\":{\"fill\":{\"color\":\"#C8D4E3\"},\"line\":{\"color\":\"white\"}},\"type\":\"table\"}]},\"layout\":{\"annotationdefaults\":{\"arrowcolor\":\"#2a3f5f\",\"arrowhead\":0,\"arrowwidth\":1},\"autotypenumbers\":\"strict\",\"coloraxis\":{\"colorbar\":{\"outlinewidth\":0,\"ticks\":\"\"}},\"colorscale\":{\"diverging\":[[0,\"#8e0152\"],[0.1,\"#c51b7d\"],[0.2,\"#de77ae\"],[0.3,\"#f1b6da\"],[0.4,\"#fde0ef\"],[0.5,\"#f7f7f7\"],[0.6,\"#e6f5d0\"],[0.7,\"#b8e186\"],[0.8,\"#7fbc41\"],[0.9,\"#4d9221\"],[1,\"#276419\"]],\"sequential\":[[0.0,\"#0d0887\"],[0.1111111111111111,\"#46039f\"],[0.2222222222222222,\"#7201a8\"],[0.3333333333333333,\"#9c179e\"],[0.4444444444444444,\"#bd3786\"],[0.5555555555555556,\"#d8576b\"],[0.6666666666666666,\"#ed7953\"],[0.7777777777777778,\"#fb9f3a\"],[0.8888888888888888,\"#fdca26\"],[1.0,\"#f0f921\"]],\"sequentialminus\":[[0.0,\"#0d0887\"],[0.1111111111111111,\"#46039f\"],[0.2222222222222222,\"#7201a8\"],[0.3333333333333333,\"#9c179e\"],[0.4444444444444444,\"#bd3786\"],[0.5555555555555556,\"#d8576b\"],[0.6666666666666666,\"#ed7953\"],[0.7777777777777778,\"#fb9f3a\"],[0.8888888888888888,\"#fdca26\"],[1.0,\"#f0f921\"]]},\"colorway\":[\"#636efa\",\"#EF553B\",\"#00cc96\",\"#ab63fa\",\"#FFA15A\",\"#19d3f3\",\"#FF6692\",\"#B6E880\",\"#FF97FF\",\"#FECB52\"],\"font\":{\"color\":\"#2a3f5f\"},\"geo\":{\"bgcolor\":\"white\",\"lakecolor\":\"white\",\"landcolor\":\"#E5ECF6\",\"showlakes\":true,\"showland\":true,\"subunitcolor\":\"white\"},\"hoverlabel\":{\"align\":\"left\"},\"hovermode\":\"closest\",\"mapbox\":{\"style\":\"light\"},\"paper_bgcolor\":\"white\",\"plot_bgcolor\":\"#E5ECF6\",\"polar\":{\"angularaxis\":{\"gridcolor\":\"white\",\"linecolor\":\"white\",\"ticks\":\"\"},\"bgcolor\":\"#E5ECF6\",\"radialaxis\":{\"gridcolor\":\"white\",\"linecolor\":\"white\",\"ticks\":\"\"}},\"scene\":{\"xaxis\":{\"backgroundcolor\":\"#E5ECF6\",\"gridcolor\":\"white\",\"gridwidth\":2,\"linecolor\":\"white\",\"showbackground\":true,\"ticks\":\"\",\"zerolinecolor\":\"white\"},\"yaxis\":{\"backgroundcolor\":\"#E5ECF6\",\"gridcolor\":\"white\",\"gridwidth\":2,\"linecolor\":\"white\",\"showbackground\":true,\"ticks\":\"\",\"zerolinecolor\":\"white\"},\"zaxis\":{\"backgroundcolor\":\"#E5ECF6\",\"gridcolor\":\"white\",\"gridwidth\":2,\"linecolor\":\"white\",\"showbackground\":true,\"ticks\":\"\",\"zerolinecolor\":\"white\"}},\"shapedefaults\":{\"line\":{\"color\":\"#2a3f5f\"}},\"ternary\":{\"aaxis\":{\"gridcolor\":\"white\",\"linecolor\":\"white\",\"ticks\":\"\"},\"baxis\":{\"gridcolor\":\"white\",\"linecolor\":\"white\",\"ticks\":\"\"},\"bgcolor\":\"#E5ECF6\",\"caxis\":{\"gridcolor\":\"white\",\"linecolor\":\"white\",\"ticks\":\"\"}},\"title\":{\"x\":0.05},\"xaxis\":{\"automargin\":true,\"gridcolor\":\"white\",\"linecolor\":\"white\",\"ticks\":\"\",\"title\":{\"standoff\":15},\"zerolinecolor\":\"white\",\"zerolinewidth\":2},\"yaxis\":{\"automargin\":true,\"gridcolor\":\"white\",\"linecolor\":\"white\",\"ticks\":\"\",\"title\":{\"standoff\":15},\"zerolinecolor\":\"white\",\"zerolinewidth\":2}}}},                        {\"responsive\": true}                    ).then(function(){\n",
       "                            \n",
       "var gd = document.getElementById('ab041238-6524-42a2-8a07-58b8e79741c9');\n",
       "var x = new MutationObserver(function (mutations, observer) {{\n",
       "        var display = window.getComputedStyle(gd).display;\n",
       "        if (!display || display === 'none') {{\n",
       "            console.log([gd, 'removed!']);\n",
       "            Plotly.purge(gd);\n",
       "            observer.disconnect();\n",
       "        }}\n",
       "}});\n",
       "\n",
       "// Listen for the removal of the full notebook cells\n",
       "var notebookContainer = gd.closest('#notebook-container');\n",
       "if (notebookContainer) {{\n",
       "    x.observe(notebookContainer, {childList: true});\n",
       "}}\n",
       "\n",
       "// Listen for the clearing of the current output cell\n",
       "var outputEl = gd.closest('.output');\n",
       "if (outputEl) {{\n",
       "    x.observe(outputEl, {childList: true});\n",
       "}}\n",
       "\n",
       "                        })                };                });            </script>        </div>"
      ]
     },
     "metadata": {},
     "output_type": "display_data"
    }
   ],
   "source": [
    "# calcul du CA total des outliers : \n",
    "CA_out = liste_out[\"CA\"].sum()\n",
    "print('Le CA total des outliers : ', f'{CA_out:,.2f}', '€')\n",
    "\n",
    "# représentation graphique sous forme de camembert \n",
    "CA = [CA_tot, CA_out]\n",
    "colors = ['blue', 'red']\n",
    "fig = go.Figure(data=[go.Pie(labels=['CA Total', 'CA Outliers'], \n",
    "                             pull=[0, 0.2],\n",
    "                            values=[CA[0],CA[1]])])\n",
    "fig\n"
   ]
  },
  {
   "cell_type": "markdown",
   "id": "8e8250ce",
   "metadata": {},
   "source": [
    "#### CA total sans les outliers"
   ]
  },
  {
   "cell_type": "code",
   "execution_count": 37,
   "id": "28d015f0",
   "metadata": {},
   "outputs": [
    {
     "name": "stdout",
     "output_type": "stream",
     "text": [
      "Le CA total sans les outliers :  63,684.20 €\n"
     ]
    }
   ],
   "source": [
    "CA_no_out = CA_tot - CA_out\n",
    "print('Le CA total sans les outliers : ', f'{CA_no_out:,.2f}', '€')"
   ]
  }
 ],
 "metadata": {
  "kernelspec": {
   "display_name": "Python 3 (ipykernel)",
   "language": "python",
   "name": "python3"
  },
  "language_info": {
   "codemirror_mode": {
    "name": "ipython",
    "version": 3
   },
   "file_extension": ".py",
   "mimetype": "text/x-python",
   "name": "python",
   "nbconvert_exporter": "python",
   "pygments_lexer": "ipython3",
   "version": "3.9.7"
  },
  "toc": {
   "base_numbering": 1,
   "nav_menu": {},
   "number_sections": true,
   "sideBar": true,
   "skip_h1_title": true,
   "title_cell": "Table of Contents",
   "title_sidebar": "Contents",
   "toc_cell": false,
   "toc_position": {
    "height": "calc(100% - 180px)",
    "left": "10px",
    "top": "150px",
    "width": "382px"
   },
   "toc_section_display": true,
   "toc_window_display": false
  },
  "varInspector": {
   "cols": {
    "lenName": 16,
    "lenType": 16,
    "lenVar": 40
   },
   "kernels_config": {
    "python": {
     "delete_cmd_postfix": "",
     "delete_cmd_prefix": "del ",
     "library": "var_list.py",
     "varRefreshCmd": "print(var_dic_list())"
    },
    "r": {
     "delete_cmd_postfix": ") ",
     "delete_cmd_prefix": "rm(",
     "library": "var_list.r",
     "varRefreshCmd": "cat(var_dic_list()) "
    }
   },
   "oldHeight": 219.844,
   "position": {
    "height": "555.844px",
    "left": "1556px",
    "right": "20px",
    "top": "120px",
    "width": "343px"
   },
   "types_to_exclude": [
    "module",
    "function",
    "builtin_function_or_method",
    "instance",
    "_Feature"
   ],
   "varInspector_section_display": "block",
   "window_display": true
  }
 },
 "nbformat": 4,
 "nbformat_minor": 5
}
