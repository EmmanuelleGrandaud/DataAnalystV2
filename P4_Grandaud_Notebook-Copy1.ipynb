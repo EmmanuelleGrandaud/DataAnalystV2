{
 "cells": [
  {
   "attachments": {
    "logo%20fao.png": {
     "image/png": "[encoded data removed]"
    }
   },
   "cell_type": "markdown",
   "id": "9ab03ec6",
   "metadata": {},
   "source": [
    "![logo%20fao.png](attachment:logo%20fao.png)\n",
    "\n",
    "\n",
    "# <center> PANORAMA DE L'ETAT DE LA MALNUTRITION DANS LE MONDE </center>"
   ]
  },
  {
   "cell_type": "markdown",
   "id": "7d1b199a",
   "metadata": {},
   "source": [
    "## Data"
   ]
  },
  {
   "cell_type": "markdown",
   "id": "083ce87a",
   "metadata": {},
   "source": [
    "**Importation et inspection des data**"
   ]
  },
  {
   "cell_type": "code",
   "execution_count": 118,
   "id": "08a9fc63",
   "metadata": {
    "jupyter": {
     "source_hidden": true
    },
    "tags": []
   },
   "outputs": [
    {
     "data": {
      "text/html": [
       "        <script type=\"text/javascript\">\n",
       "        window.PlotlyConfig = {MathJaxConfig: 'local'};\n",
       "        if (window.MathJax) {MathJax.Hub.Config({SVG: {font: \"STIX-Web\"}});}\n",
       "        if (typeof require !== 'undefined') {\n",
       "        require.undef(\"plotly\");\n",
       "        requirejs.config({\n",
       "            paths: {\n",
       "                'plotly': ['https://cdn.plot.ly/plotly-2.9.0.min']\n",
       "            }\n",
       "        });\n",
       "        require(['plotly'], function(Plotly) {\n",
       "            window._Plotly = Plotly;\n",
       "        });\n",
       "        }\n",
       "        </script>\n",
       "        "
      ]
     },
     "metadata": {},
     "output_type": "display_data"
    },
    {
     "data": {
      "text/html": [
       "        <script type=\"text/javascript\">\n",
       "        window.PlotlyConfig = {MathJaxConfig: 'local'};\n",
       "        if (window.MathJax) {MathJax.Hub.Config({SVG: {font: \"STIX-Web\"}});}\n",
       "        if (typeof require !== 'undefined') {\n",
       "        require.undef(\"plotly\");\n",
       "        requirejs.config({\n",
       "            paths: {\n",
       "                'plotly': ['https://cdn.plot.ly/plotly-2.9.0.min']\n",
       "            }\n",
       "        });\n",
       "        require(['plotly'], function(Plotly) {\n",
       "            window._Plotly = Plotly;\n",
       "        });\n",
       "        }\n",
       "        </script>\n",
       "        "
      ]
     },
     "metadata": {},
     "output_type": "display_data"
    }
   ],
   "source": [
    "import pandas as pd\n",
    "import seaborn as sns\n",
    "import matplotlib.pyplot as plt\n",
    "import numpy as np\n",
    "import plotly.express as px\n",
    "import chart_studio.plotly as py\n",
    "import cufflinks as cf\n",
    "%matplotlib inline\n",
    "\n",
    "# Make Plotly work in your Jupyter Notebook\n",
    "from plotly.offline import download_plotlyjs, init_notebook_mode, plot, iplot\n",
    "init_notebook_mode(connected=True)\n",
    "# Use Plotly locally\n",
    "cf.go_offline()\n",
    "\n",
    "# Allows us to create graph objects for making more customized plots\n",
    "import plotly.graph_objects as go"
   ]
  },
  {
   "cell_type": "markdown",
   "id": "f1e8604f",
   "metadata": {},
   "source": [
    "### Importation des fichiers de données"
   ]
  },
  {
   "cell_type": "code",
   "execution_count": 136,
   "id": "e99e4184",
   "metadata": {
    "jupyter": {
     "source_hidden": true
    }
   },
   "outputs": [
    {
     "name": "stdout",
     "output_type": "stream",
     "text": [
      "Un fichier de disponibilité alimentaire pour l’année 2017 qui contient 17 variables : \n",
      "Le pays, le produit, l'origine du produit, 4 variables de disponibilité alimentaire et 10 variables relatives à la disponibilité intérieure\n"
     ]
    },
    {
     "data": {
      "text/html": [
       "<div>\n",
       "<style scoped>\n",
       "    .dataframe tbody tr th:only-of-type {\n",
       "        vertical-align: middle;\n",
       "    }\n",
       "\n",
       "    .dataframe tbody tr th {\n",
       "        vertical-align: top;\n",
       "    }\n",
       "\n",
       "    .dataframe thead th {\n",
       "        text-align: right;\n",
       "    }\n",
       "</style>\n",
       "<table border=\"1\" class=\"dataframe\">\n",
       "  <thead>\n",
       "    <tr style=\"text-align: right;\">\n",
       "      <th></th>\n",
       "      <th>Zone</th>\n",
       "      <th>Produit</th>\n",
       "      <th>Origine</th>\n",
       "      <th>Aliments pour animaux</th>\n",
       "      <th>Autres Utilisations</th>\n",
       "      <th>Disponibilité alimentaire (Kcal/personne/jour)</th>\n",
       "      <th>Disponibilité alimentaire en quantité (kg/personne/an)</th>\n",
       "      <th>Disponibilité de matière grasse en quantité (g/personne/jour)</th>\n",
       "      <th>Disponibilité de protéines en quantité (g/personne/jour)</th>\n",
       "      <th>Disponibilité intérieure</th>\n",
       "      <th>Exportations - Quantité</th>\n",
       "      <th>Importations - Quantité</th>\n",
       "      <th>Nourriture</th>\n",
       "      <th>Pertes</th>\n",
       "      <th>Production</th>\n",
       "      <th>Semences</th>\n",
       "      <th>Traitement</th>\n",
       "      <th>Variation de stock</th>\n",
       "    </tr>\n",
       "  </thead>\n",
       "  <tbody>\n",
       "    <tr>\n",
       "      <th>0</th>\n",
       "      <td>Afghanistan</td>\n",
       "      <td>Abats Comestible</td>\n",
       "      <td>animale</td>\n",
       "      <td>NaN</td>\n",
       "      <td>NaN</td>\n",
       "      <td>5.0</td>\n",
       "      <td>1.72</td>\n",
       "      <td>0.20</td>\n",
       "      <td>0.77</td>\n",
       "      <td>53.0</td>\n",
       "      <td>NaN</td>\n",
       "      <td>NaN</td>\n",
       "      <td>53.0</td>\n",
       "      <td>NaN</td>\n",
       "      <td>53.0</td>\n",
       "      <td>NaN</td>\n",
       "      <td>NaN</td>\n",
       "      <td>NaN</td>\n",
       "    </tr>\n",
       "    <tr>\n",
       "      <th>1</th>\n",
       "      <td>Afghanistan</td>\n",
       "      <td>Agrumes, Autres</td>\n",
       "      <td>vegetale</td>\n",
       "      <td>NaN</td>\n",
       "      <td>NaN</td>\n",
       "      <td>1.0</td>\n",
       "      <td>1.29</td>\n",
       "      <td>0.01</td>\n",
       "      <td>0.02</td>\n",
       "      <td>41.0</td>\n",
       "      <td>2.0</td>\n",
       "      <td>40.0</td>\n",
       "      <td>39.0</td>\n",
       "      <td>2.0</td>\n",
       "      <td>3.0</td>\n",
       "      <td>NaN</td>\n",
       "      <td>NaN</td>\n",
       "      <td>NaN</td>\n",
       "    </tr>\n",
       "    <tr>\n",
       "      <th>2</th>\n",
       "      <td>Afghanistan</td>\n",
       "      <td>Aliments pour enfants</td>\n",
       "      <td>vegetale</td>\n",
       "      <td>NaN</td>\n",
       "      <td>NaN</td>\n",
       "      <td>1.0</td>\n",
       "      <td>0.06</td>\n",
       "      <td>0.01</td>\n",
       "      <td>0.03</td>\n",
       "      <td>2.0</td>\n",
       "      <td>NaN</td>\n",
       "      <td>2.0</td>\n",
       "      <td>2.0</td>\n",
       "      <td>NaN</td>\n",
       "      <td>NaN</td>\n",
       "      <td>NaN</td>\n",
       "      <td>NaN</td>\n",
       "      <td>NaN</td>\n",
       "    </tr>\n",
       "    <tr>\n",
       "      <th>3</th>\n",
       "      <td>Afghanistan</td>\n",
       "      <td>Ananas</td>\n",
       "      <td>vegetale</td>\n",
       "      <td>NaN</td>\n",
       "      <td>NaN</td>\n",
       "      <td>0.0</td>\n",
       "      <td>0.00</td>\n",
       "      <td>NaN</td>\n",
       "      <td>NaN</td>\n",
       "      <td>0.0</td>\n",
       "      <td>NaN</td>\n",
       "      <td>0.0</td>\n",
       "      <td>0.0</td>\n",
       "      <td>NaN</td>\n",
       "      <td>NaN</td>\n",
       "      <td>NaN</td>\n",
       "      <td>NaN</td>\n",
       "      <td>NaN</td>\n",
       "    </tr>\n",
       "    <tr>\n",
       "      <th>4</th>\n",
       "      <td>Afghanistan</td>\n",
       "      <td>Bananes</td>\n",
       "      <td>vegetale</td>\n",
       "      <td>NaN</td>\n",
       "      <td>NaN</td>\n",
       "      <td>4.0</td>\n",
       "      <td>2.70</td>\n",
       "      <td>0.02</td>\n",
       "      <td>0.05</td>\n",
       "      <td>82.0</td>\n",
       "      <td>NaN</td>\n",
       "      <td>82.0</td>\n",
       "      <td>82.0</td>\n",
       "      <td>NaN</td>\n",
       "      <td>NaN</td>\n",
       "      <td>NaN</td>\n",
       "      <td>NaN</td>\n",
       "      <td>NaN</td>\n",
       "    </tr>\n",
       "  </tbody>\n",
       "</table>\n",
       "</div>"
      ],
      "text/plain": [
       "          Zone                Produit   Origine  Aliments pour animaux  \\\n",
       "0  Afghanistan       Abats Comestible   animale                    NaN   \n",
       "1  Afghanistan        Agrumes, Autres  vegetale                    NaN   \n",
       "2  Afghanistan  Aliments pour enfants  vegetale                    NaN   \n",
       "3  Afghanistan                 Ananas  vegetale                    NaN   \n",
       "4  Afghanistan                Bananes  vegetale                    NaN   \n",
       "\n",
       "   Autres Utilisations  Disponibilité alimentaire (Kcal/personne/jour)  \\\n",
       "0                  NaN                                             5.0   \n",
       "1                  NaN                                             1.0   \n",
       "2                  NaN                                             1.0   \n",
       "3                  NaN                                             0.0   \n",
       "4                  NaN                                             4.0   \n",
       "\n",
       "   Disponibilité alimentaire en quantité (kg/personne/an)  \\\n",
       "0                                               1.72        \n",
       "1                                               1.29        \n",
       "2                                               0.06        \n",
       "3                                               0.00        \n",
       "4                                               2.70        \n",
       "\n",
       "   Disponibilité de matière grasse en quantité (g/personne/jour)  \\\n",
       "0                                               0.20               \n",
       "1                                               0.01               \n",
       "2                                               0.01               \n",
       "3                                                NaN               \n",
       "4                                               0.02               \n",
       "\n",
       "   Disponibilité de protéines en quantité (g/personne/jour)  \\\n",
       "0                                               0.77          \n",
       "1                                               0.02          \n",
       "2                                               0.03          \n",
       "3                                                NaN          \n",
       "4                                               0.05          \n",
       "\n",
       "   Disponibilité intérieure  Exportations - Quantité  Importations - Quantité  \\\n",
       "0                      53.0                      NaN                      NaN   \n",
       "1                      41.0                      2.0                     40.0   \n",
       "2                       2.0                      NaN                      2.0   \n",
       "3                       0.0                      NaN                      0.0   \n",
       "4                      82.0                      NaN                     82.0   \n",
       "\n",
       "   Nourriture  Pertes  Production  Semences  Traitement  Variation de stock  \n",
       "0        53.0     NaN        53.0       NaN         NaN                 NaN  \n",
       "1        39.0     2.0         3.0       NaN         NaN                 NaN  \n",
       "2         2.0     NaN         NaN       NaN         NaN                 NaN  \n",
       "3         0.0     NaN         NaN       NaN         NaN                 NaN  \n",
       "4        82.0     NaN         NaN       NaN         NaN                 NaN  "
      ]
     },
     "execution_count": 136,
     "metadata": {},
     "output_type": "execute_result"
    }
   ],
   "source": [
    "dispo = pd.read_csv('dispo_alimentaire.csv')\n",
    "print(\"Un fichier de disponibilité alimentaire pour l’année 2017 qui contient 17 variables : \")\n",
    "print(\"Le pays, le produit, l\\'origine du produit, 4 variables de disponibilité alimentaire et 10 variables relatives à la disponibilité intérieure\")\n",
    "dispo.head()"
   ]
  },
  {
   "cell_type": "code",
   "execution_count": 138,
   "id": "6d5ff7fd",
   "metadata": {
    "jupyter": {
     "source_hidden": true
    }
   },
   "outputs": [
    {
     "name": "stdout",
     "output_type": "stream",
     "text": [
      "Un fichier d'insécurité alimentaire qui contient 3 variables : \n",
      "Le pays, l'année, le nombre de personnes en millions d'habitants\n"
     ]
    },
    {
     "data": {
      "text/html": [
       "<div>\n",
       "<style scoped>\n",
       "    .dataframe tbody tr th:only-of-type {\n",
       "        vertical-align: middle;\n",
       "    }\n",
       "\n",
       "    .dataframe tbody tr th {\n",
       "        vertical-align: top;\n",
       "    }\n",
       "\n",
       "    .dataframe thead th {\n",
       "        text-align: right;\n",
       "    }\n",
       "</style>\n",
       "<table border=\"1\" class=\"dataframe\">\n",
       "  <thead>\n",
       "    <tr style=\"text-align: right;\">\n",
       "      <th></th>\n",
       "      <th>Zone</th>\n",
       "      <th>Année</th>\n",
       "      <th>Valeur</th>\n",
       "    </tr>\n",
       "  </thead>\n",
       "  <tbody>\n",
       "    <tr>\n",
       "      <th>0</th>\n",
       "      <td>Afghanistan</td>\n",
       "      <td>2012-2014</td>\n",
       "      <td>8.6</td>\n",
       "    </tr>\n",
       "    <tr>\n",
       "      <th>1</th>\n",
       "      <td>Afghanistan</td>\n",
       "      <td>2013-2015</td>\n",
       "      <td>8.8</td>\n",
       "    </tr>\n",
       "    <tr>\n",
       "      <th>2</th>\n",
       "      <td>Afghanistan</td>\n",
       "      <td>2014-2016</td>\n",
       "      <td>8.9</td>\n",
       "    </tr>\n",
       "    <tr>\n",
       "      <th>3</th>\n",
       "      <td>Afghanistan</td>\n",
       "      <td>2015-2017</td>\n",
       "      <td>9.7</td>\n",
       "    </tr>\n",
       "    <tr>\n",
       "      <th>4</th>\n",
       "      <td>Afghanistan</td>\n",
       "      <td>2016-2018</td>\n",
       "      <td>10.5</td>\n",
       "    </tr>\n",
       "  </tbody>\n",
       "</table>\n",
       "</div>"
      ],
      "text/plain": [
       "          Zone      Année Valeur\n",
       "0  Afghanistan  2012-2014    8.6\n",
       "1  Afghanistan  2013-2015    8.8\n",
       "2  Afghanistan  2014-2016    8.9\n",
       "3  Afghanistan  2015-2017    9.7\n",
       "4  Afghanistan  2016-2018   10.5"
      ]
     },
     "execution_count": 138,
     "metadata": {},
     "output_type": "execute_result"
    }
   ],
   "source": [
    "# attention : 594 nan dans valeurs => pays non sous-alimentés\n",
    "sousNut = pd.read_csv('sous_nutrition.csv') \n",
    "print(\"Un fichier d'insécurité alimentaire qui contient 3 variables : \")\n",
    "print(\"Le pays, l'année, le nombre de personnes en millions d'habitants\")\n",
    "sousNut.head()"
   ]
  },
  {
   "cell_type": "code",
   "execution_count": 144,
   "id": "efb282d8",
   "metadata": {
    "jupyter": {
     "source_hidden": true
    }
   },
   "outputs": [
    {
     "name": "stdout",
     "output_type": "stream",
     "text": [
      "Un fichier de population qui contient 3 variables : \n",
      "Le pays, l'année, le nombre de personnes en milliers d'habitants\n"
     ]
    },
    {
     "data": {
      "text/html": [
       "<div>\n",
       "<style scoped>\n",
       "    .dataframe tbody tr th:only-of-type {\n",
       "        vertical-align: middle;\n",
       "    }\n",
       "\n",
       "    .dataframe tbody tr th {\n",
       "        vertical-align: top;\n",
       "    }\n",
       "\n",
       "    .dataframe thead th {\n",
       "        text-align: right;\n",
       "    }\n",
       "</style>\n",
       "<table border=\"1\" class=\"dataframe\">\n",
       "  <thead>\n",
       "    <tr style=\"text-align: right;\">\n",
       "      <th></th>\n",
       "      <th>Zone</th>\n",
       "      <th>Année</th>\n",
       "      <th>Valeur</th>\n",
       "    </tr>\n",
       "  </thead>\n",
       "  <tbody>\n",
       "    <tr>\n",
       "      <th>0</th>\n",
       "      <td>Afghanistan</td>\n",
       "      <td>2013</td>\n",
       "      <td>32269.589</td>\n",
       "    </tr>\n",
       "    <tr>\n",
       "      <th>1</th>\n",
       "      <td>Afghanistan</td>\n",
       "      <td>2014</td>\n",
       "      <td>33370.794</td>\n",
       "    </tr>\n",
       "    <tr>\n",
       "      <th>2</th>\n",
       "      <td>Afghanistan</td>\n",
       "      <td>2015</td>\n",
       "      <td>34413.603</td>\n",
       "    </tr>\n",
       "    <tr>\n",
       "      <th>3</th>\n",
       "      <td>Afghanistan</td>\n",
       "      <td>2016</td>\n",
       "      <td>35383.032</td>\n",
       "    </tr>\n",
       "    <tr>\n",
       "      <th>4</th>\n",
       "      <td>Afghanistan</td>\n",
       "      <td>2017</td>\n",
       "      <td>36296.113</td>\n",
       "    </tr>\n",
       "  </tbody>\n",
       "</table>\n",
       "</div>"
      ],
      "text/plain": [
       "          Zone  Année     Valeur\n",
       "0  Afghanistan   2013  32269.589\n",
       "1  Afghanistan   2014  33370.794\n",
       "2  Afghanistan   2015  34413.603\n",
       "3  Afghanistan   2016  35383.032\n",
       "4  Afghanistan   2017  36296.113"
      ]
     },
     "execution_count": 144,
     "metadata": {},
     "output_type": "execute_result"
    }
   ],
   "source": [
    "# pop/valeur en float > ??\n",
    "# attention : la population et la sous-nutrition ne sont pas exprimées dans la même unité de valeur\n",
    "pop = pd.read_csv('population.csv')   \n",
    "print(\"Un fichier de population qui contient 3 variables : \")\n",
    "print(\"Le pays, l'année, le nombre de personnes en milliers d'habitants\")\n",
    "pop.head()"
   ]
  },
  {
   "cell_type": "code",
   "execution_count": 139,
   "id": "65af065d",
   "metadata": {
    "jupyter": {
     "source_hidden": true
    }
   },
   "outputs": [
    {
     "name": "stdout",
     "output_type": "stream",
     "text": [
      "Un fichier d'aide alimentaire qui contient 4 variables : \n",
      "Le pays bénéficiaire, l'année, le produit, la quantité donnée en tonnes\n"
     ]
    },
    {
     "data": {
      "text/html": [
       "<div>\n",
       "<style scoped>\n",
       "    .dataframe tbody tr th:only-of-type {\n",
       "        vertical-align: middle;\n",
       "    }\n",
       "\n",
       "    .dataframe tbody tr th {\n",
       "        vertical-align: top;\n",
       "    }\n",
       "\n",
       "    .dataframe thead th {\n",
       "        text-align: right;\n",
       "    }\n",
       "</style>\n",
       "<table border=\"1\" class=\"dataframe\">\n",
       "  <thead>\n",
       "    <tr style=\"text-align: right;\">\n",
       "      <th></th>\n",
       "      <th>Pays bénéficiaire</th>\n",
       "      <th>Année</th>\n",
       "      <th>Produit</th>\n",
       "      <th>Valeur</th>\n",
       "    </tr>\n",
       "  </thead>\n",
       "  <tbody>\n",
       "    <tr>\n",
       "      <th>0</th>\n",
       "      <td>Afghanistan</td>\n",
       "      <td>2013</td>\n",
       "      <td>Autres non-céréales</td>\n",
       "      <td>682</td>\n",
       "    </tr>\n",
       "    <tr>\n",
       "      <th>1</th>\n",
       "      <td>Afghanistan</td>\n",
       "      <td>2014</td>\n",
       "      <td>Autres non-céréales</td>\n",
       "      <td>335</td>\n",
       "    </tr>\n",
       "    <tr>\n",
       "      <th>2</th>\n",
       "      <td>Afghanistan</td>\n",
       "      <td>2013</td>\n",
       "      <td>Blé et Farin</td>\n",
       "      <td>39224</td>\n",
       "    </tr>\n",
       "    <tr>\n",
       "      <th>3</th>\n",
       "      <td>Afghanistan</td>\n",
       "      <td>2014</td>\n",
       "      <td>Blé et Farin</td>\n",
       "      <td>15160</td>\n",
       "    </tr>\n",
       "    <tr>\n",
       "      <th>4</th>\n",
       "      <td>Afghanistan</td>\n",
       "      <td>2013</td>\n",
       "      <td>Céréales</td>\n",
       "      <td>40504</td>\n",
       "    </tr>\n",
       "  </tbody>\n",
       "</table>\n",
       "</div>"
      ],
      "text/plain": [
       "  Pays bénéficiaire  Année              Produit  Valeur\n",
       "0       Afghanistan   2013  Autres non-céréales     682\n",
       "1       Afghanistan   2014  Autres non-céréales     335\n",
       "2       Afghanistan   2013         Blé et Farin   39224\n",
       "3       Afghanistan   2014         Blé et Farin   15160\n",
       "4       Afghanistan   2013             Céréales   40504"
      ]
     },
     "execution_count": 139,
     "metadata": {},
     "output_type": "execute_result"
    }
   ],
   "source": [
    "aide = pd.read_csv('aide_alimentaire.csv')\n",
    "print(\"Un fichier d'aide alimentaire qui contient 4 variables : \")\n",
    "print(\"Le pays bénéficiaire, l'année, le produit, la quantité donnée en tonnes\")\n",
    "aide.head()"
   ]
  },
  {
   "cell_type": "code",
   "execution_count": 146,
   "id": "56bc95f9",
   "metadata": {
    "jupyter": {
     "source_hidden": true
    }
   },
   "outputs": [
    {
     "name": "stdout",
     "output_type": "stream",
     "text": [
      "Un fichier listant les pays par continent\n"
     ]
    },
    {
     "data": {
      "text/html": [
       "<div>\n",
       "<style scoped>\n",
       "    .dataframe tbody tr th:only-of-type {\n",
       "        vertical-align: middle;\n",
       "    }\n",
       "\n",
       "    .dataframe tbody tr th {\n",
       "        vertical-align: top;\n",
       "    }\n",
       "\n",
       "    .dataframe thead th {\n",
       "        text-align: right;\n",
       "    }\n",
       "</style>\n",
       "<table border=\"1\" class=\"dataframe\">\n",
       "  <thead>\n",
       "    <tr style=\"text-align: right;\">\n",
       "      <th></th>\n",
       "      <th>zone</th>\n",
       "      <th>region</th>\n",
       "    </tr>\n",
       "  </thead>\n",
       "  <tbody>\n",
       "    <tr>\n",
       "      <th>0</th>\n",
       "      <td>Afghanistan</td>\n",
       "      <td>Proche Orient</td>\n",
       "    </tr>\n",
       "    <tr>\n",
       "      <th>1</th>\n",
       "      <td>Afrique du Sud</td>\n",
       "      <td>Afrique</td>\n",
       "    </tr>\n",
       "    <tr>\n",
       "      <th>2</th>\n",
       "      <td>Albanie</td>\n",
       "      <td>Europe</td>\n",
       "    </tr>\n",
       "    <tr>\n",
       "      <th>3</th>\n",
       "      <td>Algérie</td>\n",
       "      <td>Afrique</td>\n",
       "    </tr>\n",
       "    <tr>\n",
       "      <th>4</th>\n",
       "      <td>Allemagne</td>\n",
       "      <td>Europe</td>\n",
       "    </tr>\n",
       "  </tbody>\n",
       "</table>\n",
       "</div>"
      ],
      "text/plain": [
       "             zone         region\n",
       "0     Afghanistan  Proche Orient\n",
       "1  Afrique du Sud        Afrique\n",
       "2         Albanie         Europe\n",
       "3         Algérie        Afrique\n",
       "4       Allemagne         Europe"
      ]
     },
     "execution_count": 146,
     "metadata": {},
     "output_type": "execute_result"
    }
   ],
   "source": [
    "## importation de la liste de pays par région\n",
    "## 6 régions : Afrique, Amériques, Asie, Europe, Pacifique, Proche-orient\n",
    "regions = pd.read_csv('liste totale des pays.csv', sep = ';')\n",
    "print(\"Un fichier listant les pays par continent\")\n",
    "regions.head()"
   ]
  },
  {
   "cell_type": "code",
   "execution_count": 148,
   "id": "9af361a8",
   "metadata": {
    "jupyter": {
     "source_hidden": true
    }
   },
   "outputs": [
    {
     "name": "stdout",
     "output_type": "stream",
     "text": [
      "Un fichier relatif à l'utilisation des céréales\n"
     ]
    },
    {
     "data": {
      "text/html": [
       "<div>\n",
       "<style scoped>\n",
       "    .dataframe tbody tr th:only-of-type {\n",
       "        vertical-align: middle;\n",
       "    }\n",
       "\n",
       "    .dataframe tbody tr th {\n",
       "        vertical-align: top;\n",
       "    }\n",
       "\n",
       "    .dataframe thead th {\n",
       "        text-align: right;\n",
       "    }\n",
       "</style>\n",
       "<table border=\"1\" class=\"dataframe\">\n",
       "  <thead>\n",
       "    <tr style=\"text-align: right;\">\n",
       "      <th></th>\n",
       "      <th>Code Domaine</th>\n",
       "      <th>Domaine</th>\n",
       "      <th>Code zone (FAO)</th>\n",
       "      <th>Zone</th>\n",
       "      <th>Code Élément</th>\n",
       "      <th>Élément</th>\n",
       "      <th>Code Produit</th>\n",
       "      <th>Produit</th>\n",
       "      <th>Code année</th>\n",
       "      <th>Année</th>\n",
       "      <th>Unité</th>\n",
       "      <th>Valeur</th>\n",
       "      <th>Symbole</th>\n",
       "      <th>Description du Symbole</th>\n",
       "    </tr>\n",
       "  </thead>\n",
       "  <tbody>\n",
       "    <tr>\n",
       "      <th>0</th>\n",
       "      <td>FBS</td>\n",
       "      <td>Bilans Alimentaires (2010-)</td>\n",
       "      <td>2</td>\n",
       "      <td>Afghanistan</td>\n",
       "      <td>5521</td>\n",
       "      <td>Aliments pour animaux</td>\n",
       "      <td>2905</td>\n",
       "      <td>Cèrèales - Excl Bière</td>\n",
       "      <td>2017</td>\n",
       "      <td>2017</td>\n",
       "      <td>Milliers de tonnes</td>\n",
       "      <td>403</td>\n",
       "      <td>A</td>\n",
       "      <td>Agrégat, peut inclure des données officielles,...</td>\n",
       "    </tr>\n",
       "    <tr>\n",
       "      <th>1</th>\n",
       "      <td>FBS</td>\n",
       "      <td>Bilans Alimentaires (2010-)</td>\n",
       "      <td>2</td>\n",
       "      <td>Afghanistan</td>\n",
       "      <td>5142</td>\n",
       "      <td>Nourriture</td>\n",
       "      <td>2905</td>\n",
       "      <td>Cèrèales - Excl Bière</td>\n",
       "      <td>2017</td>\n",
       "      <td>2017</td>\n",
       "      <td>Milliers de tonnes</td>\n",
       "      <td>6746</td>\n",
       "      <td>A</td>\n",
       "      <td>Agrégat, peut inclure des données officielles,...</td>\n",
       "    </tr>\n",
       "    <tr>\n",
       "      <th>2</th>\n",
       "      <td>FBS</td>\n",
       "      <td>Bilans Alimentaires (2010-)</td>\n",
       "      <td>202</td>\n",
       "      <td>Afrique du Sud</td>\n",
       "      <td>5521</td>\n",
       "      <td>Aliments pour animaux</td>\n",
       "      <td>2905</td>\n",
       "      <td>Cèrèales - Excl Bière</td>\n",
       "      <td>2017</td>\n",
       "      <td>2017</td>\n",
       "      <td>Milliers de tonnes</td>\n",
       "      <td>5325</td>\n",
       "      <td>A</td>\n",
       "      <td>Agrégat, peut inclure des données officielles,...</td>\n",
       "    </tr>\n",
       "    <tr>\n",
       "      <th>3</th>\n",
       "      <td>FBS</td>\n",
       "      <td>Bilans Alimentaires (2010-)</td>\n",
       "      <td>202</td>\n",
       "      <td>Afrique du Sud</td>\n",
       "      <td>5142</td>\n",
       "      <td>Nourriture</td>\n",
       "      <td>2905</td>\n",
       "      <td>Cèrèales - Excl Bière</td>\n",
       "      <td>2017</td>\n",
       "      <td>2017</td>\n",
       "      <td>Milliers de tonnes</td>\n",
       "      <td>10024</td>\n",
       "      <td>A</td>\n",
       "      <td>Agrégat, peut inclure des données officielles,...</td>\n",
       "    </tr>\n",
       "    <tr>\n",
       "      <th>4</th>\n",
       "      <td>FBS</td>\n",
       "      <td>Bilans Alimentaires (2010-)</td>\n",
       "      <td>3</td>\n",
       "      <td>Albanie</td>\n",
       "      <td>5521</td>\n",
       "      <td>Aliments pour animaux</td>\n",
       "      <td>2905</td>\n",
       "      <td>Cèrèales - Excl Bière</td>\n",
       "      <td>2017</td>\n",
       "      <td>2017</td>\n",
       "      <td>Milliers de tonnes</td>\n",
       "      <td>455</td>\n",
       "      <td>A</td>\n",
       "      <td>Agrégat, peut inclure des données officielles,...</td>\n",
       "    </tr>\n",
       "  </tbody>\n",
       "</table>\n",
       "</div>"
      ],
      "text/plain": [
       "  Code Domaine                      Domaine  Code zone (FAO)            Zone  \\\n",
       "0          FBS  Bilans Alimentaires (2010-)                2     Afghanistan   \n",
       "1          FBS  Bilans Alimentaires (2010-)                2     Afghanistan   \n",
       "2          FBS  Bilans Alimentaires (2010-)              202  Afrique du Sud   \n",
       "3          FBS  Bilans Alimentaires (2010-)              202  Afrique du Sud   \n",
       "4          FBS  Bilans Alimentaires (2010-)                3         Albanie   \n",
       "\n",
       "   Code Élément                Élément  Code Produit                Produit  \\\n",
       "0          5521  Aliments pour animaux          2905  Cèrèales - Excl Bière   \n",
       "1          5142             Nourriture          2905  Cèrèales - Excl Bière   \n",
       "2          5521  Aliments pour animaux          2905  Cèrèales - Excl Bière   \n",
       "3          5142             Nourriture          2905  Cèrèales - Excl Bière   \n",
       "4          5521  Aliments pour animaux          2905  Cèrèales - Excl Bière   \n",
       "\n",
       "   Code année  Année               Unité  Valeur Symbole  \\\n",
       "0        2017   2017  Milliers de tonnes     403       A   \n",
       "1        2017   2017  Milliers de tonnes    6746       A   \n",
       "2        2017   2017  Milliers de tonnes    5325       A   \n",
       "3        2017   2017  Milliers de tonnes   10024       A   \n",
       "4        2017   2017  Milliers de tonnes     455       A   \n",
       "\n",
       "                              Description du Symbole  \n",
       "0  Agrégat, peut inclure des données officielles,...  \n",
       "1  Agrégat, peut inclure des données officielles,...  \n",
       "2  Agrégat, peut inclure des données officielles,...  \n",
       "3  Agrégat, peut inclure des données officielles,...  \n",
       "4  Agrégat, peut inclure des données officielles,...  "
      ]
     },
     "execution_count": 148,
     "metadata": {},
     "output_type": "execute_result"
    }
   ],
   "source": [
    "## importation des data depuis le site de la FAO\n",
    "## total par pays des céréales avec répartition Animaux / Humains\n",
    "cereales = pd.read_csv('FAOSTAT_data_4-4-2022 (2).csv', sep = ',')\n",
    "print(\"Un fichier relatif à l'utilisation des céréales\")\n",
    "cereales.head()"
   ]
  },
  {
   "cell_type": "markdown",
   "id": "8a9be17c",
   "metadata": {},
   "source": [
    "### Inspection et contrôle des données"
   ]
  },
  {
   "cell_type": "code",
   "execution_count": 145,
   "id": "6a09877f",
   "metadata": {
    "jupyter": {
     "source_hidden": true
    }
   },
   "outputs": [
    {
     "name": "stdout",
     "output_type": "stream",
     "text": [
      "Inspection des données : info, shape, describe\n",
      "Contrôle des données : doublon, valeurs incohérentes, nulles, formats\n",
      "Vérification OK\n"
     ]
    }
   ],
   "source": [
    "\n",
    "# dispo.info()   # >> ok\n",
    "\n",
    "# description\n",
    "# aide.shape\n",
    "# aide.describe()\n",
    "# pop['Année'].unique()\n",
    "# dispo[\"Zone\"].nunique()    # donne le nb de lignes uniques\n",
    "\n",
    "\n",
    "\n",
    "print(\"Inspection des données : info, shape, describe\")\n"
   ]
  },
  {
   "cell_type": "code",
   "execution_count": null,
   "id": "71b002a8",
   "metadata": {
    "jupyter": {
     "source_hidden": true
    }
   },
   "outputs": [],
   "source": [
    "print(\"Contrôle des données : doublon, valeurs incohérentes, nulles, formats\")\n",
    "# vérification des NaN   >> ok juste dans sousNut, normal\n",
    "# sousNut.isna().sum()    \n",
    "    \n",
    "# recherche des doublons dans chaque fichier  >> ok aucun\n",
    "# aide.duplicated().sum()\n"
   ]
  },
  {
   "cell_type": "code",
   "execution_count": 151,
   "id": "2c7b998f",
   "metadata": {
    "jupyter": {
     "source_hidden": true
    }
   },
   "outputs": [
    {
     "name": "stdout",
     "output_type": "stream",
     "text": [
      "Fichier sousNut contient trois points à corriger :\n"
     ]
    }
   ],
   "source": [
    "# Identification de valeurs incohérentes dans le fichier SousNut\n",
    "print(\"Fichier sousNut contient trois points à corriger :\")"
   ]
  },
  {
   "cell_type": "code",
   "execution_count": 153,
   "id": "f913a1ce",
   "metadata": {
    "jupyter": {
     "source_hidden": true
    }
   },
   "outputs": [
    {
     "name": "stdout",
     "output_type": "stream",
     "text": [
      "premier point : il existe 20 Valeurs = '<0.1' >> comment les exploiter ?\n",
      "Impossible à estimer, donc je les passe à 0, de même que les valeurs vides\n"
     ]
    }
   ],
   "source": [
    "print(\"premier point : il existe 20 Valeurs = '<0.1' >> comment les exploiter ?\")\n",
    "sousNut[(sousNut['Valeur']=='<0.1') & (sousNut['Année'] == '2016-2018')].value_counts()\n",
    "\n",
    "# je les passe à 0 car impossible de les estimer\n",
    "sousNut.loc[sousNut['Valeur']=='<0.1', 'Valeur'] = 0\n",
    "\n",
    "# je remplace les champs valeur vides par 0\n",
    "sousNut = sousNut.fillna(0)\n",
    "\n",
    "print(\"Impossible à estimer, donc je les passe à 0, de même que les valeurs vides\")"
   ]
  },
  {
   "cell_type": "code",
   "execution_count": null,
   "id": "12793c91",
   "metadata": {
    "jupyter": {
     "source_hidden": true
    }
   },
   "outputs": [],
   "source": [
    "print(\"Vérification OK\")  "
   ]
  },
  {
   "cell_type": "markdown",
   "id": "4a9f5ecf",
   "metadata": {},
   "source": [
    "## Proportion de personnes en état de sous-nutrition en 2017"
   ]
  },
  {
   "cell_type": "markdown",
   "id": "25c71e44",
   "metadata": {},
   "source": [
    "**mise en forme des données**"
   ]
  },
  {
   "cell_type": "code",
   "execution_count": 51,
   "id": "7f9a57cb",
   "metadata": {
    "jupyter": {
     "source_hidden": true
    }
   },
   "outputs": [],
   "source": [
    "# premier point : il existe 20 Valeurs = '<0.1' >> comment les exploiter ?\n",
    "sousNut[(sousNut['Valeur']=='<0.1') & (sousNut['Année'] == '2016-2018')].value_counts()\n",
    "\n",
    "# je les passe à 0 car impossible de les estimer\n",
    "sousNut.loc[sousNut['Valeur']=='<0.1', 'Valeur'] = 0\n",
    "\n",
    "# je remplace les champs valeur vides par 0\n",
    "sousNut = sousNut.fillna(0)\n"
   ]
  },
  {
   "cell_type": "code",
   "execution_count": 52,
   "id": "59a28101",
   "metadata": {
    "jupyter": {
     "source_hidden": true
    }
   },
   "outputs": [
    {
     "name": "stdout",
     "output_type": "stream",
     "text": [
      "Zone       object\n",
      "Année      object\n",
      "Valeur    float64\n",
      "dtype: object\n"
     ]
    }
   ],
   "source": [
    "# deuxième point : le champ valeur de sousNut est un objet => le transformer en float\n",
    "sousNut['Valeur'] = sousNut['Valeur'].astype(float)\n",
    "print(sousNut.dtypes)"
   ]
  },
  {
   "cell_type": "code",
   "execution_count": 53,
   "id": "22b9b89e",
   "metadata": {
    "jupyter": {
     "source_hidden": true
    }
   },
   "outputs": [
    {
     "data": {
      "text/html": [
       "<div>\n",
       "<style scoped>\n",
       "    .dataframe tbody tr th:only-of-type {\n",
       "        vertical-align: middle;\n",
       "    }\n",
       "\n",
       "    .dataframe tbody tr th {\n",
       "        vertical-align: top;\n",
       "    }\n",
       "\n",
       "    .dataframe thead th {\n",
       "        text-align: right;\n",
       "    }\n",
       "</style>\n",
       "<table border=\"1\" class=\"dataframe\">\n",
       "  <thead>\n",
       "    <tr style=\"text-align: right;\">\n",
       "      <th></th>\n",
       "      <th>Zone</th>\n",
       "      <th>Année</th>\n",
       "      <th>Valeur</th>\n",
       "    </tr>\n",
       "  </thead>\n",
       "  <tbody>\n",
       "    <tr>\n",
       "      <th>4</th>\n",
       "      <td>Afghanistan</td>\n",
       "      <td>2016-2018</td>\n",
       "      <td>10.5</td>\n",
       "    </tr>\n",
       "    <tr>\n",
       "      <th>10</th>\n",
       "      <td>Afrique du Sud</td>\n",
       "      <td>2016-2018</td>\n",
       "      <td>3.1</td>\n",
       "    </tr>\n",
       "    <tr>\n",
       "      <th>16</th>\n",
       "      <td>Albanie</td>\n",
       "      <td>2016-2018</td>\n",
       "      <td>0.1</td>\n",
       "    </tr>\n",
       "    <tr>\n",
       "      <th>22</th>\n",
       "      <td>Algérie</td>\n",
       "      <td>2016-2018</td>\n",
       "      <td>1.3</td>\n",
       "    </tr>\n",
       "    <tr>\n",
       "      <th>40</th>\n",
       "      <td>Angola</td>\n",
       "      <td>2016-2018</td>\n",
       "      <td>5.8</td>\n",
       "    </tr>\n",
       "    <tr>\n",
       "      <th>...</th>\n",
       "      <td>...</td>\n",
       "      <td>...</td>\n",
       "      <td>...</td>\n",
       "    </tr>\n",
       "    <tr>\n",
       "      <th>1126</th>\n",
       "      <td>Togo</td>\n",
       "      <td>2016-2018</td>\n",
       "      <td>1.6</td>\n",
       "    </tr>\n",
       "    <tr>\n",
       "      <th>1156</th>\n",
       "      <td>Turkménistan</td>\n",
       "      <td>2016-2018</td>\n",
       "      <td>0.2</td>\n",
       "    </tr>\n",
       "    <tr>\n",
       "      <th>1174</th>\n",
       "      <td>Ukraine</td>\n",
       "      <td>2016-2018</td>\n",
       "      <td>1.5</td>\n",
       "    </tr>\n",
       "    <tr>\n",
       "      <th>1192</th>\n",
       "      <td>Venezuela (République bolivarienne du)</td>\n",
       "      <td>2016-2018</td>\n",
       "      <td>8.0</td>\n",
       "    </tr>\n",
       "    <tr>\n",
       "      <th>1198</th>\n",
       "      <td>Viet Nam</td>\n",
       "      <td>2016-2018</td>\n",
       "      <td>6.5</td>\n",
       "    </tr>\n",
       "  </tbody>\n",
       "</table>\n",
       "<p>84 rows × 3 columns</p>\n",
       "</div>"
      ],
      "text/plain": [
       "                                        Zone      Année  Valeur\n",
       "4                                Afghanistan  2016-2018    10.5\n",
       "10                            Afrique du Sud  2016-2018     3.1\n",
       "16                                   Albanie  2016-2018     0.1\n",
       "22                                   Algérie  2016-2018     1.3\n",
       "40                                    Angola  2016-2018     5.8\n",
       "...                                      ...        ...     ...\n",
       "1126                                    Togo  2016-2018     1.6\n",
       "1156                            Turkménistan  2016-2018     0.2\n",
       "1174                                 Ukraine  2016-2018     1.5\n",
       "1192  Venezuela (République bolivarienne du)  2016-2018     8.0\n",
       "1198                                Viet Nam  2016-2018     6.5\n",
       "\n",
       "[84 rows x 3 columns]"
      ]
     },
     "execution_count": 53,
     "metadata": {},
     "output_type": "execute_result"
    }
   ],
   "source": [
    "# sélectionner les lignes 2016-2018 ET !0\n",
    "totSN = sousNut[(sousNut['Valeur'] > 0)  & (sousNut['Année'] == '2016-2018')]\n",
    "totSN"
   ]
  },
  {
   "cell_type": "code",
   "execution_count": 54,
   "id": "68af7bbc",
   "metadata": {
    "jupyter": {
     "source_hidden": true
    }
   },
   "outputs": [
    {
     "data": {
      "text/html": [
       "<div>\n",
       "<style scoped>\n",
       "    .dataframe tbody tr th:only-of-type {\n",
       "        vertical-align: middle;\n",
       "    }\n",
       "\n",
       "    .dataframe tbody tr th {\n",
       "        vertical-align: top;\n",
       "    }\n",
       "\n",
       "    .dataframe thead th {\n",
       "        text-align: right;\n",
       "    }\n",
       "</style>\n",
       "<table border=\"1\" class=\"dataframe\">\n",
       "  <thead>\n",
       "    <tr style=\"text-align: right;\">\n",
       "      <th></th>\n",
       "      <th>Zone</th>\n",
       "      <th>Année</th>\n",
       "      <th>Valeur</th>\n",
       "    </tr>\n",
       "  </thead>\n",
       "  <tbody>\n",
       "    <tr>\n",
       "      <th>4</th>\n",
       "      <td>Afghanistan</td>\n",
       "      <td>2016-2018</td>\n",
       "      <td>10500.0</td>\n",
       "    </tr>\n",
       "    <tr>\n",
       "      <th>10</th>\n",
       "      <td>Afrique du Sud</td>\n",
       "      <td>2016-2018</td>\n",
       "      <td>3100.0</td>\n",
       "    </tr>\n",
       "    <tr>\n",
       "      <th>16</th>\n",
       "      <td>Albanie</td>\n",
       "      <td>2016-2018</td>\n",
       "      <td>100.0</td>\n",
       "    </tr>\n",
       "    <tr>\n",
       "      <th>22</th>\n",
       "      <td>Algérie</td>\n",
       "      <td>2016-2018</td>\n",
       "      <td>1300.0</td>\n",
       "    </tr>\n",
       "    <tr>\n",
       "      <th>40</th>\n",
       "      <td>Angola</td>\n",
       "      <td>2016-2018</td>\n",
       "      <td>5800.0</td>\n",
       "    </tr>\n",
       "    <tr>\n",
       "      <th>...</th>\n",
       "      <td>...</td>\n",
       "      <td>...</td>\n",
       "      <td>...</td>\n",
       "    </tr>\n",
       "    <tr>\n",
       "      <th>1126</th>\n",
       "      <td>Togo</td>\n",
       "      <td>2016-2018</td>\n",
       "      <td>1600.0</td>\n",
       "    </tr>\n",
       "    <tr>\n",
       "      <th>1156</th>\n",
       "      <td>Turkménistan</td>\n",
       "      <td>2016-2018</td>\n",
       "      <td>200.0</td>\n",
       "    </tr>\n",
       "    <tr>\n",
       "      <th>1174</th>\n",
       "      <td>Ukraine</td>\n",
       "      <td>2016-2018</td>\n",
       "      <td>1500.0</td>\n",
       "    </tr>\n",
       "    <tr>\n",
       "      <th>1192</th>\n",
       "      <td>Venezuela (République bolivarienne du)</td>\n",
       "      <td>2016-2018</td>\n",
       "      <td>8000.0</td>\n",
       "    </tr>\n",
       "    <tr>\n",
       "      <th>1198</th>\n",
       "      <td>Viet Nam</td>\n",
       "      <td>2016-2018</td>\n",
       "      <td>6500.0</td>\n",
       "    </tr>\n",
       "  </tbody>\n",
       "</table>\n",
       "<p>84 rows × 3 columns</p>\n",
       "</div>"
      ],
      "text/plain": [
       "                                        Zone      Année   Valeur\n",
       "4                                Afghanistan  2016-2018  10500.0\n",
       "10                            Afrique du Sud  2016-2018   3100.0\n",
       "16                                   Albanie  2016-2018    100.0\n",
       "22                                   Algérie  2016-2018   1300.0\n",
       "40                                    Angola  2016-2018   5800.0\n",
       "...                                      ...        ...      ...\n",
       "1126                                    Togo  2016-2018   1600.0\n",
       "1156                            Turkménistan  2016-2018    200.0\n",
       "1174                                 Ukraine  2016-2018   1500.0\n",
       "1192  Venezuela (République bolivarienne du)  2016-2018   8000.0\n",
       "1198                                Viet Nam  2016-2018   6500.0\n",
       "\n",
       "[84 rows x 3 columns]"
      ]
     },
     "execution_count": 54,
     "metadata": {},
     "output_type": "execute_result"
    }
   ],
   "source": [
    "# troisième point : la population est exprimée en milliers d'habitants, \n",
    "# alors qu'il est exprimé en millions dans la table sousNut\n",
    "# >> ramener la table sousNut (totSN) en milliers (* 1000)\n",
    "totSN['Valeur'] = totSN['Valeur']*1000\n",
    "totSN"
   ]
  },
  {
   "cell_type": "code",
   "execution_count": 55,
   "id": "7e9cb76a",
   "metadata": {
    "jupyter": {
     "source_hidden": true
    }
   },
   "outputs": [
    {
     "name": "stdout",
     "output_type": "stream",
     "text": [
      "Le nombre total d'habitants en sous-alimentation en 2017, en milliers est de : 535700.0\n"
     ]
    }
   ],
   "source": [
    "# on calcule le total de gens en sous nutrition\n",
    "totpopSN = totSN['Valeur'].sum()\n",
    "print(\"Le nombre total d'habitants en sous-alimentation en 2017, en milliers est de :\", totpopSN)"
   ]
  },
  {
   "cell_type": "code",
   "execution_count": 56,
   "id": "3e74f8b8",
   "metadata": {
    "jupyter": {
     "source_hidden": true
    }
   },
   "outputs": [],
   "source": [
    "# on calcule le nombre total de la population de ces mêmes pays\n",
    "# >> je crée une série contenant la liste des pays de totSN\n",
    "# >> je sélectionne les valeurs des pays inclus dans cette série ET l'année 2017 et je totalise\n",
    "# puis je calcule la proportion en pourcentage\n",
    "# enfin, à titre de comparaison, je calcule cette proportion sur la population mondiale de 2017"
   ]
  },
  {
   "cell_type": "code",
   "execution_count": 57,
   "id": "ecab8dc0",
   "metadata": {
    "jupyter": {
     "source_hidden": true
    }
   },
   "outputs": [
    {
     "name": "stdout",
     "output_type": "stream",
     "text": [
      "Le nombre total d'habitants de ces pays en 2017, en milliers est de : 4167953.741\n",
      "\n",
      "soit une proportion de : 12.85 %\n",
      "\n",
      "La population mondiale en 2017, en milliers est de : 7548134.1110000005\n",
      "\n",
      "la proportion en % d'habitants en sous-alimentation du total de la population mondiale de 2017 est de :  7.1\n"
     ]
    }
   ],
   "source": [
    "listP = list(totSN['Zone'])\n",
    "y = pop[(pop['Zone'].isin(listP)) & (pop['Année'] == 2017)]\n",
    "totPopZ = y['Valeur'].sum()\n",
    "p = round(totpopSN/totPopZ*100, 2)\n",
    "totPopM = pop.loc[pop[\"Année\"] == 2017 , ['Valeur']].sum()  ### TOTPOPM est une serie => totPopM = totPopM.iloc[0]\n",
    "totPopM = totPopM.iloc[0]\n",
    "m = round(totpopSN/totPopM*100, 2)\n",
    "print(\"Le nombre total d'habitants de ces pays en 2017, en milliers est de :\", totPopZ)\n",
    "print('')\n",
    "print('soit une proportion de : ' + str(p) + ' %')\n",
    "print('')\n",
    "print(\"La population mondiale en 2017, en milliers est de :\", totPopM)\n",
    "print('')\n",
    "print('la proportion en % d\\'habitants en sous-alimentation du total de la population mondiale de 2017 est de : ' , str(m) )\n"
   ]
  },
  {
   "cell_type": "markdown",
   "id": "bd5f0b03",
   "metadata": {},
   "source": [
    "<span style=\"color:red;font-size:2.6rem;font-weight:bold; \">RESULTATS QUESTION 1 SONT A PRESENTER SOUS FORME DE TABLEAU</span>"
   ]
  },
  {
   "cell_type": "markdown",
   "id": "c8ad4787",
   "metadata": {},
   "source": [
    "## Nombre théorique de personnes qui pourraient être nourries en 2017"
   ]
  },
  {
   "cell_type": "markdown",
   "id": "4d3e79ad",
   "metadata": {},
   "source": [
    "Besoins journaliers moyen par habitant : 2075 kcal  \n",
    "voir Annexe 1 du texte FAO : [Lien](https://www.fao.org/3/w0073f/w0073f26.htm)\n",
    "\n"
   ]
  },
  {
   "cell_type": "markdown",
   "id": "002ea5f3",
   "metadata": {},
   "source": [
    "### Calcul de la disponibilité alimentaire totale "
   ]
  },
  {
   "cell_type": "code",
   "execution_count": 58,
   "id": "25c035cb",
   "metadata": {
    "jupyter": {
     "source_hidden": true
    }
   },
   "outputs": [
    {
     "name": "stdout",
     "output_type": "stream",
     "text": [
      "la disponibilité alimentaire totale en Kcal/personne/ jour est de :  20918984627.331\n"
     ]
    }
   ],
   "source": [
    "#Disponibilité alimentaire = disponibilité d'aliments en quantité et en qualité suffisante\n",
    "# Kcal disponibles par pays : dispo * nb habitants par pays\n",
    "\n",
    "a = pd.merge(dispo, pop, on = \"Zone\", how=\"left\")\n",
    "a.rename(columns = {'Valeur' : 'Population'}, inplace=True)\n",
    "b = a.loc[a[\"Année\"] == 2017 , [\"Produit\", \"Année\", \"Zone\", \"Disponibilité alimentaire (Kcal/personne/jour)\", \"Population\" ]]\n",
    "# si je ne le mets pas dans un new df, alors colonne n'est pas conservée\n",
    "b = b.assign(dispo_totale = b[\"Population\"] * b[\"Disponibilité alimentaire (Kcal/personne/jour)\"])\n",
    "\n",
    "# dispo totale : \n",
    "dispoTot = b[\"dispo_totale\"].sum()\n",
    "print(\"la disponibilité alimentaire totale en Kcal/personne/ jour est de : \", dispoTot)\n",
    "\n",
    "\n"
   ]
  },
  {
   "cell_type": "markdown",
   "id": "38fc358c",
   "metadata": {},
   "source": [
    "### Calcul du nombre de personnes nourrissables\n"
   ]
  },
  {
   "cell_type": "code",
   "execution_count": 59,
   "id": "c8aaaa99",
   "metadata": {
    "jupyter": {
     "source_hidden": true
    }
   },
   "outputs": [
    {
     "name": "stdout",
     "output_type": "stream",
     "text": [
      "le nombre théorique de personnes nourrissables est de :  10081438.37461735\n",
      "soit  133.56  % de la population mondiale\n"
     ]
    }
   ],
   "source": [
    "# Nb Personnes nourrissables = Somme des Dispo en kcal/pers/jour / 2075\n",
    "nbP = dispoTot/2075\n",
    "print(\"le nombre théorique de personnes nourrissables est de : \", nbP)\n",
    "x = round(nbP/totPopM*100, 2)\n",
    "print(\"soit \", str(x), \" % de la population mondiale\")"
   ]
  },
  {
   "cell_type": "markdown",
   "id": "a1ea6d6c",
   "metadata": {},
   "source": [
    "<span style=\"color:red;font-size:2.6rem;font-weight:bold; \">faire une comparaison graphique par contient ou pays</span>"
   ]
  },
  {
   "cell_type": "markdown",
   "id": "e09d1f72",
   "metadata": {},
   "source": [
    "## Nombre théorique de personnes qui pourraient être nourries en 2017 à partir de produits végétaux\n"
   ]
  },
  {
   "cell_type": "markdown",
   "id": "7a5752f1",
   "metadata": {},
   "source": [
    "### Calcul de la disponibilité alimentaire des produits d'origine végétale"
   ]
  },
  {
   "cell_type": "code",
   "execution_count": 60,
   "id": "0794a839",
   "metadata": {
    "jupyter": {
     "source_hidden": true
    }
   },
   "outputs": [
    {
     "name": "stdout",
     "output_type": "stream",
     "text": [
      "la disponibilité alimentaire totale en Kcal/personne/ jour est de :  17260764211.501\n"
     ]
    }
   ],
   "source": [
    "c = a.loc[(a[\"Année\"] == 2017) & (a[\"Origine\"]== \"vegetale\") , [\"Origine\",\"Produit\", \"Année\", \"Zone\", \"Disponibilité alimentaire (Kcal/personne/jour)\", \"Population\" ]]\n",
    "# si je ne le mets pas dans un new df, alors colonne n'est pas conservée\n",
    "c = c.assign(dispo_totale = b[\"Population\"] * b[\"Disponibilité alimentaire (Kcal/personne/jour)\"])\n",
    "c\n",
    "# dispo totale végétal : \n",
    "dispoTotV = c[\"dispo_totale\"].sum()\n",
    "print(\"la disponibilité alimentaire totale en Kcal/personne/ jour est de : \", dispoTotV)"
   ]
  },
  {
   "cell_type": "markdown",
   "id": "8360625a",
   "metadata": {},
   "source": [
    "### Calcul du nombre de personnes nourrissables à partir de produits d'origine végétale"
   ]
  },
  {
   "cell_type": "code",
   "execution_count": 61,
   "id": "b491fa91",
   "metadata": {
    "jupyter": {
     "source_hidden": true
    }
   },
   "outputs": [
    {
     "name": "stdout",
     "output_type": "stream",
     "text": [
      "le nombre théorique de personnes nourrissables est de :  8318440.583855904\n",
      "soit  110.21  % de la population mondiale\n"
     ]
    }
   ],
   "source": [
    "# Nb Personnes nourrissables = Somme des Dispo en kcal/pers/jour / 2075\n",
    "nbPV = dispoTotV/2075\n",
    "print(\"le nombre théorique de personnes nourrissables est de : \", nbPV)\n",
    "x = round(nbPV/totPopM*100, 2)\n",
    "print(\"soit \", str(x), \" % de la population mondiale\")"
   ]
  },
  {
   "cell_type": "markdown",
   "id": "5631378a",
   "metadata": {},
   "source": [
    "## Utilisation de la disponibilité intérieure"
   ]
  },
  {
   "cell_type": "code",
   "execution_count": 62,
   "id": "fb0cd0fd",
   "metadata": {
    "jupyter": {
     "source_hidden": true
    }
   },
   "outputs": [],
   "source": [
    "# La disponibilité intérieure est composée de : \n",
    "# Importations + Production +- Variation de stock - Exportations\n",
    "# L'utilisation se mesure via : \n",
    "# Nourriture / Semences / Pertes / Traitement (ie Transformation alimentaire) / Alimentation animale / Autres utilisations\n"
   ]
  },
  {
   "cell_type": "markdown",
   "id": "505034af",
   "metadata": {},
   "source": [
    "### Calcul par pays (tableau)"
   ]
  },
  {
   "cell_type": "code",
   "execution_count": 63,
   "id": "86cceaa6",
   "metadata": {
    "jupyter": {
     "source_hidden": true
    },
    "scrolled": true
   },
   "outputs": [
    {
     "data": {
      "text/html": [
       "<div>\n",
       "<style scoped>\n",
       "    .dataframe tbody tr th:only-of-type {\n",
       "        vertical-align: middle;\n",
       "    }\n",
       "\n",
       "    .dataframe tbody tr th {\n",
       "        vertical-align: top;\n",
       "    }\n",
       "\n",
       "    .dataframe thead th {\n",
       "        text-align: right;\n",
       "    }\n",
       "</style>\n",
       "<table border=\"1\" class=\"dataframe\">\n",
       "  <thead>\n",
       "    <tr style=\"text-align: right;\">\n",
       "      <th></th>\n",
       "      <th>Nourriture</th>\n",
       "      <th>Semences</th>\n",
       "      <th>Pertes</th>\n",
       "      <th>Traitement</th>\n",
       "      <th>Aliments pour animaux</th>\n",
       "      <th>Autres Utilisations</th>\n",
       "      <th>Disponibilité intérieure</th>\n",
       "    </tr>\n",
       "    <tr>\n",
       "      <th>Zone</th>\n",
       "      <th></th>\n",
       "      <th></th>\n",
       "      <th></th>\n",
       "      <th></th>\n",
       "      <th></th>\n",
       "      <th></th>\n",
       "      <th></th>\n",
       "    </tr>\n",
       "  </thead>\n",
       "  <tbody>\n",
       "    <tr>\n",
       "      <th>Afghanistan</th>\n",
       "      <td>10735.0</td>\n",
       "      <td>395.0</td>\n",
       "      <td>1135.0</td>\n",
       "      <td>63.0</td>\n",
       "      <td>768.0</td>\n",
       "      <td>415.0</td>\n",
       "      <td>13515.0</td>\n",
       "    </tr>\n",
       "    <tr>\n",
       "      <th>Afrique du Sud</th>\n",
       "      <td>29812.0</td>\n",
       "      <td>253.0</td>\n",
       "      <td>2193.0</td>\n",
       "      <td>22819.0</td>\n",
       "      <td>5309.0</td>\n",
       "      <td>876.0</td>\n",
       "      <td>61256.0</td>\n",
       "    </tr>\n",
       "    <tr>\n",
       "      <th>Albanie</th>\n",
       "      <td>3476.0</td>\n",
       "      <td>55.0</td>\n",
       "      <td>276.0</td>\n",
       "      <td>113.0</td>\n",
       "      <td>660.0</td>\n",
       "      <td>174.0</td>\n",
       "      <td>4758.0</td>\n",
       "    </tr>\n",
       "    <tr>\n",
       "      <th>Algérie</th>\n",
       "      <td>31729.0</td>\n",
       "      <td>449.0</td>\n",
       "      <td>3753.0</td>\n",
       "      <td>637.0</td>\n",
       "      <td>4352.0</td>\n",
       "      <td>1707.0</td>\n",
       "      <td>42630.0</td>\n",
       "    </tr>\n",
       "    <tr>\n",
       "      <th>Allemagne</th>\n",
       "      <td>79238.0</td>\n",
       "      <td>1551.0</td>\n",
       "      <td>3781.0</td>\n",
       "      <td>39842.0</td>\n",
       "      <td>30209.0</td>\n",
       "      <td>7711.0</td>\n",
       "      <td>162275.0</td>\n",
       "    </tr>\n",
       "    <tr>\n",
       "      <th>...</th>\n",
       "      <td>...</td>\n",
       "      <td>...</td>\n",
       "      <td>...</td>\n",
       "      <td>...</td>\n",
       "      <td>...</td>\n",
       "      <td>...</td>\n",
       "      <td>...</td>\n",
       "    </tr>\n",
       "    <tr>\n",
       "      <th>Émirats arabes unis</th>\n",
       "      <td>6548.0</td>\n",
       "      <td>3.0</td>\n",
       "      <td>705.0</td>\n",
       "      <td>804.0</td>\n",
       "      <td>1174.0</td>\n",
       "      <td>2689.0</td>\n",
       "      <td>11850.0</td>\n",
       "    </tr>\n",
       "    <tr>\n",
       "      <th>Équateur</th>\n",
       "      <td>8574.0</td>\n",
       "      <td>138.0</td>\n",
       "      <td>707.0</td>\n",
       "      <td>6200.0</td>\n",
       "      <td>1200.0</td>\n",
       "      <td>1909.0</td>\n",
       "      <td>18614.0</td>\n",
       "    </tr>\n",
       "    <tr>\n",
       "      <th>États-Unis d'Amérique</th>\n",
       "      <td>320889.0</td>\n",
       "      <td>10403.0</td>\n",
       "      <td>7162.0</td>\n",
       "      <td>141010.0</td>\n",
       "      <td>148432.0</td>\n",
       "      <td>154699.0</td>\n",
       "      <td>777992.0</td>\n",
       "    </tr>\n",
       "    <tr>\n",
       "      <th>Éthiopie</th>\n",
       "      <td>33361.0</td>\n",
       "      <td>640.0</td>\n",
       "      <td>2256.0</td>\n",
       "      <td>3443.0</td>\n",
       "      <td>685.0</td>\n",
       "      <td>3641.0</td>\n",
       "      <td>44014.0</td>\n",
       "    </tr>\n",
       "    <tr>\n",
       "      <th>Îles Salomon</th>\n",
       "      <td>362.0</td>\n",
       "      <td>0.0</td>\n",
       "      <td>6.0</td>\n",
       "      <td>90.0</td>\n",
       "      <td>0.0</td>\n",
       "      <td>237.0</td>\n",
       "      <td>695.0</td>\n",
       "    </tr>\n",
       "  </tbody>\n",
       "</table>\n",
       "<p>174 rows × 7 columns</p>\n",
       "</div>"
      ],
      "text/plain": [
       "                       Nourriture  Semences  Pertes  Traitement  \\\n",
       "Zone                                                              \n",
       "Afghanistan               10735.0     395.0  1135.0        63.0   \n",
       "Afrique du Sud            29812.0     253.0  2193.0     22819.0   \n",
       "Albanie                    3476.0      55.0   276.0       113.0   \n",
       "Algérie                   31729.0     449.0  3753.0       637.0   \n",
       "Allemagne                 79238.0    1551.0  3781.0     39842.0   \n",
       "...                           ...       ...     ...         ...   \n",
       "Émirats arabes unis        6548.0       3.0   705.0       804.0   \n",
       "Équateur                   8574.0     138.0   707.0      6200.0   \n",
       "États-Unis d'Amérique    320889.0   10403.0  7162.0    141010.0   \n",
       "Éthiopie                  33361.0     640.0  2256.0      3443.0   \n",
       "Îles Salomon                362.0       0.0     6.0        90.0   \n",
       "\n",
       "                       Aliments pour animaux  Autres Utilisations  \\\n",
       "Zone                                                                \n",
       "Afghanistan                            768.0                415.0   \n",
       "Afrique du Sud                        5309.0                876.0   \n",
       "Albanie                                660.0                174.0   \n",
       "Algérie                               4352.0               1707.0   \n",
       "Allemagne                            30209.0               7711.0   \n",
       "...                                      ...                  ...   \n",
       "Émirats arabes unis                   1174.0               2689.0   \n",
       "Équateur                              1200.0               1909.0   \n",
       "États-Unis d'Amérique               148432.0             154699.0   \n",
       "Éthiopie                               685.0               3641.0   \n",
       "Îles Salomon                             0.0                237.0   \n",
       "\n",
       "                       Disponibilité intérieure  \n",
       "Zone                                             \n",
       "Afghanistan                             13515.0  \n",
       "Afrique du Sud                          61256.0  \n",
       "Albanie                                  4758.0  \n",
       "Algérie                                 42630.0  \n",
       "Allemagne                              162275.0  \n",
       "...                                         ...  \n",
       "Émirats arabes unis                     11850.0  \n",
       "Équateur                                18614.0  \n",
       "États-Unis d'Amérique                  777992.0  \n",
       "Éthiopie                                44014.0  \n",
       "Îles Salomon                              695.0  \n",
       "\n",
       "[174 rows x 7 columns]"
      ]
     },
     "execution_count": 63,
     "metadata": {},
     "output_type": "execute_result"
    }
   ],
   "source": [
    "# regroupement par zones (select + groupby)\n",
    "# NB : 174 rows car group est \"devenu un index\", donc démarre avec le titre\n",
    "gb = dispo[[\"Zone\",\"Nourriture\", \"Semences\", \"Pertes\", \"Traitement\", \"Aliments pour animaux\", \"Autres Utilisations\", \"Disponibilité intérieure\"]]\n",
    "gb = gb.groupby(\"Zone\").sum()\n",
    "gb"
   ]
  },
  {
   "cell_type": "code",
   "execution_count": 64,
   "id": "1ad5b6da",
   "metadata": {
    "jupyter": {
     "source_hidden": true
    },
    "scrolled": true
   },
   "outputs": [
    {
     "data": {
      "text/html": [
       "<div>\n",
       "<style scoped>\n",
       "    .dataframe tbody tr th:only-of-type {\n",
       "        vertical-align: middle;\n",
       "    }\n",
       "\n",
       "    .dataframe tbody tr th {\n",
       "        vertical-align: top;\n",
       "    }\n",
       "\n",
       "    .dataframe thead th {\n",
       "        text-align: right;\n",
       "    }\n",
       "</style>\n",
       "<table border=\"1\" class=\"dataframe\">\n",
       "  <thead>\n",
       "    <tr style=\"text-align: right;\">\n",
       "      <th></th>\n",
       "      <th>Disponibilité intérieure</th>\n",
       "      <th>Part_Nourriture</th>\n",
       "      <th>Part_Semences</th>\n",
       "      <th>Part_Pertes</th>\n",
       "      <th>Part_Trt</th>\n",
       "      <th>Part_Alim_An</th>\n",
       "      <th>Part_Autre_Ut</th>\n",
       "    </tr>\n",
       "    <tr>\n",
       "      <th>Zone</th>\n",
       "      <th></th>\n",
       "      <th></th>\n",
       "      <th></th>\n",
       "      <th></th>\n",
       "      <th></th>\n",
       "      <th></th>\n",
       "      <th></th>\n",
       "    </tr>\n",
       "  </thead>\n",
       "  <tbody>\n",
       "    <tr>\n",
       "      <th>Afghanistan</th>\n",
       "      <td>13515.0</td>\n",
       "      <td>79.43</td>\n",
       "      <td>2.92</td>\n",
       "      <td>8.40</td>\n",
       "      <td>0.47</td>\n",
       "      <td>5.68</td>\n",
       "      <td>3.07</td>\n",
       "    </tr>\n",
       "    <tr>\n",
       "      <th>Afrique du Sud</th>\n",
       "      <td>61256.0</td>\n",
       "      <td>48.67</td>\n",
       "      <td>0.41</td>\n",
       "      <td>3.58</td>\n",
       "      <td>37.25</td>\n",
       "      <td>8.67</td>\n",
       "      <td>1.43</td>\n",
       "    </tr>\n",
       "    <tr>\n",
       "      <th>Albanie</th>\n",
       "      <td>4758.0</td>\n",
       "      <td>73.06</td>\n",
       "      <td>1.16</td>\n",
       "      <td>5.80</td>\n",
       "      <td>2.37</td>\n",
       "      <td>13.87</td>\n",
       "      <td>3.66</td>\n",
       "    </tr>\n",
       "    <tr>\n",
       "      <th>Algérie</th>\n",
       "      <td>42630.0</td>\n",
       "      <td>74.43</td>\n",
       "      <td>1.05</td>\n",
       "      <td>8.80</td>\n",
       "      <td>1.49</td>\n",
       "      <td>10.21</td>\n",
       "      <td>4.00</td>\n",
       "    </tr>\n",
       "    <tr>\n",
       "      <th>Allemagne</th>\n",
       "      <td>162275.0</td>\n",
       "      <td>48.83</td>\n",
       "      <td>0.96</td>\n",
       "      <td>2.33</td>\n",
       "      <td>24.55</td>\n",
       "      <td>18.62</td>\n",
       "      <td>4.75</td>\n",
       "    </tr>\n",
       "    <tr>\n",
       "      <th>...</th>\n",
       "      <td>...</td>\n",
       "      <td>...</td>\n",
       "      <td>...</td>\n",
       "      <td>...</td>\n",
       "      <td>...</td>\n",
       "      <td>...</td>\n",
       "      <td>...</td>\n",
       "    </tr>\n",
       "    <tr>\n",
       "      <th>Émirats arabes unis</th>\n",
       "      <td>11850.0</td>\n",
       "      <td>55.26</td>\n",
       "      <td>0.03</td>\n",
       "      <td>5.95</td>\n",
       "      <td>6.78</td>\n",
       "      <td>9.91</td>\n",
       "      <td>22.69</td>\n",
       "    </tr>\n",
       "    <tr>\n",
       "      <th>Équateur</th>\n",
       "      <td>18614.0</td>\n",
       "      <td>46.06</td>\n",
       "      <td>0.74</td>\n",
       "      <td>3.80</td>\n",
       "      <td>33.31</td>\n",
       "      <td>6.45</td>\n",
       "      <td>10.26</td>\n",
       "    </tr>\n",
       "    <tr>\n",
       "      <th>États-Unis d'Amérique</th>\n",
       "      <td>777992.0</td>\n",
       "      <td>41.25</td>\n",
       "      <td>1.34</td>\n",
       "      <td>0.92</td>\n",
       "      <td>18.12</td>\n",
       "      <td>19.08</td>\n",
       "      <td>19.88</td>\n",
       "    </tr>\n",
       "    <tr>\n",
       "      <th>Éthiopie</th>\n",
       "      <td>44014.0</td>\n",
       "      <td>75.80</td>\n",
       "      <td>1.45</td>\n",
       "      <td>5.13</td>\n",
       "      <td>7.82</td>\n",
       "      <td>1.56</td>\n",
       "      <td>8.27</td>\n",
       "    </tr>\n",
       "    <tr>\n",
       "      <th>Îles Salomon</th>\n",
       "      <td>695.0</td>\n",
       "      <td>52.09</td>\n",
       "      <td>0.00</td>\n",
       "      <td>0.86</td>\n",
       "      <td>12.95</td>\n",
       "      <td>0.00</td>\n",
       "      <td>34.10</td>\n",
       "    </tr>\n",
       "  </tbody>\n",
       "</table>\n",
       "<p>174 rows × 7 columns</p>\n",
       "</div>"
      ],
      "text/plain": [
       "                       Disponibilité intérieure  Part_Nourriture  \\\n",
       "Zone                                                               \n",
       "Afghanistan                             13515.0            79.43   \n",
       "Afrique du Sud                          61256.0            48.67   \n",
       "Albanie                                  4758.0            73.06   \n",
       "Algérie                                 42630.0            74.43   \n",
       "Allemagne                              162275.0            48.83   \n",
       "...                                         ...              ...   \n",
       "Émirats arabes unis                     11850.0            55.26   \n",
       "Équateur                                18614.0            46.06   \n",
       "États-Unis d'Amérique                  777992.0            41.25   \n",
       "Éthiopie                                44014.0            75.80   \n",
       "Îles Salomon                              695.0            52.09   \n",
       "\n",
       "                       Part_Semences  Part_Pertes  Part_Trt  Part_Alim_An  \\\n",
       "Zone                                                                        \n",
       "Afghanistan                     2.92         8.40      0.47          5.68   \n",
       "Afrique du Sud                  0.41         3.58     37.25          8.67   \n",
       "Albanie                         1.16         5.80      2.37         13.87   \n",
       "Algérie                         1.05         8.80      1.49         10.21   \n",
       "Allemagne                       0.96         2.33     24.55         18.62   \n",
       "...                              ...          ...       ...           ...   \n",
       "Émirats arabes unis             0.03         5.95      6.78          9.91   \n",
       "Équateur                        0.74         3.80     33.31          6.45   \n",
       "États-Unis d'Amérique           1.34         0.92     18.12         19.08   \n",
       "Éthiopie                        1.45         5.13      7.82          1.56   \n",
       "Îles Salomon                    0.00         0.86     12.95          0.00   \n",
       "\n",
       "                       Part_Autre_Ut  \n",
       "Zone                                  \n",
       "Afghanistan                     3.07  \n",
       "Afrique du Sud                  1.43  \n",
       "Albanie                         3.66  \n",
       "Algérie                         4.00  \n",
       "Allemagne                       4.75  \n",
       "...                              ...  \n",
       "Émirats arabes unis            22.69  \n",
       "Équateur                       10.26  \n",
       "États-Unis d'Amérique          19.88  \n",
       "Éthiopie                        8.27  \n",
       "Îles Salomon                   34.10  \n",
       "\n",
       "[174 rows x 7 columns]"
      ]
     },
     "execution_count": 64,
     "metadata": {},
     "output_type": "execute_result"
    }
   ],
   "source": [
    "# ajout des colonnes des proportions calculées relatives à l'utilisation de la Dispo Intérieure\n",
    "result = gb.assign(Part_Nourriture = round(gb[\"Nourriture\"]/gb[\"Disponibilité intérieure\"]*100, 2),\n",
    "                     Part_Semences = round(gb[\"Semences\"]/gb[\"Disponibilité intérieure\"]*100, 2),\n",
    "                     Part_Pertes = round(gb[\"Pertes\"]/gb[\"Disponibilité intérieure\"]*100, 2),\n",
    "                     Part_Trt = round(gb[\"Traitement\"]/gb[\"Disponibilité intérieure\"]*100, 2),\n",
    "                     Part_Alim_An = round(gb[\"Aliments pour animaux\"]/gb[\"Disponibilité intérieure\"]*100, 2),\n",
    "                     Part_Autre_Ut = round(gb[\"Autres Utilisations\"]/gb[\"Disponibilité intérieure\"]*100, 2)\n",
    "                    )\n",
    "# result.drop(columns=[\"Nourriture\", \"Semences\", \"Pertes\",\"Traitement\",\"Aliments pour animaux\", \"Autres Utilisations\"], inplace=True)\n",
    "\n",
    "result[[\"Disponibilité intérieure\",\"Part_Nourriture\", \"Part_Semences\", \"Part_Pertes\", \"Part_Trt\", \"Part_Alim_An\", \"Part_Autre_Ut\"]]"
   ]
  },
  {
   "cell_type": "markdown",
   "id": "f97ae7d5",
   "metadata": {},
   "source": [
    "### Calcul par régions"
   ]
  },
  {
   "cell_type": "markdown",
   "id": "ac31a179",
   "metadata": {},
   "source": [
    "voir Liste des pays par région : [Lien](https://www.fao.org/unfao/govbodies/gsbhome/council/council-election/fr/)\n"
   ]
  },
  {
   "cell_type": "code",
   "execution_count": 147,
   "id": "84d08615",
   "metadata": {
    "jupyter": {
     "source_hidden": true
    }
   },
   "outputs": [
    {
     "data": {
      "text/html": [
       "<div>\n",
       "<style scoped>\n",
       "    .dataframe tbody tr th:only-of-type {\n",
       "        vertical-align: middle;\n",
       "    }\n",
       "\n",
       "    .dataframe tbody tr th {\n",
       "        vertical-align: top;\n",
       "    }\n",
       "\n",
       "    .dataframe thead th {\n",
       "        text-align: right;\n",
       "    }\n",
       "</style>\n",
       "<table border=\"1\" class=\"dataframe\">\n",
       "  <thead>\n",
       "    <tr style=\"text-align: right;\">\n",
       "      <th></th>\n",
       "      <th>zone</th>\n",
       "      <th>region</th>\n",
       "    </tr>\n",
       "  </thead>\n",
       "  <tbody>\n",
       "    <tr>\n",
       "      <th>0</th>\n",
       "      <td>Afghanistan</td>\n",
       "      <td>Proche Orient</td>\n",
       "    </tr>\n",
       "    <tr>\n",
       "      <th>1</th>\n",
       "      <td>Afrique du Sud</td>\n",
       "      <td>Afrique</td>\n",
       "    </tr>\n",
       "    <tr>\n",
       "      <th>2</th>\n",
       "      <td>Albanie</td>\n",
       "      <td>Europe</td>\n",
       "    </tr>\n",
       "    <tr>\n",
       "      <th>3</th>\n",
       "      <td>Algérie</td>\n",
       "      <td>Afrique</td>\n",
       "    </tr>\n",
       "    <tr>\n",
       "      <th>4</th>\n",
       "      <td>Allemagne</td>\n",
       "      <td>Europe</td>\n",
       "    </tr>\n",
       "    <tr>\n",
       "      <th>...</th>\n",
       "      <td>...</td>\n",
       "      <td>...</td>\n",
       "    </tr>\n",
       "    <tr>\n",
       "      <th>169</th>\n",
       "      <td>Émirats arabes unis</td>\n",
       "      <td>Proche Orient</td>\n",
       "    </tr>\n",
       "    <tr>\n",
       "      <th>170</th>\n",
       "      <td>Équateur</td>\n",
       "      <td>Ameriques</td>\n",
       "    </tr>\n",
       "    <tr>\n",
       "      <th>171</th>\n",
       "      <td>États-Unis d'Amérique</td>\n",
       "      <td>Ameriques</td>\n",
       "    </tr>\n",
       "    <tr>\n",
       "      <th>172</th>\n",
       "      <td>Éthiopie</td>\n",
       "      <td>Afrique</td>\n",
       "    </tr>\n",
       "    <tr>\n",
       "      <th>173</th>\n",
       "      <td>Îles Salomon</td>\n",
       "      <td>Pacifique</td>\n",
       "    </tr>\n",
       "  </tbody>\n",
       "</table>\n",
       "<p>174 rows × 2 columns</p>\n",
       "</div>"
      ],
      "text/plain": [
       "                      zone         region\n",
       "0              Afghanistan  Proche Orient\n",
       "1           Afrique du Sud        Afrique\n",
       "2                  Albanie         Europe\n",
       "3                  Algérie        Afrique\n",
       "4                Allemagne         Europe\n",
       "..                     ...            ...\n",
       "169    Émirats arabes unis  Proche Orient\n",
       "170               Équateur      Ameriques\n",
       "171  États-Unis d'Amérique      Ameriques\n",
       "172               Éthiopie        Afrique\n",
       "173           Îles Salomon      Pacifique\n",
       "\n",
       "[174 rows x 2 columns]"
      ]
     },
     "execution_count": 147,
     "metadata": {},
     "output_type": "execute_result"
    }
   ],
   "source": [
    "## importation de la liste de pays par région\n",
    "## 6 régions : Afrique, Amériques, Asie, Europe, Pacifique, Proche-orient\n",
    "regions"
   ]
  },
  {
   "cell_type": "code",
   "execution_count": 66,
   "id": "688cda6d",
   "metadata": {
    "jupyter": {
     "source_hidden": true
    },
    "scrolled": true
   },
   "outputs": [
    {
     "data": {
      "text/html": [
       "<div>\n",
       "<style scoped>\n",
       "    .dataframe tbody tr th:only-of-type {\n",
       "        vertical-align: middle;\n",
       "    }\n",
       "\n",
       "    .dataframe tbody tr th {\n",
       "        vertical-align: top;\n",
       "    }\n",
       "\n",
       "    .dataframe thead th {\n",
       "        text-align: right;\n",
       "    }\n",
       "</style>\n",
       "<table border=\"1\" class=\"dataframe\">\n",
       "  <thead>\n",
       "    <tr style=\"text-align: right;\">\n",
       "      <th></th>\n",
       "      <th>Disponibilité intérieure</th>\n",
       "      <th>Part_Nourriture</th>\n",
       "      <th>Part_Semences</th>\n",
       "      <th>Part_Pertes</th>\n",
       "      <th>Part_Trt</th>\n",
       "      <th>Part_Alim_An</th>\n",
       "      <th>Part_Autre_Ut</th>\n",
       "      <th>Region</th>\n",
       "    </tr>\n",
       "    <tr>\n",
       "      <th>Zone</th>\n",
       "      <th></th>\n",
       "      <th></th>\n",
       "      <th></th>\n",
       "      <th></th>\n",
       "      <th></th>\n",
       "      <th></th>\n",
       "      <th></th>\n",
       "      <th></th>\n",
       "    </tr>\n",
       "  </thead>\n",
       "  <tbody>\n",
       "    <tr>\n",
       "      <th>Afghanistan</th>\n",
       "      <td>13515.0</td>\n",
       "      <td>79.43</td>\n",
       "      <td>2.92</td>\n",
       "      <td>8.40</td>\n",
       "      <td>0.47</td>\n",
       "      <td>5.68</td>\n",
       "      <td>3.07</td>\n",
       "      <td></td>\n",
       "    </tr>\n",
       "    <tr>\n",
       "      <th>Afrique du Sud</th>\n",
       "      <td>61256.0</td>\n",
       "      <td>48.67</td>\n",
       "      <td>0.41</td>\n",
       "      <td>3.58</td>\n",
       "      <td>37.25</td>\n",
       "      <td>8.67</td>\n",
       "      <td>1.43</td>\n",
       "      <td></td>\n",
       "    </tr>\n",
       "    <tr>\n",
       "      <th>Albanie</th>\n",
       "      <td>4758.0</td>\n",
       "      <td>73.06</td>\n",
       "      <td>1.16</td>\n",
       "      <td>5.80</td>\n",
       "      <td>2.37</td>\n",
       "      <td>13.87</td>\n",
       "      <td>3.66</td>\n",
       "      <td></td>\n",
       "    </tr>\n",
       "    <tr>\n",
       "      <th>Algérie</th>\n",
       "      <td>42630.0</td>\n",
       "      <td>74.43</td>\n",
       "      <td>1.05</td>\n",
       "      <td>8.80</td>\n",
       "      <td>1.49</td>\n",
       "      <td>10.21</td>\n",
       "      <td>4.00</td>\n",
       "      <td></td>\n",
       "    </tr>\n",
       "    <tr>\n",
       "      <th>Allemagne</th>\n",
       "      <td>162275.0</td>\n",
       "      <td>48.83</td>\n",
       "      <td>0.96</td>\n",
       "      <td>2.33</td>\n",
       "      <td>24.55</td>\n",
       "      <td>18.62</td>\n",
       "      <td>4.75</td>\n",
       "      <td></td>\n",
       "    </tr>\n",
       "    <tr>\n",
       "      <th>...</th>\n",
       "      <td>...</td>\n",
       "      <td>...</td>\n",
       "      <td>...</td>\n",
       "      <td>...</td>\n",
       "      <td>...</td>\n",
       "      <td>...</td>\n",
       "      <td>...</td>\n",
       "      <td>...</td>\n",
       "    </tr>\n",
       "    <tr>\n",
       "      <th>Émirats arabes unis</th>\n",
       "      <td>11850.0</td>\n",
       "      <td>55.26</td>\n",
       "      <td>0.03</td>\n",
       "      <td>5.95</td>\n",
       "      <td>6.78</td>\n",
       "      <td>9.91</td>\n",
       "      <td>22.69</td>\n",
       "      <td></td>\n",
       "    </tr>\n",
       "    <tr>\n",
       "      <th>Équateur</th>\n",
       "      <td>18614.0</td>\n",
       "      <td>46.06</td>\n",
       "      <td>0.74</td>\n",
       "      <td>3.80</td>\n",
       "      <td>33.31</td>\n",
       "      <td>6.45</td>\n",
       "      <td>10.26</td>\n",
       "      <td></td>\n",
       "    </tr>\n",
       "    <tr>\n",
       "      <th>États-Unis d'Amérique</th>\n",
       "      <td>777992.0</td>\n",
       "      <td>41.25</td>\n",
       "      <td>1.34</td>\n",
       "      <td>0.92</td>\n",
       "      <td>18.12</td>\n",
       "      <td>19.08</td>\n",
       "      <td>19.88</td>\n",
       "      <td></td>\n",
       "    </tr>\n",
       "    <tr>\n",
       "      <th>Éthiopie</th>\n",
       "      <td>44014.0</td>\n",
       "      <td>75.80</td>\n",
       "      <td>1.45</td>\n",
       "      <td>5.13</td>\n",
       "      <td>7.82</td>\n",
       "      <td>1.56</td>\n",
       "      <td>8.27</td>\n",
       "      <td></td>\n",
       "    </tr>\n",
       "    <tr>\n",
       "      <th>Îles Salomon</th>\n",
       "      <td>695.0</td>\n",
       "      <td>52.09</td>\n",
       "      <td>0.00</td>\n",
       "      <td>0.86</td>\n",
       "      <td>12.95</td>\n",
       "      <td>0.00</td>\n",
       "      <td>34.10</td>\n",
       "      <td></td>\n",
       "    </tr>\n",
       "  </tbody>\n",
       "</table>\n",
       "<p>174 rows × 8 columns</p>\n",
       "</div>"
      ],
      "text/plain": [
       "                       Disponibilité intérieure  Part_Nourriture  \\\n",
       "Zone                                                               \n",
       "Afghanistan                             13515.0            79.43   \n",
       "Afrique du Sud                          61256.0            48.67   \n",
       "Albanie                                  4758.0            73.06   \n",
       "Algérie                                 42630.0            74.43   \n",
       "Allemagne                              162275.0            48.83   \n",
       "...                                         ...              ...   \n",
       "Émirats arabes unis                     11850.0            55.26   \n",
       "Équateur                                18614.0            46.06   \n",
       "États-Unis d'Amérique                  777992.0            41.25   \n",
       "Éthiopie                                44014.0            75.80   \n",
       "Îles Salomon                              695.0            52.09   \n",
       "\n",
       "                       Part_Semences  Part_Pertes  Part_Trt  Part_Alim_An  \\\n",
       "Zone                                                                        \n",
       "Afghanistan                     2.92         8.40      0.47          5.68   \n",
       "Afrique du Sud                  0.41         3.58     37.25          8.67   \n",
       "Albanie                         1.16         5.80      2.37         13.87   \n",
       "Algérie                         1.05         8.80      1.49         10.21   \n",
       "Allemagne                       0.96         2.33     24.55         18.62   \n",
       "...                              ...          ...       ...           ...   \n",
       "Émirats arabes unis             0.03         5.95      6.78          9.91   \n",
       "Équateur                        0.74         3.80     33.31          6.45   \n",
       "États-Unis d'Amérique           1.34         0.92     18.12         19.08   \n",
       "Éthiopie                        1.45         5.13      7.82          1.56   \n",
       "Îles Salomon                    0.00         0.86     12.95          0.00   \n",
       "\n",
       "                       Part_Autre_Ut Region  \n",
       "Zone                                         \n",
       "Afghanistan                     3.07         \n",
       "Afrique du Sud                  1.43         \n",
       "Albanie                         3.66         \n",
       "Algérie                         4.00         \n",
       "Allemagne                       4.75         \n",
       "...                              ...    ...  \n",
       "Émirats arabes unis            22.69         \n",
       "Équateur                       10.26         \n",
       "États-Unis d'Amérique          19.88         \n",
       "Éthiopie                        8.27         \n",
       "Îles Salomon                   34.10         \n",
       "\n",
       "[174 rows x 8 columns]"
      ]
     },
     "execution_count": 66,
     "metadata": {},
     "output_type": "execute_result"
    }
   ],
   "source": [
    "## création colonne dans tableau result pour acccueillir la variable \"Région\" de type String\n",
    "result[\"Region\"] = \"\"\n",
    "# result.dtypes\n",
    "result[[\"Disponibilité intérieure\",\"Part_Nourriture\", \"Part_Semences\", \"Part_Pertes\", \n",
    "        \"Part_Trt\", \"Part_Alim_An\", \"Part_Autre_Ut\", \"Region\"]]"
   ]
  },
  {
   "cell_type": "code",
   "execution_count": 67,
   "id": "6b9819fd",
   "metadata": {
    "jupyter": {
     "source_hidden": true
    }
   },
   "outputs": [
    {
     "data": {
      "text/html": [
       "<div>\n",
       "<style scoped>\n",
       "    .dataframe tbody tr th:only-of-type {\n",
       "        vertical-align: middle;\n",
       "    }\n",
       "\n",
       "    .dataframe tbody tr th {\n",
       "        vertical-align: top;\n",
       "    }\n",
       "\n",
       "    .dataframe thead th {\n",
       "        text-align: right;\n",
       "    }\n",
       "</style>\n",
       "<table border=\"1\" class=\"dataframe\">\n",
       "  <thead>\n",
       "    <tr style=\"text-align: right;\">\n",
       "      <th></th>\n",
       "      <th>Disponibilité intérieure</th>\n",
       "      <th>Part_Nourriture</th>\n",
       "      <th>Part_Semences</th>\n",
       "      <th>Part_Pertes</th>\n",
       "      <th>Part_Trt</th>\n",
       "      <th>Part_Alim_An</th>\n",
       "      <th>Part_Autre_Ut</th>\n",
       "      <th>Region</th>\n",
       "    </tr>\n",
       "    <tr>\n",
       "      <th>Zone</th>\n",
       "      <th></th>\n",
       "      <th></th>\n",
       "      <th></th>\n",
       "      <th></th>\n",
       "      <th></th>\n",
       "      <th></th>\n",
       "      <th></th>\n",
       "      <th></th>\n",
       "    </tr>\n",
       "  </thead>\n",
       "  <tbody>\n",
       "    <tr>\n",
       "      <th>Afghanistan</th>\n",
       "      <td>13515.0</td>\n",
       "      <td>79.43</td>\n",
       "      <td>2.92</td>\n",
       "      <td>8.40</td>\n",
       "      <td>0.47</td>\n",
       "      <td>5.68</td>\n",
       "      <td>3.07</td>\n",
       "      <td>Proche Orient</td>\n",
       "    </tr>\n",
       "    <tr>\n",
       "      <th>Afrique du Sud</th>\n",
       "      <td>61256.0</td>\n",
       "      <td>48.67</td>\n",
       "      <td>0.41</td>\n",
       "      <td>3.58</td>\n",
       "      <td>37.25</td>\n",
       "      <td>8.67</td>\n",
       "      <td>1.43</td>\n",
       "      <td>Afrique</td>\n",
       "    </tr>\n",
       "    <tr>\n",
       "      <th>Albanie</th>\n",
       "      <td>4758.0</td>\n",
       "      <td>73.06</td>\n",
       "      <td>1.16</td>\n",
       "      <td>5.80</td>\n",
       "      <td>2.37</td>\n",
       "      <td>13.87</td>\n",
       "      <td>3.66</td>\n",
       "      <td>Europe</td>\n",
       "    </tr>\n",
       "    <tr>\n",
       "      <th>Algérie</th>\n",
       "      <td>42630.0</td>\n",
       "      <td>74.43</td>\n",
       "      <td>1.05</td>\n",
       "      <td>8.80</td>\n",
       "      <td>1.49</td>\n",
       "      <td>10.21</td>\n",
       "      <td>4.00</td>\n",
       "      <td>Afrique</td>\n",
       "    </tr>\n",
       "    <tr>\n",
       "      <th>Allemagne</th>\n",
       "      <td>162275.0</td>\n",
       "      <td>48.83</td>\n",
       "      <td>0.96</td>\n",
       "      <td>2.33</td>\n",
       "      <td>24.55</td>\n",
       "      <td>18.62</td>\n",
       "      <td>4.75</td>\n",
       "      <td>Europe</td>\n",
       "    </tr>\n",
       "    <tr>\n",
       "      <th>...</th>\n",
       "      <td>...</td>\n",
       "      <td>...</td>\n",
       "      <td>...</td>\n",
       "      <td>...</td>\n",
       "      <td>...</td>\n",
       "      <td>...</td>\n",
       "      <td>...</td>\n",
       "      <td>...</td>\n",
       "    </tr>\n",
       "    <tr>\n",
       "      <th>Émirats arabes unis</th>\n",
       "      <td>11850.0</td>\n",
       "      <td>55.26</td>\n",
       "      <td>0.03</td>\n",
       "      <td>5.95</td>\n",
       "      <td>6.78</td>\n",
       "      <td>9.91</td>\n",
       "      <td>22.69</td>\n",
       "      <td>Proche Orient</td>\n",
       "    </tr>\n",
       "    <tr>\n",
       "      <th>Équateur</th>\n",
       "      <td>18614.0</td>\n",
       "      <td>46.06</td>\n",
       "      <td>0.74</td>\n",
       "      <td>3.80</td>\n",
       "      <td>33.31</td>\n",
       "      <td>6.45</td>\n",
       "      <td>10.26</td>\n",
       "      <td>Ameriques</td>\n",
       "    </tr>\n",
       "    <tr>\n",
       "      <th>États-Unis d'Amérique</th>\n",
       "      <td>777992.0</td>\n",
       "      <td>41.25</td>\n",
       "      <td>1.34</td>\n",
       "      <td>0.92</td>\n",
       "      <td>18.12</td>\n",
       "      <td>19.08</td>\n",
       "      <td>19.88</td>\n",
       "      <td>Ameriques</td>\n",
       "    </tr>\n",
       "    <tr>\n",
       "      <th>Éthiopie</th>\n",
       "      <td>44014.0</td>\n",
       "      <td>75.80</td>\n",
       "      <td>1.45</td>\n",
       "      <td>5.13</td>\n",
       "      <td>7.82</td>\n",
       "      <td>1.56</td>\n",
       "      <td>8.27</td>\n",
       "      <td>Afrique</td>\n",
       "    </tr>\n",
       "    <tr>\n",
       "      <th>Îles Salomon</th>\n",
       "      <td>695.0</td>\n",
       "      <td>52.09</td>\n",
       "      <td>0.00</td>\n",
       "      <td>0.86</td>\n",
       "      <td>12.95</td>\n",
       "      <td>0.00</td>\n",
       "      <td>34.10</td>\n",
       "      <td>Pacifique</td>\n",
       "    </tr>\n",
       "  </tbody>\n",
       "</table>\n",
       "<p>174 rows × 8 columns</p>\n",
       "</div>"
      ],
      "text/plain": [
       "                       Disponibilité intérieure  Part_Nourriture  \\\n",
       "Zone                                                               \n",
       "Afghanistan                             13515.0            79.43   \n",
       "Afrique du Sud                          61256.0            48.67   \n",
       "Albanie                                  4758.0            73.06   \n",
       "Algérie                                 42630.0            74.43   \n",
       "Allemagne                              162275.0            48.83   \n",
       "...                                         ...              ...   \n",
       "Émirats arabes unis                     11850.0            55.26   \n",
       "Équateur                                18614.0            46.06   \n",
       "États-Unis d'Amérique                  777992.0            41.25   \n",
       "Éthiopie                                44014.0            75.80   \n",
       "Îles Salomon                              695.0            52.09   \n",
       "\n",
       "                       Part_Semences  Part_Pertes  Part_Trt  Part_Alim_An  \\\n",
       "Zone                                                                        \n",
       "Afghanistan                     2.92         8.40      0.47          5.68   \n",
       "Afrique du Sud                  0.41         3.58     37.25          8.67   \n",
       "Albanie                         1.16         5.80      2.37         13.87   \n",
       "Algérie                         1.05         8.80      1.49         10.21   \n",
       "Allemagne                       0.96         2.33     24.55         18.62   \n",
       "...                              ...          ...       ...           ...   \n",
       "Émirats arabes unis             0.03         5.95      6.78          9.91   \n",
       "Équateur                        0.74         3.80     33.31          6.45   \n",
       "États-Unis d'Amérique           1.34         0.92     18.12         19.08   \n",
       "Éthiopie                        1.45         5.13      7.82          1.56   \n",
       "Îles Salomon                    0.00         0.86     12.95          0.00   \n",
       "\n",
       "                       Part_Autre_Ut         Region  \n",
       "Zone                                                 \n",
       "Afghanistan                     3.07  Proche Orient  \n",
       "Afrique du Sud                  1.43        Afrique  \n",
       "Albanie                         3.66         Europe  \n",
       "Algérie                         4.00        Afrique  \n",
       "Allemagne                       4.75         Europe  \n",
       "...                              ...            ...  \n",
       "Émirats arabes unis            22.69  Proche Orient  \n",
       "Équateur                       10.26      Ameriques  \n",
       "États-Unis d'Amérique          19.88      Ameriques  \n",
       "Éthiopie                        8.27        Afrique  \n",
       "Îles Salomon                   34.10      Pacifique  \n",
       "\n",
       "[174 rows x 8 columns]"
      ]
     },
     "execution_count": 67,
     "metadata": {},
     "output_type": "execute_result"
    }
   ],
   "source": [
    "# attribution de la région correspondante à chaque zone/pays\n",
    "for i in range(len(regions)):\n",
    "    if result.index[i] == regions.loc[i,'zone']:\n",
    "        result.iloc[i,13] = regions.loc[i,'region']\n",
    "        y = 0\n",
    "\n",
    "    else:\n",
    "        for y in range(len(regions)):\n",
    "            if result.index[i] != regions.loc[y,'zone']:\n",
    "                continue\n",
    "            result.iloc[i,13] = regions.loc[y,'region']\n",
    "\n",
    "            \n",
    "result[[\"Disponibilité intérieure\",\"Part_Nourriture\", \"Part_Semences\", \"Part_Pertes\", \"Part_Trt\", \"Part_Alim_An\", \"Part_Autre_Ut\", \"Region\"]]\n"
   ]
  },
  {
   "cell_type": "code",
   "execution_count": 68,
   "id": "6dea4d40",
   "metadata": {
    "jupyter": {
     "source_hidden": true
    }
   },
   "outputs": [
    {
     "data": {
      "text/html": [
       "<div>\n",
       "<style scoped>\n",
       "    .dataframe tbody tr th:only-of-type {\n",
       "        vertical-align: middle;\n",
       "    }\n",
       "\n",
       "    .dataframe tbody tr th {\n",
       "        vertical-align: top;\n",
       "    }\n",
       "\n",
       "    .dataframe thead th {\n",
       "        text-align: right;\n",
       "    }\n",
       "</style>\n",
       "<table border=\"1\" class=\"dataframe\">\n",
       "  <thead>\n",
       "    <tr style=\"text-align: right;\">\n",
       "      <th></th>\n",
       "      <th>Disponibilité intérieure</th>\n",
       "      <th>Part_Nourriture</th>\n",
       "      <th>Part_Semences</th>\n",
       "      <th>Part_Pertes</th>\n",
       "      <th>Part_Trt</th>\n",
       "      <th>Part_Alim_An</th>\n",
       "      <th>Part_Autre_Ut</th>\n",
       "    </tr>\n",
       "    <tr>\n",
       "      <th>Region</th>\n",
       "      <th></th>\n",
       "      <th></th>\n",
       "      <th></th>\n",
       "      <th></th>\n",
       "      <th></th>\n",
       "      <th></th>\n",
       "      <th></th>\n",
       "    </tr>\n",
       "  </thead>\n",
       "  <tbody>\n",
       "    <tr>\n",
       "      <th>Afrique</th>\n",
       "      <td>937915.0</td>\n",
       "      <td>62.24</td>\n",
       "      <td>1.17</td>\n",
       "      <td>8.02</td>\n",
       "      <td>13.05</td>\n",
       "      <td>10.69</td>\n",
       "      <td>4.82</td>\n",
       "    </tr>\n",
       "    <tr>\n",
       "      <th>Ameriques</th>\n",
       "      <td>2580317.0</td>\n",
       "      <td>30.37</td>\n",
       "      <td>0.90</td>\n",
       "      <td>4.51</td>\n",
       "      <td>31.32</td>\n",
       "      <td>11.75</td>\n",
       "      <td>21.39</td>\n",
       "    </tr>\n",
       "    <tr>\n",
       "      <th>Asie</th>\n",
       "      <td>4412665.0</td>\n",
       "      <td>57.73</td>\n",
       "      <td>1.53</td>\n",
       "      <td>4.57</td>\n",
       "      <td>20.52</td>\n",
       "      <td>11.56</td>\n",
       "      <td>4.12</td>\n",
       "    </tr>\n",
       "    <tr>\n",
       "      <th>Europe</th>\n",
       "      <td>1616801.0</td>\n",
       "      <td>48.66</td>\n",
       "      <td>3.02</td>\n",
       "      <td>2.94</td>\n",
       "      <td>19.82</td>\n",
       "      <td>21.10</td>\n",
       "      <td>4.55</td>\n",
       "    </tr>\n",
       "    <tr>\n",
       "      <th>Pacifique</th>\n",
       "      <td>80197.0</td>\n",
       "      <td>34.29</td>\n",
       "      <td>1.48</td>\n",
       "      <td>1.19</td>\n",
       "      <td>42.31</td>\n",
       "      <td>13.81</td>\n",
       "      <td>6.97</td>\n",
       "    </tr>\n",
       "    <tr>\n",
       "      <th>Proche Orient</th>\n",
       "      <td>221099.0</td>\n",
       "      <td>66.62</td>\n",
       "      <td>1.37</td>\n",
       "      <td>5.31</td>\n",
       "      <td>6.34</td>\n",
       "      <td>17.51</td>\n",
       "      <td>3.14</td>\n",
       "    </tr>\n",
       "  </tbody>\n",
       "</table>\n",
       "</div>"
      ],
      "text/plain": [
       "               Disponibilité intérieure  Part_Nourriture  Part_Semences  \\\n",
       "Region                                                                    \n",
       "Afrique                        937915.0            62.24           1.17   \n",
       "Ameriques                     2580317.0            30.37           0.90   \n",
       "Asie                          4412665.0            57.73           1.53   \n",
       "Europe                        1616801.0            48.66           3.02   \n",
       "Pacifique                       80197.0            34.29           1.48   \n",
       "Proche Orient                  221099.0            66.62           1.37   \n",
       "\n",
       "               Part_Pertes  Part_Trt  Part_Alim_An  Part_Autre_Ut  \n",
       "Region                                                             \n",
       "Afrique               8.02     13.05         10.69           4.82  \n",
       "Ameriques             4.51     31.32         11.75          21.39  \n",
       "Asie                  4.57     20.52         11.56           4.12  \n",
       "Europe                2.94     19.82         21.10           4.55  \n",
       "Pacifique             1.19     42.31         13.81           6.97  \n",
       "Proche Orient         5.31      6.34         17.51           3.14  "
      ]
     },
     "execution_count": 68,
     "metadata": {},
     "output_type": "execute_result"
    }
   ],
   "source": [
    "# répartition de la distribution intérieure par région\n",
    "gb2 = result[[\"Region\",\"Disponibilité intérieure\",\"Nourriture\", \"Semences\", \"Pertes\", \"Traitement\", \"Aliments pour animaux\", \"Autres Utilisations\"]]\n",
    "gb2 = gb2.groupby(\"Region\").sum()\n",
    "gb2[\"Part_Nourriture\"] = round(gb2[\"Nourriture\"]/gb2[\"Disponibilité intérieure\"]*100,2)\n",
    "gb2[\"Part_Semences\"] = round(gb2[\"Semences\"]/gb2[\"Disponibilité intérieure\"]*100,2)\n",
    "gb2[\"Part_Pertes\"] = round(gb2[\"Pertes\"]/gb2[\"Disponibilité intérieure\"]*100,2)\n",
    "gb2[\"Part_Trt\"] = round(gb2[\"Traitement\"]/gb2[\"Disponibilité intérieure\"]*100,2)\n",
    "gb2[\"Part_Alim_An\"] = round(gb2[\"Aliments pour animaux\"]/gb2[\"Disponibilité intérieure\"]*100,2)\n",
    "gb2[\"Part_Autre_Ut\"] = round(gb2[\"Autres Utilisations\"]/gb2[\"Disponibilité intérieure\"]*100,2)\n",
    "gb2[[\"Disponibilité intérieure\",\"Part_Nourriture\", \"Part_Semences\", \"Part_Pertes\", \"Part_Trt\", \"Part_Alim_An\", \"Part_Autre_Ut\"]]"
   ]
  },
  {
   "cell_type": "markdown",
   "id": "77bf18b8",
   "metadata": {},
   "source": [
    "### Calcul global (graphique)"
   ]
  },
  {
   "cell_type": "markdown",
   "id": "7ccc99ff",
   "metadata": {},
   "source": [
    "## Utilisation des céréales"
   ]
  },
  {
   "cell_type": "markdown",
   "id": "5bb9341a",
   "metadata": {},
   "source": [
    "### Liste des céréales"
   ]
  },
  {
   "cell_type": "code",
   "execution_count": 149,
   "id": "cde67a45",
   "metadata": {
    "jupyter": {
     "source_hidden": true
    },
    "scrolled": true
   },
   "outputs": [
    {
     "data": {
      "text/html": [
       "<div>\n",
       "<style scoped>\n",
       "    .dataframe tbody tr th:only-of-type {\n",
       "        vertical-align: middle;\n",
       "    }\n",
       "\n",
       "    .dataframe tbody tr th {\n",
       "        vertical-align: top;\n",
       "    }\n",
       "\n",
       "    .dataframe thead th {\n",
       "        text-align: right;\n",
       "    }\n",
       "</style>\n",
       "<table border=\"1\" class=\"dataframe\">\n",
       "  <thead>\n",
       "    <tr style=\"text-align: right;\">\n",
       "      <th></th>\n",
       "      <th>Code Domaine</th>\n",
       "      <th>Domaine</th>\n",
       "      <th>Code zone (FAO)</th>\n",
       "      <th>Zone</th>\n",
       "      <th>Code Élément</th>\n",
       "      <th>Élément</th>\n",
       "      <th>Code Produit</th>\n",
       "      <th>Produit</th>\n",
       "      <th>Code année</th>\n",
       "      <th>Année</th>\n",
       "      <th>Unité</th>\n",
       "      <th>Valeur</th>\n",
       "      <th>Symbole</th>\n",
       "      <th>Description du Symbole</th>\n",
       "    </tr>\n",
       "  </thead>\n",
       "  <tbody>\n",
       "    <tr>\n",
       "      <th>0</th>\n",
       "      <td>FBS</td>\n",
       "      <td>Bilans Alimentaires (2010-)</td>\n",
       "      <td>2</td>\n",
       "      <td>Afghanistan</td>\n",
       "      <td>5521</td>\n",
       "      <td>Aliments pour animaux</td>\n",
       "      <td>2905</td>\n",
       "      <td>Cèrèales - Excl Bière</td>\n",
       "      <td>2017</td>\n",
       "      <td>2017</td>\n",
       "      <td>Milliers de tonnes</td>\n",
       "      <td>403</td>\n",
       "      <td>A</td>\n",
       "      <td>Agrégat, peut inclure des données officielles,...</td>\n",
       "    </tr>\n",
       "    <tr>\n",
       "      <th>1</th>\n",
       "      <td>FBS</td>\n",
       "      <td>Bilans Alimentaires (2010-)</td>\n",
       "      <td>2</td>\n",
       "      <td>Afghanistan</td>\n",
       "      <td>5142</td>\n",
       "      <td>Nourriture</td>\n",
       "      <td>2905</td>\n",
       "      <td>Cèrèales - Excl Bière</td>\n",
       "      <td>2017</td>\n",
       "      <td>2017</td>\n",
       "      <td>Milliers de tonnes</td>\n",
       "      <td>6746</td>\n",
       "      <td>A</td>\n",
       "      <td>Agrégat, peut inclure des données officielles,...</td>\n",
       "    </tr>\n",
       "    <tr>\n",
       "      <th>2</th>\n",
       "      <td>FBS</td>\n",
       "      <td>Bilans Alimentaires (2010-)</td>\n",
       "      <td>202</td>\n",
       "      <td>Afrique du Sud</td>\n",
       "      <td>5521</td>\n",
       "      <td>Aliments pour animaux</td>\n",
       "      <td>2905</td>\n",
       "      <td>Cèrèales - Excl Bière</td>\n",
       "      <td>2017</td>\n",
       "      <td>2017</td>\n",
       "      <td>Milliers de tonnes</td>\n",
       "      <td>5325</td>\n",
       "      <td>A</td>\n",
       "      <td>Agrégat, peut inclure des données officielles,...</td>\n",
       "    </tr>\n",
       "    <tr>\n",
       "      <th>3</th>\n",
       "      <td>FBS</td>\n",
       "      <td>Bilans Alimentaires (2010-)</td>\n",
       "      <td>202</td>\n",
       "      <td>Afrique du Sud</td>\n",
       "      <td>5142</td>\n",
       "      <td>Nourriture</td>\n",
       "      <td>2905</td>\n",
       "      <td>Cèrèales - Excl Bière</td>\n",
       "      <td>2017</td>\n",
       "      <td>2017</td>\n",
       "      <td>Milliers de tonnes</td>\n",
       "      <td>10024</td>\n",
       "      <td>A</td>\n",
       "      <td>Agrégat, peut inclure des données officielles,...</td>\n",
       "    </tr>\n",
       "    <tr>\n",
       "      <th>4</th>\n",
       "      <td>FBS</td>\n",
       "      <td>Bilans Alimentaires (2010-)</td>\n",
       "      <td>3</td>\n",
       "      <td>Albanie</td>\n",
       "      <td>5521</td>\n",
       "      <td>Aliments pour animaux</td>\n",
       "      <td>2905</td>\n",
       "      <td>Cèrèales - Excl Bière</td>\n",
       "      <td>2017</td>\n",
       "      <td>2017</td>\n",
       "      <td>Milliers de tonnes</td>\n",
       "      <td>455</td>\n",
       "      <td>A</td>\n",
       "      <td>Agrégat, peut inclure des données officielles,...</td>\n",
       "    </tr>\n",
       "    <tr>\n",
       "      <th>...</th>\n",
       "      <td>...</td>\n",
       "      <td>...</td>\n",
       "      <td>...</td>\n",
       "      <td>...</td>\n",
       "      <td>...</td>\n",
       "      <td>...</td>\n",
       "      <td>...</td>\n",
       "      <td>...</td>\n",
       "      <td>...</td>\n",
       "      <td>...</td>\n",
       "      <td>...</td>\n",
       "      <td>...</td>\n",
       "      <td>...</td>\n",
       "      <td>...</td>\n",
       "    </tr>\n",
       "    <tr>\n",
       "      <th>353</th>\n",
       "      <td>FBS</td>\n",
       "      <td>Bilans Alimentaires (2010-)</td>\n",
       "      <td>249</td>\n",
       "      <td>Yémen</td>\n",
       "      <td>5142</td>\n",
       "      <td>Nourriture</td>\n",
       "      <td>2905</td>\n",
       "      <td>Cèrèales - Excl Bière</td>\n",
       "      <td>2017</td>\n",
       "      <td>2017</td>\n",
       "      <td>Milliers de tonnes</td>\n",
       "      <td>4546</td>\n",
       "      <td>A</td>\n",
       "      <td>Agrégat, peut inclure des données officielles,...</td>\n",
       "    </tr>\n",
       "    <tr>\n",
       "      <th>354</th>\n",
       "      <td>FBS</td>\n",
       "      <td>Bilans Alimentaires (2010-)</td>\n",
       "      <td>251</td>\n",
       "      <td>Zambie</td>\n",
       "      <td>5521</td>\n",
       "      <td>Aliments pour animaux</td>\n",
       "      <td>2905</td>\n",
       "      <td>Cèrèales - Excl Bière</td>\n",
       "      <td>2017</td>\n",
       "      <td>2017</td>\n",
       "      <td>Milliers de tonnes</td>\n",
       "      <td>266</td>\n",
       "      <td>A</td>\n",
       "      <td>Agrégat, peut inclure des données officielles,...</td>\n",
       "    </tr>\n",
       "    <tr>\n",
       "      <th>355</th>\n",
       "      <td>FBS</td>\n",
       "      <td>Bilans Alimentaires (2010-)</td>\n",
       "      <td>251</td>\n",
       "      <td>Zambie</td>\n",
       "      <td>5142</td>\n",
       "      <td>Nourriture</td>\n",
       "      <td>2905</td>\n",
       "      <td>Cèrèales - Excl Bière</td>\n",
       "      <td>2017</td>\n",
       "      <td>2017</td>\n",
       "      <td>Milliers de tonnes</td>\n",
       "      <td>2455</td>\n",
       "      <td>A</td>\n",
       "      <td>Agrégat, peut inclure des données officielles,...</td>\n",
       "    </tr>\n",
       "    <tr>\n",
       "      <th>356</th>\n",
       "      <td>FBS</td>\n",
       "      <td>Bilans Alimentaires (2010-)</td>\n",
       "      <td>181</td>\n",
       "      <td>Zimbabwe</td>\n",
       "      <td>5521</td>\n",
       "      <td>Aliments pour animaux</td>\n",
       "      <td>2905</td>\n",
       "      <td>Cèrèales - Excl Bière</td>\n",
       "      <td>2017</td>\n",
       "      <td>2017</td>\n",
       "      <td>Milliers de tonnes</td>\n",
       "      <td>226</td>\n",
       "      <td>A</td>\n",
       "      <td>Agrégat, peut inclure des données officielles,...</td>\n",
       "    </tr>\n",
       "    <tr>\n",
       "      <th>357</th>\n",
       "      <td>FBS</td>\n",
       "      <td>Bilans Alimentaires (2010-)</td>\n",
       "      <td>181</td>\n",
       "      <td>Zimbabwe</td>\n",
       "      <td>5142</td>\n",
       "      <td>Nourriture</td>\n",
       "      <td>2905</td>\n",
       "      <td>Cèrèales - Excl Bière</td>\n",
       "      <td>2017</td>\n",
       "      <td>2017</td>\n",
       "      <td>Milliers de tonnes</td>\n",
       "      <td>1695</td>\n",
       "      <td>A</td>\n",
       "      <td>Agrégat, peut inclure des données officielles,...</td>\n",
       "    </tr>\n",
       "  </tbody>\n",
       "</table>\n",
       "<p>358 rows × 14 columns</p>\n",
       "</div>"
      ],
      "text/plain": [
       "    Code Domaine                      Domaine  Code zone (FAO)  \\\n",
       "0            FBS  Bilans Alimentaires (2010-)                2   \n",
       "1            FBS  Bilans Alimentaires (2010-)                2   \n",
       "2            FBS  Bilans Alimentaires (2010-)              202   \n",
       "3            FBS  Bilans Alimentaires (2010-)              202   \n",
       "4            FBS  Bilans Alimentaires (2010-)                3   \n",
       "..           ...                          ...              ...   \n",
       "353          FBS  Bilans Alimentaires (2010-)              249   \n",
       "354          FBS  Bilans Alimentaires (2010-)              251   \n",
       "355          FBS  Bilans Alimentaires (2010-)              251   \n",
       "356          FBS  Bilans Alimentaires (2010-)              181   \n",
       "357          FBS  Bilans Alimentaires (2010-)              181   \n",
       "\n",
       "               Zone  Code Élément                Élément  Code Produit  \\\n",
       "0       Afghanistan          5521  Aliments pour animaux          2905   \n",
       "1       Afghanistan          5142             Nourriture          2905   \n",
       "2    Afrique du Sud          5521  Aliments pour animaux          2905   \n",
       "3    Afrique du Sud          5142             Nourriture          2905   \n",
       "4           Albanie          5521  Aliments pour animaux          2905   \n",
       "..              ...           ...                    ...           ...   \n",
       "353           Yémen          5142             Nourriture          2905   \n",
       "354          Zambie          5521  Aliments pour animaux          2905   \n",
       "355          Zambie          5142             Nourriture          2905   \n",
       "356        Zimbabwe          5521  Aliments pour animaux          2905   \n",
       "357        Zimbabwe          5142             Nourriture          2905   \n",
       "\n",
       "                   Produit  Code année  Année               Unité  Valeur  \\\n",
       "0    Cèrèales - Excl Bière        2017   2017  Milliers de tonnes     403   \n",
       "1    Cèrèales - Excl Bière        2017   2017  Milliers de tonnes    6746   \n",
       "2    Cèrèales - Excl Bière        2017   2017  Milliers de tonnes    5325   \n",
       "3    Cèrèales - Excl Bière        2017   2017  Milliers de tonnes   10024   \n",
       "4    Cèrèales - Excl Bière        2017   2017  Milliers de tonnes     455   \n",
       "..                     ...         ...    ...                 ...     ...   \n",
       "353  Cèrèales - Excl Bière        2017   2017  Milliers de tonnes    4546   \n",
       "354  Cèrèales - Excl Bière        2017   2017  Milliers de tonnes     266   \n",
       "355  Cèrèales - Excl Bière        2017   2017  Milliers de tonnes    2455   \n",
       "356  Cèrèales - Excl Bière        2017   2017  Milliers de tonnes     226   \n",
       "357  Cèrèales - Excl Bière        2017   2017  Milliers de tonnes    1695   \n",
       "\n",
       "    Symbole                             Description du Symbole  \n",
       "0         A  Agrégat, peut inclure des données officielles,...  \n",
       "1         A  Agrégat, peut inclure des données officielles,...  \n",
       "2         A  Agrégat, peut inclure des données officielles,...  \n",
       "3         A  Agrégat, peut inclure des données officielles,...  \n",
       "4         A  Agrégat, peut inclure des données officielles,...  \n",
       "..      ...                                                ...  \n",
       "353       A  Agrégat, peut inclure des données officielles,...  \n",
       "354       A  Agrégat, peut inclure des données officielles,...  \n",
       "355       A  Agrégat, peut inclure des données officielles,...  \n",
       "356       A  Agrégat, peut inclure des données officielles,...  \n",
       "357       A  Agrégat, peut inclure des données officielles,...  \n",
       "\n",
       "[358 rows x 14 columns]"
      ]
     },
     "execution_count": 149,
     "metadata": {},
     "output_type": "execute_result"
    }
   ],
   "source": [
    "## importation des data depuis le site de la FAO\n",
    "## total par pays des céréales avec répartition Animaux / Humains\n",
    "cereales"
   ]
  },
  {
   "cell_type": "markdown",
   "id": "f16a9a62",
   "metadata": {},
   "source": [
    "### Répartition Hommes / Animaux"
   ]
  },
  {
   "cell_type": "code",
   "execution_count": 70,
   "id": "7901147b",
   "metadata": {
    "jupyter": {
     "source_hidden": true
    }
   },
   "outputs": [
    {
     "data": {
      "text/html": [
       "<div>\n",
       "<style scoped>\n",
       "    .dataframe tbody tr th:only-of-type {\n",
       "        vertical-align: middle;\n",
       "    }\n",
       "\n",
       "    .dataframe tbody tr th {\n",
       "        vertical-align: top;\n",
       "    }\n",
       "\n",
       "    .dataframe thead th {\n",
       "        text-align: right;\n",
       "    }\n",
       "</style>\n",
       "<table border=\"1\" class=\"dataframe\">\n",
       "  <thead>\n",
       "    <tr style=\"text-align: right;\">\n",
       "      <th></th>\n",
       "      <th>Zone</th>\n",
       "      <th>Répartition</th>\n",
       "      <th>Total en Milliers de tonnes</th>\n",
       "    </tr>\n",
       "  </thead>\n",
       "  <tbody>\n",
       "    <tr>\n",
       "      <th>0</th>\n",
       "      <td>Afghanistan</td>\n",
       "      <td>Aliments pour animaux</td>\n",
       "      <td>403</td>\n",
       "    </tr>\n",
       "    <tr>\n",
       "      <th>1</th>\n",
       "      <td>Afghanistan</td>\n",
       "      <td>Nourriture</td>\n",
       "      <td>6746</td>\n",
       "    </tr>\n",
       "    <tr>\n",
       "      <th>2</th>\n",
       "      <td>Afrique du Sud</td>\n",
       "      <td>Aliments pour animaux</td>\n",
       "      <td>5325</td>\n",
       "    </tr>\n",
       "    <tr>\n",
       "      <th>3</th>\n",
       "      <td>Afrique du Sud</td>\n",
       "      <td>Nourriture</td>\n",
       "      <td>10024</td>\n",
       "    </tr>\n",
       "    <tr>\n",
       "      <th>4</th>\n",
       "      <td>Albanie</td>\n",
       "      <td>Aliments pour animaux</td>\n",
       "      <td>455</td>\n",
       "    </tr>\n",
       "    <tr>\n",
       "      <th>...</th>\n",
       "      <td>...</td>\n",
       "      <td>...</td>\n",
       "      <td>...</td>\n",
       "    </tr>\n",
       "    <tr>\n",
       "      <th>353</th>\n",
       "      <td>Yémen</td>\n",
       "      <td>Nourriture</td>\n",
       "      <td>4546</td>\n",
       "    </tr>\n",
       "    <tr>\n",
       "      <th>354</th>\n",
       "      <td>Zambie</td>\n",
       "      <td>Aliments pour animaux</td>\n",
       "      <td>266</td>\n",
       "    </tr>\n",
       "    <tr>\n",
       "      <th>355</th>\n",
       "      <td>Zambie</td>\n",
       "      <td>Nourriture</td>\n",
       "      <td>2455</td>\n",
       "    </tr>\n",
       "    <tr>\n",
       "      <th>356</th>\n",
       "      <td>Zimbabwe</td>\n",
       "      <td>Aliments pour animaux</td>\n",
       "      <td>226</td>\n",
       "    </tr>\n",
       "    <tr>\n",
       "      <th>357</th>\n",
       "      <td>Zimbabwe</td>\n",
       "      <td>Nourriture</td>\n",
       "      <td>1695</td>\n",
       "    </tr>\n",
       "  </tbody>\n",
       "</table>\n",
       "<p>358 rows × 3 columns</p>\n",
       "</div>"
      ],
      "text/plain": [
       "               Zone            Répartition  Total en Milliers de tonnes\n",
       "0       Afghanistan  Aliments pour animaux                          403\n",
       "1       Afghanistan             Nourriture                         6746\n",
       "2    Afrique du Sud  Aliments pour animaux                         5325\n",
       "3    Afrique du Sud             Nourriture                        10024\n",
       "4           Albanie  Aliments pour animaux                          455\n",
       "..              ...                    ...                          ...\n",
       "353           Yémen             Nourriture                         4546\n",
       "354          Zambie  Aliments pour animaux                          266\n",
       "355          Zambie             Nourriture                         2455\n",
       "356        Zimbabwe  Aliments pour animaux                          226\n",
       "357        Zimbabwe             Nourriture                         1695\n",
       "\n",
       "[358 rows x 3 columns]"
      ]
     },
     "execution_count": 70,
     "metadata": {},
     "output_type": "execute_result"
    }
   ],
   "source": [
    "cereales.drop(columns=['Année','Description du Symbole','Code Produit', 'Code année', 'Code zone (FAO)','Code Élément', 'Code Domaine', 'Domaine', 'Produit', 'Unité', 'Symbole'], inplace=True)\n",
    "cereales.rename(columns=  {\"Valeur\": 'Total en Milliers de tonnes', \"Élément\" : \"Répartition\"}, inplace = True) \n",
    "cereales\n"
   ]
  },
  {
   "cell_type": "code",
   "execution_count": 71,
   "id": "fc28c456",
   "metadata": {
    "jupyter": {
     "source_hidden": true
    }
   },
   "outputs": [
    {
     "name": "stdout",
     "output_type": "stream",
     "text": [
      "Répartition de l'utilisation des céréales par pays en 2017\n",
      "\n",
      "Alimentation pour animaux / Alimentation humaine\n"
     ]
    },
    {
     "data": {
      "text/html": [
       "<div>\n",
       "<style scoped>\n",
       "    .dataframe tbody tr th:only-of-type {\n",
       "        vertical-align: middle;\n",
       "    }\n",
       "\n",
       "    .dataframe tbody tr th {\n",
       "        vertical-align: top;\n",
       "    }\n",
       "\n",
       "    .dataframe thead th {\n",
       "        text-align: right;\n",
       "    }\n",
       "</style>\n",
       "<table border=\"1\" class=\"dataframe\">\n",
       "  <thead>\n",
       "    <tr style=\"text-align: right;\">\n",
       "      <th></th>\n",
       "      <th></th>\n",
       "      <th>Total en Milliers de tonnes</th>\n",
       "    </tr>\n",
       "    <tr>\n",
       "      <th>Zone</th>\n",
       "      <th>Répartition</th>\n",
       "      <th></th>\n",
       "    </tr>\n",
       "  </thead>\n",
       "  <tbody>\n",
       "    <tr>\n",
       "      <th rowspan=\"2\" valign=\"top\">Afghanistan</th>\n",
       "      <th>Aliments pour animaux</th>\n",
       "      <td>403</td>\n",
       "    </tr>\n",
       "    <tr>\n",
       "      <th>Nourriture</th>\n",
       "      <td>6746</td>\n",
       "    </tr>\n",
       "    <tr>\n",
       "      <th rowspan=\"2\" valign=\"top\">Afrique du Sud</th>\n",
       "      <th>Aliments pour animaux</th>\n",
       "      <td>5325</td>\n",
       "    </tr>\n",
       "    <tr>\n",
       "      <th>Nourriture</th>\n",
       "      <td>10024</td>\n",
       "    </tr>\n",
       "    <tr>\n",
       "      <th>Albanie</th>\n",
       "      <th>Aliments pour animaux</th>\n",
       "      <td>455</td>\n",
       "    </tr>\n",
       "    <tr>\n",
       "      <th>...</th>\n",
       "      <th>...</th>\n",
       "      <td>...</td>\n",
       "    </tr>\n",
       "    <tr>\n",
       "      <th>États-Unis d'Amérique</th>\n",
       "      <th>Nourriture</th>\n",
       "      <td>35507</td>\n",
       "    </tr>\n",
       "    <tr>\n",
       "      <th rowspan=\"2\" valign=\"top\">Éthiopie</th>\n",
       "      <th>Aliments pour animaux</th>\n",
       "      <td>1153</td>\n",
       "    </tr>\n",
       "    <tr>\n",
       "      <th>Nourriture</th>\n",
       "      <td>19600</td>\n",
       "    </tr>\n",
       "    <tr>\n",
       "      <th rowspan=\"2\" valign=\"top\">Îles Salomon</th>\n",
       "      <th>Aliments pour animaux</th>\n",
       "      <td>7</td>\n",
       "    </tr>\n",
       "    <tr>\n",
       "      <th>Nourriture</th>\n",
       "      <td>76</td>\n",
       "    </tr>\n",
       "  </tbody>\n",
       "</table>\n",
       "<p>358 rows × 1 columns</p>\n",
       "</div>"
      ],
      "text/plain": [
       "                                             Total en Milliers de tonnes\n",
       "Zone                  Répartition                                       \n",
       "Afghanistan           Aliments pour animaux                          403\n",
       "                      Nourriture                                    6746\n",
       "Afrique du Sud        Aliments pour animaux                         5325\n",
       "                      Nourriture                                   10024\n",
       "Albanie               Aliments pour animaux                          455\n",
       "...                                                                  ...\n",
       "États-Unis d'Amérique Nourriture                                   35507\n",
       "Éthiopie              Aliments pour animaux                         1153\n",
       "                      Nourriture                                   19600\n",
       "Îles Salomon          Aliments pour animaux                            7\n",
       "                      Nourriture                                      76\n",
       "\n",
       "[358 rows x 1 columns]"
      ]
     },
     "execution_count": 71,
     "metadata": {},
     "output_type": "execute_result"
    }
   ],
   "source": [
    "cereales2 = pd.pivot_table(cereales , index=['Zone','Répartition'])\n",
    "print(\"Répartition de l'utilisation des céréales par pays en 2017\")\n",
    "print(\"\")\n",
    "print(\"Alimentation pour animaux / Alimentation humaine\")\n",
    "\n",
    "cereales2"
   ]
  },
  {
   "cell_type": "markdown",
   "id": "532828bf",
   "metadata": {},
   "source": [
    "### Représentation graphique"
   ]
  },
  {
   "cell_type": "code",
   "execution_count": 72,
   "id": "e8d0d96a",
   "metadata": {
    "jupyter": {
     "source_hidden": true
    },
    "scrolled": true
   },
   "outputs": [
    {
     "data": {
      "application/vnd.plotly.v1+json": {
       "config": {
        "plotlyServerURL": "https://plot.ly"
       },
       "data": [
        {
         "alignmentgroup": "True",
         "bingroup": "x",
         "histfunc": "sum",
         "hovertemplate": "Répartition=Aliments pour animaux<br>Zone=%{x}<br>sum of Total en Milliers de tonnes=%{y}<extra></extra>",
         "legendgroup": "Aliments pour animaux",
         "marker": {
          "color": "#636efa",
          "pattern": {
           "shape": ""
          }
         },
         "name": "Aliments pour animaux",
         "offsetgroup": "Aliments pour animaux",
         "orientation": "v",
         "showlegend": true,
         "type": "histogram",
         "x": [
          "Afghanistan",
          "Afrique du Sud",
          "Albanie",
          "Algérie",
          "Allemagne",
          "Angola",
          "Antigua-et-Barbuda",
          "Arabie saoudite",
          "Argentine",
          "Arménie",
          "Australie",
          "Autriche",
          "Azerbaïdjan",
          "Bahamas",
          "Bangladesh",
          "Barbade",
          "Bélarus",
          "Belgique",
          "Belize",
          "Bénin",
          "Bolivie (État plurinational de)",
          "Bosnie-Herzégovine",
          "Botswana",
          "Brésil",
          "Bulgarie",
          "Burkina Faso",
          "Burundi",
          "Cabo Verde",
          "Cambodge",
          "Cameroun",
          "Canada",
          "Chili",
          "Chine - RAS de Hong-Kong",
          "Chine - RAS de Macao",
          "Chine, continentale",
          "Chine, Taiwan Province de",
          "Chypre",
          "Colombie",
          "Comores",
          "Congo",
          "Costa Rica",
          "Côte d'Ivoire",
          "Croatie",
          "Cuba",
          "Danemark",
          "Djibouti",
          "Dominique",
          "Égypte",
          "El Salvador",
          "Émirats arabes unis",
          "Équateur",
          "Espagne",
          "Estonie",
          "Eswatini",
          "États-Unis d'Amérique",
          "Éthiopie",
          "Fédération de Russie",
          "Fidji",
          "Finlande",
          "France",
          "Gabon",
          "Gambie",
          "Géorgie",
          "Ghana",
          "Grèce",
          "Grenade",
          "Guatemala",
          "Guinée",
          "Guinée-Bissau",
          "Guyana",
          "Haïti",
          "Honduras",
          "Hongrie",
          "Îles Salomon",
          "Inde",
          "Indonésie",
          "Iran (République islamique d')",
          "Iraq",
          "Irlande",
          "Islande",
          "Israël",
          "Italie",
          "Jamaïque",
          "Japon",
          "Jordanie",
          "Kazakhstan",
          "Kenya",
          "Kirghizistan",
          "Kiribati",
          "Koweït",
          "Lesotho",
          "Lettonie",
          "Liban",
          "Libéria",
          "Libye",
          "Lituanie",
          "Luxembourg",
          "Macédoine du Nord",
          "Madagascar",
          "Malaisie",
          "Malawi",
          "Maldives",
          "Mali",
          "Malte",
          "Maroc",
          "Maurice",
          "Mauritanie",
          "Mexique",
          "Mongolie",
          "Monténégro",
          "Mozambique",
          "Myanmar",
          "Namibie",
          "Népal",
          "Nicaragua",
          "Niger",
          "Nigéria",
          "Norvège",
          "Nouvelle-Calédonie",
          "Nouvelle-Zélande",
          "Oman",
          "Ouganda",
          "Ouzbékistan",
          "Pakistan",
          "Panama",
          "Papouasie-Nouvelle-Guinée",
          "Paraguay",
          "Pays-Bas",
          "Pérou",
          "Philippines",
          "Pologne",
          "Polynésie française",
          "Portugal",
          "République arabe syrienne",
          "République centrafricaine",
          "République de Corée",
          "République de Moldova",
          "République démocratique du Congo",
          "République démocratique populaire lao",
          "République dominicaine",
          "République populaire démocratique de Corée",
          "République-Unie de Tanzanie",
          "Roumanie",
          "Royaume-Uni de Grande-Bretagne et d'Irlande du Nord",
          "Rwanda",
          "Sainte-Lucie",
          "Saint-Kitts-et-Nevis",
          "Saint-Vincent-et-les Grenadines",
          "Samoa",
          "Sao Tomé-et-Principe",
          "Sénégal",
          "Serbie",
          "Seychelles",
          "Sierra Leone",
          "Slovaquie",
          "Slovénie",
          "Soudan",
          "Sri Lanka",
          "Suède",
          "Suisse",
          "Suriname",
          "Tadjikistan",
          "Tchad",
          "Tchéquie",
          "Thaïlande",
          "Timor-Leste",
          "Togo",
          "Trinité-et-Tobago",
          "Tunisie",
          "Turkménistan",
          "Turquie",
          "Ukraine",
          "Uruguay",
          "Vanuatu",
          "Venezuela (République bolivarienne du)",
          "Viet Nam",
          "Yémen",
          "Zambie",
          "Zimbabwe"
         ],
         "xaxis": "x",
         "y": [
          403,
          5325,
          455,
          4845,
          25308,
          633,
          0,
          11269,
          20541,
          234,
          9045,
          2743,
          1511,
          1,
          8859,
          25,
          5182,
          3373,
          62,
          570,
          1213,
          766,
          15,
          48751,
          530,
          90,
          13,
          7,
          708,
          826,
          19273,
          3030,
          4,
          0,
          214896,
          4463,
          432,
          4933,
          2,
          22,
          689,
          605,
          1281,
          1227,
          7171,
          2,
          0,
          10840,
          872,
          1369,
          1174,
          22618,
          243,
          41,
          140512,
          1153,
          41619,
          3,
          2039,
          18171,
          23,
          8,
          91,
          1006,
          3108,
          5,
          901,
          1492,
          11,
          212,
          157,
          451,
          4169,
          7,
          16524,
          6443,
          13413,
          1801,
          3253,
          52,
          2833,
          13818,
          244,
          13312,
          1584,
          2437,
          182,
          1037,
          0,
          774,
          11,
          338,
          751,
          21,
          1500,
          807,
          87,
          255,
          348,
          3554,
          271,
          0,
          1282,
          57,
          3910,
          73,
          18,
          22928,
          9,
          40,
          127,
          9807,
          34,
          2236,
          129,
          658,
          4695,
          1147,
          22,
          915,
          187,
          155,
          1690,
          2136,
          487,
          1,
          1194,
          9909,
          4750,
          7431,
          15951,
          3,
          3188,
          1137,
          1,
          8120,
          1509,
          183,
          862,
          1470,
          283,
          872,
          7719,
          12164,
          246,
          1,
          0,
          8,
          0,
          0,
          230,
          2890,
          1,
          175,
          663,
          301,
          370,
          230,
          2551,
          1043,
          22,
          888,
          79,
          2052,
          7941,
          10,
          330,
          96,
          2318,
          75,
          12475,
          5908,
          857,
          1,
          1568,
          14116,
          381,
          266,
          226
         ],
         "yaxis": "y"
        },
        {
         "alignmentgroup": "True",
         "bingroup": "x",
         "histfunc": "sum",
         "hovertemplate": "Répartition=Nourriture<br>Zone=%{x}<br>sum of Total en Milliers de tonnes=%{y}<extra></extra>",
         "legendgroup": "Nourriture",
         "marker": {
          "color": "#EF553B",
          "pattern": {
           "shape": ""
          }
         },
         "name": "Nourriture",
         "offsetgroup": "Nourriture",
         "orientation": "v",
         "showlegend": true,
         "type": "histogram",
         "x": [
          "Afghanistan",
          "Afrique du Sud",
          "Albanie",
          "Algérie",
          "Allemagne",
          "Angola",
          "Antigua-et-Barbuda",
          "Arabie saoudite",
          "Argentine",
          "Arménie",
          "Australie",
          "Autriche",
          "Azerbaïdjan",
          "Bahamas",
          "Bangladesh",
          "Barbade",
          "Bélarus",
          "Belgique",
          "Belize",
          "Bénin",
          "Bolivie (État plurinational de)",
          "Bosnie-Herzégovine",
          "Botswana",
          "Brésil",
          "Bulgarie",
          "Burkina Faso",
          "Burundi",
          "Cabo Verde",
          "Cambodge",
          "Cameroun",
          "Canada",
          "Chili",
          "Chine - RAS de Hong-Kong",
          "Chine - RAS de Macao",
          "Chine, continentale",
          "Chine, Taiwan Province de",
          "Chypre",
          "Colombie",
          "Comores",
          "Congo",
          "Costa Rica",
          "Côte d'Ivoire",
          "Croatie",
          "Cuba",
          "Danemark",
          "Djibouti",
          "Dominique",
          "Égypte",
          "El Salvador",
          "Émirats arabes unis",
          "Équateur",
          "Espagne",
          "Estonie",
          "Eswatini",
          "États-Unis d'Amérique",
          "Éthiopie",
          "Fédération de Russie",
          "Fidji",
          "Finlande",
          "France",
          "Gabon",
          "Gambie",
          "Géorgie",
          "Ghana",
          "Grèce",
          "Grenade",
          "Guatemala",
          "Guinée",
          "Guinée-Bissau",
          "Guyana",
          "Haïti",
          "Honduras",
          "Hongrie",
          "Îles Salomon",
          "Inde",
          "Indonésie",
          "Iran (République islamique d')",
          "Iraq",
          "Irlande",
          "Islande",
          "Israël",
          "Italie",
          "Jamaïque",
          "Japon",
          "Jordanie",
          "Kazakhstan",
          "Kenya",
          "Kirghizistan",
          "Kiribati",
          "Koweït",
          "Lesotho",
          "Lettonie",
          "Liban",
          "Libéria",
          "Libye",
          "Lituanie",
          "Luxembourg",
          "Macédoine du Nord",
          "Madagascar",
          "Malaisie",
          "Malawi",
          "Maldives",
          "Mali",
          "Malte",
          "Maroc",
          "Maurice",
          "Mauritanie",
          "Mexique",
          "Mongolie",
          "Monténégro",
          "Mozambique",
          "Myanmar",
          "Namibie",
          "Népal",
          "Nicaragua",
          "Niger",
          "Nigéria",
          "Norvège",
          "Nouvelle-Calédonie",
          "Nouvelle-Zélande",
          "Oman",
          "Ouganda",
          "Ouzbékistan",
          "Pakistan",
          "Panama",
          "Papouasie-Nouvelle-Guinée",
          "Paraguay",
          "Pays-Bas",
          "Pérou",
          "Philippines",
          "Pologne",
          "Polynésie française",
          "Portugal",
          "République arabe syrienne",
          "République centrafricaine",
          "République de Corée",
          "République de Moldova",
          "République démocratique du Congo",
          "République démocratique populaire lao",
          "République dominicaine",
          "République populaire démocratique de Corée",
          "République-Unie de Tanzanie",
          "Roumanie",
          "Royaume-Uni de Grande-Bretagne et d'Irlande du Nord",
          "Rwanda",
          "Sainte-Lucie",
          "Saint-Kitts-et-Nevis",
          "Saint-Vincent-et-les Grenadines",
          "Samoa",
          "Sao Tomé-et-Principe",
          "Sénégal",
          "Serbie",
          "Seychelles",
          "Sierra Leone",
          "Slovaquie",
          "Slovénie",
          "Soudan",
          "Sri Lanka",
          "Suède",
          "Suisse",
          "Suriname",
          "Tadjikistan",
          "Tchad",
          "Tchéquie",
          "Thaïlande",
          "Timor-Leste",
          "Togo",
          "Trinité-et-Tobago",
          "Tunisie",
          "Turkménistan",
          "Turquie",
          "Ukraine",
          "Uruguay",
          "Vanuatu",
          "Venezuela (République bolivarienne du)",
          "Viet Nam",
          "Yémen",
          "Zambie",
          "Zimbabwe"
         ],
         "xaxis": "x",
         "y": [
          6746,
          10024,
          417,
          8360,
          9451,
          3040,
          8,
          6241,
          5624,
          450,
          2366,
          1027,
          1934,
          28,
          44370,
          28,
          1028,
          1389,
          49,
          1674,
          1460,
          572,
          330,
          26666,
          1053,
          3953,
          450,
          85,
          3925,
          3488,
          4043,
          2668,
          960,
          70,
          286868,
          3010,
          170,
          6012,
          115,
          323,
          595,
          4092,
          490,
          1928,
          697,
          164,
          4,
          25260,
          878,
          1149,
          2495,
          5227,
          129,
          161,
          35507,
          19600,
          23325,
          129,
          632,
          9630,
          256,
          375,
          706,
          2772,
          1459,
          9,
          2378,
          2371,
          300,
          136,
          1439,
          1244,
          1134,
          76,
          248502,
          69140,
          16353,
          6023,
          592,
          27,
          1174,
          9851,
          338,
          17939,
          1411,
          2132,
          6930,
          1027,
          12,
          637,
          338,
          235,
          996,
          602,
          1208,
          427,
          70,
          272,
          4333,
          5512,
          2728,
          60,
          4517,
          61,
          9296,
          220,
          849,
          19814,
          360,
          81,
          3241,
          11422,
          303,
          6686,
          1066,
          4769,
          25336,
          611,
          32,
          532,
          636,
          2986,
          5937,
          30892,
          764,
          561,
          755,
          1626,
          4855,
          24581,
          5599,
          29,
          1386,
          2380,
          167,
          8061,
          608,
          3608,
          1804,
          1113,
          4733,
          6828,
          3279,
          8181,
          671,
          18,
          3,
          12,
          13,
          19,
          3373,
          1306,
          12,
          1344,
          473,
          299,
          6410,
          4823,
          1073,
          900,
          93,
          1470,
          2480,
          1073,
          12560,
          259,
          1115,
          177,
          2362,
          1194,
          17029,
          7377,
          540,
          24,
          4123,
          23823,
          4546,
          2455,
          1695
         ],
         "yaxis": "y"
        }
       ],
       "layout": {
        "autosize": true,
        "barmode": "relative",
        "legend": {
         "title": {
          "text": "Répartition"
         },
         "tracegroupgap": 0
        },
        "margin": {
         "t": 60
        },
        "template": {
         "data": {
          "bar": [
           {
            "error_x": {
             "color": "#2a3f5f"
            },
            "error_y": {
             "color": "#2a3f5f"
            },
            "marker": {
             "line": {
              "color": "#E5ECF6",
              "width": 0.5
             },
             "pattern": {
              "fillmode": "overlay",
              "size": 10,
              "solidity": 0.2
             }
            },
            "type": "bar"
           }
          ],
          "barpolar": [
           {
            "marker": {
             "line": {
              "color": "#E5ECF6",
              "width": 0.5
             },
             "pattern": {
              "fillmode": "overlay",
              "size": 10,
              "solidity": 0.2
             }
            },
            "type": "barpolar"
           }
          ],
          "carpet": [
           {
            "aaxis": {
             "endlinecolor": "#2a3f5f",
             "gridcolor": "white",
             "linecolor": "white",
             "minorgridcolor": "white",
             "startlinecolor": "#2a3f5f"
            },
            "baxis": {
             "endlinecolor": "#2a3f5f",
             "gridcolor": "white",
             "linecolor": "white",
             "minorgridcolor": "white",
             "startlinecolor": "#2a3f5f"
            },
            "type": "carpet"
           }
          ],
          "choropleth": [
           {
            "colorbar": {
             "outlinewidth": 0,
             "ticks": ""
            },
            "type": "choropleth"
           }
          ],
          "contour": [
           {
            "colorbar": {
             "outlinewidth": 0,
             "ticks": ""
            },
            "colorscale": [
             [
              0,
              "#0d0887"
             ],
             [
              0.1111111111111111,
              "#46039f"
             ],
             [
              0.2222222222222222,
              "#7201a8"
             ],
             [
              0.3333333333333333,
              "#9c179e"
             ],
             [
              0.4444444444444444,
              "#bd3786"
             ],
             [
              0.5555555555555556,
              "#d8576b"
             ],
             [
              0.6666666666666666,
              "#ed7953"
             ],
             [
              0.7777777777777778,
              "#fb9f3a"
             ],
             [
              0.8888888888888888,
              "#fdca26"
             ],
             [
              1,
              "#f0f921"
             ]
            ],
            "type": "contour"
           }
          ],
          "contourcarpet": [
           {
            "colorbar": {
             "outlinewidth": 0,
             "ticks": ""
            },
            "type": "contourcarpet"
           }
          ],
          "heatmap": [
           {
            "colorbar": {
             "outlinewidth": 0,
             "ticks": ""
            },
            "colorscale": [
             [
              0,
              "#0d0887"
             ],
             [
              0.1111111111111111,
              "#46039f"
             ],
             [
              0.2222222222222222,
              "#7201a8"
             ],
             [
              0.3333333333333333,
              "#9c179e"
             ],
             [
              0.4444444444444444,
              "#bd3786"
             ],
             [
              0.5555555555555556,
              "#d8576b"
             ],
             [
              0.6666666666666666,
              "#ed7953"
             ],
             [
              0.7777777777777778,
              "#fb9f3a"
             ],
             [
              0.8888888888888888,
              "#fdca26"
             ],
             [
              1,
              "#f0f921"
             ]
            ],
            "type": "heatmap"
           }
          ],
          "heatmapgl": [
           {
            "colorbar": {
             "outlinewidth": 0,
             "ticks": ""
            },
            "colorscale": [
             [
              0,
              "#0d0887"
             ],
             [
              0.1111111111111111,
              "#46039f"
             ],
             [
              0.2222222222222222,
              "#7201a8"
             ],
             [
              0.3333333333333333,
              "#9c179e"
             ],
             [
              0.4444444444444444,
              "#bd3786"
             ],
             [
              0.5555555555555556,
              "#d8576b"
             ],
             [
              0.6666666666666666,
              "#ed7953"
             ],
             [
              0.7777777777777778,
              "#fb9f3a"
             ],
             [
              0.8888888888888888,
              "#fdca26"
             ],
             [
              1,
              "#f0f921"
             ]
            ],
            "type": "heatmapgl"
           }
          ],
          "histogram": [
           {
            "marker": {
             "pattern": {
              "fillmode": "overlay",
              "size": 10,
              "solidity": 0.2
             }
            },
            "type": "histogram"
           }
          ],
          "histogram2d": [
           {
            "colorbar": {
             "outlinewidth": 0,
             "ticks": ""
            },
            "colorscale": [
             [
              0,
              "#0d0887"
             ],
             [
              0.1111111111111111,
              "#46039f"
             ],
             [
              0.2222222222222222,
              "#7201a8"
             ],
             [
              0.3333333333333333,
              "#9c179e"
             ],
             [
              0.4444444444444444,
              "#bd3786"
             ],
             [
              0.5555555555555556,
              "#d8576b"
             ],
             [
              0.6666666666666666,
              "#ed7953"
             ],
             [
              0.7777777777777778,
              "#fb9f3a"
             ],
             [
              0.8888888888888888,
              "#fdca26"
             ],
             [
              1,
              "#f0f921"
             ]
            ],
            "type": "histogram2d"
           }
          ],
          "histogram2dcontour": [
           {
            "colorbar": {
             "outlinewidth": 0,
             "ticks": ""
            },
            "colorscale": [
             [
              0,
              "#0d0887"
             ],
             [
              0.1111111111111111,
              "#46039f"
             ],
             [
              0.2222222222222222,
              "#7201a8"
             ],
             [
              0.3333333333333333,
              "#9c179e"
             ],
             [
              0.4444444444444444,
              "#bd3786"
             ],
             [
              0.5555555555555556,
              "#d8576b"
             ],
             [
              0.6666666666666666,
              "#ed7953"
             ],
             [
              0.7777777777777778,
              "#fb9f3a"
             ],
             [
              0.8888888888888888,
              "#fdca26"
             ],
             [
              1,
              "#f0f921"
             ]
            ],
            "type": "histogram2dcontour"
           }
          ],
          "mesh3d": [
           {
            "colorbar": {
             "outlinewidth": 0,
             "ticks": ""
            },
            "type": "mesh3d"
           }
          ],
          "parcoords": [
           {
            "line": {
             "colorbar": {
              "outlinewidth": 0,
              "ticks": ""
             }
            },
            "type": "parcoords"
           }
          ],
          "pie": [
           {
            "automargin": true,
            "type": "pie"
           }
          ],
          "scatter": [
           {
            "marker": {
             "colorbar": {
              "outlinewidth": 0,
              "ticks": ""
             }
            },
            "type": "scatter"
           }
          ],
          "scatter3d": [
           {
            "line": {
             "colorbar": {
              "outlinewidth": 0,
              "ticks": ""
             }
            },
            "marker": {
             "colorbar": {
              "outlinewidth": 0,
              "ticks": ""
             }
            },
            "type": "scatter3d"
           }
          ],
          "scattercarpet": [
           {
            "marker": {
             "colorbar": {
              "outlinewidth": 0,
              "ticks": ""
             }
            },
            "type": "scattercarpet"
           }
          ],
          "scattergeo": [
           {
            "marker": {
             "colorbar": {
              "outlinewidth": 0,
              "ticks": ""
             }
            },
            "type": "scattergeo"
           }
          ],
          "scattergl": [
           {
            "marker": {
             "colorbar": {
              "outlinewidth": 0,
              "ticks": ""
             }
            },
            "type": "scattergl"
           }
          ],
          "scattermapbox": [
           {
            "marker": {
             "colorbar": {
              "outlinewidth": 0,
              "ticks": ""
             }
            },
            "type": "scattermapbox"
           }
          ],
          "scatterpolar": [
           {
            "marker": {
             "colorbar": {
              "outlinewidth": 0,
              "ticks": ""
             }
            },
            "type": "scatterpolar"
           }
          ],
          "scatterpolargl": [
           {
            "marker": {
             "colorbar": {
              "outlinewidth": 0,
              "ticks": ""
             }
            },
            "type": "scatterpolargl"
           }
          ],
          "scatterternary": [
           {
            "marker": {
             "colorbar": {
              "outlinewidth": 0,
              "ticks": ""
             }
            },
            "type": "scatterternary"
           }
          ],
          "surface": [
           {
            "colorbar": {
             "outlinewidth": 0,
             "ticks": ""
            },
            "colorscale": [
             [
              0,
              "#0d0887"
             ],
             [
              0.1111111111111111,
              "#46039f"
             ],
             [
              0.2222222222222222,
              "#7201a8"
             ],
             [
              0.3333333333333333,
              "#9c179e"
             ],
             [
              0.4444444444444444,
              "#bd3786"
             ],
             [
              0.5555555555555556,
              "#d8576b"
             ],
             [
              0.6666666666666666,
              "#ed7953"
             ],
             [
              0.7777777777777778,
              "#fb9f3a"
             ],
             [
              0.8888888888888888,
              "#fdca26"
             ],
             [
              1,
              "#f0f921"
             ]
            ],
            "type": "surface"
           }
          ],
          "table": [
           {
            "cells": {
             "fill": {
              "color": "#EBF0F8"
             },
             "line": {
              "color": "white"
             }
            },
            "header": {
             "fill": {
              "color": "#C8D4E3"
             },
             "line": {
              "color": "white"
             }
            },
            "type": "table"
           }
          ]
         },
         "layout": {
          "annotationdefaults": {
           "arrowcolor": "#2a3f5f",
           "arrowhead": 0,
           "arrowwidth": 1
          },
          "autotypenumbers": "strict",
          "coloraxis": {
           "colorbar": {
            "outlinewidth": 0,
            "ticks": ""
           }
          },
          "colorscale": {
           "diverging": [
            [
             0,
             "#8e0152"
            ],
            [
             0.1,
             "#c51b7d"
            ],
            [
             0.2,
             "#de77ae"
            ],
            [
             0.3,
             "#f1b6da"
            ],
            [
             0.4,
             "#fde0ef"
            ],
            [
             0.5,
             "#f7f7f7"
            ],
            [
             0.6,
             "#e6f5d0"
            ],
            [
             0.7,
             "#b8e186"
            ],
            [
             0.8,
             "#7fbc41"
            ],
            [
             0.9,
             "#4d9221"
            ],
            [
             1,
             "#276419"
            ]
           ],
           "sequential": [
            [
             0,
             "#0d0887"
            ],
            [
             0.1111111111111111,
             "#46039f"
            ],
            [
             0.2222222222222222,
             "#7201a8"
            ],
            [
             0.3333333333333333,
             "#9c179e"
            ],
            [
             0.4444444444444444,
             "#bd3786"
            ],
            [
             0.5555555555555556,
             "#d8576b"
            ],
            [
             0.6666666666666666,
             "#ed7953"
            ],
            [
             0.7777777777777778,
             "#fb9f3a"
            ],
            [
             0.8888888888888888,
             "#fdca26"
            ],
            [
             1,
             "#f0f921"
            ]
           ],
           "sequentialminus": [
            [
             0,
             "#0d0887"
            ],
            [
             0.1111111111111111,
             "#46039f"
            ],
            [
             0.2222222222222222,
             "#7201a8"
            ],
            [
             0.3333333333333333,
             "#9c179e"
            ],
            [
             0.4444444444444444,
             "#bd3786"
            ],
            [
             0.5555555555555556,
             "#d8576b"
            ],
            [
             0.6666666666666666,
             "#ed7953"
            ],
            [
             0.7777777777777778,
             "#fb9f3a"
            ],
            [
             0.8888888888888888,
             "#fdca26"
            ],
            [
             1,
             "#f0f921"
            ]
           ]
          },
          "colorway": [
           "#636efa",
           "#EF553B",
           "#00cc96",
           "#ab63fa",
           "#FFA15A",
           "#19d3f3",
           "#FF6692",
           "#B6E880",
           "#FF97FF",
           "#FECB52"
          ],
          "font": {
           "color": "#2a3f5f"
          },
          "geo": {
           "bgcolor": "white",
           "lakecolor": "white",
           "landcolor": "#E5ECF6",
           "showlakes": true,
           "showland": true,
           "subunitcolor": "white"
          },
          "hoverlabel": {
           "align": "left"
          },
          "hovermode": "closest",
          "mapbox": {
           "style": "light"
          },
          "paper_bgcolor": "white",
          "plot_bgcolor": "#E5ECF6",
          "polar": {
           "angularaxis": {
            "gridcolor": "white",
            "linecolor": "white",
            "ticks": ""
           },
           "bgcolor": "#E5ECF6",
           "radialaxis": {
            "gridcolor": "white",
            "linecolor": "white",
            "ticks": ""
           }
          },
          "scene": {
           "xaxis": {
            "backgroundcolor": "#E5ECF6",
            "gridcolor": "white",
            "gridwidth": 2,
            "linecolor": "white",
            "showbackground": true,
            "ticks": "",
            "zerolinecolor": "white"
           },
           "yaxis": {
            "backgroundcolor": "#E5ECF6",
            "gridcolor": "white",
            "gridwidth": 2,
            "linecolor": "white",
            "showbackground": true,
            "ticks": "",
            "zerolinecolor": "white"
           },
           "zaxis": {
            "backgroundcolor": "#E5ECF6",
            "gridcolor": "white",
            "gridwidth": 2,
            "linecolor": "white",
            "showbackground": true,
            "ticks": "",
            "zerolinecolor": "white"
           }
          },
          "shapedefaults": {
           "line": {
            "color": "#2a3f5f"
           }
          },
          "ternary": {
           "aaxis": {
            "gridcolor": "white",
            "linecolor": "white",
            "ticks": ""
           },
           "baxis": {
            "gridcolor": "white",
            "linecolor": "white",
            "ticks": ""
           },
           "bgcolor": "#E5ECF6",
           "caxis": {
            "gridcolor": "white",
            "linecolor": "white",
            "ticks": ""
           }
          },
          "title": {
           "x": 0.05
          },
          "xaxis": {
           "automargin": true,
           "gridcolor": "white",
           "linecolor": "white",
           "ticks": "",
           "title": {
            "standoff": 15
           },
           "zerolinecolor": "white",
           "zerolinewidth": 2
          },
          "yaxis": {
           "automargin": true,
           "gridcolor": "white",
           "linecolor": "white",
           "ticks": "",
           "title": {
            "standoff": 15
           },
           "zerolinecolor": "white",
           "zerolinewidth": 2
          }
         }
        },
        "xaxis": {
         "anchor": "y",
         "autorange": true,
         "domain": [
          0,
          1
         ],
         "range": [
          -0.5,
          178.5
         ],
         "title": {
          "text": "Zone"
         },
         "type": "category"
        },
        "yaxis": {
         "anchor": "x",
         "autorange": true,
         "domain": [
          0,
          1
         ],
         "range": [
          0,
          528172.6315789474
         ],
         "title": {
          "text": "sum of Total en Milliers de tonnes"
         },
         "type": "linear"
        }
       }
      },
      "text/html": [
       "<div>                            <div id=\"0cfc3475-0f88-4795-aec5-3dbeccf1e48c\" class=\"plotly-graph-div\" style=\"height:525px; width:100%;\"></div>            <script type=\"text/javascript\">                require([\"plotly\"], function(Plotly) {                    window.PLOTLYENV=window.PLOTLYENV || {};                                    if (document.getElementById(\"0cfc3475-0f88-4795-aec5-3dbeccf1e48c\")) {                    Plotly.newPlot(                        \"0cfc3475-0f88-4795-aec5-3dbeccf1e48c\",                        [{\"alignmentgroup\":\"True\",\"bingroup\":\"x\",\"histfunc\":\"sum\",\"hovertemplate\":\"R\\u00e9partition=Aliments pour animaux<br>Zone=%{x}<br>sum of Total en Milliers de tonnes=%{y}<extra></extra>\",\"legendgroup\":\"Aliments pour animaux\",\"marker\":{\"color\":\"#636efa\",\"pattern\":{\"shape\":\"\"}},\"name\":\"Aliments pour animaux\",\"offsetgroup\":\"Aliments pour animaux\",\"orientation\":\"v\",\"showlegend\":true,\"x\":[\"Afghanistan\",\"Afrique du Sud\",\"Albanie\",\"Alg\\u00e9rie\",\"Allemagne\",\"Angola\",\"Antigua-et-Barbuda\",\"Arabie saoudite\",\"Argentine\",\"Arm\\u00e9nie\",\"Australie\",\"Autriche\",\"Azerba\\u00efdjan\",\"Bahamas\",\"Bangladesh\",\"Barbade\",\"B\\u00e9larus\",\"Belgique\",\"Belize\",\"B\\u00e9nin\",\"Bolivie (\\u00c9tat plurinational de)\",\"Bosnie-Herz\\u00e9govine\",\"Botswana\",\"Br\\u00e9sil\",\"Bulgarie\",\"Burkina Faso\",\"Burundi\",\"Cabo Verde\",\"Cambodge\",\"Cameroun\",\"Canada\",\"Chili\",\"Chine - RAS de Hong-Kong\",\"Chine - RAS de Macao\",\"Chine, continentale\",\"Chine, Taiwan Province de\",\"Chypre\",\"Colombie\",\"Comores\",\"Congo\",\"Costa Rica\",\"C\\u00f4te d'Ivoire\",\"Croatie\",\"Cuba\",\"Danemark\",\"Djibouti\",\"Dominique\",\"\\u00c9gypte\",\"El Salvador\",\"\\u00c9mirats arabes unis\",\"\\u00c9quateur\",\"Espagne\",\"Estonie\",\"Eswatini\",\"\\u00c9tats-Unis d'Am\\u00e9rique\",\"\\u00c9thiopie\",\"F\\u00e9d\\u00e9ration de Russie\",\"Fidji\",\"Finlande\",\"France\",\"Gabon\",\"Gambie\",\"G\\u00e9orgie\",\"Ghana\",\"Gr\\u00e8ce\",\"Grenade\",\"Guatemala\",\"Guin\\u00e9e\",\"Guin\\u00e9e-Bissau\",\"Guyana\",\"Ha\\u00efti\",\"Honduras\",\"Hongrie\",\"\\u00celes Salomon\",\"Inde\",\"Indon\\u00e9sie\",\"Iran (R\\u00e9publique islamique d')\",\"Iraq\",\"Irlande\",\"Islande\",\"Isra\\u00ebl\",\"Italie\",\"Jama\\u00efque\",\"Japon\",\"Jordanie\",\"Kazakhstan\",\"Kenya\",\"Kirghizistan\",\"Kiribati\",\"Kowe\\u00eft\",\"Lesotho\",\"Lettonie\",\"Liban\",\"Lib\\u00e9ria\",\"Libye\",\"Lituanie\",\"Luxembourg\",\"Mac\\u00e9doine du Nord\",\"Madagascar\",\"Malaisie\",\"Malawi\",\"Maldives\",\"Mali\",\"Malte\",\"Maroc\",\"Maurice\",\"Mauritanie\",\"Mexique\",\"Mongolie\",\"Mont\\u00e9n\\u00e9gro\",\"Mozambique\",\"Myanmar\",\"Namibie\",\"N\\u00e9pal\",\"Nicaragua\",\"Niger\",\"Nig\\u00e9ria\",\"Norv\\u00e8ge\",\"Nouvelle-Cal\\u00e9donie\",\"Nouvelle-Z\\u00e9lande\",\"Oman\",\"Ouganda\",\"Ouzb\\u00e9kistan\",\"Pakistan\",\"Panama\",\"Papouasie-Nouvelle-Guin\\u00e9e\",\"Paraguay\",\"Pays-Bas\",\"P\\u00e9rou\",\"Philippines\",\"Pologne\",\"Polyn\\u00e9sie fran\\u00e7aise\",\"Portugal\",\"R\\u00e9publique arabe syrienne\",\"R\\u00e9publique centrafricaine\",\"R\\u00e9publique de Cor\\u00e9e\",\"R\\u00e9publique de Moldova\",\"R\\u00e9publique d\\u00e9mocratique du Congo\",\"R\\u00e9publique d\\u00e9mocratique populaire lao\",\"R\\u00e9publique dominicaine\",\"R\\u00e9publique populaire d\\u00e9mocratique de Cor\\u00e9e\",\"R\\u00e9publique-Unie de Tanzanie\",\"Roumanie\",\"Royaume-Uni de Grande-Bretagne et d'Irlande du Nord\",\"Rwanda\",\"Sainte-Lucie\",\"Saint-Kitts-et-Nevis\",\"Saint-Vincent-et-les Grenadines\",\"Samoa\",\"Sao Tom\\u00e9-et-Principe\",\"S\\u00e9n\\u00e9gal\",\"Serbie\",\"Seychelles\",\"Sierra Leone\",\"Slovaquie\",\"Slov\\u00e9nie\",\"Soudan\",\"Sri Lanka\",\"Su\\u00e8de\",\"Suisse\",\"Suriname\",\"Tadjikistan\",\"Tchad\",\"Tch\\u00e9quie\",\"Tha\\u00eflande\",\"Timor-Leste\",\"Togo\",\"Trinit\\u00e9-et-Tobago\",\"Tunisie\",\"Turkm\\u00e9nistan\",\"Turquie\",\"Ukraine\",\"Uruguay\",\"Vanuatu\",\"Venezuela (R\\u00e9publique bolivarienne du)\",\"Viet Nam\",\"Y\\u00e9men\",\"Zambie\",\"Zimbabwe\"],\"xaxis\":\"x\",\"y\":[403,5325,455,4845,25308,633,0,11269,20541,234,9045,2743,1511,1,8859,25,5182,3373,62,570,1213,766,15,48751,530,90,13,7,708,826,19273,3030,4,0,214896,4463,432,4933,2,22,689,605,1281,1227,7171,2,0,10840,872,1369,1174,22618,243,41,140512,1153,41619,3,2039,18171,23,8,91,1006,3108,5,901,1492,11,212,157,451,4169,7,16524,6443,13413,1801,3253,52,2833,13818,244,13312,1584,2437,182,1037,0,774,11,338,751,21,1500,807,87,255,348,3554,271,0,1282,57,3910,73,18,22928,9,40,127,9807,34,2236,129,658,4695,1147,22,915,187,155,1690,2136,487,1,1194,9909,4750,7431,15951,3,3188,1137,1,8120,1509,183,862,1470,283,872,7719,12164,246,1,0,8,0,0,230,2890,1,175,663,301,370,230,2551,1043,22,888,79,2052,7941,10,330,96,2318,75,12475,5908,857,1,1568,14116,381,266,226],\"yaxis\":\"y\",\"type\":\"histogram\"},{\"alignmentgroup\":\"True\",\"bingroup\":\"x\",\"histfunc\":\"sum\",\"hovertemplate\":\"R\\u00e9partition=Nourriture<br>Zone=%{x}<br>sum of Total en Milliers de tonnes=%{y}<extra></extra>\",\"legendgroup\":\"Nourriture\",\"marker\":{\"color\":\"#EF553B\",\"pattern\":{\"shape\":\"\"}},\"name\":\"Nourriture\",\"offsetgroup\":\"Nourriture\",\"orientation\":\"v\",\"showlegend\":true,\"x\":[\"Afghanistan\",\"Afrique du Sud\",\"Albanie\",\"Alg\\u00e9rie\",\"Allemagne\",\"Angola\",\"Antigua-et-Barbuda\",\"Arabie saoudite\",\"Argentine\",\"Arm\\u00e9nie\",\"Australie\",\"Autriche\",\"Azerba\\u00efdjan\",\"Bahamas\",\"Bangladesh\",\"Barbade\",\"B\\u00e9larus\",\"Belgique\",\"Belize\",\"B\\u00e9nin\",\"Bolivie (\\u00c9tat plurinational de)\",\"Bosnie-Herz\\u00e9govine\",\"Botswana\",\"Br\\u00e9sil\",\"Bulgarie\",\"Burkina Faso\",\"Burundi\",\"Cabo Verde\",\"Cambodge\",\"Cameroun\",\"Canada\",\"Chili\",\"Chine - RAS de Hong-Kong\",\"Chine - RAS de Macao\",\"Chine, continentale\",\"Chine, Taiwan Province de\",\"Chypre\",\"Colombie\",\"Comores\",\"Congo\",\"Costa Rica\",\"C\\u00f4te d'Ivoire\",\"Croatie\",\"Cuba\",\"Danemark\",\"Djibouti\",\"Dominique\",\"\\u00c9gypte\",\"El Salvador\",\"\\u00c9mirats arabes unis\",\"\\u00c9quateur\",\"Espagne\",\"Estonie\",\"Eswatini\",\"\\u00c9tats-Unis d'Am\\u00e9rique\",\"\\u00c9thiopie\",\"F\\u00e9d\\u00e9ration de Russie\",\"Fidji\",\"Finlande\",\"France\",\"Gabon\",\"Gambie\",\"G\\u00e9orgie\",\"Ghana\",\"Gr\\u00e8ce\",\"Grenade\",\"Guatemala\",\"Guin\\u00e9e\",\"Guin\\u00e9e-Bissau\",\"Guyana\",\"Ha\\u00efti\",\"Honduras\",\"Hongrie\",\"\\u00celes Salomon\",\"Inde\",\"Indon\\u00e9sie\",\"Iran (R\\u00e9publique islamique d')\",\"Iraq\",\"Irlande\",\"Islande\",\"Isra\\u00ebl\",\"Italie\",\"Jama\\u00efque\",\"Japon\",\"Jordanie\",\"Kazakhstan\",\"Kenya\",\"Kirghizistan\",\"Kiribati\",\"Kowe\\u00eft\",\"Lesotho\",\"Lettonie\",\"Liban\",\"Lib\\u00e9ria\",\"Libye\",\"Lituanie\",\"Luxembourg\",\"Mac\\u00e9doine du Nord\",\"Madagascar\",\"Malaisie\",\"Malawi\",\"Maldives\",\"Mali\",\"Malte\",\"Maroc\",\"Maurice\",\"Mauritanie\",\"Mexique\",\"Mongolie\",\"Mont\\u00e9n\\u00e9gro\",\"Mozambique\",\"Myanmar\",\"Namibie\",\"N\\u00e9pal\",\"Nicaragua\",\"Niger\",\"Nig\\u00e9ria\",\"Norv\\u00e8ge\",\"Nouvelle-Cal\\u00e9donie\",\"Nouvelle-Z\\u00e9lande\",\"Oman\",\"Ouganda\",\"Ouzb\\u00e9kistan\",\"Pakistan\",\"Panama\",\"Papouasie-Nouvelle-Guin\\u00e9e\",\"Paraguay\",\"Pays-Bas\",\"P\\u00e9rou\",\"Philippines\",\"Pologne\",\"Polyn\\u00e9sie fran\\u00e7aise\",\"Portugal\",\"R\\u00e9publique arabe syrienne\",\"R\\u00e9publique centrafricaine\",\"R\\u00e9publique de Cor\\u00e9e\",\"R\\u00e9publique de Moldova\",\"R\\u00e9publique d\\u00e9mocratique du Congo\",\"R\\u00e9publique d\\u00e9mocratique populaire lao\",\"R\\u00e9publique dominicaine\",\"R\\u00e9publique populaire d\\u00e9mocratique de Cor\\u00e9e\",\"R\\u00e9publique-Unie de Tanzanie\",\"Roumanie\",\"Royaume-Uni de Grande-Bretagne et d'Irlande du Nord\",\"Rwanda\",\"Sainte-Lucie\",\"Saint-Kitts-et-Nevis\",\"Saint-Vincent-et-les Grenadines\",\"Samoa\",\"Sao Tom\\u00e9-et-Principe\",\"S\\u00e9n\\u00e9gal\",\"Serbie\",\"Seychelles\",\"Sierra Leone\",\"Slovaquie\",\"Slov\\u00e9nie\",\"Soudan\",\"Sri Lanka\",\"Su\\u00e8de\",\"Suisse\",\"Suriname\",\"Tadjikistan\",\"Tchad\",\"Tch\\u00e9quie\",\"Tha\\u00eflande\",\"Timor-Leste\",\"Togo\",\"Trinit\\u00e9-et-Tobago\",\"Tunisie\",\"Turkm\\u00e9nistan\",\"Turquie\",\"Ukraine\",\"Uruguay\",\"Vanuatu\",\"Venezuela (R\\u00e9publique bolivarienne du)\",\"Viet Nam\",\"Y\\u00e9men\",\"Zambie\",\"Zimbabwe\"],\"xaxis\":\"x\",\"y\":[6746,10024,417,8360,9451,3040,8,6241,5624,450,2366,1027,1934,28,44370,28,1028,1389,49,1674,1460,572,330,26666,1053,3953,450,85,3925,3488,4043,2668,960,70,286868,3010,170,6012,115,323,595,4092,490,1928,697,164,4,25260,878,1149,2495,5227,129,161,35507,19600,23325,129,632,9630,256,375,706,2772,1459,9,2378,2371,300,136,1439,1244,1134,76,248502,69140,16353,6023,592,27,1174,9851,338,17939,1411,2132,6930,1027,12,637,338,235,996,602,1208,427,70,272,4333,5512,2728,60,4517,61,9296,220,849,19814,360,81,3241,11422,303,6686,1066,4769,25336,611,32,532,636,2986,5937,30892,764,561,755,1626,4855,24581,5599,29,1386,2380,167,8061,608,3608,1804,1113,4733,6828,3279,8181,671,18,3,12,13,19,3373,1306,12,1344,473,299,6410,4823,1073,900,93,1470,2480,1073,12560,259,1115,177,2362,1194,17029,7377,540,24,4123,23823,4546,2455,1695],\"yaxis\":\"y\",\"type\":\"histogram\"}],                        {\"template\":{\"data\":{\"bar\":[{\"error_x\":{\"color\":\"#2a3f5f\"},\"error_y\":{\"color\":\"#2a3f5f\"},\"marker\":{\"line\":{\"color\":\"#E5ECF6\",\"width\":0.5},\"pattern\":{\"fillmode\":\"overlay\",\"size\":10,\"solidity\":0.2}},\"type\":\"bar\"}],\"barpolar\":[{\"marker\":{\"line\":{\"color\":\"#E5ECF6\",\"width\":0.5},\"pattern\":{\"fillmode\":\"overlay\",\"size\":10,\"solidity\":0.2}},\"type\":\"barpolar\"}],\"carpet\":[{\"aaxis\":{\"endlinecolor\":\"#2a3f5f\",\"gridcolor\":\"white\",\"linecolor\":\"white\",\"minorgridcolor\":\"white\",\"startlinecolor\":\"#2a3f5f\"},\"baxis\":{\"endlinecolor\":\"#2a3f5f\",\"gridcolor\":\"white\",\"linecolor\":\"white\",\"minorgridcolor\":\"white\",\"startlinecolor\":\"#2a3f5f\"},\"type\":\"carpet\"}],\"choropleth\":[{\"colorbar\":{\"outlinewidth\":0,\"ticks\":\"\"},\"type\":\"choropleth\"}],\"contour\":[{\"colorbar\":{\"outlinewidth\":0,\"ticks\":\"\"},\"colorscale\":[[0.0,\"#0d0887\"],[0.1111111111111111,\"#46039f\"],[0.2222222222222222,\"#7201a8\"],[0.3333333333333333,\"#9c179e\"],[0.4444444444444444,\"#bd3786\"],[0.5555555555555556,\"#d8576b\"],[0.6666666666666666,\"#ed7953\"],[0.7777777777777778,\"#fb9f3a\"],[0.8888888888888888,\"#fdca26\"],[1.0,\"#f0f921\"]],\"type\":\"contour\"}],\"contourcarpet\":[{\"colorbar\":{\"outlinewidth\":0,\"ticks\":\"\"},\"type\":\"contourcarpet\"}],\"heatmap\":[{\"colorbar\":{\"outlinewidth\":0,\"ticks\":\"\"},\"colorscale\":[[0.0,\"#0d0887\"],[0.1111111111111111,\"#46039f\"],[0.2222222222222222,\"#7201a8\"],[0.3333333333333333,\"#9c179e\"],[0.4444444444444444,\"#bd3786\"],[0.5555555555555556,\"#d8576b\"],[0.6666666666666666,\"#ed7953\"],[0.7777777777777778,\"#fb9f3a\"],[0.8888888888888888,\"#fdca26\"],[1.0,\"#f0f921\"]],\"type\":\"heatmap\"}],\"heatmapgl\":[{\"colorbar\":{\"outlinewidth\":0,\"ticks\":\"\"},\"colorscale\":[[0.0,\"#0d0887\"],[0.1111111111111111,\"#46039f\"],[0.2222222222222222,\"#7201a8\"],[0.3333333333333333,\"#9c179e\"],[0.4444444444444444,\"#bd3786\"],[0.5555555555555556,\"#d8576b\"],[0.6666666666666666,\"#ed7953\"],[0.7777777777777778,\"#fb9f3a\"],[0.8888888888888888,\"#fdca26\"],[1.0,\"#f0f921\"]],\"type\":\"heatmapgl\"}],\"histogram\":[{\"marker\":{\"pattern\":{\"fillmode\":\"overlay\",\"size\":10,\"solidity\":0.2}},\"type\":\"histogram\"}],\"histogram2d\":[{\"colorbar\":{\"outlinewidth\":0,\"ticks\":\"\"},\"colorscale\":[[0.0,\"#0d0887\"],[0.1111111111111111,\"#46039f\"],[0.2222222222222222,\"#7201a8\"],[0.3333333333333333,\"#9c179e\"],[0.4444444444444444,\"#bd3786\"],[0.5555555555555556,\"#d8576b\"],[0.6666666666666666,\"#ed7953\"],[0.7777777777777778,\"#fb9f3a\"],[0.8888888888888888,\"#fdca26\"],[1.0,\"#f0f921\"]],\"type\":\"histogram2d\"}],\"histogram2dcontour\":[{\"colorbar\":{\"outlinewidth\":0,\"ticks\":\"\"},\"colorscale\":[[0.0,\"#0d0887\"],[0.1111111111111111,\"#46039f\"],[0.2222222222222222,\"#7201a8\"],[0.3333333333333333,\"#9c179e\"],[0.4444444444444444,\"#bd3786\"],[0.5555555555555556,\"#d8576b\"],[0.6666666666666666,\"#ed7953\"],[0.7777777777777778,\"#fb9f3a\"],[0.8888888888888888,\"#fdca26\"],[1.0,\"#f0f921\"]],\"type\":\"histogram2dcontour\"}],\"mesh3d\":[{\"colorbar\":{\"outlinewidth\":0,\"ticks\":\"\"},\"type\":\"mesh3d\"}],\"parcoords\":[{\"line\":{\"colorbar\":{\"outlinewidth\":0,\"ticks\":\"\"}},\"type\":\"parcoords\"}],\"pie\":[{\"automargin\":true,\"type\":\"pie\"}],\"scatter\":[{\"marker\":{\"colorbar\":{\"outlinewidth\":0,\"ticks\":\"\"}},\"type\":\"scatter\"}],\"scatter3d\":[{\"line\":{\"colorbar\":{\"outlinewidth\":0,\"ticks\":\"\"}},\"marker\":{\"colorbar\":{\"outlinewidth\":0,\"ticks\":\"\"}},\"type\":\"scatter3d\"}],\"scattercarpet\":[{\"marker\":{\"colorbar\":{\"outlinewidth\":0,\"ticks\":\"\"}},\"type\":\"scattercarpet\"}],\"scattergeo\":[{\"marker\":{\"colorbar\":{\"outlinewidth\":0,\"ticks\":\"\"}},\"type\":\"scattergeo\"}],\"scattergl\":[{\"marker\":{\"colorbar\":{\"outlinewidth\":0,\"ticks\":\"\"}},\"type\":\"scattergl\"}],\"scattermapbox\":[{\"marker\":{\"colorbar\":{\"outlinewidth\":0,\"ticks\":\"\"}},\"type\":\"scattermapbox\"}],\"scatterpolar\":[{\"marker\":{\"colorbar\":{\"outlinewidth\":0,\"ticks\":\"\"}},\"type\":\"scatterpolar\"}],\"scatterpolargl\":[{\"marker\":{\"colorbar\":{\"outlinewidth\":0,\"ticks\":\"\"}},\"type\":\"scatterpolargl\"}],\"scatterternary\":[{\"marker\":{\"colorbar\":{\"outlinewidth\":0,\"ticks\":\"\"}},\"type\":\"scatterternary\"}],\"surface\":[{\"colorbar\":{\"outlinewidth\":0,\"ticks\":\"\"},\"colorscale\":[[0.0,\"#0d0887\"],[0.1111111111111111,\"#46039f\"],[0.2222222222222222,\"#7201a8\"],[0.3333333333333333,\"#9c179e\"],[0.4444444444444444,\"#bd3786\"],[0.5555555555555556,\"#d8576b\"],[0.6666666666666666,\"#ed7953\"],[0.7777777777777778,\"#fb9f3a\"],[0.8888888888888888,\"#fdca26\"],[1.0,\"#f0f921\"]],\"type\":\"surface\"}],\"table\":[{\"cells\":{\"fill\":{\"color\":\"#EBF0F8\"},\"line\":{\"color\":\"white\"}},\"header\":{\"fill\":{\"color\":\"#C8D4E3\"},\"line\":{\"color\":\"white\"}},\"type\":\"table\"}]},\"layout\":{\"annotationdefaults\":{\"arrowcolor\":\"#2a3f5f\",\"arrowhead\":0,\"arrowwidth\":1},\"autotypenumbers\":\"strict\",\"coloraxis\":{\"colorbar\":{\"outlinewidth\":0,\"ticks\":\"\"}},\"colorscale\":{\"diverging\":[[0,\"#8e0152\"],[0.1,\"#c51b7d\"],[0.2,\"#de77ae\"],[0.3,\"#f1b6da\"],[0.4,\"#fde0ef\"],[0.5,\"#f7f7f7\"],[0.6,\"#e6f5d0\"],[0.7,\"#b8e186\"],[0.8,\"#7fbc41\"],[0.9,\"#4d9221\"],[1,\"#276419\"]],\"sequential\":[[0.0,\"#0d0887\"],[0.1111111111111111,\"#46039f\"],[0.2222222222222222,\"#7201a8\"],[0.3333333333333333,\"#9c179e\"],[0.4444444444444444,\"#bd3786\"],[0.5555555555555556,\"#d8576b\"],[0.6666666666666666,\"#ed7953\"],[0.7777777777777778,\"#fb9f3a\"],[0.8888888888888888,\"#fdca26\"],[1.0,\"#f0f921\"]],\"sequentialminus\":[[0.0,\"#0d0887\"],[0.1111111111111111,\"#46039f\"],[0.2222222222222222,\"#7201a8\"],[0.3333333333333333,\"#9c179e\"],[0.4444444444444444,\"#bd3786\"],[0.5555555555555556,\"#d8576b\"],[0.6666666666666666,\"#ed7953\"],[0.7777777777777778,\"#fb9f3a\"],[0.8888888888888888,\"#fdca26\"],[1.0,\"#f0f921\"]]},\"colorway\":[\"#636efa\",\"#EF553B\",\"#00cc96\",\"#ab63fa\",\"#FFA15A\",\"#19d3f3\",\"#FF6692\",\"#B6E880\",\"#FF97FF\",\"#FECB52\"],\"font\":{\"color\":\"#2a3f5f\"},\"geo\":{\"bgcolor\":\"white\",\"lakecolor\":\"white\",\"landcolor\":\"#E5ECF6\",\"showlakes\":true,\"showland\":true,\"subunitcolor\":\"white\"},\"hoverlabel\":{\"align\":\"left\"},\"hovermode\":\"closest\",\"mapbox\":{\"style\":\"light\"},\"paper_bgcolor\":\"white\",\"plot_bgcolor\":\"#E5ECF6\",\"polar\":{\"angularaxis\":{\"gridcolor\":\"white\",\"linecolor\":\"white\",\"ticks\":\"\"},\"bgcolor\":\"#E5ECF6\",\"radialaxis\":{\"gridcolor\":\"white\",\"linecolor\":\"white\",\"ticks\":\"\"}},\"scene\":{\"xaxis\":{\"backgroundcolor\":\"#E5ECF6\",\"gridcolor\":\"white\",\"gridwidth\":2,\"linecolor\":\"white\",\"showbackground\":true,\"ticks\":\"\",\"zerolinecolor\":\"white\"},\"yaxis\":{\"backgroundcolor\":\"#E5ECF6\",\"gridcolor\":\"white\",\"gridwidth\":2,\"linecolor\":\"white\",\"showbackground\":true,\"ticks\":\"\",\"zerolinecolor\":\"white\"},\"zaxis\":{\"backgroundcolor\":\"#E5ECF6\",\"gridcolor\":\"white\",\"gridwidth\":2,\"linecolor\":\"white\",\"showbackground\":true,\"ticks\":\"\",\"zerolinecolor\":\"white\"}},\"shapedefaults\":{\"line\":{\"color\":\"#2a3f5f\"}},\"ternary\":{\"aaxis\":{\"gridcolor\":\"white\",\"linecolor\":\"white\",\"ticks\":\"\"},\"baxis\":{\"gridcolor\":\"white\",\"linecolor\":\"white\",\"ticks\":\"\"},\"bgcolor\":\"#E5ECF6\",\"caxis\":{\"gridcolor\":\"white\",\"linecolor\":\"white\",\"ticks\":\"\"}},\"title\":{\"x\":0.05},\"xaxis\":{\"automargin\":true,\"gridcolor\":\"white\",\"linecolor\":\"white\",\"ticks\":\"\",\"title\":{\"standoff\":15},\"zerolinecolor\":\"white\",\"zerolinewidth\":2},\"yaxis\":{\"automargin\":true,\"gridcolor\":\"white\",\"linecolor\":\"white\",\"ticks\":\"\",\"title\":{\"standoff\":15},\"zerolinecolor\":\"white\",\"zerolinewidth\":2}}},\"xaxis\":{\"anchor\":\"y\",\"domain\":[0.0,1.0],\"title\":{\"text\":\"Zone\"}},\"yaxis\":{\"anchor\":\"x\",\"domain\":[0.0,1.0],\"title\":{\"text\":\"sum of Total en Milliers de tonnes\"}},\"legend\":{\"title\":{\"text\":\"R\\u00e9partition\"},\"tracegroupgap\":0},\"margin\":{\"t\":60},\"barmode\":\"relative\"},                        {\"responsive\": true}                    ).then(function(){\n",
       "                            \n",
       "var gd = document.getElementById('0cfc3475-0f88-4795-aec5-3dbeccf1e48c');\n",
       "var x = new MutationObserver(function (mutations, observer) {{\n",
       "        var display = window.getComputedStyle(gd).display;\n",
       "        if (!display || display === 'none') {{\n",
       "            console.log([gd, 'removed!']);\n",
       "            Plotly.purge(gd);\n",
       "            observer.disconnect();\n",
       "        }}\n",
       "}});\n",
       "\n",
       "// Listen for the removal of the full notebook cells\n",
       "var notebookContainer = gd.closest('#notebook-container');\n",
       "if (notebookContainer) {{\n",
       "    x.observe(notebookContainer, {childList: true});\n",
       "}}\n",
       "\n",
       "// Listen for the clearing of the current output cell\n",
       "var outputEl = gd.closest('.output');\n",
       "if (outputEl) {{\n",
       "    x.observe(outputEl, {childList: true});\n",
       "}}\n",
       "\n",
       "                        })                };                });            </script>        </div>"
      ]
     },
     "metadata": {},
     "output_type": "display_data"
    }
   ],
   "source": [
    "px.histogram(cereales, x=\"Zone\", y =\"Total en Milliers de tonnes\",color=\"Répartition\", hover_name=\"Zone\")"
   ]
  },
  {
   "cell_type": "markdown",
   "id": "fc0e1a49",
   "metadata": {},
   "source": [
    "<span style=\"color:red;font-size:2.6rem;font-weight:bold; \">ajouter la colonnes region et faire facet <br>\n",
    "faire un camembert du total</span>"
   ]
  },
  {
   "cell_type": "markdown",
   "id": "599db04b",
   "metadata": {},
   "source": [
    "## Etude de cas : le manioc en Thaïlande en 2017"
   ]
  },
  {
   "cell_type": "markdown",
   "id": "c086afe4",
   "metadata": {},
   "source": [
    "### Le Manioc en Thaïlande en 2017"
   ]
  },
  {
   "cell_type": "code",
   "execution_count": 76,
   "id": "4ee517db",
   "metadata": {
    "jupyter": {
     "source_hidden": true
    },
    "scrolled": true
   },
   "outputs": [
    {
     "data": {
      "text/html": [
       "<div>\n",
       "<style scoped>\n",
       "    .dataframe tbody tr th:only-of-type {\n",
       "        vertical-align: middle;\n",
       "    }\n",
       "\n",
       "    .dataframe tbody tr th {\n",
       "        vertical-align: top;\n",
       "    }\n",
       "\n",
       "    .dataframe thead th {\n",
       "        text-align: right;\n",
       "    }\n",
       "</style>\n",
       "<table border=\"1\" class=\"dataframe\">\n",
       "  <thead>\n",
       "    <tr style=\"text-align: right;\">\n",
       "      <th></th>\n",
       "      <th>Zone</th>\n",
       "      <th>Produit</th>\n",
       "      <th>Origine</th>\n",
       "      <th>Aliments pour animaux</th>\n",
       "      <th>Autres Utilisations</th>\n",
       "      <th>Disponibilité alimentaire (Kcal/personne/jour)</th>\n",
       "      <th>Disponibilité alimentaire en quantité (kg/personne/an)</th>\n",
       "      <th>Disponibilité de matière grasse en quantité (g/personne/jour)</th>\n",
       "      <th>Disponibilité de protéines en quantité (g/personne/jour)</th>\n",
       "      <th>Disponibilité intérieure</th>\n",
       "      <th>Exportations - Quantité</th>\n",
       "      <th>Importations - Quantité</th>\n",
       "      <th>Nourriture</th>\n",
       "      <th>Pertes</th>\n",
       "      <th>Production</th>\n",
       "      <th>Semences</th>\n",
       "      <th>Traitement</th>\n",
       "      <th>Variation de stock</th>\n",
       "    </tr>\n",
       "  </thead>\n",
       "  <tbody>\n",
       "    <tr>\n",
       "      <th>13809</th>\n",
       "      <td>Thaïlande</td>\n",
       "      <td>Manioc</td>\n",
       "      <td>vegetale</td>\n",
       "      <td>1800.0</td>\n",
       "      <td>2081.0</td>\n",
       "      <td>40.0</td>\n",
       "      <td>13.0</td>\n",
       "      <td>0.05</td>\n",
       "      <td>0.14</td>\n",
       "      <td>6264.0</td>\n",
       "      <td>25214.0</td>\n",
       "      <td>1250.0</td>\n",
       "      <td>871.0</td>\n",
       "      <td>1511.0</td>\n",
       "      <td>30228.0</td>\n",
       "      <td>NaN</td>\n",
       "      <td>0.0</td>\n",
       "      <td>0.0</td>\n",
       "    </tr>\n",
       "  </tbody>\n",
       "</table>\n",
       "</div>"
      ],
      "text/plain": [
       "            Zone Produit   Origine  Aliments pour animaux  \\\n",
       "13809  Thaïlande  Manioc  vegetale                 1800.0   \n",
       "\n",
       "       Autres Utilisations  Disponibilité alimentaire (Kcal/personne/jour)  \\\n",
       "13809               2081.0                                            40.0   \n",
       "\n",
       "       Disponibilité alimentaire en quantité (kg/personne/an)  \\\n",
       "13809                                               13.0        \n",
       "\n",
       "       Disponibilité de matière grasse en quantité (g/personne/jour)  \\\n",
       "13809                                               0.05               \n",
       "\n",
       "       Disponibilité de protéines en quantité (g/personne/jour)  \\\n",
       "13809                                               0.14          \n",
       "\n",
       "       Disponibilité intérieure  Exportations - Quantité  \\\n",
       "13809                    6264.0                  25214.0   \n",
       "\n",
       "       Importations - Quantité  Nourriture  Pertes  Production  Semences  \\\n",
       "13809                   1250.0       871.0  1511.0     30228.0       NaN   \n",
       "\n",
       "       Traitement  Variation de stock  \n",
       "13809         0.0                 0.0  "
      ]
     },
     "execution_count": 76,
     "metadata": {},
     "output_type": "execute_result"
    }
   ],
   "source": [
    "# Etude de la part du manioc dans la disponibilité alimentaire\n",
    "th = dispo.loc[(dispo['Zone']=='Thaïlande')&(dispo['Produit'].str.contains(\"Manioc\"))]\n",
    "th"
   ]
  },
  {
   "cell_type": "markdown",
   "id": "0d91f23d",
   "metadata": {},
   "source": [
    "### Manioc et alimentation humaine en Thaïlande en 2017"
   ]
  },
  {
   "cell_type": "markdown",
   "id": "ee17e38c",
   "metadata": {},
   "source": [
    "#### Proportion de personnes en état de sous-nutrition\n"
   ]
  },
  {
   "cell_type": "code",
   "execution_count": 77,
   "id": "7cde3361",
   "metadata": {
    "jupyter": {
     "source_hidden": true
    }
   },
   "outputs": [
    {
     "name": "stdout",
     "output_type": "stream",
     "text": [
      "Le nombre de personnes en état de sous-nutrition en Thaïlande en 2017 (en millions d'habitants) est de :  6200.0\n",
      " \n",
      "soit  8.96  % de la population du pays et  0.08  % de la population mondiale\n"
     ]
    }
   ],
   "source": [
    "sousNutThai = sousNut.loc[(sousNut[\"Zone\"] == 'Thaïlande') & (sousNut[\"Année\"] == \"2016-2018\"), \"Valeur\"]\n",
    "sousNutThai = sousNutThai.iloc[0]*1000\n",
    "\n",
    "# ramené la population en millions d'habitants\n",
    "popT = (pop.loc[(pop[\"Zone\"] == 'Thaïlande') & (pop[\"Année\"] == 2017), \"Valeur\"])\n",
    "popT = popT.iloc[0]\n",
    "ratioTT = round(sousNutThai/popT*100, 2)\n",
    "ratioTM = round(sousNutThai/totPopM*100, 2)\n",
    "\n",
    "print(\"Le nombre de personnes en état de sous-nutrition en Thaïlande en 2017 (en millions d'habitants) est de : \", str(sousNutThai))\n",
    "print(\" \")\n",
    "print(\"soit \",str(ratioTT) , \" % de la population du pays et \", str(ratioTM),\" % de la population mondiale\" )"
   ]
  },
  {
   "cell_type": "markdown",
   "id": "6d1757bb",
   "metadata": {},
   "source": [
    "#### Nombre de personnes nourrissables"
   ]
  },
  {
   "cell_type": "code",
   "execution_count": 78,
   "id": "4c7f634e",
   "metadata": {
    "jupyter": {
     "source_hidden": true
    }
   },
   "outputs": [
    {
     "name": "stdout",
     "output_type": "stream",
     "text": [
      "le nombre théorique de personnes nourrissables est de :  0.01927710843373494\n",
      "soit  0.0  % de la population totale de la Thaïlande\n"
     ]
    }
   ],
   "source": [
    "# Nb Personnes nourrissables = Somme des Dispo en kcal/pers/jour / 2075\n",
    "\n",
    "nbPT = th[\"Disponibilité alimentaire (Kcal/personne/jour)\"]/2075\n",
    "nbPT = nbPT.iloc[0]\n",
    "print(\"le nombre théorique de personnes nourrissables est de : \", nbPT)\n",
    "x = round(nbPT/popT*100, 2)\n",
    "print(\"soit \", str(x), \" % de la population totale de la Thaïlande\")"
   ]
  },
  {
   "cell_type": "markdown",
   "id": "6e2efb38",
   "metadata": {},
   "source": [
    "### Etude de la disponibilité intérieure"
   ]
  },
  {
   "cell_type": "markdown",
   "id": "e7a315ca",
   "metadata": {},
   "source": [
    "#### Général\n"
   ]
  },
  {
   "cell_type": "code",
   "execution_count": 79,
   "id": "1243a80b",
   "metadata": {
    "jupyter": {
     "source_hidden": true
    }
   },
   "outputs": [
    {
     "data": {
      "text/html": [
       "<div>\n",
       "<style scoped>\n",
       "    .dataframe tbody tr th:only-of-type {\n",
       "        vertical-align: middle;\n",
       "    }\n",
       "\n",
       "    .dataframe tbody tr th {\n",
       "        vertical-align: top;\n",
       "    }\n",
       "\n",
       "    .dataframe thead th {\n",
       "        text-align: right;\n",
       "    }\n",
       "</style>\n",
       "<table border=\"1\" class=\"dataframe\">\n",
       "  <thead>\n",
       "    <tr style=\"text-align: right;\">\n",
       "      <th></th>\n",
       "      <th>Zone</th>\n",
       "      <th>Produit</th>\n",
       "      <th>Origine</th>\n",
       "      <th>Aliments pour animaux</th>\n",
       "      <th>Autres Utilisations</th>\n",
       "      <th>Disponibilité alimentaire (Kcal/personne/jour)</th>\n",
       "      <th>Disponibilité alimentaire en quantité (kg/personne/an)</th>\n",
       "      <th>Disponibilité de matière grasse en quantité (g/personne/jour)</th>\n",
       "      <th>Disponibilité de protéines en quantité (g/personne/jour)</th>\n",
       "      <th>Disponibilité intérieure</th>\n",
       "      <th>Exportations - Quantité</th>\n",
       "      <th>Importations - Quantité</th>\n",
       "      <th>Nourriture</th>\n",
       "      <th>Pertes</th>\n",
       "      <th>Production</th>\n",
       "      <th>Semences</th>\n",
       "      <th>Traitement</th>\n",
       "      <th>Variation de stock</th>\n",
       "    </tr>\n",
       "  </thead>\n",
       "  <tbody>\n",
       "    <tr>\n",
       "      <th>13809</th>\n",
       "      <td>Thaïlande</td>\n",
       "      <td>Manioc</td>\n",
       "      <td>vegetale</td>\n",
       "      <td>1800.0</td>\n",
       "      <td>2081.0</td>\n",
       "      <td>40.0</td>\n",
       "      <td>13.0</td>\n",
       "      <td>0.05</td>\n",
       "      <td>0.14</td>\n",
       "      <td>6264.0</td>\n",
       "      <td>25214.0</td>\n",
       "      <td>1250.0</td>\n",
       "      <td>871.0</td>\n",
       "      <td>1511.0</td>\n",
       "      <td>30228.0</td>\n",
       "      <td>0.0</td>\n",
       "      <td>0.0</td>\n",
       "      <td>0.0</td>\n",
       "    </tr>\n",
       "  </tbody>\n",
       "</table>\n",
       "</div>"
      ],
      "text/plain": [
       "            Zone Produit   Origine  Aliments pour animaux  \\\n",
       "13809  Thaïlande  Manioc  vegetale                 1800.0   \n",
       "\n",
       "       Autres Utilisations  Disponibilité alimentaire (Kcal/personne/jour)  \\\n",
       "13809               2081.0                                            40.0   \n",
       "\n",
       "       Disponibilité alimentaire en quantité (kg/personne/an)  \\\n",
       "13809                                               13.0        \n",
       "\n",
       "       Disponibilité de matière grasse en quantité (g/personne/jour)  \\\n",
       "13809                                               0.05               \n",
       "\n",
       "       Disponibilité de protéines en quantité (g/personne/jour)  \\\n",
       "13809                                               0.14          \n",
       "\n",
       "       Disponibilité intérieure  Exportations - Quantité  \\\n",
       "13809                    6264.0                  25214.0   \n",
       "\n",
       "       Importations - Quantité  Nourriture  Pertes  Production  Semences  \\\n",
       "13809                   1250.0       871.0  1511.0     30228.0       0.0   \n",
       "\n",
       "       Traitement  Variation de stock  \n",
       "13809         0.0                 0.0  "
      ]
     },
     "execution_count": 79,
     "metadata": {},
     "output_type": "execute_result"
    }
   ],
   "source": [
    "# La disponibilité intérieure est composée de : \n",
    "# Importations + Production +- Variation de stock - Exportations\n",
    "# L'utilisation se mesure via : \n",
    "# Nourriture / Semences / Pertes / Traitement (ie Transformation alimentaire) / Alimentation animale / Autres utilisations\n",
    "\n",
    "# il y a une valeur incorrecte : semence à NaN >> remplace par 0\n",
    "th = th.fillna(0)\n",
    "th"
   ]
  },
  {
   "cell_type": "markdown",
   "id": "75ad589e",
   "metadata": {},
   "source": [
    "#### Utilisation"
   ]
  },
  {
   "cell_type": "code",
   "execution_count": 80,
   "id": "c4fb3fab",
   "metadata": {
    "jupyter": {
     "source_hidden": true
    }
   },
   "outputs": [
    {
     "data": {
      "application/vnd.plotly.v1+json": {
       "config": {
        "plotlyServerURL": "https://plot.ly"
       },
       "data": [
        {
         "hoverinfo": "label+value",
         "labels": [
          "Nourriture",
          "Semences",
          "Pertes",
          "Traitement",
          "Alimentation animale",
          "Autres utilisations"
         ],
         "marker": {
          "colors": [
           "tomato",
           "honeydew",
           "lightsteelblue",
           "mediumaquamarine",
           "dodgerblue",
           "oldlace"
          ],
          "line": {
           "color": "#FFFFFF",
           "width": 2
          }
         },
         "pull": [
          0.3,
          0.1,
          0.1,
          0.1,
          0.1,
          0.1
         ],
         "textfont": {
          "size": 15
         },
         "textinfo": "label+percent",
         "type": "pie",
         "values": [
          871,
          0,
          1511,
          0,
          1800,
          2081
         ]
        }
       ],
       "layout": {
        "autosize": true,
        "template": {
         "data": {
          "bar": [
           {
            "error_x": {
             "color": "#2a3f5f"
            },
            "error_y": {
             "color": "#2a3f5f"
            },
            "marker": {
             "line": {
              "color": "#E5ECF6",
              "width": 0.5
             },
             "pattern": {
              "fillmode": "overlay",
              "size": 10,
              "solidity": 0.2
             }
            },
            "type": "bar"
           }
          ],
          "barpolar": [
           {
            "marker": {
             "line": {
              "color": "#E5ECF6",
              "width": 0.5
             },
             "pattern": {
              "fillmode": "overlay",
              "size": 10,
              "solidity": 0.2
             }
            },
            "type": "barpolar"
           }
          ],
          "carpet": [
           {
            "aaxis": {
             "endlinecolor": "#2a3f5f",
             "gridcolor": "white",
             "linecolor": "white",
             "minorgridcolor": "white",
             "startlinecolor": "#2a3f5f"
            },
            "baxis": {
             "endlinecolor": "#2a3f5f",
             "gridcolor": "white",
             "linecolor": "white",
             "minorgridcolor": "white",
             "startlinecolor": "#2a3f5f"
            },
            "type": "carpet"
           }
          ],
          "choropleth": [
           {
            "colorbar": {
             "outlinewidth": 0,
             "ticks": ""
            },
            "type": "choropleth"
           }
          ],
          "contour": [
           {
            "colorbar": {
             "outlinewidth": 0,
             "ticks": ""
            },
            "colorscale": [
             [
              0,
              "#0d0887"
             ],
             [
              0.1111111111111111,
              "#46039f"
             ],
             [
              0.2222222222222222,
              "#7201a8"
             ],
             [
              0.3333333333333333,
              "#9c179e"
             ],
             [
              0.4444444444444444,
              "#bd3786"
             ],
             [
              0.5555555555555556,
              "#d8576b"
             ],
             [
              0.6666666666666666,
              "#ed7953"
             ],
             [
              0.7777777777777778,
              "#fb9f3a"
             ],
             [
              0.8888888888888888,
              "#fdca26"
             ],
             [
              1,
              "#f0f921"
             ]
            ],
            "type": "contour"
           }
          ],
          "contourcarpet": [
           {
            "colorbar": {
             "outlinewidth": 0,
             "ticks": ""
            },
            "type": "contourcarpet"
           }
          ],
          "heatmap": [
           {
            "colorbar": {
             "outlinewidth": 0,
             "ticks": ""
            },
            "colorscale": [
             [
              0,
              "#0d0887"
             ],
             [
              0.1111111111111111,
              "#46039f"
             ],
             [
              0.2222222222222222,
              "#7201a8"
             ],
             [
              0.3333333333333333,
              "#9c179e"
             ],
             [
              0.4444444444444444,
              "#bd3786"
             ],
             [
              0.5555555555555556,
              "#d8576b"
             ],
             [
              0.6666666666666666,
              "#ed7953"
             ],
             [
              0.7777777777777778,
              "#fb9f3a"
             ],
             [
              0.8888888888888888,
              "#fdca26"
             ],
             [
              1,
              "#f0f921"
             ]
            ],
            "type": "heatmap"
           }
          ],
          "heatmapgl": [
           {
            "colorbar": {
             "outlinewidth": 0,
             "ticks": ""
            },
            "colorscale": [
             [
              0,
              "#0d0887"
             ],
             [
              0.1111111111111111,
              "#46039f"
             ],
             [
              0.2222222222222222,
              "#7201a8"
             ],
             [
              0.3333333333333333,
              "#9c179e"
             ],
             [
              0.4444444444444444,
              "#bd3786"
             ],
             [
              0.5555555555555556,
              "#d8576b"
             ],
             [
              0.6666666666666666,
              "#ed7953"
             ],
             [
              0.7777777777777778,
              "#fb9f3a"
             ],
             [
              0.8888888888888888,
              "#fdca26"
             ],
             [
              1,
              "#f0f921"
             ]
            ],
            "type": "heatmapgl"
           }
          ],
          "histogram": [
           {
            "marker": {
             "pattern": {
              "fillmode": "overlay",
              "size": 10,
              "solidity": 0.2
             }
            },
            "type": "histogram"
           }
          ],
          "histogram2d": [
           {
            "colorbar": {
             "outlinewidth": 0,
             "ticks": ""
            },
            "colorscale": [
             [
              0,
              "#0d0887"
             ],
             [
              0.1111111111111111,
              "#46039f"
             ],
             [
              0.2222222222222222,
              "#7201a8"
             ],
             [
              0.3333333333333333,
              "#9c179e"
             ],
             [
              0.4444444444444444,
              "#bd3786"
             ],
             [
              0.5555555555555556,
              "#d8576b"
             ],
             [
              0.6666666666666666,
              "#ed7953"
             ],
             [
              0.7777777777777778,
              "#fb9f3a"
             ],
             [
              0.8888888888888888,
              "#fdca26"
             ],
             [
              1,
              "#f0f921"
             ]
            ],
            "type": "histogram2d"
           }
          ],
          "histogram2dcontour": [
           {
            "colorbar": {
             "outlinewidth": 0,
             "ticks": ""
            },
            "colorscale": [
             [
              0,
              "#0d0887"
             ],
             [
              0.1111111111111111,
              "#46039f"
             ],
             [
              0.2222222222222222,
              "#7201a8"
             ],
             [
              0.3333333333333333,
              "#9c179e"
             ],
             [
              0.4444444444444444,
              "#bd3786"
             ],
             [
              0.5555555555555556,
              "#d8576b"
             ],
             [
              0.6666666666666666,
              "#ed7953"
             ],
             [
              0.7777777777777778,
              "#fb9f3a"
             ],
             [
              0.8888888888888888,
              "#fdca26"
             ],
             [
              1,
              "#f0f921"
             ]
            ],
            "type": "histogram2dcontour"
           }
          ],
          "mesh3d": [
           {
            "colorbar": {
             "outlinewidth": 0,
             "ticks": ""
            },
            "type": "mesh3d"
           }
          ],
          "parcoords": [
           {
            "line": {
             "colorbar": {
              "outlinewidth": 0,
              "ticks": ""
             }
            },
            "type": "parcoords"
           }
          ],
          "pie": [
           {
            "automargin": true,
            "type": "pie"
           }
          ],
          "scatter": [
           {
            "marker": {
             "colorbar": {
              "outlinewidth": 0,
              "ticks": ""
             }
            },
            "type": "scatter"
           }
          ],
          "scatter3d": [
           {
            "line": {
             "colorbar": {
              "outlinewidth": 0,
              "ticks": ""
             }
            },
            "marker": {
             "colorbar": {
              "outlinewidth": 0,
              "ticks": ""
             }
            },
            "type": "scatter3d"
           }
          ],
          "scattercarpet": [
           {
            "marker": {
             "colorbar": {
              "outlinewidth": 0,
              "ticks": ""
             }
            },
            "type": "scattercarpet"
           }
          ],
          "scattergeo": [
           {
            "marker": {
             "colorbar": {
              "outlinewidth": 0,
              "ticks": ""
             }
            },
            "type": "scattergeo"
           }
          ],
          "scattergl": [
           {
            "marker": {
             "colorbar": {
              "outlinewidth": 0,
              "ticks": ""
             }
            },
            "type": "scattergl"
           }
          ],
          "scattermapbox": [
           {
            "marker": {
             "colorbar": {
              "outlinewidth": 0,
              "ticks": ""
             }
            },
            "type": "scattermapbox"
           }
          ],
          "scatterpolar": [
           {
            "marker": {
             "colorbar": {
              "outlinewidth": 0,
              "ticks": ""
             }
            },
            "type": "scatterpolar"
           }
          ],
          "scatterpolargl": [
           {
            "marker": {
             "colorbar": {
              "outlinewidth": 0,
              "ticks": ""
             }
            },
            "type": "scatterpolargl"
           }
          ],
          "scatterternary": [
           {
            "marker": {
             "colorbar": {
              "outlinewidth": 0,
              "ticks": ""
             }
            },
            "type": "scatterternary"
           }
          ],
          "surface": [
           {
            "colorbar": {
             "outlinewidth": 0,
             "ticks": ""
            },
            "colorscale": [
             [
              0,
              "#0d0887"
             ],
             [
              0.1111111111111111,
              "#46039f"
             ],
             [
              0.2222222222222222,
              "#7201a8"
             ],
             [
              0.3333333333333333,
              "#9c179e"
             ],
             [
              0.4444444444444444,
              "#bd3786"
             ],
             [
              0.5555555555555556,
              "#d8576b"
             ],
             [
              0.6666666666666666,
              "#ed7953"
             ],
             [
              0.7777777777777778,
              "#fb9f3a"
             ],
             [
              0.8888888888888888,
              "#fdca26"
             ],
             [
              1,
              "#f0f921"
             ]
            ],
            "type": "surface"
           }
          ],
          "table": [
           {
            "cells": {
             "fill": {
              "color": "#EBF0F8"
             },
             "line": {
              "color": "white"
             }
            },
            "header": {
             "fill": {
              "color": "#C8D4E3"
             },
             "line": {
              "color": "white"
             }
            },
            "type": "table"
           }
          ]
         },
         "layout": {
          "annotationdefaults": {
           "arrowcolor": "#2a3f5f",
           "arrowhead": 0,
           "arrowwidth": 1
          },
          "autotypenumbers": "strict",
          "coloraxis": {
           "colorbar": {
            "outlinewidth": 0,
            "ticks": ""
           }
          },
          "colorscale": {
           "diverging": [
            [
             0,
             "#8e0152"
            ],
            [
             0.1,
             "#c51b7d"
            ],
            [
             0.2,
             "#de77ae"
            ],
            [
             0.3,
             "#f1b6da"
            ],
            [
             0.4,
             "#fde0ef"
            ],
            [
             0.5,
             "#f7f7f7"
            ],
            [
             0.6,
             "#e6f5d0"
            ],
            [
             0.7,
             "#b8e186"
            ],
            [
             0.8,
             "#7fbc41"
            ],
            [
             0.9,
             "#4d9221"
            ],
            [
             1,
             "#276419"
            ]
           ],
           "sequential": [
            [
             0,
             "#0d0887"
            ],
            [
             0.1111111111111111,
             "#46039f"
            ],
            [
             0.2222222222222222,
             "#7201a8"
            ],
            [
             0.3333333333333333,
             "#9c179e"
            ],
            [
             0.4444444444444444,
             "#bd3786"
            ],
            [
             0.5555555555555556,
             "#d8576b"
            ],
            [
             0.6666666666666666,
             "#ed7953"
            ],
            [
             0.7777777777777778,
             "#fb9f3a"
            ],
            [
             0.8888888888888888,
             "#fdca26"
            ],
            [
             1,
             "#f0f921"
            ]
           ],
           "sequentialminus": [
            [
             0,
             "#0d0887"
            ],
            [
             0.1111111111111111,
             "#46039f"
            ],
            [
             0.2222222222222222,
             "#7201a8"
            ],
            [
             0.3333333333333333,
             "#9c179e"
            ],
            [
             0.4444444444444444,
             "#bd3786"
            ],
            [
             0.5555555555555556,
             "#d8576b"
            ],
            [
             0.6666666666666666,
             "#ed7953"
            ],
            [
             0.7777777777777778,
             "#fb9f3a"
            ],
            [
             0.8888888888888888,
             "#fdca26"
            ],
            [
             1,
             "#f0f921"
            ]
           ]
          },
          "colorway": [
           "#636efa",
           "#EF553B",
           "#00cc96",
           "#ab63fa",
           "#FFA15A",
           "#19d3f3",
           "#FF6692",
           "#B6E880",
           "#FF97FF",
           "#FECB52"
          ],
          "font": {
           "color": "#2a3f5f"
          },
          "geo": {
           "bgcolor": "white",
           "lakecolor": "white",
           "landcolor": "#E5ECF6",
           "showlakes": true,
           "showland": true,
           "subunitcolor": "white"
          },
          "hoverlabel": {
           "align": "left"
          },
          "hovermode": "closest",
          "mapbox": {
           "style": "light"
          },
          "paper_bgcolor": "white",
          "plot_bgcolor": "#E5ECF6",
          "polar": {
           "angularaxis": {
            "gridcolor": "white",
            "linecolor": "white",
            "ticks": ""
           },
           "bgcolor": "#E5ECF6",
           "radialaxis": {
            "gridcolor": "white",
            "linecolor": "white",
            "ticks": ""
           }
          },
          "scene": {
           "xaxis": {
            "backgroundcolor": "#E5ECF6",
            "gridcolor": "white",
            "gridwidth": 2,
            "linecolor": "white",
            "showbackground": true,
            "ticks": "",
            "zerolinecolor": "white"
           },
           "yaxis": {
            "backgroundcolor": "#E5ECF6",
            "gridcolor": "white",
            "gridwidth": 2,
            "linecolor": "white",
            "showbackground": true,
            "ticks": "",
            "zerolinecolor": "white"
           },
           "zaxis": {
            "backgroundcolor": "#E5ECF6",
            "gridcolor": "white",
            "gridwidth": 2,
            "linecolor": "white",
            "showbackground": true,
            "ticks": "",
            "zerolinecolor": "white"
           }
          },
          "shapedefaults": {
           "line": {
            "color": "#2a3f5f"
           }
          },
          "ternary": {
           "aaxis": {
            "gridcolor": "white",
            "linecolor": "white",
            "ticks": ""
           },
           "baxis": {
            "gridcolor": "white",
            "linecolor": "white",
            "ticks": ""
           },
           "bgcolor": "#E5ECF6",
           "caxis": {
            "gridcolor": "white",
            "linecolor": "white",
            "ticks": ""
           }
          },
          "title": {
           "x": 0.05
          },
          "xaxis": {
           "automargin": true,
           "gridcolor": "white",
           "linecolor": "white",
           "ticks": "",
           "title": {
            "standoff": 15
           },
           "zerolinecolor": "white",
           "zerolinewidth": 2
          },
          "yaxis": {
           "automargin": true,
           "gridcolor": "white",
           "linecolor": "white",
           "ticks": "",
           "title": {
            "standoff": 15
           },
           "zerolinecolor": "white",
           "zerolinewidth": 2
          }
         }
        }
       }
      },
      "text/html": [
       "<div>                            <div id=\"c360d0bf-7c83-4677-84e2-8bc81fc2462b\" class=\"plotly-graph-div\" style=\"height:525px; width:100%;\"></div>            <script type=\"text/javascript\">                require([\"plotly\"], function(Plotly) {                    window.PLOTLYENV=window.PLOTLYENV || {};                                    if (document.getElementById(\"c360d0bf-7c83-4677-84e2-8bc81fc2462b\")) {                    Plotly.newPlot(                        \"c360d0bf-7c83-4677-84e2-8bc81fc2462b\",                        [{\"labels\":[\"Nourriture\",\"Semences\",\"Pertes\",\"Traitement\",\"Alimentation animale\",\"Autres utilisations\"],\"values\":[871.0,0.0,1511.0,0.0,1800.0,2081.0],\"type\":\"pie\",\"textfont\":{\"size\":15},\"marker\":{\"line\":{\"color\":\"#FFFFFF\",\"width\":2},\"colors\":[\"tomato\",\"honeydew\",\"lightsteelblue\",\"mediumaquamarine\",\"dodgerblue\",\"oldlace\"]},\"hoverinfo\":\"label+value\",\"pull\":[0.3,0.1,0.1,0.1,0.1,0.1],\"textinfo\":\"label+percent\"}],                        {\"template\":{\"data\":{\"bar\":[{\"error_x\":{\"color\":\"#2a3f5f\"},\"error_y\":{\"color\":\"#2a3f5f\"},\"marker\":{\"line\":{\"color\":\"#E5ECF6\",\"width\":0.5},\"pattern\":{\"fillmode\":\"overlay\",\"size\":10,\"solidity\":0.2}},\"type\":\"bar\"}],\"barpolar\":[{\"marker\":{\"line\":{\"color\":\"#E5ECF6\",\"width\":0.5},\"pattern\":{\"fillmode\":\"overlay\",\"size\":10,\"solidity\":0.2}},\"type\":\"barpolar\"}],\"carpet\":[{\"aaxis\":{\"endlinecolor\":\"#2a3f5f\",\"gridcolor\":\"white\",\"linecolor\":\"white\",\"minorgridcolor\":\"white\",\"startlinecolor\":\"#2a3f5f\"},\"baxis\":{\"endlinecolor\":\"#2a3f5f\",\"gridcolor\":\"white\",\"linecolor\":\"white\",\"minorgridcolor\":\"white\",\"startlinecolor\":\"#2a3f5f\"},\"type\":\"carpet\"}],\"choropleth\":[{\"colorbar\":{\"outlinewidth\":0,\"ticks\":\"\"},\"type\":\"choropleth\"}],\"contour\":[{\"colorbar\":{\"outlinewidth\":0,\"ticks\":\"\"},\"colorscale\":[[0.0,\"#0d0887\"],[0.1111111111111111,\"#46039f\"],[0.2222222222222222,\"#7201a8\"],[0.3333333333333333,\"#9c179e\"],[0.4444444444444444,\"#bd3786\"],[0.5555555555555556,\"#d8576b\"],[0.6666666666666666,\"#ed7953\"],[0.7777777777777778,\"#fb9f3a\"],[0.8888888888888888,\"#fdca26\"],[1.0,\"#f0f921\"]],\"type\":\"contour\"}],\"contourcarpet\":[{\"colorbar\":{\"outlinewidth\":0,\"ticks\":\"\"},\"type\":\"contourcarpet\"}],\"heatmap\":[{\"colorbar\":{\"outlinewidth\":0,\"ticks\":\"\"},\"colorscale\":[[0.0,\"#0d0887\"],[0.1111111111111111,\"#46039f\"],[0.2222222222222222,\"#7201a8\"],[0.3333333333333333,\"#9c179e\"],[0.4444444444444444,\"#bd3786\"],[0.5555555555555556,\"#d8576b\"],[0.6666666666666666,\"#ed7953\"],[0.7777777777777778,\"#fb9f3a\"],[0.8888888888888888,\"#fdca26\"],[1.0,\"#f0f921\"]],\"type\":\"heatmap\"}],\"heatmapgl\":[{\"colorbar\":{\"outlinewidth\":0,\"ticks\":\"\"},\"colorscale\":[[0.0,\"#0d0887\"],[0.1111111111111111,\"#46039f\"],[0.2222222222222222,\"#7201a8\"],[0.3333333333333333,\"#9c179e\"],[0.4444444444444444,\"#bd3786\"],[0.5555555555555556,\"#d8576b\"],[0.6666666666666666,\"#ed7953\"],[0.7777777777777778,\"#fb9f3a\"],[0.8888888888888888,\"#fdca26\"],[1.0,\"#f0f921\"]],\"type\":\"heatmapgl\"}],\"histogram\":[{\"marker\":{\"pattern\":{\"fillmode\":\"overlay\",\"size\":10,\"solidity\":0.2}},\"type\":\"histogram\"}],\"histogram2d\":[{\"colorbar\":{\"outlinewidth\":0,\"ticks\":\"\"},\"colorscale\":[[0.0,\"#0d0887\"],[0.1111111111111111,\"#46039f\"],[0.2222222222222222,\"#7201a8\"],[0.3333333333333333,\"#9c179e\"],[0.4444444444444444,\"#bd3786\"],[0.5555555555555556,\"#d8576b\"],[0.6666666666666666,\"#ed7953\"],[0.7777777777777778,\"#fb9f3a\"],[0.8888888888888888,\"#fdca26\"],[1.0,\"#f0f921\"]],\"type\":\"histogram2d\"}],\"histogram2dcontour\":[{\"colorbar\":{\"outlinewidth\":0,\"ticks\":\"\"},\"colorscale\":[[0.0,\"#0d0887\"],[0.1111111111111111,\"#46039f\"],[0.2222222222222222,\"#7201a8\"],[0.3333333333333333,\"#9c179e\"],[0.4444444444444444,\"#bd3786\"],[0.5555555555555556,\"#d8576b\"],[0.6666666666666666,\"#ed7953\"],[0.7777777777777778,\"#fb9f3a\"],[0.8888888888888888,\"#fdca26\"],[1.0,\"#f0f921\"]],\"type\":\"histogram2dcontour\"}],\"mesh3d\":[{\"colorbar\":{\"outlinewidth\":0,\"ticks\":\"\"},\"type\":\"mesh3d\"}],\"parcoords\":[{\"line\":{\"colorbar\":{\"outlinewidth\":0,\"ticks\":\"\"}},\"type\":\"parcoords\"}],\"pie\":[{\"automargin\":true,\"type\":\"pie\"}],\"scatter\":[{\"marker\":{\"colorbar\":{\"outlinewidth\":0,\"ticks\":\"\"}},\"type\":\"scatter\"}],\"scatter3d\":[{\"line\":{\"colorbar\":{\"outlinewidth\":0,\"ticks\":\"\"}},\"marker\":{\"colorbar\":{\"outlinewidth\":0,\"ticks\":\"\"}},\"type\":\"scatter3d\"}],\"scattercarpet\":[{\"marker\":{\"colorbar\":{\"outlinewidth\":0,\"ticks\":\"\"}},\"type\":\"scattercarpet\"}],\"scattergeo\":[{\"marker\":{\"colorbar\":{\"outlinewidth\":0,\"ticks\":\"\"}},\"type\":\"scattergeo\"}],\"scattergl\":[{\"marker\":{\"colorbar\":{\"outlinewidth\":0,\"ticks\":\"\"}},\"type\":\"scattergl\"}],\"scattermapbox\":[{\"marker\":{\"colorbar\":{\"outlinewidth\":0,\"ticks\":\"\"}},\"type\":\"scattermapbox\"}],\"scatterpolar\":[{\"marker\":{\"colorbar\":{\"outlinewidth\":0,\"ticks\":\"\"}},\"type\":\"scatterpolar\"}],\"scatterpolargl\":[{\"marker\":{\"colorbar\":{\"outlinewidth\":0,\"ticks\":\"\"}},\"type\":\"scatterpolargl\"}],\"scatterternary\":[{\"marker\":{\"colorbar\":{\"outlinewidth\":0,\"ticks\":\"\"}},\"type\":\"scatterternary\"}],\"surface\":[{\"colorbar\":{\"outlinewidth\":0,\"ticks\":\"\"},\"colorscale\":[[0.0,\"#0d0887\"],[0.1111111111111111,\"#46039f\"],[0.2222222222222222,\"#7201a8\"],[0.3333333333333333,\"#9c179e\"],[0.4444444444444444,\"#bd3786\"],[0.5555555555555556,\"#d8576b\"],[0.6666666666666666,\"#ed7953\"],[0.7777777777777778,\"#fb9f3a\"],[0.8888888888888888,\"#fdca26\"],[1.0,\"#f0f921\"]],\"type\":\"surface\"}],\"table\":[{\"cells\":{\"fill\":{\"color\":\"#EBF0F8\"},\"line\":{\"color\":\"white\"}},\"header\":{\"fill\":{\"color\":\"#C8D4E3\"},\"line\":{\"color\":\"white\"}},\"type\":\"table\"}]},\"layout\":{\"annotationdefaults\":{\"arrowcolor\":\"#2a3f5f\",\"arrowhead\":0,\"arrowwidth\":1},\"autotypenumbers\":\"strict\",\"coloraxis\":{\"colorbar\":{\"outlinewidth\":0,\"ticks\":\"\"}},\"colorscale\":{\"diverging\":[[0,\"#8e0152\"],[0.1,\"#c51b7d\"],[0.2,\"#de77ae\"],[0.3,\"#f1b6da\"],[0.4,\"#fde0ef\"],[0.5,\"#f7f7f7\"],[0.6,\"#e6f5d0\"],[0.7,\"#b8e186\"],[0.8,\"#7fbc41\"],[0.9,\"#4d9221\"],[1,\"#276419\"]],\"sequential\":[[0.0,\"#0d0887\"],[0.1111111111111111,\"#46039f\"],[0.2222222222222222,\"#7201a8\"],[0.3333333333333333,\"#9c179e\"],[0.4444444444444444,\"#bd3786\"],[0.5555555555555556,\"#d8576b\"],[0.6666666666666666,\"#ed7953\"],[0.7777777777777778,\"#fb9f3a\"],[0.8888888888888888,\"#fdca26\"],[1.0,\"#f0f921\"]],\"sequentialminus\":[[0.0,\"#0d0887\"],[0.1111111111111111,\"#46039f\"],[0.2222222222222222,\"#7201a8\"],[0.3333333333333333,\"#9c179e\"],[0.4444444444444444,\"#bd3786\"],[0.5555555555555556,\"#d8576b\"],[0.6666666666666666,\"#ed7953\"],[0.7777777777777778,\"#fb9f3a\"],[0.8888888888888888,\"#fdca26\"],[1.0,\"#f0f921\"]]},\"colorway\":[\"#636efa\",\"#EF553B\",\"#00cc96\",\"#ab63fa\",\"#FFA15A\",\"#19d3f3\",\"#FF6692\",\"#B6E880\",\"#FF97FF\",\"#FECB52\"],\"font\":{\"color\":\"#2a3f5f\"},\"geo\":{\"bgcolor\":\"white\",\"lakecolor\":\"white\",\"landcolor\":\"#E5ECF6\",\"showlakes\":true,\"showland\":true,\"subunitcolor\":\"white\"},\"hoverlabel\":{\"align\":\"left\"},\"hovermode\":\"closest\",\"mapbox\":{\"style\":\"light\"},\"paper_bgcolor\":\"white\",\"plot_bgcolor\":\"#E5ECF6\",\"polar\":{\"angularaxis\":{\"gridcolor\":\"white\",\"linecolor\":\"white\",\"ticks\":\"\"},\"bgcolor\":\"#E5ECF6\",\"radialaxis\":{\"gridcolor\":\"white\",\"linecolor\":\"white\",\"ticks\":\"\"}},\"scene\":{\"xaxis\":{\"backgroundcolor\":\"#E5ECF6\",\"gridcolor\":\"white\",\"gridwidth\":2,\"linecolor\":\"white\",\"showbackground\":true,\"ticks\":\"\",\"zerolinecolor\":\"white\"},\"yaxis\":{\"backgroundcolor\":\"#E5ECF6\",\"gridcolor\":\"white\",\"gridwidth\":2,\"linecolor\":\"white\",\"showbackground\":true,\"ticks\":\"\",\"zerolinecolor\":\"white\"},\"zaxis\":{\"backgroundcolor\":\"#E5ECF6\",\"gridcolor\":\"white\",\"gridwidth\":2,\"linecolor\":\"white\",\"showbackground\":true,\"ticks\":\"\",\"zerolinecolor\":\"white\"}},\"shapedefaults\":{\"line\":{\"color\":\"#2a3f5f\"}},\"ternary\":{\"aaxis\":{\"gridcolor\":\"white\",\"linecolor\":\"white\",\"ticks\":\"\"},\"baxis\":{\"gridcolor\":\"white\",\"linecolor\":\"white\",\"ticks\":\"\"},\"bgcolor\":\"#E5ECF6\",\"caxis\":{\"gridcolor\":\"white\",\"linecolor\":\"white\",\"ticks\":\"\"}},\"title\":{\"x\":0.05},\"xaxis\":{\"automargin\":true,\"gridcolor\":\"white\",\"linecolor\":\"white\",\"ticks\":\"\",\"title\":{\"standoff\":15},\"zerolinecolor\":\"white\",\"zerolinewidth\":2},\"yaxis\":{\"automargin\":true,\"gridcolor\":\"white\",\"linecolor\":\"white\",\"ticks\":\"\",\"title\":{\"standoff\":15},\"zerolinecolor\":\"white\",\"zerolinewidth\":2}}}},                        {\"responsive\": true}                    ).then(function(){\n",
       "                            \n",
       "var gd = document.getElementById('c360d0bf-7c83-4677-84e2-8bc81fc2462b');\n",
       "var x = new MutationObserver(function (mutations, observer) {{\n",
       "        var display = window.getComputedStyle(gd).display;\n",
       "        if (!display || display === 'none') {{\n",
       "            console.log([gd, 'removed!']);\n",
       "            Plotly.purge(gd);\n",
       "            observer.disconnect();\n",
       "        }}\n",
       "}});\n",
       "\n",
       "// Listen for the removal of the full notebook cells\n",
       "var notebookContainer = gd.closest('#notebook-container');\n",
       "if (notebookContainer) {{\n",
       "    x.observe(notebookContainer, {childList: true});\n",
       "}}\n",
       "\n",
       "// Listen for the clearing of the current output cell\n",
       "var outputEl = gd.closest('.output');\n",
       "if (outputEl) {{\n",
       "    x.observe(outputEl, {childList: true});\n",
       "}}\n",
       "\n",
       "                        })                };                });            </script>        </div>"
      ]
     },
     "metadata": {},
     "output_type": "display_data"
    }
   ],
   "source": [
    "colors =['tomato', 'honeydew', 'lightsteelblue', 'mediumaquamarine', 'dodgerblue', 'oldlace']\n",
    "fig = go.Figure(data=[go.Pie(labels=['Nourriture', 'Semences', 'Pertes', 'Traitement', 'Alimentation animale', 'Autres utilisations'], \n",
    "                            values=[th.iloc[0,12],th.iloc[0,15],th.iloc[0,13],th.iloc[0,16],th.iloc[0,3],th.iloc[0,4]])])\n",
    "fig\n",
    "\n",
    "fig.update_traces(hoverinfo='label+value', \n",
    "                  textfont_size=15, \n",
    "                  textinfo='label+percent', \n",
    "                  pull=[0.3, 0.1, 0.1, 0.1, 0.1, 0.1], # on décale les quartiers\n",
    "                  marker=dict(\n",
    "                     colors=colors, \n",
    "                     line=dict(color='#FFFFFF', width=2)\n",
    "                            ))\n"
   ]
  },
  {
   "cell_type": "markdown",
   "id": "ab16b1c7",
   "metadata": {},
   "source": [
    "#### Origines"
   ]
  },
  {
   "cell_type": "code",
   "execution_count": 81,
   "id": "5fa08fc1",
   "metadata": {
    "jupyter": {
     "source_hidden": true
    }
   },
   "outputs": [
    {
     "data": {
      "application/vnd.plotly.v1+json": {
       "config": {
        "plotlyServerURL": "https://plot.ly"
       },
       "data": [
        {
         "hoverinfo": "label+value",
         "labels": [
          "Exportations",
          "Importations",
          "Production",
          "Variation de stock"
         ],
         "marker": {
          "colors": [
           "tomato",
           "honeydew",
           "lightsteelblue",
           "mediumaquamarine"
          ],
          "line": {
           "color": "#FFFFFF",
           "width": 2
          }
         },
         "pull": [
          0.1,
          0.1,
          0.1,
          0.1
         ],
         "textfont": {
          "size": 15
         },
         "textinfo": "label+value",
         "type": "pie",
         "values": [
          25214,
          1250,
          30228,
          0
         ]
        }
       ],
       "layout": {
        "autosize": true,
        "template": {
         "data": {
          "bar": [
           {
            "error_x": {
             "color": "#2a3f5f"
            },
            "error_y": {
             "color": "#2a3f5f"
            },
            "marker": {
             "line": {
              "color": "#E5ECF6",
              "width": 0.5
             },
             "pattern": {
              "fillmode": "overlay",
              "size": 10,
              "solidity": 0.2
             }
            },
            "type": "bar"
           }
          ],
          "barpolar": [
           {
            "marker": {
             "line": {
              "color": "#E5ECF6",
              "width": 0.5
             },
             "pattern": {
              "fillmode": "overlay",
              "size": 10,
              "solidity": 0.2
             }
            },
            "type": "barpolar"
           }
          ],
          "carpet": [
           {
            "aaxis": {
             "endlinecolor": "#2a3f5f",
             "gridcolor": "white",
             "linecolor": "white",
             "minorgridcolor": "white",
             "startlinecolor": "#2a3f5f"
            },
            "baxis": {
             "endlinecolor": "#2a3f5f",
             "gridcolor": "white",
             "linecolor": "white",
             "minorgridcolor": "white",
             "startlinecolor": "#2a3f5f"
            },
            "type": "carpet"
           }
          ],
          "choropleth": [
           {
            "colorbar": {
             "outlinewidth": 0,
             "ticks": ""
            },
            "type": "choropleth"
           }
          ],
          "contour": [
           {
            "colorbar": {
             "outlinewidth": 0,
             "ticks": ""
            },
            "colorscale": [
             [
              0,
              "#0d0887"
             ],
             [
              0.1111111111111111,
              "#46039f"
             ],
             [
              0.2222222222222222,
              "#7201a8"
             ],
             [
              0.3333333333333333,
              "#9c179e"
             ],
             [
              0.4444444444444444,
              "#bd3786"
             ],
             [
              0.5555555555555556,
              "#d8576b"
             ],
             [
              0.6666666666666666,
              "#ed7953"
             ],
             [
              0.7777777777777778,
              "#fb9f3a"
             ],
             [
              0.8888888888888888,
              "#fdca26"
             ],
             [
              1,
              "#f0f921"
             ]
            ],
            "type": "contour"
           }
          ],
          "contourcarpet": [
           {
            "colorbar": {
             "outlinewidth": 0,
             "ticks": ""
            },
            "type": "contourcarpet"
           }
          ],
          "heatmap": [
           {
            "colorbar": {
             "outlinewidth": 0,
             "ticks": ""
            },
            "colorscale": [
             [
              0,
              "#0d0887"
             ],
             [
              0.1111111111111111,
              "#46039f"
             ],
             [
              0.2222222222222222,
              "#7201a8"
             ],
             [
              0.3333333333333333,
              "#9c179e"
             ],
             [
              0.4444444444444444,
              "#bd3786"
             ],
             [
              0.5555555555555556,
              "#d8576b"
             ],
             [
              0.6666666666666666,
              "#ed7953"
             ],
             [
              0.7777777777777778,
              "#fb9f3a"
             ],
             [
              0.8888888888888888,
              "#fdca26"
             ],
             [
              1,
              "#f0f921"
             ]
            ],
            "type": "heatmap"
           }
          ],
          "heatmapgl": [
           {
            "colorbar": {
             "outlinewidth": 0,
             "ticks": ""
            },
            "colorscale": [
             [
              0,
              "#0d0887"
             ],
             [
              0.1111111111111111,
              "#46039f"
             ],
             [
              0.2222222222222222,
              "#7201a8"
             ],
             [
              0.3333333333333333,
              "#9c179e"
             ],
             [
              0.4444444444444444,
              "#bd3786"
             ],
             [
              0.5555555555555556,
              "#d8576b"
             ],
             [
              0.6666666666666666,
              "#ed7953"
             ],
             [
              0.7777777777777778,
              "#fb9f3a"
             ],
             [
              0.8888888888888888,
              "#fdca26"
             ],
             [
              1,
              "#f0f921"
             ]
            ],
            "type": "heatmapgl"
           }
          ],
          "histogram": [
           {
            "marker": {
             "pattern": {
              "fillmode": "overlay",
              "size": 10,
              "solidity": 0.2
             }
            },
            "type": "histogram"
           }
          ],
          "histogram2d": [
           {
            "colorbar": {
             "outlinewidth": 0,
             "ticks": ""
            },
            "colorscale": [
             [
              0,
              "#0d0887"
             ],
             [
              0.1111111111111111,
              "#46039f"
             ],
             [
              0.2222222222222222,
              "#7201a8"
             ],
             [
              0.3333333333333333,
              "#9c179e"
             ],
             [
              0.4444444444444444,
              "#bd3786"
             ],
             [
              0.5555555555555556,
              "#d8576b"
             ],
             [
              0.6666666666666666,
              "#ed7953"
             ],
             [
              0.7777777777777778,
              "#fb9f3a"
             ],
             [
              0.8888888888888888,
              "#fdca26"
             ],
             [
              1,
              "#f0f921"
             ]
            ],
            "type": "histogram2d"
           }
          ],
          "histogram2dcontour": [
           {
            "colorbar": {
             "outlinewidth": 0,
             "ticks": ""
            },
            "colorscale": [
             [
              0,
              "#0d0887"
             ],
             [
              0.1111111111111111,
              "#46039f"
             ],
             [
              0.2222222222222222,
              "#7201a8"
             ],
             [
              0.3333333333333333,
              "#9c179e"
             ],
             [
              0.4444444444444444,
              "#bd3786"
             ],
             [
              0.5555555555555556,
              "#d8576b"
             ],
             [
              0.6666666666666666,
              "#ed7953"
             ],
             [
              0.7777777777777778,
              "#fb9f3a"
             ],
             [
              0.8888888888888888,
              "#fdca26"
             ],
             [
              1,
              "#f0f921"
             ]
            ],
            "type": "histogram2dcontour"
           }
          ],
          "mesh3d": [
           {
            "colorbar": {
             "outlinewidth": 0,
             "ticks": ""
            },
            "type": "mesh3d"
           }
          ],
          "parcoords": [
           {
            "line": {
             "colorbar": {
              "outlinewidth": 0,
              "ticks": ""
             }
            },
            "type": "parcoords"
           }
          ],
          "pie": [
           {
            "automargin": true,
            "type": "pie"
           }
          ],
          "scatter": [
           {
            "marker": {
             "colorbar": {
              "outlinewidth": 0,
              "ticks": ""
             }
            },
            "type": "scatter"
           }
          ],
          "scatter3d": [
           {
            "line": {
             "colorbar": {
              "outlinewidth": 0,
              "ticks": ""
             }
            },
            "marker": {
             "colorbar": {
              "outlinewidth": 0,
              "ticks": ""
             }
            },
            "type": "scatter3d"
           }
          ],
          "scattercarpet": [
           {
            "marker": {
             "colorbar": {
              "outlinewidth": 0,
              "ticks": ""
             }
            },
            "type": "scattercarpet"
           }
          ],
          "scattergeo": [
           {
            "marker": {
             "colorbar": {
              "outlinewidth": 0,
              "ticks": ""
             }
            },
            "type": "scattergeo"
           }
          ],
          "scattergl": [
           {
            "marker": {
             "colorbar": {
              "outlinewidth": 0,
              "ticks": ""
             }
            },
            "type": "scattergl"
           }
          ],
          "scattermapbox": [
           {
            "marker": {
             "colorbar": {
              "outlinewidth": 0,
              "ticks": ""
             }
            },
            "type": "scattermapbox"
           }
          ],
          "scatterpolar": [
           {
            "marker": {
             "colorbar": {
              "outlinewidth": 0,
              "ticks": ""
             }
            },
            "type": "scatterpolar"
           }
          ],
          "scatterpolargl": [
           {
            "marker": {
             "colorbar": {
              "outlinewidth": 0,
              "ticks": ""
             }
            },
            "type": "scatterpolargl"
           }
          ],
          "scatterternary": [
           {
            "marker": {
             "colorbar": {
              "outlinewidth": 0,
              "ticks": ""
             }
            },
            "type": "scatterternary"
           }
          ],
          "surface": [
           {
            "colorbar": {
             "outlinewidth": 0,
             "ticks": ""
            },
            "colorscale": [
             [
              0,
              "#0d0887"
             ],
             [
              0.1111111111111111,
              "#46039f"
             ],
             [
              0.2222222222222222,
              "#7201a8"
             ],
             [
              0.3333333333333333,
              "#9c179e"
             ],
             [
              0.4444444444444444,
              "#bd3786"
             ],
             [
              0.5555555555555556,
              "#d8576b"
             ],
             [
              0.6666666666666666,
              "#ed7953"
             ],
             [
              0.7777777777777778,
              "#fb9f3a"
             ],
             [
              0.8888888888888888,
              "#fdca26"
             ],
             [
              1,
              "#f0f921"
             ]
            ],
            "type": "surface"
           }
          ],
          "table": [
           {
            "cells": {
             "fill": {
              "color": "#EBF0F8"
             },
             "line": {
              "color": "white"
             }
            },
            "header": {
             "fill": {
              "color": "#C8D4E3"
             },
             "line": {
              "color": "white"
             }
            },
            "type": "table"
           }
          ]
         },
         "layout": {
          "annotationdefaults": {
           "arrowcolor": "#2a3f5f",
           "arrowhead": 0,
           "arrowwidth": 1
          },
          "autotypenumbers": "strict",
          "coloraxis": {
           "colorbar": {
            "outlinewidth": 0,
            "ticks": ""
           }
          },
          "colorscale": {
           "diverging": [
            [
             0,
             "#8e0152"
            ],
            [
             0.1,
             "#c51b7d"
            ],
            [
             0.2,
             "#de77ae"
            ],
            [
             0.3,
             "#f1b6da"
            ],
            [
             0.4,
             "#fde0ef"
            ],
            [
             0.5,
             "#f7f7f7"
            ],
            [
             0.6,
             "#e6f5d0"
            ],
            [
             0.7,
             "#b8e186"
            ],
            [
             0.8,
             "#7fbc41"
            ],
            [
             0.9,
             "#4d9221"
            ],
            [
             1,
             "#276419"
            ]
           ],
           "sequential": [
            [
             0,
             "#0d0887"
            ],
            [
             0.1111111111111111,
             "#46039f"
            ],
            [
             0.2222222222222222,
             "#7201a8"
            ],
            [
             0.3333333333333333,
             "#9c179e"
            ],
            [
             0.4444444444444444,
             "#bd3786"
            ],
            [
             0.5555555555555556,
             "#d8576b"
            ],
            [
             0.6666666666666666,
             "#ed7953"
            ],
            [
             0.7777777777777778,
             "#fb9f3a"
            ],
            [
             0.8888888888888888,
             "#fdca26"
            ],
            [
             1,
             "#f0f921"
            ]
           ],
           "sequentialminus": [
            [
             0,
             "#0d0887"
            ],
            [
             0.1111111111111111,
             "#46039f"
            ],
            [
             0.2222222222222222,
             "#7201a8"
            ],
            [
             0.3333333333333333,
             "#9c179e"
            ],
            [
             0.4444444444444444,
             "#bd3786"
            ],
            [
             0.5555555555555556,
             "#d8576b"
            ],
            [
             0.6666666666666666,
             "#ed7953"
            ],
            [
             0.7777777777777778,
             "#fb9f3a"
            ],
            [
             0.8888888888888888,
             "#fdca26"
            ],
            [
             1,
             "#f0f921"
            ]
           ]
          },
          "colorway": [
           "#636efa",
           "#EF553B",
           "#00cc96",
           "#ab63fa",
           "#FFA15A",
           "#19d3f3",
           "#FF6692",
           "#B6E880",
           "#FF97FF",
           "#FECB52"
          ],
          "font": {
           "color": "#2a3f5f"
          },
          "geo": {
           "bgcolor": "white",
           "lakecolor": "white",
           "landcolor": "#E5ECF6",
           "showlakes": true,
           "showland": true,
           "subunitcolor": "white"
          },
          "hoverlabel": {
           "align": "left"
          },
          "hovermode": "closest",
          "mapbox": {
           "style": "light"
          },
          "paper_bgcolor": "white",
          "plot_bgcolor": "#E5ECF6",
          "polar": {
           "angularaxis": {
            "gridcolor": "white",
            "linecolor": "white",
            "ticks": ""
           },
           "bgcolor": "#E5ECF6",
           "radialaxis": {
            "gridcolor": "white",
            "linecolor": "white",
            "ticks": ""
           }
          },
          "scene": {
           "xaxis": {
            "backgroundcolor": "#E5ECF6",
            "gridcolor": "white",
            "gridwidth": 2,
            "linecolor": "white",
            "showbackground": true,
            "ticks": "",
            "zerolinecolor": "white"
           },
           "yaxis": {
            "backgroundcolor": "#E5ECF6",
            "gridcolor": "white",
            "gridwidth": 2,
            "linecolor": "white",
            "showbackground": true,
            "ticks": "",
            "zerolinecolor": "white"
           },
           "zaxis": {
            "backgroundcolor": "#E5ECF6",
            "gridcolor": "white",
            "gridwidth": 2,
            "linecolor": "white",
            "showbackground": true,
            "ticks": "",
            "zerolinecolor": "white"
           }
          },
          "shapedefaults": {
           "line": {
            "color": "#2a3f5f"
           }
          },
          "ternary": {
           "aaxis": {
            "gridcolor": "white",
            "linecolor": "white",
            "ticks": ""
           },
           "baxis": {
            "gridcolor": "white",
            "linecolor": "white",
            "ticks": ""
           },
           "bgcolor": "#E5ECF6",
           "caxis": {
            "gridcolor": "white",
            "linecolor": "white",
            "ticks": ""
           }
          },
          "title": {
           "x": 0.05
          },
          "xaxis": {
           "automargin": true,
           "gridcolor": "white",
           "linecolor": "white",
           "ticks": "",
           "title": {
            "standoff": 15
           },
           "zerolinecolor": "white",
           "zerolinewidth": 2
          },
          "yaxis": {
           "automargin": true,
           "gridcolor": "white",
           "linecolor": "white",
           "ticks": "",
           "title": {
            "standoff": 15
           },
           "zerolinecolor": "white",
           "zerolinewidth": 2
          }
         }
        }
       }
      },
      "text/html": [
       "<div>                            <div id=\"6c7f106c-faff-4680-a763-8cd5382a1e5b\" class=\"plotly-graph-div\" style=\"height:525px; width:100%;\"></div>            <script type=\"text/javascript\">                require([\"plotly\"], function(Plotly) {                    window.PLOTLYENV=window.PLOTLYENV || {};                                    if (document.getElementById(\"6c7f106c-faff-4680-a763-8cd5382a1e5b\")) {                    Plotly.newPlot(                        \"6c7f106c-faff-4680-a763-8cd5382a1e5b\",                        [{\"labels\":[\"Exportations\",\"Importations\",\"Production\",\"Variation de stock\"],\"values\":[25214.0,1250.0,30228.0,0.0],\"type\":\"pie\",\"textfont\":{\"size\":15},\"marker\":{\"line\":{\"color\":\"#FFFFFF\",\"width\":2},\"colors\":[\"tomato\",\"honeydew\",\"lightsteelblue\",\"mediumaquamarine\"]},\"hoverinfo\":\"label+value\",\"pull\":[0.1,0.1,0.1,0.1],\"textinfo\":\"label+value\"}],                        {\"template\":{\"data\":{\"bar\":[{\"error_x\":{\"color\":\"#2a3f5f\"},\"error_y\":{\"color\":\"#2a3f5f\"},\"marker\":{\"line\":{\"color\":\"#E5ECF6\",\"width\":0.5},\"pattern\":{\"fillmode\":\"overlay\",\"size\":10,\"solidity\":0.2}},\"type\":\"bar\"}],\"barpolar\":[{\"marker\":{\"line\":{\"color\":\"#E5ECF6\",\"width\":0.5},\"pattern\":{\"fillmode\":\"overlay\",\"size\":10,\"solidity\":0.2}},\"type\":\"barpolar\"}],\"carpet\":[{\"aaxis\":{\"endlinecolor\":\"#2a3f5f\",\"gridcolor\":\"white\",\"linecolor\":\"white\",\"minorgridcolor\":\"white\",\"startlinecolor\":\"#2a3f5f\"},\"baxis\":{\"endlinecolor\":\"#2a3f5f\",\"gridcolor\":\"white\",\"linecolor\":\"white\",\"minorgridcolor\":\"white\",\"startlinecolor\":\"#2a3f5f\"},\"type\":\"carpet\"}],\"choropleth\":[{\"colorbar\":{\"outlinewidth\":0,\"ticks\":\"\"},\"type\":\"choropleth\"}],\"contour\":[{\"colorbar\":{\"outlinewidth\":0,\"ticks\":\"\"},\"colorscale\":[[0.0,\"#0d0887\"],[0.1111111111111111,\"#46039f\"],[0.2222222222222222,\"#7201a8\"],[0.3333333333333333,\"#9c179e\"],[0.4444444444444444,\"#bd3786\"],[0.5555555555555556,\"#d8576b\"],[0.6666666666666666,\"#ed7953\"],[0.7777777777777778,\"#fb9f3a\"],[0.8888888888888888,\"#fdca26\"],[1.0,\"#f0f921\"]],\"type\":\"contour\"}],\"contourcarpet\":[{\"colorbar\":{\"outlinewidth\":0,\"ticks\":\"\"},\"type\":\"contourcarpet\"}],\"heatmap\":[{\"colorbar\":{\"outlinewidth\":0,\"ticks\":\"\"},\"colorscale\":[[0.0,\"#0d0887\"],[0.1111111111111111,\"#46039f\"],[0.2222222222222222,\"#7201a8\"],[0.3333333333333333,\"#9c179e\"],[0.4444444444444444,\"#bd3786\"],[0.5555555555555556,\"#d8576b\"],[0.6666666666666666,\"#ed7953\"],[0.7777777777777778,\"#fb9f3a\"],[0.8888888888888888,\"#fdca26\"],[1.0,\"#f0f921\"]],\"type\":\"heatmap\"}],\"heatmapgl\":[{\"colorbar\":{\"outlinewidth\":0,\"ticks\":\"\"},\"colorscale\":[[0.0,\"#0d0887\"],[0.1111111111111111,\"#46039f\"],[0.2222222222222222,\"#7201a8\"],[0.3333333333333333,\"#9c179e\"],[0.4444444444444444,\"#bd3786\"],[0.5555555555555556,\"#d8576b\"],[0.6666666666666666,\"#ed7953\"],[0.7777777777777778,\"#fb9f3a\"],[0.8888888888888888,\"#fdca26\"],[1.0,\"#f0f921\"]],\"type\":\"heatmapgl\"}],\"histogram\":[{\"marker\":{\"pattern\":{\"fillmode\":\"overlay\",\"size\":10,\"solidity\":0.2}},\"type\":\"histogram\"}],\"histogram2d\":[{\"colorbar\":{\"outlinewidth\":0,\"ticks\":\"\"},\"colorscale\":[[0.0,\"#0d0887\"],[0.1111111111111111,\"#46039f\"],[0.2222222222222222,\"#7201a8\"],[0.3333333333333333,\"#9c179e\"],[0.4444444444444444,\"#bd3786\"],[0.5555555555555556,\"#d8576b\"],[0.6666666666666666,\"#ed7953\"],[0.7777777777777778,\"#fb9f3a\"],[0.8888888888888888,\"#fdca26\"],[1.0,\"#f0f921\"]],\"type\":\"histogram2d\"}],\"histogram2dcontour\":[{\"colorbar\":{\"outlinewidth\":0,\"ticks\":\"\"},\"colorscale\":[[0.0,\"#0d0887\"],[0.1111111111111111,\"#46039f\"],[0.2222222222222222,\"#7201a8\"],[0.3333333333333333,\"#9c179e\"],[0.4444444444444444,\"#bd3786\"],[0.5555555555555556,\"#d8576b\"],[0.6666666666666666,\"#ed7953\"],[0.7777777777777778,\"#fb9f3a\"],[0.8888888888888888,\"#fdca26\"],[1.0,\"#f0f921\"]],\"type\":\"histogram2dcontour\"}],\"mesh3d\":[{\"colorbar\":{\"outlinewidth\":0,\"ticks\":\"\"},\"type\":\"mesh3d\"}],\"parcoords\":[{\"line\":{\"colorbar\":{\"outlinewidth\":0,\"ticks\":\"\"}},\"type\":\"parcoords\"}],\"pie\":[{\"automargin\":true,\"type\":\"pie\"}],\"scatter\":[{\"marker\":{\"colorbar\":{\"outlinewidth\":0,\"ticks\":\"\"}},\"type\":\"scatter\"}],\"scatter3d\":[{\"line\":{\"colorbar\":{\"outlinewidth\":0,\"ticks\":\"\"}},\"marker\":{\"colorbar\":{\"outlinewidth\":0,\"ticks\":\"\"}},\"type\":\"scatter3d\"}],\"scattercarpet\":[{\"marker\":{\"colorbar\":{\"outlinewidth\":0,\"ticks\":\"\"}},\"type\":\"scattercarpet\"}],\"scattergeo\":[{\"marker\":{\"colorbar\":{\"outlinewidth\":0,\"ticks\":\"\"}},\"type\":\"scattergeo\"}],\"scattergl\":[{\"marker\":{\"colorbar\":{\"outlinewidth\":0,\"ticks\":\"\"}},\"type\":\"scattergl\"}],\"scattermapbox\":[{\"marker\":{\"colorbar\":{\"outlinewidth\":0,\"ticks\":\"\"}},\"type\":\"scattermapbox\"}],\"scatterpolar\":[{\"marker\":{\"colorbar\":{\"outlinewidth\":0,\"ticks\":\"\"}},\"type\":\"scatterpolar\"}],\"scatterpolargl\":[{\"marker\":{\"colorbar\":{\"outlinewidth\":0,\"ticks\":\"\"}},\"type\":\"scatterpolargl\"}],\"scatterternary\":[{\"marker\":{\"colorbar\":{\"outlinewidth\":0,\"ticks\":\"\"}},\"type\":\"scatterternary\"}],\"surface\":[{\"colorbar\":{\"outlinewidth\":0,\"ticks\":\"\"},\"colorscale\":[[0.0,\"#0d0887\"],[0.1111111111111111,\"#46039f\"],[0.2222222222222222,\"#7201a8\"],[0.3333333333333333,\"#9c179e\"],[0.4444444444444444,\"#bd3786\"],[0.5555555555555556,\"#d8576b\"],[0.6666666666666666,\"#ed7953\"],[0.7777777777777778,\"#fb9f3a\"],[0.8888888888888888,\"#fdca26\"],[1.0,\"#f0f921\"]],\"type\":\"surface\"}],\"table\":[{\"cells\":{\"fill\":{\"color\":\"#EBF0F8\"},\"line\":{\"color\":\"white\"}},\"header\":{\"fill\":{\"color\":\"#C8D4E3\"},\"line\":{\"color\":\"white\"}},\"type\":\"table\"}]},\"layout\":{\"annotationdefaults\":{\"arrowcolor\":\"#2a3f5f\",\"arrowhead\":0,\"arrowwidth\":1},\"autotypenumbers\":\"strict\",\"coloraxis\":{\"colorbar\":{\"outlinewidth\":0,\"ticks\":\"\"}},\"colorscale\":{\"diverging\":[[0,\"#8e0152\"],[0.1,\"#c51b7d\"],[0.2,\"#de77ae\"],[0.3,\"#f1b6da\"],[0.4,\"#fde0ef\"],[0.5,\"#f7f7f7\"],[0.6,\"#e6f5d0\"],[0.7,\"#b8e186\"],[0.8,\"#7fbc41\"],[0.9,\"#4d9221\"],[1,\"#276419\"]],\"sequential\":[[0.0,\"#0d0887\"],[0.1111111111111111,\"#46039f\"],[0.2222222222222222,\"#7201a8\"],[0.3333333333333333,\"#9c179e\"],[0.4444444444444444,\"#bd3786\"],[0.5555555555555556,\"#d8576b\"],[0.6666666666666666,\"#ed7953\"],[0.7777777777777778,\"#fb9f3a\"],[0.8888888888888888,\"#fdca26\"],[1.0,\"#f0f921\"]],\"sequentialminus\":[[0.0,\"#0d0887\"],[0.1111111111111111,\"#46039f\"],[0.2222222222222222,\"#7201a8\"],[0.3333333333333333,\"#9c179e\"],[0.4444444444444444,\"#bd3786\"],[0.5555555555555556,\"#d8576b\"],[0.6666666666666666,\"#ed7953\"],[0.7777777777777778,\"#fb9f3a\"],[0.8888888888888888,\"#fdca26\"],[1.0,\"#f0f921\"]]},\"colorway\":[\"#636efa\",\"#EF553B\",\"#00cc96\",\"#ab63fa\",\"#FFA15A\",\"#19d3f3\",\"#FF6692\",\"#B6E880\",\"#FF97FF\",\"#FECB52\"],\"font\":{\"color\":\"#2a3f5f\"},\"geo\":{\"bgcolor\":\"white\",\"lakecolor\":\"white\",\"landcolor\":\"#E5ECF6\",\"showlakes\":true,\"showland\":true,\"subunitcolor\":\"white\"},\"hoverlabel\":{\"align\":\"left\"},\"hovermode\":\"closest\",\"mapbox\":{\"style\":\"light\"},\"paper_bgcolor\":\"white\",\"plot_bgcolor\":\"#E5ECF6\",\"polar\":{\"angularaxis\":{\"gridcolor\":\"white\",\"linecolor\":\"white\",\"ticks\":\"\"},\"bgcolor\":\"#E5ECF6\",\"radialaxis\":{\"gridcolor\":\"white\",\"linecolor\":\"white\",\"ticks\":\"\"}},\"scene\":{\"xaxis\":{\"backgroundcolor\":\"#E5ECF6\",\"gridcolor\":\"white\",\"gridwidth\":2,\"linecolor\":\"white\",\"showbackground\":true,\"ticks\":\"\",\"zerolinecolor\":\"white\"},\"yaxis\":{\"backgroundcolor\":\"#E5ECF6\",\"gridcolor\":\"white\",\"gridwidth\":2,\"linecolor\":\"white\",\"showbackground\":true,\"ticks\":\"\",\"zerolinecolor\":\"white\"},\"zaxis\":{\"backgroundcolor\":\"#E5ECF6\",\"gridcolor\":\"white\",\"gridwidth\":2,\"linecolor\":\"white\",\"showbackground\":true,\"ticks\":\"\",\"zerolinecolor\":\"white\"}},\"shapedefaults\":{\"line\":{\"color\":\"#2a3f5f\"}},\"ternary\":{\"aaxis\":{\"gridcolor\":\"white\",\"linecolor\":\"white\",\"ticks\":\"\"},\"baxis\":{\"gridcolor\":\"white\",\"linecolor\":\"white\",\"ticks\":\"\"},\"bgcolor\":\"#E5ECF6\",\"caxis\":{\"gridcolor\":\"white\",\"linecolor\":\"white\",\"ticks\":\"\"}},\"title\":{\"x\":0.05},\"xaxis\":{\"automargin\":true,\"gridcolor\":\"white\",\"linecolor\":\"white\",\"ticks\":\"\",\"title\":{\"standoff\":15},\"zerolinecolor\":\"white\",\"zerolinewidth\":2},\"yaxis\":{\"automargin\":true,\"gridcolor\":\"white\",\"linecolor\":\"white\",\"ticks\":\"\",\"title\":{\"standoff\":15},\"zerolinecolor\":\"white\",\"zerolinewidth\":2}}}},                        {\"responsive\": true}                    ).then(function(){\n",
       "                            \n",
       "var gd = document.getElementById('6c7f106c-faff-4680-a763-8cd5382a1e5b');\n",
       "var x = new MutationObserver(function (mutations, observer) {{\n",
       "        var display = window.getComputedStyle(gd).display;\n",
       "        if (!display || display === 'none') {{\n",
       "            console.log([gd, 'removed!']);\n",
       "            Plotly.purge(gd);\n",
       "            observer.disconnect();\n",
       "        }}\n",
       "}});\n",
       "\n",
       "// Listen for the removal of the full notebook cells\n",
       "var notebookContainer = gd.closest('#notebook-container');\n",
       "if (notebookContainer) {{\n",
       "    x.observe(notebookContainer, {childList: true});\n",
       "}}\n",
       "\n",
       "// Listen for the clearing of the current output cell\n",
       "var outputEl = gd.closest('.output');\n",
       "if (outputEl) {{\n",
       "    x.observe(outputEl, {childList: true});\n",
       "}}\n",
       "\n",
       "                        })                };                });            </script>        </div>"
      ]
     },
     "metadata": {},
     "output_type": "display_data"
    }
   ],
   "source": [
    "colors =['tomato', 'honeydew', 'lightsteelblue', 'mediumaquamarine']\n",
    "fig = go.Figure(data=[go.Pie(labels=['Exportations', 'Importations', 'Production', 'Variation de stock'], \n",
    "                            values=[th.iloc[0,10],th.iloc[0,11],th.iloc[0,14],th.iloc[0,17]])])\n",
    "fig\n",
    "\n",
    "fig.update_traces(hoverinfo='label+value', \n",
    "                  textfont_size=15, \n",
    "                  textinfo='label+value', \n",
    "                  pull=[0.1, 0.1, 0.1, 0.1], # on décale les quartiers\n",
    "                  marker=dict(\n",
    "                     colors=colors, \n",
    "                     line=dict(color='#FFFFFF', width=2)\n",
    "                            ))\n"
   ]
  },
  {
   "cell_type": "markdown",
   "id": "80b27407",
   "metadata": {},
   "source": [
    "#### Focus sur les exportations et la production"
   ]
  },
  {
   "cell_type": "markdown",
   "id": "7ebb856d",
   "metadata": {},
   "source": [
    "La Thaïlande n'importe que 2.2% de son manioc (soit 1 250 milliers de tonnes).\n",
    "Le stock est donc principalement assuré par la production nationale (soit 30 228 milliers de tonnes). \n",
    "Pourtant la disponibilité intérieure n'est que de 6 264 millers de tonnes. \n",
    "En effet, la Thaïlande exporte la plus grande partie de sa production, soit 25 240 milliers de tonnes.\n"
   ]
  },
  {
   "cell_type": "markdown",
   "id": "563f71bd",
   "metadata": {},
   "source": [
    "### Conclusions"
   ]
  },
  {
   "cell_type": "markdown",
   "id": "711f1287",
   "metadata": {},
   "source": [
    "La Thaïlande est un pays qui souffre d'un taux de sous-nutrition élevé (8.96%).\n",
    "Elle dispose pourtant de ressources qui pourraient servir à l'alimentation humaine, comme le manioc. \n",
    "Le manioc produit est quasiment exporté en totalité et une part infime de la population est nourrissable avec la disponibilité intérieure. Non seulement la part restante est faible (20 % - 6 264 milliers de tonnes ), mais la proportion attribuée à la nourriture n'est que de 13.9%."
   ]
  },
  {
   "cell_type": "markdown",
   "id": "bd5f9334",
   "metadata": {},
   "source": [
    "## QUESTION DE MELANIE"
   ]
  },
  {
   "cell_type": "markdown",
   "id": "33b808a8",
   "metadata": {},
   "source": [
    "### Top Ten des pays ayant reçu le plus d'aide depuis 2013"
   ]
  },
  {
   "cell_type": "code",
   "execution_count": 82,
   "id": "ee3ba116",
   "metadata": {
    "jupyter": {
     "source_hidden": true
    }
   },
   "outputs": [
    {
     "data": {
      "text/html": [
       "<div>\n",
       "<style scoped>\n",
       "    .dataframe tbody tr th:only-of-type {\n",
       "        vertical-align: middle;\n",
       "    }\n",
       "\n",
       "    .dataframe tbody tr th {\n",
       "        vertical-align: top;\n",
       "    }\n",
       "\n",
       "    .dataframe thead tr th {\n",
       "        text-align: left;\n",
       "    }\n",
       "</style>\n",
       "<table border=\"1\" class=\"dataframe\">\n",
       "  <thead>\n",
       "    <tr>\n",
       "      <th></th>\n",
       "      <th>2013</th>\n",
       "      <th colspan=\"2\" halign=\"left\"></th>\n",
       "      <th>2014</th>\n",
       "      <th colspan=\"2\" halign=\"left\"></th>\n",
       "      <th>2015</th>\n",
       "      <th colspan=\"2\" halign=\"left\"></th>\n",
       "      <th>2016</th>\n",
       "      <th colspan=\"2\" halign=\"left\"></th>\n",
       "    </tr>\n",
       "    <tr>\n",
       "      <th></th>\n",
       "      <th>TopTen Pays 2013</th>\n",
       "      <th>Montant Aide 2013</th>\n",
       "      <th>Ratio aide Mondiale 2013</th>\n",
       "      <th>TopTen Pays 2014</th>\n",
       "      <th>Montant Aide 2014</th>\n",
       "      <th>Ratio aide Mondiale 2014</th>\n",
       "      <th>TopTen Pays 2015</th>\n",
       "      <th>Montant Aide 2015</th>\n",
       "      <th>Ratio aide Mondiale 2015</th>\n",
       "      <th>TopTen Pays 2016</th>\n",
       "      <th>Montant Aide 2016</th>\n",
       "      <th>Ratio aide Mondiale 2016</th>\n",
       "    </tr>\n",
       "  </thead>\n",
       "  <tbody>\n",
       "    <tr>\n",
       "      <th>0</th>\n",
       "      <td>Éthiopie</td>\n",
       "      <td>591404</td>\n",
       "      <td>14.197078</td>\n",
       "      <td>République arabe syrienne</td>\n",
       "      <td>651870</td>\n",
       "      <td>16.548486</td>\n",
       "      <td>République arabe syrienne</td>\n",
       "      <td>524949</td>\n",
       "      <td>23.997592</td>\n",
       "      <td>Yémen</td>\n",
       "      <td>465574</td>\n",
       "      <td>62.613507</td>\n",
       "    </tr>\n",
       "    <tr>\n",
       "      <th>1</th>\n",
       "      <td>République arabe syrienne</td>\n",
       "      <td>563566</td>\n",
       "      <td>13.528807</td>\n",
       "      <td>Éthiopie</td>\n",
       "      <td>586624</td>\n",
       "      <td>14.892139</td>\n",
       "      <td>Yémen</td>\n",
       "      <td>372306</td>\n",
       "      <td>17.019648</td>\n",
       "      <td>République arabe syrienne</td>\n",
       "      <td>118558</td>\n",
       "      <td>15.944473</td>\n",
       "    </tr>\n",
       "    <tr>\n",
       "      <th>2</th>\n",
       "      <td>Soudan</td>\n",
       "      <td>330230</td>\n",
       "      <td>7.927409</td>\n",
       "      <td>Soudan du Sud</td>\n",
       "      <td>450610</td>\n",
       "      <td>11.439264</td>\n",
       "      <td>Éthiopie</td>\n",
       "      <td>203266</td>\n",
       "      <td>9.292130</td>\n",
       "      <td>Niger</td>\n",
       "      <td>92742</td>\n",
       "      <td>12.472565</td>\n",
       "    </tr>\n",
       "    <tr>\n",
       "      <th>3</th>\n",
       "      <td>Yémen</td>\n",
       "      <td>264764</td>\n",
       "      <td>6.355850</td>\n",
       "      <td>Soudan</td>\n",
       "      <td>321904</td>\n",
       "      <td>8.171911</td>\n",
       "      <td>Kenya</td>\n",
       "      <td>114452</td>\n",
       "      <td>5.232075</td>\n",
       "      <td>Haïti</td>\n",
       "      <td>12462</td>\n",
       "      <td>1.675973</td>\n",
       "    </tr>\n",
       "    <tr>\n",
       "      <th>4</th>\n",
       "      <td>Kenya</td>\n",
       "      <td>220966</td>\n",
       "      <td>5.304448</td>\n",
       "      <td>Kenya</td>\n",
       "      <td>217418</td>\n",
       "      <td>5.519411</td>\n",
       "      <td>Tchad</td>\n",
       "      <td>73678</td>\n",
       "      <td>3.368126</td>\n",
       "      <td>Algérie</td>\n",
       "      <td>9476</td>\n",
       "      <td>1.274396</td>\n",
       "    </tr>\n",
       "    <tr>\n",
       "      <th>5</th>\n",
       "      <td>Soudan du Sud</td>\n",
       "      <td>196330</td>\n",
       "      <td>4.713043</td>\n",
       "      <td>Bangladesh</td>\n",
       "      <td>194628</td>\n",
       "      <td>4.940860</td>\n",
       "      <td>Somalie</td>\n",
       "      <td>71698</td>\n",
       "      <td>3.277612</td>\n",
       "      <td>Côte d'Ivoire</td>\n",
       "      <td>8786</td>\n",
       "      <td>1.181600</td>\n",
       "    </tr>\n",
       "    <tr>\n",
       "      <th>6</th>\n",
       "      <td>République démocratique du Congo</td>\n",
       "      <td>150320</td>\n",
       "      <td>3.608540</td>\n",
       "      <td>Pakistan</td>\n",
       "      <td>110268</td>\n",
       "      <td>2.799283</td>\n",
       "      <td>République populaire démocratique de Corée</td>\n",
       "      <td>70506</td>\n",
       "      <td>3.223121</td>\n",
       "      <td>Colombie</td>\n",
       "      <td>5466</td>\n",
       "      <td>0.735104</td>\n",
       "    </tr>\n",
       "    <tr>\n",
       "      <th>7</th>\n",
       "      <td>Somalie</td>\n",
       "      <td>139800</td>\n",
       "      <td>3.356000</td>\n",
       "      <td>Philippines</td>\n",
       "      <td>105424</td>\n",
       "      <td>2.676312</td>\n",
       "      <td>République démocratique du Congo</td>\n",
       "      <td>68048</td>\n",
       "      <td>3.110756</td>\n",
       "      <td>Honduras</td>\n",
       "      <td>4492</td>\n",
       "      <td>0.604114</td>\n",
       "    </tr>\n",
       "    <tr>\n",
       "      <th>8</th>\n",
       "      <td>Bangladesh</td>\n",
       "      <td>131018</td>\n",
       "      <td>3.145181</td>\n",
       "      <td>Yémen</td>\n",
       "      <td>103840</td>\n",
       "      <td>2.636100</td>\n",
       "      <td>Niger</td>\n",
       "      <td>54656</td>\n",
       "      <td>2.498552</td>\n",
       "      <td>Libye</td>\n",
       "      <td>4414</td>\n",
       "      <td>0.593624</td>\n",
       "    </tr>\n",
       "    <tr>\n",
       "      <th>9</th>\n",
       "      <td>Afghanistan</td>\n",
       "      <td>128238</td>\n",
       "      <td>3.078445</td>\n",
       "      <td>Tchad</td>\n",
       "      <td>97926</td>\n",
       "      <td>2.485967</td>\n",
       "      <td>République-Unie de Tanzanie</td>\n",
       "      <td>52300</td>\n",
       "      <td>2.390849</td>\n",
       "      <td>Népal</td>\n",
       "      <td>3484</td>\n",
       "      <td>0.468552</td>\n",
       "    </tr>\n",
       "  </tbody>\n",
       "</table>\n",
       "</div>"
      ],
      "text/plain": [
       "                               2013                    \\\n",
       "                   TopTen Pays 2013 Montant Aide 2013   \n",
       "0                          Éthiopie            591404   \n",
       "1         République arabe syrienne            563566   \n",
       "2                            Soudan            330230   \n",
       "3                             Yémen            264764   \n",
       "4                             Kenya            220966   \n",
       "5                     Soudan du Sud            196330   \n",
       "6  République démocratique du Congo            150320   \n",
       "7                           Somalie            139800   \n",
       "8                        Bangladesh            131018   \n",
       "9                       Afghanistan            128238   \n",
       "\n",
       "                                                 2014                    \\\n",
       "  Ratio aide Mondiale 2013           TopTen Pays 2014 Montant Aide 2014   \n",
       "0                14.197078  République arabe syrienne            651870   \n",
       "1                13.528807                   Éthiopie            586624   \n",
       "2                 7.927409              Soudan du Sud            450610   \n",
       "3                 6.355850                     Soudan            321904   \n",
       "4                 5.304448                      Kenya            217418   \n",
       "5                 4.713043                 Bangladesh            194628   \n",
       "6                 3.608540                   Pakistan            110268   \n",
       "7                 3.356000                Philippines            105424   \n",
       "8                 3.145181                      Yémen            103840   \n",
       "9                 3.078445                      Tchad             97926   \n",
       "\n",
       "                                                                  2015  \\\n",
       "  Ratio aide Mondiale 2014                            TopTen Pays 2015   \n",
       "0                16.548486                   République arabe syrienne   \n",
       "1                14.892139                                       Yémen   \n",
       "2                11.439264                                    Éthiopie   \n",
       "3                 8.171911                                       Kenya   \n",
       "4                 5.519411                                       Tchad   \n",
       "5                 4.940860                                     Somalie   \n",
       "6                 2.799283  République populaire démocratique de Corée   \n",
       "7                 2.676312            République démocratique du Congo   \n",
       "8                 2.636100                                       Niger   \n",
       "9                 2.485967                 République-Unie de Tanzanie   \n",
       "\n",
       "                                                                   2016  \\\n",
       "  Montant Aide 2015 Ratio aide Mondiale 2015           TopTen Pays 2016   \n",
       "0            524949                23.997592                      Yémen   \n",
       "1            372306                17.019648  République arabe syrienne   \n",
       "2            203266                 9.292130                      Niger   \n",
       "3            114452                 5.232075                      Haïti   \n",
       "4             73678                 3.368126                    Algérie   \n",
       "5             71698                 3.277612              Côte d'Ivoire   \n",
       "6             70506                 3.223121                   Colombie   \n",
       "7             68048                 3.110756                   Honduras   \n",
       "8             54656                 2.498552                      Libye   \n",
       "9             52300                 2.390849                      Népal   \n",
       "\n",
       "                                              \n",
       "  Montant Aide 2016 Ratio aide Mondiale 2016  \n",
       "0            465574                62.613507  \n",
       "1            118558                15.944473  \n",
       "2             92742                12.472565  \n",
       "3             12462                 1.675973  \n",
       "4              9476                 1.274396  \n",
       "5              8786                 1.181600  \n",
       "6              5466                 0.735104  \n",
       "7              4492                 0.604114  \n",
       "8              4414                 0.593624  \n",
       "9              3484                 0.468552  "
      ]
     },
     "execution_count": 82,
     "metadata": {},
     "output_type": "execute_result"
    }
   ],
   "source": [
    "# Pays ayant reçu le plus d'aides depuis 2013 (soit de 2013 à 2016 inclus)\n",
    "\n",
    "a13 = aide[aide[\"Année\"]==2013]\n",
    "a13 = a13.groupby('Pays bénéficiaire')[\"Valeur\"].sum()\n",
    "a13 = a13.sort_values(ascending=False).iloc[:10]\n",
    "Pays_2013 = list(a13.index)\n",
    "Aide_2013 = list(a13)\n",
    "AideM_2013 = aide.loc[aide[\"Année\"]==2013, 'Valeur'].sum()\n",
    "\n",
    "\n",
    "a14 = aide[aide[\"Année\"]==2014]\n",
    "a14 = a14.groupby('Pays bénéficiaire')[\"Valeur\"].sum()\n",
    "a14 = a14.sort_values(ascending=False).iloc[:10]\n",
    "Pays_2014 = list(a14.index)\n",
    "Aide_2014 = list(a14)\n",
    "AideM_2014 = aide.loc[aide[\"Année\"]==2014, 'Valeur'].sum()\n",
    "\n",
    "a15 = aide[aide[\"Année\"]==2015]\n",
    "a15 = a15.groupby('Pays bénéficiaire')[\"Valeur\"].sum()\n",
    "a15 = a15.sort_values(ascending=False).iloc[:10]\n",
    "Pays_2015 = list(a15.index)\n",
    "Aide_2015 = list(a15)\n",
    "AideM_2015 = aide.loc[aide[\"Année\"]==2015, 'Valeur'].sum()\n",
    "\n",
    "a16 = aide[aide[\"Année\"]==2016]\n",
    "a16 = a16.groupby('Pays bénéficiaire')[\"Valeur\"].sum()\n",
    "a16 = a16.sort_values(ascending=False).iloc[:10]\n",
    "Pays_2016 = list(a16.index)\n",
    "Aide_2016 = list(a16)\n",
    "AideM_2016 = aide.loc[aide[\"Année\"]==2016, 'Valeur'].sum()\n",
    "\n",
    "\n",
    "AideT = pd.DataFrame(list(zip(Pays_2013,Aide_2013,Aide_2013/AideM_2013*100,\n",
    "                              Pays_2014,Aide_2014,Aide_2014/AideM_2014*100,\n",
    "                              Pays_2015,Aide_2015,Aide_2015/AideM_2015*100,\n",
    "                              Pays_2016,Aide_2016, Aide_2016/AideM_2016*100,)), \n",
    "                     columns = ['TopTen Pays 2013','Montant Aide 2013',\"Ratio aide Mondiale 2013\",\n",
    "                                'TopTen Pays 2014','Montant Aide 2014',\"Ratio aide Mondiale 2014\",\n",
    "                               'TopTen Pays 2015','Montant Aide 2015', \"Ratio aide Mondiale 2015\",\n",
    "                                'TopTen Pays 2016','Montant Aide 2016', \"Ratio aide Mondiale 2016\"])\n",
    "\n",
    "AideT.columns = pd.MultiIndex.from_tuples(\n",
    "    zip(['2013','', \"\", '2014','',\"\", '2015','',\"\", '2016', '', ''], \n",
    "        AideT.columns))\n",
    "\n",
    "\n",
    "AideT\n",
    "                                           \n",
    "                                                 "
   ]
  },
  {
   "cell_type": "code",
   "execution_count": 83,
   "id": "29f31c38",
   "metadata": {
    "jupyter": {
     "source_hidden": true
    }
   },
   "outputs": [
    {
     "data": {
      "text/html": [
       "<div>\n",
       "<style scoped>\n",
       "    .dataframe tbody tr th:only-of-type {\n",
       "        vertical-align: middle;\n",
       "    }\n",
       "\n",
       "    .dataframe tbody tr th {\n",
       "        vertical-align: top;\n",
       "    }\n",
       "\n",
       "    .dataframe thead th {\n",
       "        text-align: right;\n",
       "    }\n",
       "</style>\n",
       "<table border=\"1\" class=\"dataframe\">\n",
       "  <thead>\n",
       "    <tr style=\"text-align: right;\">\n",
       "      <th></th>\n",
       "      <th>Pays</th>\n",
       "      <th>Montant Aide</th>\n",
       "      <th>Ratio Aide Mondiale</th>\n",
       "    </tr>\n",
       "  </thead>\n",
       "  <tbody>\n",
       "    <tr>\n",
       "      <th>0</th>\n",
       "      <td>République arabe syrienne</td>\n",
       "      <td>1858943</td>\n",
       "      <td>16.84</td>\n",
       "    </tr>\n",
       "    <tr>\n",
       "      <th>1</th>\n",
       "      <td>Éthiopie</td>\n",
       "      <td>1381294</td>\n",
       "      <td>12.52</td>\n",
       "    </tr>\n",
       "    <tr>\n",
       "      <th>2</th>\n",
       "      <td>Yémen</td>\n",
       "      <td>1206484</td>\n",
       "      <td>10.93</td>\n",
       "    </tr>\n",
       "    <tr>\n",
       "      <th>3</th>\n",
       "      <td>Soudan</td>\n",
       "      <td>652134</td>\n",
       "      <td>5.91</td>\n",
       "    </tr>\n",
       "    <tr>\n",
       "      <th>4</th>\n",
       "      <td>Soudan du Sud</td>\n",
       "      <td>646940</td>\n",
       "      <td>5.86</td>\n",
       "    </tr>\n",
       "    <tr>\n",
       "      <th>5</th>\n",
       "      <td>Kenya</td>\n",
       "      <td>552836</td>\n",
       "      <td>5.01</td>\n",
       "    </tr>\n",
       "    <tr>\n",
       "      <th>6</th>\n",
       "      <td>Bangladesh</td>\n",
       "      <td>325646</td>\n",
       "      <td>2.95</td>\n",
       "    </tr>\n",
       "    <tr>\n",
       "      <th>7</th>\n",
       "      <td>République démocratique du Congo</td>\n",
       "      <td>218368</td>\n",
       "      <td>1.98</td>\n",
       "    </tr>\n",
       "    <tr>\n",
       "      <th>8</th>\n",
       "      <td>Somalie</td>\n",
       "      <td>211498</td>\n",
       "      <td>1.92</td>\n",
       "    </tr>\n",
       "    <tr>\n",
       "      <th>9</th>\n",
       "      <td>Tchad</td>\n",
       "      <td>171604</td>\n",
       "      <td>1.55</td>\n",
       "    </tr>\n",
       "  </tbody>\n",
       "</table>\n",
       "</div>"
      ],
      "text/plain": [
       "                               Pays  Montant Aide  Ratio Aide Mondiale\n",
       "0         République arabe syrienne       1858943                16.84\n",
       "1                          Éthiopie       1381294                12.52\n",
       "2                             Yémen       1206484                10.93\n",
       "3                            Soudan        652134                 5.91\n",
       "4                     Soudan du Sud        646940                 5.86\n",
       "5                             Kenya        552836                 5.01\n",
       "6                        Bangladesh        325646                 2.95\n",
       "7  République démocratique du Congo        218368                 1.98\n",
       "8                           Somalie        211498                 1.92\n",
       "9                             Tchad        171604                 1.55"
      ]
     },
     "execution_count": 83,
     "metadata": {},
     "output_type": "execute_result"
    }
   ],
   "source": [
    "# Moyenne des aides par pays sur les 4 ans \n",
    "Calc = pd.DataFrame(list(zip(Pays_2013 + Pays_2014 + Pays_2015 + Pays_2016,Aide_2013 +Aide_2014 + Aide_2015 + Aide_2016\n",
    "                             )), \n",
    "                     columns = ['Pays','Montant Aide'])\n",
    "Aide_par_pays = Calc.groupby('Pays')['Montant Aide'].sum().sort_values(ascending=False).iloc[:10]\n",
    "Total_aide_mondiale = AideM_2013+AideM_2014+AideM_2015+AideM_2016\n",
    "P = list(Aide_par_pays.index)\n",
    "A = list(Aide_par_pays)\n",
    "Aide = pd.DataFrame(list(zip(P, A, round(Aide_par_pays/Total_aide_mondiale*100,2)\n",
    "                             )), \n",
    "                     columns = ['Pays','Montant Aide', 'Ratio Aide Mondiale'])\n",
    "Aide"
   ]
  },
  {
   "cell_type": "code",
   "execution_count": 84,
   "id": "63af1986",
   "metadata": {
    "jupyter": {
     "source_hidden": true
    }
   },
   "outputs": [
    {
     "data": {
      "application/vnd.plotly.v1+json": {
       "config": {
        "plotlyServerURL": "https://plot.ly"
       },
       "data": [
        {
         "alignmentgroup": "True",
         "hovertemplate": "Pays=%{x}<br>Montant Aide=%{text}<extra></extra>",
         "legendgroup": "République arabe syrienne",
         "marker": {
          "color": "#636efa",
          "pattern": {
           "shape": ""
          }
         },
         "name": "République arabe syrienne",
         "offsetgroup": "République arabe syrienne",
         "orientation": "v",
         "showlegend": true,
         "text": [
          1858943
         ],
         "textposition": "auto",
         "type": "bar",
         "x": [
          "République arabe syrienne"
         ],
         "xaxis": "x",
         "y": [
          1858943
         ],
         "yaxis": "y"
        },
        {
         "alignmentgroup": "True",
         "hovertemplate": "Pays=%{x}<br>Montant Aide=%{text}<extra></extra>",
         "legendgroup": "Éthiopie",
         "marker": {
          "color": "#EF553B",
          "pattern": {
           "shape": ""
          }
         },
         "name": "Éthiopie",
         "offsetgroup": "Éthiopie",
         "orientation": "v",
         "showlegend": true,
         "text": [
          1381294
         ],
         "textposition": "auto",
         "type": "bar",
         "x": [
          "Éthiopie"
         ],
         "xaxis": "x",
         "y": [
          1381294
         ],
         "yaxis": "y"
        },
        {
         "alignmentgroup": "True",
         "hovertemplate": "Pays=%{x}<br>Montant Aide=%{text}<extra></extra>",
         "legendgroup": "Yémen",
         "marker": {
          "color": "#00cc96",
          "pattern": {
           "shape": ""
          }
         },
         "name": "Yémen",
         "offsetgroup": "Yémen",
         "orientation": "v",
         "showlegend": true,
         "text": [
          1206484
         ],
         "textposition": "auto",
         "type": "bar",
         "x": [
          "Yémen"
         ],
         "xaxis": "x",
         "y": [
          1206484
         ],
         "yaxis": "y"
        },
        {
         "alignmentgroup": "True",
         "hovertemplate": "Pays=%{x}<br>Montant Aide=%{text}<extra></extra>",
         "legendgroup": "Soudan",
         "marker": {
          "color": "#ab63fa",
          "pattern": {
           "shape": ""
          }
         },
         "name": "Soudan",
         "offsetgroup": "Soudan",
         "orientation": "v",
         "showlegend": true,
         "text": [
          652134
         ],
         "textposition": "auto",
         "type": "bar",
         "x": [
          "Soudan"
         ],
         "xaxis": "x",
         "y": [
          652134
         ],
         "yaxis": "y"
        },
        {
         "alignmentgroup": "True",
         "hovertemplate": "Pays=%{x}<br>Montant Aide=%{text}<extra></extra>",
         "legendgroup": "Soudan du Sud",
         "marker": {
          "color": "#FFA15A",
          "pattern": {
           "shape": ""
          }
         },
         "name": "Soudan du Sud",
         "offsetgroup": "Soudan du Sud",
         "orientation": "v",
         "showlegend": true,
         "text": [
          646940
         ],
         "textposition": "auto",
         "type": "bar",
         "x": [
          "Soudan du Sud"
         ],
         "xaxis": "x",
         "y": [
          646940
         ],
         "yaxis": "y"
        },
        {
         "alignmentgroup": "True",
         "hovertemplate": "Pays=%{x}<br>Montant Aide=%{text}<extra></extra>",
         "legendgroup": "Kenya",
         "marker": {
          "color": "#19d3f3",
          "pattern": {
           "shape": ""
          }
         },
         "name": "Kenya",
         "offsetgroup": "Kenya",
         "orientation": "v",
         "showlegend": true,
         "text": [
          552836
         ],
         "textposition": "auto",
         "type": "bar",
         "x": [
          "Kenya"
         ],
         "xaxis": "x",
         "y": [
          552836
         ],
         "yaxis": "y"
        },
        {
         "alignmentgroup": "True",
         "hovertemplate": "Pays=%{x}<br>Montant Aide=%{text}<extra></extra>",
         "legendgroup": "Bangladesh",
         "marker": {
          "color": "#FF6692",
          "pattern": {
           "shape": ""
          }
         },
         "name": "Bangladesh",
         "offsetgroup": "Bangladesh",
         "orientation": "v",
         "showlegend": true,
         "text": [
          325646
         ],
         "textposition": "auto",
         "type": "bar",
         "x": [
          "Bangladesh"
         ],
         "xaxis": "x",
         "y": [
          325646
         ],
         "yaxis": "y"
        },
        {
         "alignmentgroup": "True",
         "hovertemplate": "Pays=%{x}<br>Montant Aide=%{text}<extra></extra>",
         "legendgroup": "République démocratique du Congo",
         "marker": {
          "color": "#B6E880",
          "pattern": {
           "shape": ""
          }
         },
         "name": "République démocratique du Congo",
         "offsetgroup": "République démocratique du Congo",
         "orientation": "v",
         "showlegend": true,
         "text": [
          218368
         ],
         "textposition": "auto",
         "type": "bar",
         "x": [
          "République démocratique du Congo"
         ],
         "xaxis": "x",
         "y": [
          218368
         ],
         "yaxis": "y"
        },
        {
         "alignmentgroup": "True",
         "hovertemplate": "Pays=%{x}<br>Montant Aide=%{text}<extra></extra>",
         "legendgroup": "Somalie",
         "marker": {
          "color": "#FF97FF",
          "pattern": {
           "shape": ""
          }
         },
         "name": "Somalie",
         "offsetgroup": "Somalie",
         "orientation": "v",
         "showlegend": true,
         "text": [
          211498
         ],
         "textposition": "auto",
         "type": "bar",
         "x": [
          "Somalie"
         ],
         "xaxis": "x",
         "y": [
          211498
         ],
         "yaxis": "y"
        },
        {
         "alignmentgroup": "True",
         "hovertemplate": "Pays=%{x}<br>Montant Aide=%{text}<extra></extra>",
         "legendgroup": "Tchad",
         "marker": {
          "color": "#FECB52",
          "pattern": {
           "shape": ""
          }
         },
         "name": "Tchad",
         "offsetgroup": "Tchad",
         "orientation": "v",
         "showlegend": true,
         "text": [
          171604
         ],
         "textposition": "auto",
         "type": "bar",
         "x": [
          "Tchad"
         ],
         "xaxis": "x",
         "y": [
          171604
         ],
         "yaxis": "y"
        }
       ],
       "layout": {
        "autosize": true,
        "barmode": "relative",
        "legend": {
         "title": {
          "text": "Pays"
         },
         "tracegroupgap": 0
        },
        "margin": {
         "t": 60
        },
        "template": {
         "data": {
          "bar": [
           {
            "error_x": {
             "color": "#2a3f5f"
            },
            "error_y": {
             "color": "#2a3f5f"
            },
            "marker": {
             "line": {
              "color": "#E5ECF6",
              "width": 0.5
             },
             "pattern": {
              "fillmode": "overlay",
              "size": 10,
              "solidity": 0.2
             }
            },
            "type": "bar"
           }
          ],
          "barpolar": [
           {
            "marker": {
             "line": {
              "color": "#E5ECF6",
              "width": 0.5
             },
             "pattern": {
              "fillmode": "overlay",
              "size": 10,
              "solidity": 0.2
             }
            },
            "type": "barpolar"
           }
          ],
          "carpet": [
           {
            "aaxis": {
             "endlinecolor": "#2a3f5f",
             "gridcolor": "white",
             "linecolor": "white",
             "minorgridcolor": "white",
             "startlinecolor": "#2a3f5f"
            },
            "baxis": {
             "endlinecolor": "#2a3f5f",
             "gridcolor": "white",
             "linecolor": "white",
             "minorgridcolor": "white",
             "startlinecolor": "#2a3f5f"
            },
            "type": "carpet"
           }
          ],
          "choropleth": [
           {
            "colorbar": {
             "outlinewidth": 0,
             "ticks": ""
            },
            "type": "choropleth"
           }
          ],
          "contour": [
           {
            "colorbar": {
             "outlinewidth": 0,
             "ticks": ""
            },
            "colorscale": [
             [
              0,
              "#0d0887"
             ],
             [
              0.1111111111111111,
              "#46039f"
             ],
             [
              0.2222222222222222,
              "#7201a8"
             ],
             [
              0.3333333333333333,
              "#9c179e"
             ],
             [
              0.4444444444444444,
              "#bd3786"
             ],
             [
              0.5555555555555556,
              "#d8576b"
             ],
             [
              0.6666666666666666,
              "#ed7953"
             ],
             [
              0.7777777777777778,
              "#fb9f3a"
             ],
             [
              0.8888888888888888,
              "#fdca26"
             ],
             [
              1,
              "#f0f921"
             ]
            ],
            "type": "contour"
           }
          ],
          "contourcarpet": [
           {
            "colorbar": {
             "outlinewidth": 0,
             "ticks": ""
            },
            "type": "contourcarpet"
           }
          ],
          "heatmap": [
           {
            "colorbar": {
             "outlinewidth": 0,
             "ticks": ""
            },
            "colorscale": [
             [
              0,
              "#0d0887"
             ],
             [
              0.1111111111111111,
              "#46039f"
             ],
             [
              0.2222222222222222,
              "#7201a8"
             ],
             [
              0.3333333333333333,
              "#9c179e"
             ],
             [
              0.4444444444444444,
              "#bd3786"
             ],
             [
              0.5555555555555556,
              "#d8576b"
             ],
             [
              0.6666666666666666,
              "#ed7953"
             ],
             [
              0.7777777777777778,
              "#fb9f3a"
             ],
             [
              0.8888888888888888,
              "#fdca26"
             ],
             [
              1,
              "#f0f921"
             ]
            ],
            "type": "heatmap"
           }
          ],
          "heatmapgl": [
           {
            "colorbar": {
             "outlinewidth": 0,
             "ticks": ""
            },
            "colorscale": [
             [
              0,
              "#0d0887"
             ],
             [
              0.1111111111111111,
              "#46039f"
             ],
             [
              0.2222222222222222,
              "#7201a8"
             ],
             [
              0.3333333333333333,
              "#9c179e"
             ],
             [
              0.4444444444444444,
              "#bd3786"
             ],
             [
              0.5555555555555556,
              "#d8576b"
             ],
             [
              0.6666666666666666,
              "#ed7953"
             ],
             [
              0.7777777777777778,
              "#fb9f3a"
             ],
             [
              0.8888888888888888,
              "#fdca26"
             ],
             [
              1,
              "#f0f921"
             ]
            ],
            "type": "heatmapgl"
           }
          ],
          "histogram": [
           {
            "marker": {
             "pattern": {
              "fillmode": "overlay",
              "size": 10,
              "solidity": 0.2
             }
            },
            "type": "histogram"
           }
          ],
          "histogram2d": [
           {
            "colorbar": {
             "outlinewidth": 0,
             "ticks": ""
            },
            "colorscale": [
             [
              0,
              "#0d0887"
             ],
             [
              0.1111111111111111,
              "#46039f"
             ],
             [
              0.2222222222222222,
              "#7201a8"
             ],
             [
              0.3333333333333333,
              "#9c179e"
             ],
             [
              0.4444444444444444,
              "#bd3786"
             ],
             [
              0.5555555555555556,
              "#d8576b"
             ],
             [
              0.6666666666666666,
              "#ed7953"
             ],
             [
              0.7777777777777778,
              "#fb9f3a"
             ],
             [
              0.8888888888888888,
              "#fdca26"
             ],
             [
              1,
              "#f0f921"
             ]
            ],
            "type": "histogram2d"
           }
          ],
          "histogram2dcontour": [
           {
            "colorbar": {
             "outlinewidth": 0,
             "ticks": ""
            },
            "colorscale": [
             [
              0,
              "#0d0887"
             ],
             [
              0.1111111111111111,
              "#46039f"
             ],
             [
              0.2222222222222222,
              "#7201a8"
             ],
             [
              0.3333333333333333,
              "#9c179e"
             ],
             [
              0.4444444444444444,
              "#bd3786"
             ],
             [
              0.5555555555555556,
              "#d8576b"
             ],
             [
              0.6666666666666666,
              "#ed7953"
             ],
             [
              0.7777777777777778,
              "#fb9f3a"
             ],
             [
              0.8888888888888888,
              "#fdca26"
             ],
             [
              1,
              "#f0f921"
             ]
            ],
            "type": "histogram2dcontour"
           }
          ],
          "mesh3d": [
           {
            "colorbar": {
             "outlinewidth": 0,
             "ticks": ""
            },
            "type": "mesh3d"
           }
          ],
          "parcoords": [
           {
            "line": {
             "colorbar": {
              "outlinewidth": 0,
              "ticks": ""
             }
            },
            "type": "parcoords"
           }
          ],
          "pie": [
           {
            "automargin": true,
            "type": "pie"
           }
          ],
          "scatter": [
           {
            "marker": {
             "colorbar": {
              "outlinewidth": 0,
              "ticks": ""
             }
            },
            "type": "scatter"
           }
          ],
          "scatter3d": [
           {
            "line": {
             "colorbar": {
              "outlinewidth": 0,
              "ticks": ""
             }
            },
            "marker": {
             "colorbar": {
              "outlinewidth": 0,
              "ticks": ""
             }
            },
            "type": "scatter3d"
           }
          ],
          "scattercarpet": [
           {
            "marker": {
             "colorbar": {
              "outlinewidth": 0,
              "ticks": ""
             }
            },
            "type": "scattercarpet"
           }
          ],
          "scattergeo": [
           {
            "marker": {
             "colorbar": {
              "outlinewidth": 0,
              "ticks": ""
             }
            },
            "type": "scattergeo"
           }
          ],
          "scattergl": [
           {
            "marker": {
             "colorbar": {
              "outlinewidth": 0,
              "ticks": ""
             }
            },
            "type": "scattergl"
           }
          ],
          "scattermapbox": [
           {
            "marker": {
             "colorbar": {
              "outlinewidth": 0,
              "ticks": ""
             }
            },
            "type": "scattermapbox"
           }
          ],
          "scatterpolar": [
           {
            "marker": {
             "colorbar": {
              "outlinewidth": 0,
              "ticks": ""
             }
            },
            "type": "scatterpolar"
           }
          ],
          "scatterpolargl": [
           {
            "marker": {
             "colorbar": {
              "outlinewidth": 0,
              "ticks": ""
             }
            },
            "type": "scatterpolargl"
           }
          ],
          "scatterternary": [
           {
            "marker": {
             "colorbar": {
              "outlinewidth": 0,
              "ticks": ""
             }
            },
            "type": "scatterternary"
           }
          ],
          "surface": [
           {
            "colorbar": {
             "outlinewidth": 0,
             "ticks": ""
            },
            "colorscale": [
             [
              0,
              "#0d0887"
             ],
             [
              0.1111111111111111,
              "#46039f"
             ],
             [
              0.2222222222222222,
              "#7201a8"
             ],
             [
              0.3333333333333333,
              "#9c179e"
             ],
             [
              0.4444444444444444,
              "#bd3786"
             ],
             [
              0.5555555555555556,
              "#d8576b"
             ],
             [
              0.6666666666666666,
              "#ed7953"
             ],
             [
              0.7777777777777778,
              "#fb9f3a"
             ],
             [
              0.8888888888888888,
              "#fdca26"
             ],
             [
              1,
              "#f0f921"
             ]
            ],
            "type": "surface"
           }
          ],
          "table": [
           {
            "cells": {
             "fill": {
              "color": "#EBF0F8"
             },
             "line": {
              "color": "white"
             }
            },
            "header": {
             "fill": {
              "color": "#C8D4E3"
             },
             "line": {
              "color": "white"
             }
            },
            "type": "table"
           }
          ]
         },
         "layout": {
          "annotationdefaults": {
           "arrowcolor": "#2a3f5f",
           "arrowhead": 0,
           "arrowwidth": 1
          },
          "autotypenumbers": "strict",
          "coloraxis": {
           "colorbar": {
            "outlinewidth": 0,
            "ticks": ""
           }
          },
          "colorscale": {
           "diverging": [
            [
             0,
             "#8e0152"
            ],
            [
             0.1,
             "#c51b7d"
            ],
            [
             0.2,
             "#de77ae"
            ],
            [
             0.3,
             "#f1b6da"
            ],
            [
             0.4,
             "#fde0ef"
            ],
            [
             0.5,
             "#f7f7f7"
            ],
            [
             0.6,
             "#e6f5d0"
            ],
            [
             0.7,
             "#b8e186"
            ],
            [
             0.8,
             "#7fbc41"
            ],
            [
             0.9,
             "#4d9221"
            ],
            [
             1,
             "#276419"
            ]
           ],
           "sequential": [
            [
             0,
             "#0d0887"
            ],
            [
             0.1111111111111111,
             "#46039f"
            ],
            [
             0.2222222222222222,
             "#7201a8"
            ],
            [
             0.3333333333333333,
             "#9c179e"
            ],
            [
             0.4444444444444444,
             "#bd3786"
            ],
            [
             0.5555555555555556,
             "#d8576b"
            ],
            [
             0.6666666666666666,
             "#ed7953"
            ],
            [
             0.7777777777777778,
             "#fb9f3a"
            ],
            [
             0.8888888888888888,
             "#fdca26"
            ],
            [
             1,
             "#f0f921"
            ]
           ],
           "sequentialminus": [
            [
             0,
             "#0d0887"
            ],
            [
             0.1111111111111111,
             "#46039f"
            ],
            [
             0.2222222222222222,
             "#7201a8"
            ],
            [
             0.3333333333333333,
             "#9c179e"
            ],
            [
             0.4444444444444444,
             "#bd3786"
            ],
            [
             0.5555555555555556,
             "#d8576b"
            ],
            [
             0.6666666666666666,
             "#ed7953"
            ],
            [
             0.7777777777777778,
             "#fb9f3a"
            ],
            [
             0.8888888888888888,
             "#fdca26"
            ],
            [
             1,
             "#f0f921"
            ]
           ]
          },
          "colorway": [
           "#636efa",
           "#EF553B",
           "#00cc96",
           "#ab63fa",
           "#FFA15A",
           "#19d3f3",
           "#FF6692",
           "#B6E880",
           "#FF97FF",
           "#FECB52"
          ],
          "font": {
           "color": "#2a3f5f"
          },
          "geo": {
           "bgcolor": "white",
           "lakecolor": "white",
           "landcolor": "#E5ECF6",
           "showlakes": true,
           "showland": true,
           "subunitcolor": "white"
          },
          "hoverlabel": {
           "align": "left"
          },
          "hovermode": "closest",
          "mapbox": {
           "style": "light"
          },
          "paper_bgcolor": "white",
          "plot_bgcolor": "#E5ECF6",
          "polar": {
           "angularaxis": {
            "gridcolor": "white",
            "linecolor": "white",
            "ticks": ""
           },
           "bgcolor": "#E5ECF6",
           "radialaxis": {
            "gridcolor": "white",
            "linecolor": "white",
            "ticks": ""
           }
          },
          "scene": {
           "xaxis": {
            "backgroundcolor": "#E5ECF6",
            "gridcolor": "white",
            "gridwidth": 2,
            "linecolor": "white",
            "showbackground": true,
            "ticks": "",
            "zerolinecolor": "white"
           },
           "yaxis": {
            "backgroundcolor": "#E5ECF6",
            "gridcolor": "white",
            "gridwidth": 2,
            "linecolor": "white",
            "showbackground": true,
            "ticks": "",
            "zerolinecolor": "white"
           },
           "zaxis": {
            "backgroundcolor": "#E5ECF6",
            "gridcolor": "white",
            "gridwidth": 2,
            "linecolor": "white",
            "showbackground": true,
            "ticks": "",
            "zerolinecolor": "white"
           }
          },
          "shapedefaults": {
           "line": {
            "color": "#2a3f5f"
           }
          },
          "ternary": {
           "aaxis": {
            "gridcolor": "white",
            "linecolor": "white",
            "ticks": ""
           },
           "baxis": {
            "gridcolor": "white",
            "linecolor": "white",
            "ticks": ""
           },
           "bgcolor": "#E5ECF6",
           "caxis": {
            "gridcolor": "white",
            "linecolor": "white",
            "ticks": ""
           }
          },
          "title": {
           "x": 0.05
          },
          "xaxis": {
           "automargin": true,
           "gridcolor": "white",
           "linecolor": "white",
           "ticks": "",
           "title": {
            "standoff": 15
           },
           "zerolinecolor": "white",
           "zerolinewidth": 2
          },
          "yaxis": {
           "automargin": true,
           "gridcolor": "white",
           "linecolor": "white",
           "ticks": "",
           "title": {
            "standoff": 15
           },
           "zerolinecolor": "white",
           "zerolinewidth": 2
          }
         }
        },
        "xaxis": {
         "anchor": "y",
         "autorange": true,
         "categoryarray": [
          "République arabe syrienne",
          "Éthiopie",
          "Yémen",
          "Soudan",
          "Soudan du Sud",
          "Kenya",
          "Bangladesh",
          "République démocratique du Congo",
          "Somalie",
          "Tchad"
         ],
         "categoryorder": "array",
         "domain": [
          0,
          1
         ],
         "range": [
          -0.5,
          9.5
         ],
         "title": {
          "text": "Pays"
         },
         "type": "category"
        },
        "yaxis": {
         "anchor": "x",
         "autorange": true,
         "domain": [
          0,
          1
         ],
         "range": [
          0,
          1956782.105263158
         ],
         "title": {
          "text": "Montant Aide"
         },
         "type": "linear"
        }
       }
      },
      "text/html": [
       "<div>                            <div id=\"9e54c0ff-3f48-46ff-be3c-e7652dd940f2\" class=\"plotly-graph-div\" style=\"height:525px; width:100%;\"></div>            <script type=\"text/javascript\">                require([\"plotly\"], function(Plotly) {                    window.PLOTLYENV=window.PLOTLYENV || {};                                    if (document.getElementById(\"9e54c0ff-3f48-46ff-be3c-e7652dd940f2\")) {                    Plotly.newPlot(                        \"9e54c0ff-3f48-46ff-be3c-e7652dd940f2\",                        [{\"alignmentgroup\":\"True\",\"hovertemplate\":\"Pays=%{x}<br>Montant Aide=%{text}<extra></extra>\",\"legendgroup\":\"R\\u00e9publique arabe syrienne\",\"marker\":{\"color\":\"#636efa\",\"pattern\":{\"shape\":\"\"}},\"name\":\"R\\u00e9publique arabe syrienne\",\"offsetgroup\":\"R\\u00e9publique arabe syrienne\",\"orientation\":\"v\",\"showlegend\":true,\"text\":[1858943.0],\"textposition\":\"auto\",\"x\":[\"R\\u00e9publique arabe syrienne\"],\"xaxis\":\"x\",\"y\":[1858943],\"yaxis\":\"y\",\"type\":\"bar\"},{\"alignmentgroup\":\"True\",\"hovertemplate\":\"Pays=%{x}<br>Montant Aide=%{text}<extra></extra>\",\"legendgroup\":\"\\u00c9thiopie\",\"marker\":{\"color\":\"#EF553B\",\"pattern\":{\"shape\":\"\"}},\"name\":\"\\u00c9thiopie\",\"offsetgroup\":\"\\u00c9thiopie\",\"orientation\":\"v\",\"showlegend\":true,\"text\":[1381294.0],\"textposition\":\"auto\",\"x\":[\"\\u00c9thiopie\"],\"xaxis\":\"x\",\"y\":[1381294],\"yaxis\":\"y\",\"type\":\"bar\"},{\"alignmentgroup\":\"True\",\"hovertemplate\":\"Pays=%{x}<br>Montant Aide=%{text}<extra></extra>\",\"legendgroup\":\"Y\\u00e9men\",\"marker\":{\"color\":\"#00cc96\",\"pattern\":{\"shape\":\"\"}},\"name\":\"Y\\u00e9men\",\"offsetgroup\":\"Y\\u00e9men\",\"orientation\":\"v\",\"showlegend\":true,\"text\":[1206484.0],\"textposition\":\"auto\",\"x\":[\"Y\\u00e9men\"],\"xaxis\":\"x\",\"y\":[1206484],\"yaxis\":\"y\",\"type\":\"bar\"},{\"alignmentgroup\":\"True\",\"hovertemplate\":\"Pays=%{x}<br>Montant Aide=%{text}<extra></extra>\",\"legendgroup\":\"Soudan\",\"marker\":{\"color\":\"#ab63fa\",\"pattern\":{\"shape\":\"\"}},\"name\":\"Soudan\",\"offsetgroup\":\"Soudan\",\"orientation\":\"v\",\"showlegend\":true,\"text\":[652134.0],\"textposition\":\"auto\",\"x\":[\"Soudan\"],\"xaxis\":\"x\",\"y\":[652134],\"yaxis\":\"y\",\"type\":\"bar\"},{\"alignmentgroup\":\"True\",\"hovertemplate\":\"Pays=%{x}<br>Montant Aide=%{text}<extra></extra>\",\"legendgroup\":\"Soudan du Sud\",\"marker\":{\"color\":\"#FFA15A\",\"pattern\":{\"shape\":\"\"}},\"name\":\"Soudan du Sud\",\"offsetgroup\":\"Soudan du Sud\",\"orientation\":\"v\",\"showlegend\":true,\"text\":[646940.0],\"textposition\":\"auto\",\"x\":[\"Soudan du Sud\"],\"xaxis\":\"x\",\"y\":[646940],\"yaxis\":\"y\",\"type\":\"bar\"},{\"alignmentgroup\":\"True\",\"hovertemplate\":\"Pays=%{x}<br>Montant Aide=%{text}<extra></extra>\",\"legendgroup\":\"Kenya\",\"marker\":{\"color\":\"#19d3f3\",\"pattern\":{\"shape\":\"\"}},\"name\":\"Kenya\",\"offsetgroup\":\"Kenya\",\"orientation\":\"v\",\"showlegend\":true,\"text\":[552836.0],\"textposition\":\"auto\",\"x\":[\"Kenya\"],\"xaxis\":\"x\",\"y\":[552836],\"yaxis\":\"y\",\"type\":\"bar\"},{\"alignmentgroup\":\"True\",\"hovertemplate\":\"Pays=%{x}<br>Montant Aide=%{text}<extra></extra>\",\"legendgroup\":\"Bangladesh\",\"marker\":{\"color\":\"#FF6692\",\"pattern\":{\"shape\":\"\"}},\"name\":\"Bangladesh\",\"offsetgroup\":\"Bangladesh\",\"orientation\":\"v\",\"showlegend\":true,\"text\":[325646.0],\"textposition\":\"auto\",\"x\":[\"Bangladesh\"],\"xaxis\":\"x\",\"y\":[325646],\"yaxis\":\"y\",\"type\":\"bar\"},{\"alignmentgroup\":\"True\",\"hovertemplate\":\"Pays=%{x}<br>Montant Aide=%{text}<extra></extra>\",\"legendgroup\":\"R\\u00e9publique d\\u00e9mocratique du Congo\",\"marker\":{\"color\":\"#B6E880\",\"pattern\":{\"shape\":\"\"}},\"name\":\"R\\u00e9publique d\\u00e9mocratique du Congo\",\"offsetgroup\":\"R\\u00e9publique d\\u00e9mocratique du Congo\",\"orientation\":\"v\",\"showlegend\":true,\"text\":[218368.0],\"textposition\":\"auto\",\"x\":[\"R\\u00e9publique d\\u00e9mocratique du Congo\"],\"xaxis\":\"x\",\"y\":[218368],\"yaxis\":\"y\",\"type\":\"bar\"},{\"alignmentgroup\":\"True\",\"hovertemplate\":\"Pays=%{x}<br>Montant Aide=%{text}<extra></extra>\",\"legendgroup\":\"Somalie\",\"marker\":{\"color\":\"#FF97FF\",\"pattern\":{\"shape\":\"\"}},\"name\":\"Somalie\",\"offsetgroup\":\"Somalie\",\"orientation\":\"v\",\"showlegend\":true,\"text\":[211498.0],\"textposition\":\"auto\",\"x\":[\"Somalie\"],\"xaxis\":\"x\",\"y\":[211498],\"yaxis\":\"y\",\"type\":\"bar\"},{\"alignmentgroup\":\"True\",\"hovertemplate\":\"Pays=%{x}<br>Montant Aide=%{text}<extra></extra>\",\"legendgroup\":\"Tchad\",\"marker\":{\"color\":\"#FECB52\",\"pattern\":{\"shape\":\"\"}},\"name\":\"Tchad\",\"offsetgroup\":\"Tchad\",\"orientation\":\"v\",\"showlegend\":true,\"text\":[171604.0],\"textposition\":\"auto\",\"x\":[\"Tchad\"],\"xaxis\":\"x\",\"y\":[171604],\"yaxis\":\"y\",\"type\":\"bar\"}],                        {\"template\":{\"data\":{\"bar\":[{\"error_x\":{\"color\":\"#2a3f5f\"},\"error_y\":{\"color\":\"#2a3f5f\"},\"marker\":{\"line\":{\"color\":\"#E5ECF6\",\"width\":0.5},\"pattern\":{\"fillmode\":\"overlay\",\"size\":10,\"solidity\":0.2}},\"type\":\"bar\"}],\"barpolar\":[{\"marker\":{\"line\":{\"color\":\"#E5ECF6\",\"width\":0.5},\"pattern\":{\"fillmode\":\"overlay\",\"size\":10,\"solidity\":0.2}},\"type\":\"barpolar\"}],\"carpet\":[{\"aaxis\":{\"endlinecolor\":\"#2a3f5f\",\"gridcolor\":\"white\",\"linecolor\":\"white\",\"minorgridcolor\":\"white\",\"startlinecolor\":\"#2a3f5f\"},\"baxis\":{\"endlinecolor\":\"#2a3f5f\",\"gridcolor\":\"white\",\"linecolor\":\"white\",\"minorgridcolor\":\"white\",\"startlinecolor\":\"#2a3f5f\"},\"type\":\"carpet\"}],\"choropleth\":[{\"colorbar\":{\"outlinewidth\":0,\"ticks\":\"\"},\"type\":\"choropleth\"}],\"contour\":[{\"colorbar\":{\"outlinewidth\":0,\"ticks\":\"\"},\"colorscale\":[[0.0,\"#0d0887\"],[0.1111111111111111,\"#46039f\"],[0.2222222222222222,\"#7201a8\"],[0.3333333333333333,\"#9c179e\"],[0.4444444444444444,\"#bd3786\"],[0.5555555555555556,\"#d8576b\"],[0.6666666666666666,\"#ed7953\"],[0.7777777777777778,\"#fb9f3a\"],[0.8888888888888888,\"#fdca26\"],[1.0,\"#f0f921\"]],\"type\":\"contour\"}],\"contourcarpet\":[{\"colorbar\":{\"outlinewidth\":0,\"ticks\":\"\"},\"type\":\"contourcarpet\"}],\"heatmap\":[{\"colorbar\":{\"outlinewidth\":0,\"ticks\":\"\"},\"colorscale\":[[0.0,\"#0d0887\"],[0.1111111111111111,\"#46039f\"],[0.2222222222222222,\"#7201a8\"],[0.3333333333333333,\"#9c179e\"],[0.4444444444444444,\"#bd3786\"],[0.5555555555555556,\"#d8576b\"],[0.6666666666666666,\"#ed7953\"],[0.7777777777777778,\"#fb9f3a\"],[0.8888888888888888,\"#fdca26\"],[1.0,\"#f0f921\"]],\"type\":\"heatmap\"}],\"heatmapgl\":[{\"colorbar\":{\"outlinewidth\":0,\"ticks\":\"\"},\"colorscale\":[[0.0,\"#0d0887\"],[0.1111111111111111,\"#46039f\"],[0.2222222222222222,\"#7201a8\"],[0.3333333333333333,\"#9c179e\"],[0.4444444444444444,\"#bd3786\"],[0.5555555555555556,\"#d8576b\"],[0.6666666666666666,\"#ed7953\"],[0.7777777777777778,\"#fb9f3a\"],[0.8888888888888888,\"#fdca26\"],[1.0,\"#f0f921\"]],\"type\":\"heatmapgl\"}],\"histogram\":[{\"marker\":{\"pattern\":{\"fillmode\":\"overlay\",\"size\":10,\"solidity\":0.2}},\"type\":\"histogram\"}],\"histogram2d\":[{\"colorbar\":{\"outlinewidth\":0,\"ticks\":\"\"},\"colorscale\":[[0.0,\"#0d0887\"],[0.1111111111111111,\"#46039f\"],[0.2222222222222222,\"#7201a8\"],[0.3333333333333333,\"#9c179e\"],[0.4444444444444444,\"#bd3786\"],[0.5555555555555556,\"#d8576b\"],[0.6666666666666666,\"#ed7953\"],[0.7777777777777778,\"#fb9f3a\"],[0.8888888888888888,\"#fdca26\"],[1.0,\"#f0f921\"]],\"type\":\"histogram2d\"}],\"histogram2dcontour\":[{\"colorbar\":{\"outlinewidth\":0,\"ticks\":\"\"},\"colorscale\":[[0.0,\"#0d0887\"],[0.1111111111111111,\"#46039f\"],[0.2222222222222222,\"#7201a8\"],[0.3333333333333333,\"#9c179e\"],[0.4444444444444444,\"#bd3786\"],[0.5555555555555556,\"#d8576b\"],[0.6666666666666666,\"#ed7953\"],[0.7777777777777778,\"#fb9f3a\"],[0.8888888888888888,\"#fdca26\"],[1.0,\"#f0f921\"]],\"type\":\"histogram2dcontour\"}],\"mesh3d\":[{\"colorbar\":{\"outlinewidth\":0,\"ticks\":\"\"},\"type\":\"mesh3d\"}],\"parcoords\":[{\"line\":{\"colorbar\":{\"outlinewidth\":0,\"ticks\":\"\"}},\"type\":\"parcoords\"}],\"pie\":[{\"automargin\":true,\"type\":\"pie\"}],\"scatter\":[{\"marker\":{\"colorbar\":{\"outlinewidth\":0,\"ticks\":\"\"}},\"type\":\"scatter\"}],\"scatter3d\":[{\"line\":{\"colorbar\":{\"outlinewidth\":0,\"ticks\":\"\"}},\"marker\":{\"colorbar\":{\"outlinewidth\":0,\"ticks\":\"\"}},\"type\":\"scatter3d\"}],\"scattercarpet\":[{\"marker\":{\"colorbar\":{\"outlinewidth\":0,\"ticks\":\"\"}},\"type\":\"scattercarpet\"}],\"scattergeo\":[{\"marker\":{\"colorbar\":{\"outlinewidth\":0,\"ticks\":\"\"}},\"type\":\"scattergeo\"}],\"scattergl\":[{\"marker\":{\"colorbar\":{\"outlinewidth\":0,\"ticks\":\"\"}},\"type\":\"scattergl\"}],\"scattermapbox\":[{\"marker\":{\"colorbar\":{\"outlinewidth\":0,\"ticks\":\"\"}},\"type\":\"scattermapbox\"}],\"scatterpolar\":[{\"marker\":{\"colorbar\":{\"outlinewidth\":0,\"ticks\":\"\"}},\"type\":\"scatterpolar\"}],\"scatterpolargl\":[{\"marker\":{\"colorbar\":{\"outlinewidth\":0,\"ticks\":\"\"}},\"type\":\"scatterpolargl\"}],\"scatterternary\":[{\"marker\":{\"colorbar\":{\"outlinewidth\":0,\"ticks\":\"\"}},\"type\":\"scatterternary\"}],\"surface\":[{\"colorbar\":{\"outlinewidth\":0,\"ticks\":\"\"},\"colorscale\":[[0.0,\"#0d0887\"],[0.1111111111111111,\"#46039f\"],[0.2222222222222222,\"#7201a8\"],[0.3333333333333333,\"#9c179e\"],[0.4444444444444444,\"#bd3786\"],[0.5555555555555556,\"#d8576b\"],[0.6666666666666666,\"#ed7953\"],[0.7777777777777778,\"#fb9f3a\"],[0.8888888888888888,\"#fdca26\"],[1.0,\"#f0f921\"]],\"type\":\"surface\"}],\"table\":[{\"cells\":{\"fill\":{\"color\":\"#EBF0F8\"},\"line\":{\"color\":\"white\"}},\"header\":{\"fill\":{\"color\":\"#C8D4E3\"},\"line\":{\"color\":\"white\"}},\"type\":\"table\"}]},\"layout\":{\"annotationdefaults\":{\"arrowcolor\":\"#2a3f5f\",\"arrowhead\":0,\"arrowwidth\":1},\"autotypenumbers\":\"strict\",\"coloraxis\":{\"colorbar\":{\"outlinewidth\":0,\"ticks\":\"\"}},\"colorscale\":{\"diverging\":[[0,\"#8e0152\"],[0.1,\"#c51b7d\"],[0.2,\"#de77ae\"],[0.3,\"#f1b6da\"],[0.4,\"#fde0ef\"],[0.5,\"#f7f7f7\"],[0.6,\"#e6f5d0\"],[0.7,\"#b8e186\"],[0.8,\"#7fbc41\"],[0.9,\"#4d9221\"],[1,\"#276419\"]],\"sequential\":[[0.0,\"#0d0887\"],[0.1111111111111111,\"#46039f\"],[0.2222222222222222,\"#7201a8\"],[0.3333333333333333,\"#9c179e\"],[0.4444444444444444,\"#bd3786\"],[0.5555555555555556,\"#d8576b\"],[0.6666666666666666,\"#ed7953\"],[0.7777777777777778,\"#fb9f3a\"],[0.8888888888888888,\"#fdca26\"],[1.0,\"#f0f921\"]],\"sequentialminus\":[[0.0,\"#0d0887\"],[0.1111111111111111,\"#46039f\"],[0.2222222222222222,\"#7201a8\"],[0.3333333333333333,\"#9c179e\"],[0.4444444444444444,\"#bd3786\"],[0.5555555555555556,\"#d8576b\"],[0.6666666666666666,\"#ed7953\"],[0.7777777777777778,\"#fb9f3a\"],[0.8888888888888888,\"#fdca26\"],[1.0,\"#f0f921\"]]},\"colorway\":[\"#636efa\",\"#EF553B\",\"#00cc96\",\"#ab63fa\",\"#FFA15A\",\"#19d3f3\",\"#FF6692\",\"#B6E880\",\"#FF97FF\",\"#FECB52\"],\"font\":{\"color\":\"#2a3f5f\"},\"geo\":{\"bgcolor\":\"white\",\"lakecolor\":\"white\",\"landcolor\":\"#E5ECF6\",\"showlakes\":true,\"showland\":true,\"subunitcolor\":\"white\"},\"hoverlabel\":{\"align\":\"left\"},\"hovermode\":\"closest\",\"mapbox\":{\"style\":\"light\"},\"paper_bgcolor\":\"white\",\"plot_bgcolor\":\"#E5ECF6\",\"polar\":{\"angularaxis\":{\"gridcolor\":\"white\",\"linecolor\":\"white\",\"ticks\":\"\"},\"bgcolor\":\"#E5ECF6\",\"radialaxis\":{\"gridcolor\":\"white\",\"linecolor\":\"white\",\"ticks\":\"\"}},\"scene\":{\"xaxis\":{\"backgroundcolor\":\"#E5ECF6\",\"gridcolor\":\"white\",\"gridwidth\":2,\"linecolor\":\"white\",\"showbackground\":true,\"ticks\":\"\",\"zerolinecolor\":\"white\"},\"yaxis\":{\"backgroundcolor\":\"#E5ECF6\",\"gridcolor\":\"white\",\"gridwidth\":2,\"linecolor\":\"white\",\"showbackground\":true,\"ticks\":\"\",\"zerolinecolor\":\"white\"},\"zaxis\":{\"backgroundcolor\":\"#E5ECF6\",\"gridcolor\":\"white\",\"gridwidth\":2,\"linecolor\":\"white\",\"showbackground\":true,\"ticks\":\"\",\"zerolinecolor\":\"white\"}},\"shapedefaults\":{\"line\":{\"color\":\"#2a3f5f\"}},\"ternary\":{\"aaxis\":{\"gridcolor\":\"white\",\"linecolor\":\"white\",\"ticks\":\"\"},\"baxis\":{\"gridcolor\":\"white\",\"linecolor\":\"white\",\"ticks\":\"\"},\"bgcolor\":\"#E5ECF6\",\"caxis\":{\"gridcolor\":\"white\",\"linecolor\":\"white\",\"ticks\":\"\"}},\"title\":{\"x\":0.05},\"xaxis\":{\"automargin\":true,\"gridcolor\":\"white\",\"linecolor\":\"white\",\"ticks\":\"\",\"title\":{\"standoff\":15},\"zerolinecolor\":\"white\",\"zerolinewidth\":2},\"yaxis\":{\"automargin\":true,\"gridcolor\":\"white\",\"linecolor\":\"white\",\"ticks\":\"\",\"title\":{\"standoff\":15},\"zerolinecolor\":\"white\",\"zerolinewidth\":2}}},\"xaxis\":{\"anchor\":\"y\",\"domain\":[0.0,1.0],\"title\":{\"text\":\"Pays\"},\"categoryorder\":\"array\",\"categoryarray\":[\"R\\u00e9publique arabe syrienne\",\"\\u00c9thiopie\",\"Y\\u00e9men\",\"Soudan\",\"Soudan du Sud\",\"Kenya\",\"Bangladesh\",\"R\\u00e9publique d\\u00e9mocratique du Congo\",\"Somalie\",\"Tchad\"]},\"yaxis\":{\"anchor\":\"x\",\"domain\":[0.0,1.0],\"title\":{\"text\":\"Montant Aide\"}},\"legend\":{\"title\":{\"text\":\"Pays\"},\"tracegroupgap\":0},\"margin\":{\"t\":60},\"barmode\":\"relative\"},                        {\"responsive\": true}                    ).then(function(){\n",
       "                            \n",
       "var gd = document.getElementById('9e54c0ff-3f48-46ff-be3c-e7652dd940f2');\n",
       "var x = new MutationObserver(function (mutations, observer) {{\n",
       "        var display = window.getComputedStyle(gd).display;\n",
       "        if (!display || display === 'none') {{\n",
       "            console.log([gd, 'removed!']);\n",
       "            Plotly.purge(gd);\n",
       "            observer.disconnect();\n",
       "        }}\n",
       "}});\n",
       "\n",
       "// Listen for the removal of the full notebook cells\n",
       "var notebookContainer = gd.closest('#notebook-container');\n",
       "if (notebookContainer) {{\n",
       "    x.observe(notebookContainer, {childList: true});\n",
       "}}\n",
       "\n",
       "// Listen for the clearing of the current output cell\n",
       "var outputEl = gd.closest('.output');\n",
       "if (outputEl) {{\n",
       "    x.observe(outputEl, {childList: true});\n",
       "}}\n",
       "\n",
       "                        })                };                });            </script>        </div>"
      ]
     },
     "metadata": {},
     "output_type": "display_data"
    }
   ],
   "source": [
    "fig = px.bar(Aide, y = 'Montant Aide', x='Pays', text='Montant Aide', color='Pays')\n",
    "fig.show()"
   ]
  },
  {
   "cell_type": "markdown",
   "id": "1309af7f",
   "metadata": {},
   "source": [
    "### Top ten des pays dont la proportion de personnes sous-alimentées est la plus forte en 2017"
   ]
  },
  {
   "cell_type": "code",
   "execution_count": 85,
   "id": "0e5ad57f",
   "metadata": {
    "jupyter": {
     "source_hidden": true
    }
   },
   "outputs": [
    {
     "data": {
      "text/html": [
       "<div>\n",
       "<style scoped>\n",
       "    .dataframe tbody tr th:only-of-type {\n",
       "        vertical-align: middle;\n",
       "    }\n",
       "\n",
       "    .dataframe tbody tr th {\n",
       "        vertical-align: top;\n",
       "    }\n",
       "\n",
       "    .dataframe thead th {\n",
       "        text-align: right;\n",
       "    }\n",
       "</style>\n",
       "<table border=\"1\" class=\"dataframe\">\n",
       "  <thead>\n",
       "    <tr style=\"text-align: right;\">\n",
       "      <th></th>\n",
       "      <th>Zone</th>\n",
       "      <th>NB Pers sous-alimentées en millions</th>\n",
       "    </tr>\n",
       "  </thead>\n",
       "  <tbody>\n",
       "    <tr>\n",
       "      <th>508</th>\n",
       "      <td>Inde</td>\n",
       "      <td>190.1</td>\n",
       "    </tr>\n",
       "    <tr>\n",
       "      <th>820</th>\n",
       "      <td>Pakistan</td>\n",
       "      <td>24.8</td>\n",
       "    </tr>\n",
       "    <tr>\n",
       "      <th>514</th>\n",
       "      <td>Indonésie</td>\n",
       "      <td>23.6</td>\n",
       "    </tr>\n",
       "    <tr>\n",
       "      <th>772</th>\n",
       "      <td>Nigéria</td>\n",
       "      <td>22.8</td>\n",
       "    </tr>\n",
       "    <tr>\n",
       "      <th>100</th>\n",
       "      <td>Bangladesh</td>\n",
       "      <td>21.5</td>\n",
       "    </tr>\n",
       "    <tr>\n",
       "      <th>370</th>\n",
       "      <td>Éthiopie</td>\n",
       "      <td>21.1</td>\n",
       "    </tr>\n",
       "    <tr>\n",
       "      <th>868</th>\n",
       "      <td>Philippines</td>\n",
       "      <td>15.7</td>\n",
       "    </tr>\n",
       "    <tr>\n",
       "      <th>952</th>\n",
       "      <td>République-Unie de Tanzanie</td>\n",
       "      <td>13.4</td>\n",
       "    </tr>\n",
       "    <tr>\n",
       "      <th>946</th>\n",
       "      <td>République populaire démocratique de Corée</td>\n",
       "      <td>12.0</td>\n",
       "    </tr>\n",
       "    <tr>\n",
       "      <th>580</th>\n",
       "      <td>Kenya</td>\n",
       "      <td>11.9</td>\n",
       "    </tr>\n",
       "  </tbody>\n",
       "</table>\n",
       "</div>"
      ],
      "text/plain": [
       "                                           Zone  \\\n",
       "508                                        Inde   \n",
       "820                                    Pakistan   \n",
       "514                                   Indonésie   \n",
       "772                                     Nigéria   \n",
       "100                                  Bangladesh   \n",
       "370                                    Éthiopie   \n",
       "868                                 Philippines   \n",
       "952                 République-Unie de Tanzanie   \n",
       "946  République populaire démocratique de Corée   \n",
       "580                                       Kenya   \n",
       "\n",
       "     NB Pers sous-alimentées en millions  \n",
       "508                                190.1  \n",
       "820                                 24.8  \n",
       "514                                 23.6  \n",
       "772                                 22.8  \n",
       "100                                 21.5  \n",
       "370                                 21.1  \n",
       "868                                 15.7  \n",
       "952                                 13.4  \n",
       "946                                 12.0  \n",
       "580                                 11.9  "
      ]
     },
     "execution_count": 85,
     "metadata": {},
     "output_type": "execute_result"
    }
   ],
   "source": [
    "TopTen_SousNut_2017 = sousNut[sousNut['Année']=='2016-2018'].sort_values(by= ['Valeur'], ascending=False).iloc[:10]\n",
    "TopTen_SousNut_2017['Valeur'] = TopTen_SousNut_2017['Valeur']\n",
    "TopTen_SousNut_2017.rename(columns = {'Valeur' : 'NB Pers sous-alimentées en millions'}, inplace=True)\n",
    "TopTen_SousNut_2017 =  TopTen_SousNut_2017.drop(columns=\"Année\")\n",
    "TopTen_SousNut_2017\n"
   ]
  },
  {
   "cell_type": "markdown",
   "id": "41632512",
   "metadata": {},
   "source": [
    "### Nb de personnes nourrissables dans les pays membres du Top Ten"
   ]
  },
  {
   "cell_type": "code",
   "execution_count": 87,
   "id": "9928422d",
   "metadata": {
    "jupyter": {
     "source_hidden": true
    }
   },
   "outputs": [
    {
     "name": "stdout",
     "output_type": "stream",
     "text": [
      "Aide mondiale et disponibilité alimentaire du Top Ten des pays les plus aidés en 2017 \n"
     ]
    },
    {
     "data": {
      "text/html": [
       "<div>\n",
       "<style scoped>\n",
       "    .dataframe tbody tr th:only-of-type {\n",
       "        vertical-align: middle;\n",
       "    }\n",
       "\n",
       "    .dataframe tbody tr th {\n",
       "        vertical-align: top;\n",
       "    }\n",
       "\n",
       "    .dataframe thead th {\n",
       "        text-align: right;\n",
       "    }\n",
       "</style>\n",
       "<table border=\"1\" class=\"dataframe\">\n",
       "  <thead>\n",
       "    <tr style=\"text-align: right;\">\n",
       "      <th></th>\n",
       "      <th>Zone</th>\n",
       "      <th>NB Pers sous-alimentées en millions</th>\n",
       "      <th>Population totale en millions</th>\n",
       "      <th>Dispo Alim Totale</th>\n",
       "    </tr>\n",
       "  </thead>\n",
       "  <tbody>\n",
       "    <tr>\n",
       "      <th>4</th>\n",
       "      <td>Inde</td>\n",
       "      <td>190.1</td>\n",
       "      <td>1338.676785</td>\n",
       "      <td>3.285113e+09</td>\n",
       "    </tr>\n",
       "    <tr>\n",
       "      <th>10</th>\n",
       "      <td>Pakistan</td>\n",
       "      <td>24.8</td>\n",
       "      <td>207.906209</td>\n",
       "      <td>5.068753e+08</td>\n",
       "    </tr>\n",
       "    <tr>\n",
       "      <th>16</th>\n",
       "      <td>Indonésie</td>\n",
       "      <td>23.6</td>\n",
       "      <td>264.650963</td>\n",
       "      <td>7.346711e+08</td>\n",
       "    </tr>\n",
       "    <tr>\n",
       "      <th>22</th>\n",
       "      <td>Nigéria</td>\n",
       "      <td>22.8</td>\n",
       "      <td>190.873244</td>\n",
       "      <td>5.153578e+08</td>\n",
       "    </tr>\n",
       "    <tr>\n",
       "      <th>28</th>\n",
       "      <td>Bangladesh</td>\n",
       "      <td>21.5</td>\n",
       "      <td>159.685424</td>\n",
       "      <td>3.917083e+08</td>\n",
       "    </tr>\n",
       "    <tr>\n",
       "      <th>34</th>\n",
       "      <td>Éthiopie</td>\n",
       "      <td>21.1</td>\n",
       "      <td>106.399924</td>\n",
       "      <td>2.265254e+08</td>\n",
       "    </tr>\n",
       "    <tr>\n",
       "      <th>40</th>\n",
       "      <td>Philippines</td>\n",
       "      <td>15.7</td>\n",
       "      <td>105.172925</td>\n",
       "      <td>2.700841e+08</td>\n",
       "    </tr>\n",
       "    <tr>\n",
       "      <th>46</th>\n",
       "      <td>République-Unie de Tanzanie</td>\n",
       "      <td>13.4</td>\n",
       "      <td>54.660339</td>\n",
       "      <td>1.204714e+08</td>\n",
       "    </tr>\n",
       "    <tr>\n",
       "      <th>52</th>\n",
       "      <td>République populaire démocratique de Corée</td>\n",
       "      <td>12.0</td>\n",
       "      <td>25.429825</td>\n",
       "      <td>5.322462e+07</td>\n",
       "    </tr>\n",
       "    <tr>\n",
       "      <th>58</th>\n",
       "      <td>Kenya</td>\n",
       "      <td>11.9</td>\n",
       "      <td>50.221142</td>\n",
       "      <td>1.107376e+08</td>\n",
       "    </tr>\n",
       "  </tbody>\n",
       "</table>\n",
       "</div>"
      ],
      "text/plain": [
       "                                          Zone  \\\n",
       "4                                         Inde   \n",
       "10                                    Pakistan   \n",
       "16                                   Indonésie   \n",
       "22                                     Nigéria   \n",
       "28                                  Bangladesh   \n",
       "34                                    Éthiopie   \n",
       "40                                 Philippines   \n",
       "46                 République-Unie de Tanzanie   \n",
       "52  République populaire démocratique de Corée   \n",
       "58                                       Kenya   \n",
       "\n",
       "    NB Pers sous-alimentées en millions  Population totale en millions  \\\n",
       "4                                 190.1                    1338.676785   \n",
       "10                                 24.8                     207.906209   \n",
       "16                                 23.6                     264.650963   \n",
       "22                                 22.8                     190.873244   \n",
       "28                                 21.5                     159.685424   \n",
       "34                                 21.1                     106.399924   \n",
       "40                                 15.7                     105.172925   \n",
       "46                                 13.4                      54.660339   \n",
       "52                                 12.0                      25.429825   \n",
       "58                                 11.9                      50.221142   \n",
       "\n",
       "    Dispo Alim Totale  \n",
       "4        3.285113e+09  \n",
       "10       5.068753e+08  \n",
       "16       7.346711e+08  \n",
       "22       5.153578e+08  \n",
       "28       3.917083e+08  \n",
       "34       2.265254e+08  \n",
       "40       2.700841e+08  \n",
       "46       1.204714e+08  \n",
       "52       5.322462e+07  \n",
       "58       1.107376e+08  "
      ]
     },
     "execution_count": 87,
     "metadata": {},
     "output_type": "execute_result"
    }
   ],
   "source": [
    "print(\"Aide mondiale et disponibilité alimentaire du Top Ten des pays les plus aidés en 2017 \")\n",
    "\n",
    "da = pd.merge(TopTen_SousNut_2017, dispo, on = \"Zone\", how=\"left\")\n",
    "da1 = da.groupby(\"Zone\")[\"Disponibilité alimentaire (Kcal/personne/jour)\"].sum()\n",
    "da2 = pd.merge(TopTen_SousNut_2017, da1 , on = \"Zone\", how='left')\n",
    "# da = da.drop(columns=\"Année\")\n",
    "DA_Aide = pd.merge(da2, pop, on = \"Zone\", how = \"left\")\n",
    "DA_Aide\n",
    "\n",
    "DA_Aide = DA_Aide[DA_Aide[\"Année\"]==2017]\n",
    "DA_Aide = DA_Aide.drop(columns=\"Année\")\n",
    "DA_Aide[\"Dispo Alim Totale\"] = DA_Aide[\"Disponibilité alimentaire (Kcal/personne/jour)\"]*DA_Aide[\"Valeur\"]\n",
    "DA_Aide= DA_Aide.drop(columns=[\"Disponibilité alimentaire (Kcal/personne/jour)\"])\n",
    "DA_Aide['Valeur'] = DA_Aide['Valeur']/1000\n",
    "DA_Aide.rename(columns = {'Valeur' : 'Population totale en millions'}, inplace=True)\n",
    "DA_Aide\n"
   ]
  },
  {
   "cell_type": "code",
   "execution_count": 88,
   "id": "e8843846",
   "metadata": {
    "jupyter": {
     "source_hidden": true
    }
   },
   "outputs": [
    {
     "name": "stdout",
     "output_type": "stream",
     "text": [
      "Nombre de personnes nourrissables dans ce top ten : \n"
     ]
    },
    {
     "data": {
      "text/html": [
       "<div>\n",
       "<style scoped>\n",
       "    .dataframe tbody tr th:only-of-type {\n",
       "        vertical-align: middle;\n",
       "    }\n",
       "\n",
       "    .dataframe tbody tr th {\n",
       "        vertical-align: top;\n",
       "    }\n",
       "\n",
       "    .dataframe thead th {\n",
       "        text-align: right;\n",
       "    }\n",
       "</style>\n",
       "<table border=\"1\" class=\"dataframe\">\n",
       "  <thead>\n",
       "    <tr style=\"text-align: right;\">\n",
       "      <th></th>\n",
       "      <th>Zone</th>\n",
       "      <th>NB Pers sous-alimentées en millions</th>\n",
       "      <th>Population totale en millions</th>\n",
       "      <th>Dispo Alim Totale</th>\n",
       "      <th>Nb de Personnes nourrissables en millions</th>\n",
       "    </tr>\n",
       "  </thead>\n",
       "  <tbody>\n",
       "    <tr>\n",
       "      <th>4</th>\n",
       "      <td>Inde</td>\n",
       "      <td>190.1</td>\n",
       "      <td>1338.676785</td>\n",
       "      <td>3.285113e+09</td>\n",
       "      <td>1583.186906</td>\n",
       "    </tr>\n",
       "    <tr>\n",
       "      <th>10</th>\n",
       "      <td>Pakistan</td>\n",
       "      <td>24.8</td>\n",
       "      <td>207.906209</td>\n",
       "      <td>5.068753e+08</td>\n",
       "      <td>244.277271</td>\n",
       "    </tr>\n",
       "    <tr>\n",
       "      <th>16</th>\n",
       "      <td>Indonésie</td>\n",
       "      <td>23.6</td>\n",
       "      <td>264.650963</td>\n",
       "      <td>7.346711e+08</td>\n",
       "      <td>354.058349</td>\n",
       "    </tr>\n",
       "    <tr>\n",
       "      <th>22</th>\n",
       "      <td>Nigéria</td>\n",
       "      <td>22.8</td>\n",
       "      <td>190.873244</td>\n",
       "      <td>5.153578e+08</td>\n",
       "      <td>248.365185</td>\n",
       "    </tr>\n",
       "    <tr>\n",
       "      <th>28</th>\n",
       "      <td>Bangladesh</td>\n",
       "      <td>21.5</td>\n",
       "      <td>159.685424</td>\n",
       "      <td>3.917083e+08</td>\n",
       "      <td>188.775106</td>\n",
       "    </tr>\n",
       "    <tr>\n",
       "      <th>34</th>\n",
       "      <td>Éthiopie</td>\n",
       "      <td>21.1</td>\n",
       "      <td>106.399924</td>\n",
       "      <td>2.265254e+08</td>\n",
       "      <td>109.168886</td>\n",
       "    </tr>\n",
       "    <tr>\n",
       "      <th>40</th>\n",
       "      <td>Philippines</td>\n",
       "      <td>15.7</td>\n",
       "      <td>105.172925</td>\n",
       "      <td>2.700841e+08</td>\n",
       "      <td>130.160998</td>\n",
       "    </tr>\n",
       "    <tr>\n",
       "      <th>46</th>\n",
       "      <td>République-Unie de Tanzanie</td>\n",
       "      <td>13.4</td>\n",
       "      <td>54.660339</td>\n",
       "      <td>1.204714e+08</td>\n",
       "      <td>58.058500</td>\n",
       "    </tr>\n",
       "    <tr>\n",
       "      <th>52</th>\n",
       "      <td>République populaire démocratique de Corée</td>\n",
       "      <td>12.0</td>\n",
       "      <td>25.429825</td>\n",
       "      <td>5.322462e+07</td>\n",
       "      <td>25.650421</td>\n",
       "    </tr>\n",
       "    <tr>\n",
       "      <th>58</th>\n",
       "      <td>Kenya</td>\n",
       "      <td>11.9</td>\n",
       "      <td>50.221142</td>\n",
       "      <td>1.107376e+08</td>\n",
       "      <td>53.367527</td>\n",
       "    </tr>\n",
       "  </tbody>\n",
       "</table>\n",
       "</div>"
      ],
      "text/plain": [
       "                                          Zone  \\\n",
       "4                                         Inde   \n",
       "10                                    Pakistan   \n",
       "16                                   Indonésie   \n",
       "22                                     Nigéria   \n",
       "28                                  Bangladesh   \n",
       "34                                    Éthiopie   \n",
       "40                                 Philippines   \n",
       "46                 République-Unie de Tanzanie   \n",
       "52  République populaire démocratique de Corée   \n",
       "58                                       Kenya   \n",
       "\n",
       "    NB Pers sous-alimentées en millions  Population totale en millions  \\\n",
       "4                                 190.1                    1338.676785   \n",
       "10                                 24.8                     207.906209   \n",
       "16                                 23.6                     264.650963   \n",
       "22                                 22.8                     190.873244   \n",
       "28                                 21.5                     159.685424   \n",
       "34                                 21.1                     106.399924   \n",
       "40                                 15.7                     105.172925   \n",
       "46                                 13.4                      54.660339   \n",
       "52                                 12.0                      25.429825   \n",
       "58                                 11.9                      50.221142   \n",
       "\n",
       "    Dispo Alim Totale  Nb de Personnes nourrissables en millions  \n",
       "4        3.285113e+09                                1583.186906  \n",
       "10       5.068753e+08                                 244.277271  \n",
       "16       7.346711e+08                                 354.058349  \n",
       "22       5.153578e+08                                 248.365185  \n",
       "28       3.917083e+08                                 188.775106  \n",
       "34       2.265254e+08                                 109.168886  \n",
       "40       2.700841e+08                                 130.160998  \n",
       "46       1.204714e+08                                  58.058500  \n",
       "52       5.322462e+07                                  25.650421  \n",
       "58       1.107376e+08                                  53.367527  "
      ]
     },
     "execution_count": 88,
     "metadata": {},
     "output_type": "execute_result"
    }
   ],
   "source": [
    "# # Nb Personnes nourrissables = Somme des Dispo en kcal/pers/jour / 2075\n",
    "print(\"Nombre de personnes nourrissables dans ce top ten : \")\n",
    "\n",
    "DA_Aide[\"Nb de Personnes nourrissables en millions\"] = DA_Aide[\"Dispo Alim Totale\"]/2075/1000\n",
    "DA_Aide\n"
   ]
  },
  {
   "cell_type": "code",
   "execution_count": 89,
   "id": "62445a2a",
   "metadata": {
    "jupyter": {
     "source_hidden": true
    }
   },
   "outputs": [
    {
     "data": {
      "text/plain": [
       "<AxesSubplot:ylabel='Zone'>"
      ]
     },
     "execution_count": 89,
     "metadata": {},
     "output_type": "execute_result"
    },
    {
     "data": {
      "image/png": "[encoded data removed]",
      "text/plain": [
       "<Figure size 432x288 with 1 Axes>"
      ]
     },
     "metadata": {
      "needs_background": "light"
     },
     "output_type": "display_data"
    }
   ],
   "source": [
    "##### ATTENTION / DECOMMENTER SET INDEX A CHAQUE REPASSE\n",
    "DA_Aide.set_index('Zone', inplace = True)\n",
    "DA_Aide[[\"NB Pers sous-alimentées en millions\", \"Nb de Personnes nourrissables en millions\"]].plot(rot=0, kind=\"barh\")\n"
   ]
  },
  {
   "cell_type": "markdown",
   "id": "880d7799",
   "metadata": {},
   "source": [
    "### Disponibilité intérieure des pays membres du Top Ten"
   ]
  },
  {
   "cell_type": "markdown",
   "id": "9b8cd621",
   "metadata": {},
   "source": [
    "#### Composition de la disponibilité intérieure : "
   ]
  },
  {
   "cell_type": "code",
   "execution_count": 90,
   "id": "c7c3d1fe",
   "metadata": {
    "jupyter": {
     "source_hidden": true
    }
   },
   "outputs": [
    {
     "name": "stdout",
     "output_type": "stream",
     "text": [
      "Composition de la Disponibilité intérieure : \n"
     ]
    },
    {
     "data": {
      "text/html": [
       "<div>\n",
       "<style scoped>\n",
       "    .dataframe tbody tr th:only-of-type {\n",
       "        vertical-align: middle;\n",
       "    }\n",
       "\n",
       "    .dataframe tbody tr th {\n",
       "        vertical-align: top;\n",
       "    }\n",
       "\n",
       "    .dataframe thead th {\n",
       "        text-align: right;\n",
       "    }\n",
       "</style>\n",
       "<table border=\"1\" class=\"dataframe\">\n",
       "  <thead>\n",
       "    <tr style=\"text-align: right;\">\n",
       "      <th></th>\n",
       "      <th>Disponibilité intérieure</th>\n",
       "      <th>Importations - Quantité</th>\n",
       "      <th>Exportations - Quantité</th>\n",
       "      <th>Production</th>\n",
       "      <th>Variation de stock</th>\n",
       "    </tr>\n",
       "    <tr>\n",
       "      <th>Zone</th>\n",
       "      <th></th>\n",
       "      <th></th>\n",
       "      <th></th>\n",
       "      <th></th>\n",
       "      <th></th>\n",
       "    </tr>\n",
       "  </thead>\n",
       "  <tbody>\n",
       "    <tr>\n",
       "      <th>Bangladesh</th>\n",
       "      <td>72757.0</td>\n",
       "      <td>10013.0</td>\n",
       "      <td>328.0</td>\n",
       "      <td>68294.0</td>\n",
       "      <td>-5219.0</td>\n",
       "    </tr>\n",
       "    <tr>\n",
       "      <th>Inde</th>\n",
       "      <td>1100838.0</td>\n",
       "      <td>18954.0</td>\n",
       "      <td>40807.0</td>\n",
       "      <td>1126270.0</td>\n",
       "      <td>-3573.0</td>\n",
       "    </tr>\n",
       "    <tr>\n",
       "      <th>Indonésie</th>\n",
       "      <td>226930.0</td>\n",
       "      <td>23466.0</td>\n",
       "      <td>31912.0</td>\n",
       "      <td>238559.0</td>\n",
       "      <td>-3182.0</td>\n",
       "    </tr>\n",
       "    <tr>\n",
       "      <th>Kenya</th>\n",
       "      <td>31095.0</td>\n",
       "      <td>3060.0</td>\n",
       "      <td>1313.0</td>\n",
       "      <td>28950.0</td>\n",
       "      <td>398.0</td>\n",
       "    </tr>\n",
       "    <tr>\n",
       "      <th>Nigéria</th>\n",
       "      <td>192388.0</td>\n",
       "      <td>14510.0</td>\n",
       "      <td>748.0</td>\n",
       "      <td>179631.0</td>\n",
       "      <td>-999.0</td>\n",
       "    </tr>\n",
       "    <tr>\n",
       "      <th>Pakistan</th>\n",
       "      <td>168631.0</td>\n",
       "      <td>5561.0</td>\n",
       "      <td>9256.0</td>\n",
       "      <td>172886.0</td>\n",
       "      <td>-557.0</td>\n",
       "    </tr>\n",
       "    <tr>\n",
       "      <th>Philippines</th>\n",
       "      <td>108885.0</td>\n",
       "      <td>8778.0</td>\n",
       "      <td>7897.0</td>\n",
       "      <td>107049.0</td>\n",
       "      <td>966.0</td>\n",
       "    </tr>\n",
       "    <tr>\n",
       "      <th>République populaire démocratique de Corée</th>\n",
       "      <td>14876.0</td>\n",
       "      <td>993.0</td>\n",
       "      <td>83.0</td>\n",
       "      <td>13883.0</td>\n",
       "      <td>84.0</td>\n",
       "    </tr>\n",
       "    <tr>\n",
       "      <th>République-Unie de Tanzanie</th>\n",
       "      <td>38160.0</td>\n",
       "      <td>1871.0</td>\n",
       "      <td>1332.0</td>\n",
       "      <td>40849.0</td>\n",
       "      <td>-3221.0</td>\n",
       "    </tr>\n",
       "    <tr>\n",
       "      <th>Éthiopie</th>\n",
       "      <td>44014.0</td>\n",
       "      <td>1711.0</td>\n",
       "      <td>941.0</td>\n",
       "      <td>46102.0</td>\n",
       "      <td>-2857.0</td>\n",
       "    </tr>\n",
       "  </tbody>\n",
       "</table>\n",
       "</div>"
      ],
      "text/plain": [
       "                                            Disponibilité intérieure  \\\n",
       "Zone                                                                   \n",
       "Bangladesh                                                   72757.0   \n",
       "Inde                                                       1100838.0   \n",
       "Indonésie                                                   226930.0   \n",
       "Kenya                                                        31095.0   \n",
       "Nigéria                                                     192388.0   \n",
       "Pakistan                                                    168631.0   \n",
       "Philippines                                                 108885.0   \n",
       "République populaire démocratique de Corée                   14876.0   \n",
       "République-Unie de Tanzanie                                  38160.0   \n",
       "Éthiopie                                                     44014.0   \n",
       "\n",
       "                                            Importations - Quantité  \\\n",
       "Zone                                                                  \n",
       "Bangladesh                                                  10013.0   \n",
       "Inde                                                        18954.0   \n",
       "Indonésie                                                   23466.0   \n",
       "Kenya                                                        3060.0   \n",
       "Nigéria                                                     14510.0   \n",
       "Pakistan                                                     5561.0   \n",
       "Philippines                                                  8778.0   \n",
       "République populaire démocratique de Corée                    993.0   \n",
       "République-Unie de Tanzanie                                  1871.0   \n",
       "Éthiopie                                                     1711.0   \n",
       "\n",
       "                                            Exportations - Quantité  \\\n",
       "Zone                                                                  \n",
       "Bangladesh                                                    328.0   \n",
       "Inde                                                        40807.0   \n",
       "Indonésie                                                   31912.0   \n",
       "Kenya                                                        1313.0   \n",
       "Nigéria                                                       748.0   \n",
       "Pakistan                                                     9256.0   \n",
       "Philippines                                                  7897.0   \n",
       "République populaire démocratique de Corée                     83.0   \n",
       "République-Unie de Tanzanie                                  1332.0   \n",
       "Éthiopie                                                      941.0   \n",
       "\n",
       "                                            Production  Variation de stock  \n",
       "Zone                                                                        \n",
       "Bangladesh                                     68294.0             -5219.0  \n",
       "Inde                                         1126270.0             -3573.0  \n",
       "Indonésie                                     238559.0             -3182.0  \n",
       "Kenya                                          28950.0               398.0  \n",
       "Nigéria                                       179631.0              -999.0  \n",
       "Pakistan                                      172886.0              -557.0  \n",
       "Philippines                                   107049.0               966.0  \n",
       "République populaire démocratique de Corée     13883.0                84.0  \n",
       "République-Unie de Tanzanie                    40849.0             -3221.0  \n",
       "Éthiopie                                       46102.0             -2857.0  "
      ]
     },
     "execution_count": 90,
     "metadata": {},
     "output_type": "execute_result"
    }
   ],
   "source": [
    "Dint = da.groupby(\"Zone\").sum()\n",
    "DintS = Dint[[\"Disponibilité intérieure\", \"Importations - Quantité\",\"Exportations - Quantité\", \"Production\", \"Variation de stock\" ]]\n",
    "print(\"Composition de la Disponibilité intérieure : \")\n",
    "DintS\n",
    "\n",
    "\n"
   ]
  },
  {
   "cell_type": "markdown",
   "id": "c2fbefd9",
   "metadata": {},
   "source": [
    "#### Utilisation de la disponibilité intérieure : "
   ]
  },
  {
   "cell_type": "code",
   "execution_count": 91,
   "id": "ba4da93c",
   "metadata": {
    "jupyter": {
     "source_hidden": true
    }
   },
   "outputs": [
    {
     "name": "stdout",
     "output_type": "stream",
     "text": [
      "Utilisation de la Disponibilité intérieure : \n"
     ]
    },
    {
     "data": {
      "text/html": [
       "<div>\n",
       "<style scoped>\n",
       "    .dataframe tbody tr th:only-of-type {\n",
       "        vertical-align: middle;\n",
       "    }\n",
       "\n",
       "    .dataframe tbody tr th {\n",
       "        vertical-align: top;\n",
       "    }\n",
       "\n",
       "    .dataframe thead th {\n",
       "        text-align: right;\n",
       "    }\n",
       "</style>\n",
       "<table border=\"1\" class=\"dataframe\">\n",
       "  <thead>\n",
       "    <tr style=\"text-align: right;\">\n",
       "      <th></th>\n",
       "      <th>Disponibilité intérieure</th>\n",
       "      <th>Pertes</th>\n",
       "      <th>Semences</th>\n",
       "      <th>Nourriture</th>\n",
       "      <th>Aliments pour animaux</th>\n",
       "      <th>Traitement</th>\n",
       "      <th>Autres Utilisations</th>\n",
       "    </tr>\n",
       "    <tr>\n",
       "      <th>Zone</th>\n",
       "      <th></th>\n",
       "      <th></th>\n",
       "      <th></th>\n",
       "      <th></th>\n",
       "      <th></th>\n",
       "      <th></th>\n",
       "      <th></th>\n",
       "    </tr>\n",
       "  </thead>\n",
       "  <tbody>\n",
       "    <tr>\n",
       "      <th>Bangladesh</th>\n",
       "      <td>72757.0</td>\n",
       "      <td>4080.0</td>\n",
       "      <td>1332.0</td>\n",
       "      <td>57092.0</td>\n",
       "      <td>3335.0</td>\n",
       "      <td>4907.0</td>\n",
       "      <td>2015.0</td>\n",
       "    </tr>\n",
       "    <tr>\n",
       "      <th>Inde</th>\n",
       "      <td>1100838.0</td>\n",
       "      <td>55930.0</td>\n",
       "      <td>29432.0</td>\n",
       "      <td>619168.0</td>\n",
       "      <td>49129.0</td>\n",
       "      <td>332123.0</td>\n",
       "      <td>15162.0</td>\n",
       "    </tr>\n",
       "    <tr>\n",
       "      <th>Indonésie</th>\n",
       "      <td>226930.0</td>\n",
       "      <td>13081.0</td>\n",
       "      <td>1112.0</td>\n",
       "      <td>118914.0</td>\n",
       "      <td>9531.0</td>\n",
       "      <td>50365.0</td>\n",
       "      <td>34229.0</td>\n",
       "    </tr>\n",
       "    <tr>\n",
       "      <th>Kenya</th>\n",
       "      <td>31095.0</td>\n",
       "      <td>1444.0</td>\n",
       "      <td>232.0</td>\n",
       "      <td>23698.0</td>\n",
       "      <td>598.0</td>\n",
       "      <td>4819.0</td>\n",
       "      <td>432.0</td>\n",
       "    </tr>\n",
       "    <tr>\n",
       "      <th>Nigéria</th>\n",
       "      <td>192388.0</td>\n",
       "      <td>19854.0</td>\n",
       "      <td>994.0</td>\n",
       "      <td>114439.0</td>\n",
       "      <td>36023.0</td>\n",
       "      <td>4362.0</td>\n",
       "      <td>16718.0</td>\n",
       "    </tr>\n",
       "    <tr>\n",
       "      <th>Pakistan</th>\n",
       "      <td>168631.0</td>\n",
       "      <td>5897.0</td>\n",
       "      <td>8443.0</td>\n",
       "      <td>90495.0</td>\n",
       "      <td>4755.0</td>\n",
       "      <td>56028.0</td>\n",
       "      <td>3087.0</td>\n",
       "    </tr>\n",
       "    <tr>\n",
       "      <th>Philippines</th>\n",
       "      <td>108885.0</td>\n",
       "      <td>2901.0</td>\n",
       "      <td>1493.0</td>\n",
       "      <td>50213.0</td>\n",
       "      <td>6379.0</td>\n",
       "      <td>38549.0</td>\n",
       "      <td>9387.0</td>\n",
       "    </tr>\n",
       "    <tr>\n",
       "      <th>République populaire démocratique de Corée</th>\n",
       "      <td>14876.0</td>\n",
       "      <td>1066.0</td>\n",
       "      <td>194.0</td>\n",
       "      <td>11425.0</td>\n",
       "      <td>816.0</td>\n",
       "      <td>678.0</td>\n",
       "      <td>695.0</td>\n",
       "    </tr>\n",
       "    <tr>\n",
       "      <th>République-Unie de Tanzanie</th>\n",
       "      <td>38160.0</td>\n",
       "      <td>3236.0</td>\n",
       "      <td>573.0</td>\n",
       "      <td>27484.0</td>\n",
       "      <td>2084.0</td>\n",
       "      <td>4394.0</td>\n",
       "      <td>495.0</td>\n",
       "    </tr>\n",
       "    <tr>\n",
       "      <th>Éthiopie</th>\n",
       "      <td>44014.0</td>\n",
       "      <td>2256.0</td>\n",
       "      <td>640.0</td>\n",
       "      <td>33361.0</td>\n",
       "      <td>685.0</td>\n",
       "      <td>3443.0</td>\n",
       "      <td>3641.0</td>\n",
       "    </tr>\n",
       "  </tbody>\n",
       "</table>\n",
       "</div>"
      ],
      "text/plain": [
       "                                            Disponibilité intérieure   Pertes  \\\n",
       "Zone                                                                            \n",
       "Bangladesh                                                   72757.0   4080.0   \n",
       "Inde                                                       1100838.0  55930.0   \n",
       "Indonésie                                                   226930.0  13081.0   \n",
       "Kenya                                                        31095.0   1444.0   \n",
       "Nigéria                                                     192388.0  19854.0   \n",
       "Pakistan                                                    168631.0   5897.0   \n",
       "Philippines                                                 108885.0   2901.0   \n",
       "République populaire démocratique de Corée                   14876.0   1066.0   \n",
       "République-Unie de Tanzanie                                  38160.0   3236.0   \n",
       "Éthiopie                                                     44014.0   2256.0   \n",
       "\n",
       "                                            Semences  Nourriture  \\\n",
       "Zone                                                               \n",
       "Bangladesh                                    1332.0     57092.0   \n",
       "Inde                                         29432.0    619168.0   \n",
       "Indonésie                                     1112.0    118914.0   \n",
       "Kenya                                          232.0     23698.0   \n",
       "Nigéria                                        994.0    114439.0   \n",
       "Pakistan                                      8443.0     90495.0   \n",
       "Philippines                                   1493.0     50213.0   \n",
       "République populaire démocratique de Corée     194.0     11425.0   \n",
       "République-Unie de Tanzanie                    573.0     27484.0   \n",
       "Éthiopie                                       640.0     33361.0   \n",
       "\n",
       "                                            Aliments pour animaux  Traitement  \\\n",
       "Zone                                                                            \n",
       "Bangladesh                                                 3335.0      4907.0   \n",
       "Inde                                                      49129.0    332123.0   \n",
       "Indonésie                                                  9531.0     50365.0   \n",
       "Kenya                                                       598.0      4819.0   \n",
       "Nigéria                                                   36023.0      4362.0   \n",
       "Pakistan                                                   4755.0     56028.0   \n",
       "Philippines                                                6379.0     38549.0   \n",
       "République populaire démocratique de Corée                  816.0       678.0   \n",
       "République-Unie de Tanzanie                                2084.0      4394.0   \n",
       "Éthiopie                                                    685.0      3443.0   \n",
       "\n",
       "                                            Autres Utilisations  \n",
       "Zone                                                             \n",
       "Bangladesh                                               2015.0  \n",
       "Inde                                                    15162.0  \n",
       "Indonésie                                               34229.0  \n",
       "Kenya                                                     432.0  \n",
       "Nigéria                                                 16718.0  \n",
       "Pakistan                                                 3087.0  \n",
       "Philippines                                              9387.0  \n",
       "République populaire démocratique de Corée                695.0  \n",
       "République-Unie de Tanzanie                               495.0  \n",
       "Éthiopie                                                 3641.0  "
      ]
     },
     "execution_count": 91,
     "metadata": {},
     "output_type": "execute_result"
    }
   ],
   "source": [
    "DintU = Dint[[\"Disponibilité intérieure\", \"Pertes\", \"Semences\", \"Nourriture\", \"Aliments pour animaux\", \"Traitement\", \"Autres Utilisations\"]]\n",
    "             \n",
    "print(\"Utilisation de la Disponibilité intérieure : \")\n",
    "DintU\n"
   ]
  },
  {
   "cell_type": "markdown",
   "id": "bedf06e7",
   "metadata": {},
   "source": [
    "#### Décomposition import vs export"
   ]
  },
  {
   "cell_type": "code",
   "execution_count": 92,
   "id": "d431694e",
   "metadata": {
    "jupyter": {
     "source_hidden": true
    }
   },
   "outputs": [
    {
     "data": {
      "text/plain": [
       "<AxesSubplot:ylabel='Zone'>"
      ]
     },
     "execution_count": 92,
     "metadata": {},
     "output_type": "execute_result"
    },
    {
     "data": {
      "image/png": "[encoded data removed]",
      "text/plain": [
       "<Figure size 432x288 with 1 Axes>"
      ]
     },
     "metadata": {
      "needs_background": "light"
     },
     "output_type": "display_data"
    }
   ],
   "source": [
    "### ratio import/export\n",
    "DintS[[\"Importations - Quantité\",\"Exportations - Quantité\"]].plot(rot=0, kind=\"barh\")"
   ]
  },
  {
   "cell_type": "markdown",
   "id": "3f40d26d",
   "metadata": {},
   "source": [
    "#### Décomposition Nourriture humaine vs animale"
   ]
  },
  {
   "cell_type": "code",
   "execution_count": 93,
   "id": "a8e8d071",
   "metadata": {
    "jupyter": {
     "source_hidden": true
    }
   },
   "outputs": [
    {
     "data": {
      "text/plain": [
       "<AxesSubplot:ylabel='Zone'>"
      ]
     },
     "execution_count": 93,
     "metadata": {},
     "output_type": "execute_result"
    },
    {
     "data": {
      "image/png": "[encoded data removed]",
      "text/plain": [
       "<Figure size 432x288 with 1 Axes>"
      ]
     },
     "metadata": {
      "needs_background": "light"
     },
     "output_type": "display_data"
    }
   ],
   "source": [
    "### Part homme/animal\n",
    "DintU[[\"Aliments pour animaux\", \"Nourriture\"]].plot(rot=0, kind=\"barh\")\n",
    "\n"
   ]
  },
  {
   "cell_type": "markdown",
   "id": "dc505726",
   "metadata": {},
   "source": [
    "### Répartition géographique et évolution sur 4 ans (de 2013 à 2016)\n"
   ]
  },
  {
   "cell_type": "markdown",
   "id": "6384ea0d",
   "metadata": {},
   "source": [
    "#### sous nutrition par continent"
   ]
  },
  {
   "cell_type": "code",
   "execution_count": 117,
   "id": "fd5a3418",
   "metadata": {
    "jupyter": {
     "source_hidden": true
    }
   },
   "outputs": [
    {
     "data": {
      "application/vnd.plotly.v1+json": {
       "config": {
        "plotlyServerURL": "https://plot.ly"
       },
       "data": [
        {
         "alignmentgroup": "True",
         "bingroup": "x",
         "histfunc": "sum",
         "hovertemplate": "Région=Proche Orient<br>Année=%{x}<br>sum of Valeur=%{y}<extra></extra>",
         "legendgroup": "Proche Orient",
         "marker": {
          "color": "#636efa",
          "pattern": {
           "shape": ""
          }
         },
         "name": "Proche Orient",
         "offsetgroup": "Proche Orient",
         "orientation": "v",
         "showlegend": true,
         "type": "histogram",
         "x": [
          "2012-2014",
          "2013-2015",
          "2014-2016",
          "2015-2017",
          "2012-2014",
          "2013-2015",
          "2014-2016",
          "2015-2017",
          "2012-2014",
          "2013-2015",
          "2014-2016",
          "2015-2017",
          "2012-2014",
          "2013-2015",
          "2014-2016",
          "2015-2017",
          "2012-2014",
          "2013-2015",
          "2014-2016",
          "2015-2017",
          "2012-2014",
          "2013-2015",
          "2014-2016",
          "2015-2017",
          "2012-2014",
          "2013-2015",
          "2014-2016",
          "2015-2017",
          "2012-2014",
          "2013-2015",
          "2014-2016",
          "2015-2017",
          "2012-2014",
          "2013-2015",
          "2014-2016",
          "2015-2017",
          "2012-2014",
          "2013-2015",
          "2014-2016",
          "2015-2017",
          "2012-2014",
          "2013-2015",
          "2014-2016",
          "2015-2017",
          "2012-2014",
          "2013-2015",
          "2014-2016",
          "2015-2017",
          "2012-2014",
          "2013-2015",
          "2014-2016",
          "2015-2017",
          "2012-2014",
          "2013-2015",
          "2014-2016",
          "2015-2017",
          "2012-2014",
          "2013-2015",
          "2014-2016",
          "2015-2017",
          "2012-2014",
          "2013-2015",
          "2014-2016",
          "2015-2017",
          "2012-2014",
          "2013-2015",
          "2014-2016",
          "2015-2017"
         ],
         "xaxis": "x",
         "y": [
          8.6,
          8.8,
          8.9,
          9.7,
          1.5,
          1.5,
          1.5,
          1.5,
          0,
          0,
          0,
          0,
          0.3,
          0.3,
          0.3,
          0.3,
          3.6,
          3.7,
          3.9,
          3.9,
          7.3,
          7.8,
          8.4,
          8.8,
          0.8,
          0.8,
          0.8,
          0.8,
          0.4,
          0.4,
          0.4,
          0.4,
          0,
          0,
          0,
          0,
          0.7,
          0.6,
          0.4,
          0.4,
          0.3,
          0.3,
          0.3,
          0.4,
          0,
          0,
          0,
          0,
          0,
          0,
          0,
          0,
          0,
          0,
          0,
          0,
          0,
          0,
          0,
          0,
          0.3,
          0.2,
          0.2,
          0.2,
          0,
          0,
          0,
          0
         ],
         "yaxis": "y"
        },
        {
         "alignmentgroup": "True",
         "bingroup": "x",
         "histfunc": "sum",
         "hovertemplate": "Région=Afrique<br>Année=%{x}<br>sum of Valeur=%{y}<extra></extra>",
         "legendgroup": "Afrique",
         "marker": {
          "color": "#EF553B",
          "pattern": {
           "shape": ""
          }
         },
         "name": "Afrique",
         "offsetgroup": "Afrique",
         "orientation": "v",
         "showlegend": true,
         "type": "histogram",
         "x": [
          "2012-2014",
          "2013-2015",
          "2014-2016",
          "2015-2017",
          "2012-2014",
          "2013-2015",
          "2014-2016",
          "2015-2017",
          "2012-2014",
          "2013-2015",
          "2014-2016",
          "2015-2017",
          "2012-2014",
          "2013-2015",
          "2014-2016",
          "2015-2017",
          "2012-2014",
          "2013-2015",
          "2014-2016",
          "2015-2017",
          "2012-2014",
          "2013-2015",
          "2014-2016",
          "2015-2017",
          "2012-2014",
          "2013-2015",
          "2014-2016",
          "2015-2017",
          "2012-2014",
          "2013-2015",
          "2014-2016",
          "2015-2017",
          "2012-2014",
          "2013-2015",
          "2014-2016",
          "2015-2017",
          "2012-2014",
          "2013-2015",
          "2014-2016",
          "2015-2017",
          "2012-2014",
          "2013-2015",
          "2014-2016",
          "2015-2017",
          "2012-2014",
          "2013-2015",
          "2014-2016",
          "2015-2017",
          "2012-2014",
          "2013-2015",
          "2014-2016",
          "2015-2017",
          "2012-2014",
          "2013-2015",
          "2014-2016",
          "2015-2017",
          "2012-2014",
          "2013-2015",
          "2014-2016",
          "2015-2017",
          "2012-2014",
          "2013-2015",
          "2014-2016",
          "2015-2017",
          "2012-2014",
          "2013-2015",
          "2014-2016",
          "2015-2017",
          "2012-2014",
          "2013-2015",
          "2014-2016",
          "2015-2017",
          "2012-2014",
          "2013-2015",
          "2014-2016",
          "2015-2017",
          "2012-2014",
          "2013-2015",
          "2014-2016",
          "2015-2017",
          "2012-2014",
          "2013-2015",
          "2014-2016",
          "2015-2017",
          "2012-2014",
          "2013-2015",
          "2014-2016",
          "2015-2017",
          "2012-2014",
          "2013-2015",
          "2014-2016",
          "2015-2017",
          "2012-2014",
          "2013-2015",
          "2014-2016",
          "2015-2017",
          "2012-2014",
          "2013-2015",
          "2014-2016",
          "2015-2017",
          "2012-2014",
          "2013-2015",
          "2014-2016",
          "2015-2017",
          "2012-2014",
          "2013-2015",
          "2014-2016",
          "2015-2017",
          "2012-2014",
          "2013-2015",
          "2014-2016",
          "2015-2017",
          "2012-2014",
          "2013-2015",
          "2014-2016",
          "2015-2017",
          "2012-2014",
          "2013-2015",
          "2014-2016",
          "2015-2017",
          "2012-2014",
          "2013-2015",
          "2014-2016",
          "2015-2017",
          "2012-2014",
          "2013-2015",
          "2014-2016",
          "2015-2017",
          "2012-2014",
          "2013-2015",
          "2014-2016",
          "2015-2017",
          "2012-2014",
          "2013-2015",
          "2014-2016",
          "2015-2017",
          "2012-2014",
          "2013-2015",
          "2014-2016",
          "2015-2017",
          "2012-2014",
          "2013-2015",
          "2014-2016",
          "2015-2017",
          "2012-2014",
          "2013-2015",
          "2014-2016",
          "2015-2017",
          "2012-2014",
          "2013-2015",
          "2014-2016",
          "2015-2017",
          "2012-2014",
          "2013-2015",
          "2014-2016",
          "2015-2017",
          "2012-2014",
          "2013-2015",
          "2014-2016",
          "2015-2017",
          "2012-2014",
          "2013-2015",
          "2014-2016",
          "2015-2017",
          "2012-2014",
          "2013-2015",
          "2014-2016",
          "2015-2017",
          "2012-2014",
          "2013-2015",
          "2014-2016",
          "2015-2017",
          "2012-2014",
          "2013-2015",
          "2014-2016",
          "2015-2017",
          "2012-2014",
          "2013-2015",
          "2014-2016",
          "2015-2017",
          "2012-2014",
          "2013-2015",
          "2014-2016",
          "2015-2017",
          "2012-2014",
          "2013-2015",
          "2014-2016",
          "2015-2017",
          "2012-2014",
          "2013-2015",
          "2014-2016",
          "2015-2017",
          "2012-2014",
          "2013-2015",
          "2014-2016",
          "2015-2017",
          "2012-2014",
          "2013-2015",
          "2014-2016",
          "2015-2017",
          "2012-2014",
          "2013-2015",
          "2014-2016",
          "2015-2017",
          "2012-2014",
          "2013-2015",
          "2014-2016",
          "2015-2017",
          "2012-2014",
          "2013-2015",
          "2014-2016",
          "2015-2017",
          "2012-2014",
          "2013-2015",
          "2014-2016",
          "2015-2017"
         ],
         "xaxis": "x2",
         "y": [
          2.2,
          2.5,
          2.8,
          3,
          1.3,
          1.3,
          1.3,
          1.3,
          7.6,
          6.2,
          5.3,
          5.6,
          0.8,
          0.8,
          0.8,
          0.8,
          0.4,
          0.4,
          0.4,
          0.4,
          3.1,
          3.1,
          3.2,
          3.4,
          0,
          0,
          0,
          0,
          0,
          0,
          0,
          0,
          1.5,
          1.5,
          1.6,
          1.6,
          0,
          0,
          0,
          0,
          1.4,
          1.2,
          1.2,
          1.3,
          4.8,
          4.6,
          4.6,
          4.6,
          0,
          0,
          0,
          0,
          4.4,
          4.3,
          4.2,
          4.5,
          0,
          0,
          0,
          0,
          0.1,
          0.2,
          0.2,
          0.2,
          26.2,
          24.3,
          21.7,
          21.3,
          0.3,
          0.3,
          0.3,
          0.3,
          0.2,
          0.2,
          0.2,
          0.3,
          1.9,
          2.1,
          2.1,
          2.1,
          0,
          0,
          0,
          0,
          0,
          0,
          0,
          0,
          0,
          0,
          0,
          0,
          10.1,
          10,
          10.7,
          11.5,
          0.3,
          0.5,
          0.8,
          0.8,
          1.5,
          1.6,
          1.7,
          1.8,
          0,
          0,
          0,
          0,
          7.6,
          8.7,
          9.7,
          10.3,
          2.7,
          2.7,
          2.9,
          2.9,
          1.1,
          1,
          0.9,
          0.9,
          1.5,
          1.4,
          1.3,
          1.3,
          0,
          0,
          0,
          0,
          0.3,
          0.3,
          0.4,
          0.5,
          5.9,
          7,
          8.4,
          9.2,
          0.5,
          0.4,
          0.3,
          0.3,
          0,
          0,
          0,
          0,
          14.7,
          17.4,
          20.2,
          22.2,
          0,
          0,
          0,
          0,
          0,
          0,
          0,
          0,
          0,
          0,
          0,
          0,
          13.5,
          13.2,
          12.8,
          13,
          2.8,
          3.3,
          3.9,
          4.1,
          0,
          0,
          0,
          0,
          1.4,
          1.6,
          1.7,
          1.5,
          0,
          0,
          0,
          0,
          0,
          0,
          0,
          0,
          5.9,
          5.1,
          4.4,
          4.8,
          0,
          0,
          0,
          0,
          4.9,
          5,
          5,
          5.3,
          1.5,
          1.5,
          1.6,
          1.6,
          0,
          0,
          0,
          0,
          0.3,
          0.3,
          0,
          0,
          0,
          0,
          0,
          0,
          0,
          0,
          0,
          0
         ],
         "yaxis": "y2"
        },
        {
         "alignmentgroup": "True",
         "bingroup": "x",
         "histfunc": "sum",
         "hovertemplate": "Région=Europe<br>Année=%{x}<br>sum of Valeur=%{y}<extra></extra>",
         "legendgroup": "Europe",
         "marker": {
          "color": "#00cc96",
          "pattern": {
           "shape": ""
          }
         },
         "name": "Europe",
         "offsetgroup": "Europe",
         "orientation": "v",
         "showlegend": true,
         "type": "histogram",
         "x": [
          "2012-2014",
          "2013-2015",
          "2014-2016",
          "2015-2017",
          "2012-2014",
          "2013-2015",
          "2014-2016",
          "2015-2017",
          "2012-2014",
          "2013-2015",
          "2014-2016",
          "2015-2017",
          "2012-2014",
          "2013-2015",
          "2014-2016",
          "2015-2017",
          "2012-2014",
          "2013-2015",
          "2014-2016",
          "2015-2017",
          "2012-2014",
          "2013-2015",
          "2014-2016",
          "2015-2017",
          "2012-2014",
          "2013-2015",
          "2014-2016",
          "2015-2017",
          "2012-2014",
          "2013-2015",
          "2014-2016",
          "2015-2017",
          "2012-2014",
          "2013-2015",
          "2014-2016",
          "2015-2017",
          "2012-2014",
          "2013-2015",
          "2014-2016",
          "2015-2017",
          "2012-2014",
          "2013-2015",
          "2014-2016",
          "2015-2017",
          "2012-2014",
          "2013-2015",
          "2014-2016",
          "2015-2017",
          "2012-2014",
          "2013-2015",
          "2014-2016",
          "2015-2017",
          "2012-2014",
          "2013-2015",
          "2014-2016",
          "2015-2017",
          "2012-2014",
          "2013-2015",
          "2014-2016",
          "2015-2017",
          "2012-2014",
          "2013-2015",
          "2014-2016",
          "2015-2017",
          "2012-2014",
          "2013-2015",
          "2014-2016",
          "2015-2017",
          "2012-2014",
          "2013-2015",
          "2014-2016",
          "2015-2017",
          "2012-2014",
          "2013-2015",
          "2014-2016",
          "2015-2017",
          "2012-2014",
          "2013-2015",
          "2014-2016",
          "2015-2017",
          "2012-2014",
          "2013-2015",
          "2014-2016",
          "2015-2017",
          "2012-2014",
          "2013-2015",
          "2014-2016",
          "2015-2017",
          "2012-2014",
          "2013-2015",
          "2014-2016",
          "2015-2017",
          "2012-2014",
          "2013-2015",
          "2014-2016",
          "2015-2017",
          "2012-2014",
          "2013-2015",
          "2014-2016",
          "2015-2017",
          "2012-2014",
          "2013-2015",
          "2014-2016",
          "2015-2017",
          "2012-2014",
          "2013-2015",
          "2014-2016",
          "2015-2017",
          "2012-2014",
          "2013-2015",
          "2014-2016",
          "2015-2017",
          "2012-2014",
          "2013-2015",
          "2014-2016",
          "2015-2017",
          "2012-2014",
          "2013-2015",
          "2014-2016",
          "2015-2017",
          "2012-2014",
          "2013-2015",
          "2014-2016",
          "2015-2017",
          "2012-2014",
          "2013-2015",
          "2014-2016",
          "2015-2017",
          "2012-2014",
          "2013-2015",
          "2014-2016",
          "2015-2017",
          "2012-2014",
          "2013-2015",
          "2014-2016",
          "2015-2017",
          "2012-2014",
          "2013-2015",
          "2014-2016",
          "2015-2017",
          "2012-2014",
          "2013-2015",
          "2014-2016",
          "2015-2017",
          "2012-2014",
          "2013-2015",
          "2014-2016",
          "2015-2017",
          "2012-2014",
          "2013-2015",
          "2014-2016",
          "2015-2017",
          "2012-2014",
          "2013-2015",
          "2014-2016",
          "2015-2017",
          "2012-2014",
          "2013-2015",
          "2014-2016",
          "2015-2017",
          "2012-2014",
          "2013-2015",
          "2014-2016",
          "2015-2017",
          "2012-2014",
          "2013-2015",
          "2014-2016",
          "2015-2017",
          "2012-2014",
          "2013-2015",
          "2014-2016",
          "2015-2017",
          "2012-2014",
          "2013-2015",
          "2014-2016",
          "2015-2017",
          "2012-2014",
          "2013-2015",
          "2014-2016",
          "2015-2017",
          "2012-2014",
          "2013-2015",
          "2014-2016",
          "2015-2017"
         ],
         "xaxis": "x3",
         "y": [
          0.1,
          0.1,
          0.1,
          0.1,
          0,
          0,
          0,
          0,
          0,
          0,
          0,
          0,
          0,
          0,
          0,
          0,
          0,
          0,
          0,
          0,
          0,
          0,
          0,
          0,
          0,
          0,
          0,
          0,
          0,
          0,
          0,
          0,
          0,
          0,
          0,
          0,
          0.3,
          0.3,
          0.2,
          0.2,
          0,
          0,
          0,
          0,
          0,
          0,
          0,
          0,
          0,
          0,
          0,
          0,
          0,
          0,
          0,
          0,
          0,
          0,
          0,
          0,
          0,
          0,
          0,
          0,
          0,
          0,
          0,
          0,
          0,
          0,
          0,
          0,
          0.2,
          0.2,
          0.2,
          0.2,
          0,
          0,
          0,
          0,
          0,
          0,
          0,
          0,
          0,
          0,
          0,
          0,
          0,
          0,
          0,
          0,
          0,
          0,
          0,
          0,
          0,
          0,
          0,
          0,
          0,
          0,
          0,
          0,
          0,
          0,
          0,
          0,
          0,
          0,
          0,
          0,
          0,
          0,
          0,
          0,
          0,
          0,
          0,
          0,
          0,
          0,
          0,
          0,
          0,
          0,
          0,
          0,
          0,
          0,
          0,
          0,
          0,
          0,
          0,
          0,
          0,
          0,
          0,
          0,
          0,
          0,
          0,
          0,
          0,
          0,
          0,
          0,
          0,
          0,
          0,
          0,
          0.3,
          0.3,
          0.4,
          0.4,
          0.2,
          0.3,
          0.3,
          0.4,
          0,
          0,
          0,
          0,
          0,
          0,
          0,
          0,
          0,
          0,
          0,
          0,
          0,
          0,
          0,
          0,
          0,
          0,
          0,
          0,
          0,
          0,
          1.3,
          0
         ],
         "yaxis": "y3"
        },
        {
         "alignmentgroup": "True",
         "bingroup": "x",
         "histfunc": "sum",
         "hovertemplate": "Région=Ameriques<br>Année=%{x}<br>sum of Valeur=%{y}<extra></extra>",
         "legendgroup": "Ameriques",
         "marker": {
          "color": "#ab63fa",
          "pattern": {
           "shape": ""
          }
         },
         "name": "Ameriques",
         "offsetgroup": "Ameriques",
         "orientation": "v",
         "showlegend": true,
         "type": "histogram",
         "x": [
          "2012-2014",
          "2013-2015",
          "2014-2016",
          "2015-2017",
          "2012-2014",
          "2013-2015",
          "2014-2016",
          "2015-2017",
          "2012-2014",
          "2013-2015",
          "2014-2016",
          "2015-2017",
          "2012-2014",
          "2013-2015",
          "2014-2016",
          "2015-2017",
          "2012-2014",
          "2013-2015",
          "2014-2016",
          "2015-2017",
          "2012-2014",
          "2013-2015",
          "2014-2016",
          "2015-2017",
          "2012-2014",
          "2013-2015",
          "2014-2016",
          "2015-2017",
          "2012-2014",
          "2013-2015",
          "2014-2016",
          "2015-2017",
          "2012-2014",
          "2013-2015",
          "2014-2016",
          "2015-2017",
          "2012-2014",
          "2013-2015",
          "2014-2016",
          "2015-2017",
          "2012-2014",
          "2013-2015",
          "2014-2016",
          "2015-2017",
          "2012-2014",
          "2013-2015",
          "2014-2016",
          "2015-2017",
          "2012-2014",
          "2013-2015",
          "2014-2016",
          "2015-2017",
          "2012-2014",
          "2013-2015",
          "2014-2016",
          "2015-2017",
          "2012-2014",
          "2013-2015",
          "2014-2016",
          "2015-2017",
          "2012-2014",
          "2013-2015",
          "2014-2016",
          "2015-2017",
          "2012-2014",
          "2013-2015",
          "2014-2016",
          "2015-2017",
          "2012-2014",
          "2013-2015",
          "2014-2016",
          "2015-2017",
          "2012-2014",
          "2013-2015",
          "2014-2016",
          "2015-2017",
          "2012-2014",
          "2013-2015",
          "2014-2016",
          "2015-2017",
          "2012-2014",
          "2013-2015",
          "2014-2016",
          "2015-2017",
          "2012-2014",
          "2013-2015",
          "2014-2016",
          "2015-2017",
          "2012-2014",
          "2013-2015",
          "2014-2016",
          "2015-2017",
          "2012-2014",
          "2013-2015",
          "2014-2016",
          "2015-2017",
          "2012-2014",
          "2013-2015",
          "2014-2016",
          "2015-2017",
          "2012-2014",
          "2013-2015",
          "2014-2016",
          "2015-2017",
          "2012-2014",
          "2013-2015",
          "2014-2016",
          "2015-2017",
          "2012-2014",
          "2013-2015",
          "2014-2016",
          "2015-2017",
          "2012-2014",
          "2013-2015",
          "2014-2016",
          "2015-2017",
          "2012-2014",
          "2013-2015",
          "2014-2016",
          "2015-2017",
          "2012-2014",
          "2013-2015",
          "2014-2016",
          "2015-2017",
          "2012-2014",
          "2013-2015",
          "2014-2016",
          "2015-2017",
          "2012-2014",
          "2013-2015",
          "2014-2016",
          "2015-2017",
          "2012-2014",
          "2013-2015",
          "2014-2016",
          "2015-2017",
          "2012-2014",
          "2013-2015",
          "2014-2016",
          "2015-2017",
          "2012-2014",
          "2013-2015",
          "2014-2016",
          "2015-2017",
          "2012-2014",
          "2013-2015",
          "2014-2016",
          "2015-2017",
          "2012-2014",
          "2013-2015",
          "2014-2016",
          "2015-2017"
         ],
         "xaxis": "x4",
         "y": [
          0,
          0,
          0,
          0,
          1.2,
          0,
          1.1,
          1.3,
          0,
          0,
          0,
          0,
          0,
          0,
          0,
          0,
          0,
          0,
          0,
          0,
          0,
          0,
          0,
          0,
          2,
          1.9,
          1.8,
          1.7,
          0,
          0,
          0,
          0,
          0,
          0,
          0,
          0,
          0.6,
          0.6,
          0.6,
          0.6,
          3.9,
          3.4,
          3.1,
          2.8,
          0.2,
          0.2,
          0.2,
          0.2,
          0,
          0,
          0,
          0,
          0,
          0,
          0,
          0,
          0.7,
          0.7,
          0.7,
          0.6,
          2.3,
          1.9,
          1.4,
          1.5,
          0,
          0,
          0,
          0,
          0,
          0,
          0,
          0,
          0,
          0,
          0,
          0,
          2.9,
          2.8,
          2.8,
          2.7,
          0,
          0,
          0,
          0,
          5.1,
          5.1,
          5.1,
          5.2,
          1.7,
          1.5,
          1.4,
          1.3,
          0.3,
          0.3,
          0.3,
          0.3,
          4.9,
          5.5,
          6.8,
          7.9,
          1.1,
          1.2,
          1.2,
          1.1,
          0.3,
          0.3,
          0.3,
          0.3,
          0.5,
          0.5,
          0.5,
          0.6,
          1.7,
          1.8,
          2,
          2.1,
          0,
          0,
          0,
          0,
          0.9,
          0.9,
          0.8,
          0.7,
          0,
          0,
          0,
          0,
          0,
          0,
          0,
          0,
          0,
          0,
          0,
          0,
          2.2,
          2.1,
          2,
          2,
          0,
          0,
          0,
          0,
          0,
          0,
          0,
          0,
          1.4,
          2.6,
          4.2,
          6.2
         ],
         "yaxis": "y4"
        },
        {
         "alignmentgroup": "True",
         "bingroup": "x",
         "histfunc": "sum",
         "hovertemplate": "Région=Pacifique<br>Année=%{x}<br>sum of Valeur=%{y}<extra></extra>",
         "legendgroup": "Pacifique",
         "marker": {
          "color": "#FFA15A",
          "pattern": {
           "shape": ""
          }
         },
         "name": "Pacifique",
         "offsetgroup": "Pacifique",
         "orientation": "v",
         "showlegend": true,
         "type": "histogram",
         "x": [
          "2012-2014",
          "2013-2015",
          "2014-2016",
          "2015-2017",
          "2012-2014",
          "2013-2015",
          "2014-2016",
          "2015-2017",
          "2012-2014",
          "2013-2015",
          "2014-2016",
          "2015-2017",
          "2012-2014",
          "2013-2015",
          "2014-2016",
          "2015-2017",
          "2012-2014",
          "2013-2015",
          "2014-2016",
          "2015-2017",
          "2012-2014",
          "2013-2015",
          "2014-2016",
          "2015-2017",
          "2012-2014",
          "2013-2015",
          "2014-2016",
          "2015-2017",
          "2012-2014",
          "2013-2015",
          "2014-2016",
          "2015-2017",
          "2012-2014",
          "2013-2015",
          "2014-2016",
          "2015-2017",
          "2012-2014",
          "2013-2015",
          "2014-2016",
          "2015-2017",
          "2012-2014",
          "2013-2015",
          "2014-2016",
          "2015-2017",
          "2012-2014",
          "2013-2015",
          "2014-2016",
          "2015-2017",
          "2012-2014",
          "2013-2015",
          "2014-2016",
          "2015-2017",
          "2012-2014",
          "2013-2015",
          "2014-2016",
          "2015-2017",
          "2012-2014",
          "2013-2015",
          "2014-2016",
          "2015-2017",
          "2012-2014",
          "2013-2015",
          "2014-2016",
          "2015-2017",
          "2012-2014",
          "2013-2015",
          "2014-2016",
          "2015-2017",
          "2012-2014",
          "2013-2015",
          "2014-2016",
          "2015-2017",
          "2012-2014",
          "2013-2015",
          "2014-2016",
          "2015-2017"
         ],
         "xaxis": "x5",
         "y": [
          0,
          0,
          0,
          0,
          0,
          0,
          0,
          0,
          0,
          0,
          0,
          0,
          0,
          0,
          0,
          0,
          0,
          0,
          0,
          0,
          0,
          0,
          0,
          0,
          0,
          0,
          0,
          0,
          0,
          0,
          0,
          0,
          0,
          0,
          0,
          0,
          0,
          0,
          0,
          0,
          0,
          0,
          0,
          0,
          0,
          0,
          0,
          0,
          0,
          0,
          0,
          0,
          0,
          0,
          0,
          0,
          0,
          0,
          0,
          0,
          0,
          0,
          0,
          0,
          0,
          0,
          0,
          0,
          0,
          0,
          0,
          0,
          0,
          0,
          0,
          0
         ],
         "yaxis": "y5"
        },
        {
         "alignmentgroup": "True",
         "bingroup": "x",
         "histfunc": "sum",
         "hovertemplate": "Région=Asie<br>Année=%{x}<br>sum of Valeur=%{y}<extra></extra>",
         "legendgroup": "Asie",
         "marker": {
          "color": "#19d3f3",
          "pattern": {
           "shape": ""
          }
         },
         "name": "Asie",
         "offsetgroup": "Asie",
         "orientation": "v",
         "showlegend": true,
         "type": "histogram",
         "x": [
          "2012-2014",
          "2013-2015",
          "2014-2016",
          "2015-2017",
          "2012-2014",
          "2013-2015",
          "2014-2016",
          "2015-2017",
          "2012-2014",
          "2013-2015",
          "2014-2016",
          "2015-2017",
          "2012-2014",
          "2013-2015",
          "2014-2016",
          "2015-2017",
          "2012-2014",
          "2013-2015",
          "2014-2016",
          "2015-2017",
          "2012-2014",
          "2013-2015",
          "2014-2016",
          "2015-2017",
          "2012-2014",
          "2013-2015",
          "2014-2016",
          "2015-2017",
          "2012-2014",
          "2013-2015",
          "2014-2016",
          "2015-2017",
          "2012-2014",
          "2013-2015",
          "2014-2016",
          "2015-2017",
          "2012-2014",
          "2013-2015",
          "2014-2016",
          "2015-2017",
          "2012-2014",
          "2013-2015",
          "2014-2016",
          "2015-2017",
          "2012-2014",
          "2013-2015",
          "2014-2016",
          "2015-2017",
          "2012-2014",
          "2013-2015",
          "2014-2016",
          "2015-2017",
          "2012-2014",
          "2013-2015",
          "2014-2016",
          "2015-2017",
          "2012-2014",
          "2013-2015",
          "2014-2016",
          "2015-2017",
          "2012-2014",
          "2013-2015",
          "2014-2016",
          "2015-2017",
          "2012-2014",
          "2013-2015",
          "2014-2016",
          "2015-2017",
          "2012-2014",
          "2013-2015",
          "2014-2016",
          "2015-2017",
          "2012-2014",
          "2013-2015",
          "2014-2016",
          "2015-2017",
          "2012-2014",
          "2013-2015",
          "2014-2016",
          "2015-2017",
          "2012-2014",
          "2013-2015",
          "2014-2016",
          "2015-2017",
          "2012-2014",
          "2013-2015",
          "2014-2016",
          "2015-2017",
          "2012-2014",
          "2013-2015",
          "2014-2016",
          "2015-2017",
          "2012-2014",
          "2013-2015",
          "2014-2016",
          "2015-2017",
          "2012-2014",
          "2013-2015",
          "2014-2016",
          "2015-2017",
          "2012-2014",
          "2013-2015",
          "2014-2016",
          "2015-2017",
          "2012-2014",
          "2013-2015",
          "2014-2016",
          "2015-2017",
          "2012-2014",
          "2013-2015",
          "2014-2016",
          "2015-2017",
          "2012-2014",
          "2013-2015",
          "2014-2016",
          "2015-2017"
         ],
         "xaxis": "x6",
         "y": [
          21.7,
          22.4,
          23.3,
          22.3,
          0,
          0,
          0,
          0,
          0,
          0,
          0,
          0,
          2.1,
          2.3,
          2.4,
          2.4,
          0,
          0,
          0,
          0,
          0,
          0,
          0,
          0,
          0,
          0,
          0,
          0,
          0.9,
          0.9,
          0.9,
          0.9,
          203.8,
          198.3,
          193.1,
          190.9,
          22.4,
          23.6,
          24,
          24,
          0,
          0,
          0,
          0,
          0.5,
          0,
          0,
          0,
          1,
          1.1,
          1.2,
          1.1,
          0,
          0,
          0,
          0,
          0.5,
          0.6,
          0.6,
          0.6,
          6.7,
          7.1,
          7.3,
          7.2,
          1.8,
          1.7,
          1.7,
          1.6,
          2,
          1.4,
          0.9,
          0.9,
          31.1,
          28.5,
          25.4,
          24.6,
          14.5,
          15.4,
          16.5,
          15.8,
          0,
          0,
          0,
          0,
          0,
          0,
          0,
          0,
          10.3,
          10.8,
          11.2,
          11.6,
          0,
          0,
          0,
          0,
          1.8,
          1.8,
          1.8,
          1.7,
          0,
          0,
          0,
          0,
          6.2,
          6,
          5.9,
          6,
          0.4,
          0.4,
          0.4,
          0.4,
          8.9,
          8.3,
          7.6,
          7.1
         ],
         "yaxis": "y6"
        }
       ],
       "layout": {
        "annotations": [
         {
          "font": {},
          "showarrow": false,
          "text": "Région=Proche Orient",
          "x": 0.075,
          "xanchor": "center",
          "xref": "paper",
          "y": 1,
          "yanchor": "bottom",
          "yref": "paper"
         },
         {
          "font": {},
          "showarrow": false,
          "text": "Région=Afrique",
          "x": 0.24499999999999997,
          "xanchor": "center",
          "xref": "paper",
          "y": 1,
          "yanchor": "bottom",
          "yref": "paper"
         },
         {
          "font": {},
          "showarrow": false,
          "text": "Région=Europe",
          "x": 0.415,
          "xanchor": "center",
          "xref": "paper",
          "y": 1,
          "yanchor": "bottom",
          "yref": "paper"
         },
         {
          "font": {},
          "showarrow": false,
          "text": "Région=Ameriques",
          "x": 0.585,
          "xanchor": "center",
          "xref": "paper",
          "y": 1,
          "yanchor": "bottom",
          "yref": "paper"
         },
         {
          "font": {},
          "showarrow": false,
          "text": "Région=Pacifique",
          "x": 0.7549999999999999,
          "xanchor": "center",
          "xref": "paper",
          "y": 1,
          "yanchor": "bottom",
          "yref": "paper"
         },
         {
          "font": {},
          "showarrow": false,
          "text": "Région=Asie",
          "x": 0.925,
          "xanchor": "center",
          "xref": "paper",
          "y": 1,
          "yanchor": "bottom",
          "yref": "paper"
         }
        ],
        "autosize": true,
        "barmode": "relative",
        "legend": {
         "title": {
          "text": "Région"
         },
         "tracegroupgap": 0
        },
        "template": {
         "data": {
          "bar": [
           {
            "error_x": {
             "color": "#2a3f5f"
            },
            "error_y": {
             "color": "#2a3f5f"
            },
            "marker": {
             "line": {
              "color": "#E5ECF6",
              "width": 0.5
             },
             "pattern": {
              "fillmode": "overlay",
              "size": 10,
              "solidity": 0.2
             }
            },
            "type": "bar"
           }
          ],
          "barpolar": [
           {
            "marker": {
             "line": {
              "color": "#E5ECF6",
              "width": 0.5
             },
             "pattern": {
              "fillmode": "overlay",
              "size": 10,
              "solidity": 0.2
             }
            },
            "type": "barpolar"
           }
          ],
          "carpet": [
           {
            "aaxis": {
             "endlinecolor": "#2a3f5f",
             "gridcolor": "white",
             "linecolor": "white",
             "minorgridcolor": "white",
             "startlinecolor": "#2a3f5f"
            },
            "baxis": {
             "endlinecolor": "#2a3f5f",
             "gridcolor": "white",
             "linecolor": "white",
             "minorgridcolor": "white",
             "startlinecolor": "#2a3f5f"
            },
            "type": "carpet"
           }
          ],
          "choropleth": [
           {
            "colorbar": {
             "outlinewidth": 0,
             "ticks": ""
            },
            "type": "choropleth"
           }
          ],
          "contour": [
           {
            "colorbar": {
             "outlinewidth": 0,
             "ticks": ""
            },
            "colorscale": [
             [
              0,
              "#0d0887"
             ],
             [
              0.1111111111111111,
              "#46039f"
             ],
             [
              0.2222222222222222,
              "#7201a8"
             ],
             [
              0.3333333333333333,
              "#9c179e"
             ],
             [
              0.4444444444444444,
              "#bd3786"
             ],
             [
              0.5555555555555556,
              "#d8576b"
             ],
             [
              0.6666666666666666,
              "#ed7953"
             ],
             [
              0.7777777777777778,
              "#fb9f3a"
             ],
             [
              0.8888888888888888,
              "#fdca26"
             ],
             [
              1,
              "#f0f921"
             ]
            ],
            "type": "contour"
           }
          ],
          "contourcarpet": [
           {
            "colorbar": {
             "outlinewidth": 0,
             "ticks": ""
            },
            "type": "contourcarpet"
           }
          ],
          "heatmap": [
           {
            "colorbar": {
             "outlinewidth": 0,
             "ticks": ""
            },
            "colorscale": [
             [
              0,
              "#0d0887"
             ],
             [
              0.1111111111111111,
              "#46039f"
             ],
             [
              0.2222222222222222,
              "#7201a8"
             ],
             [
              0.3333333333333333,
              "#9c179e"
             ],
             [
              0.4444444444444444,
              "#bd3786"
             ],
             [
              0.5555555555555556,
              "#d8576b"
             ],
             [
              0.6666666666666666,
              "#ed7953"
             ],
             [
              0.7777777777777778,
              "#fb9f3a"
             ],
             [
              0.8888888888888888,
              "#fdca26"
             ],
             [
              1,
              "#f0f921"
             ]
            ],
            "type": "heatmap"
           }
          ],
          "heatmapgl": [
           {
            "colorbar": {
             "outlinewidth": 0,
             "ticks": ""
            },
            "colorscale": [
             [
              0,
              "#0d0887"
             ],
             [
              0.1111111111111111,
              "#46039f"
             ],
             [
              0.2222222222222222,
              "#7201a8"
             ],
             [
              0.3333333333333333,
              "#9c179e"
             ],
             [
              0.4444444444444444,
              "#bd3786"
             ],
             [
              0.5555555555555556,
              "#d8576b"
             ],
             [
              0.6666666666666666,
              "#ed7953"
             ],
             [
              0.7777777777777778,
              "#fb9f3a"
             ],
             [
              0.8888888888888888,
              "#fdca26"
             ],
             [
              1,
              "#f0f921"
             ]
            ],
            "type": "heatmapgl"
           }
          ],
          "histogram": [
           {
            "marker": {
             "pattern": {
              "fillmode": "overlay",
              "size": 10,
              "solidity": 0.2
             }
            },
            "type": "histogram"
           }
          ],
          "histogram2d": [
           {
            "colorbar": {
             "outlinewidth": 0,
             "ticks": ""
            },
            "colorscale": [
             [
              0,
              "#0d0887"
             ],
             [
              0.1111111111111111,
              "#46039f"
             ],
             [
              0.2222222222222222,
              "#7201a8"
             ],
             [
              0.3333333333333333,
              "#9c179e"
             ],
             [
              0.4444444444444444,
              "#bd3786"
             ],
             [
              0.5555555555555556,
              "#d8576b"
             ],
             [
              0.6666666666666666,
              "#ed7953"
             ],
             [
              0.7777777777777778,
              "#fb9f3a"
             ],
             [
              0.8888888888888888,
              "#fdca26"
             ],
             [
              1,
              "#f0f921"
             ]
            ],
            "type": "histogram2d"
           }
          ],
          "histogram2dcontour": [
           {
            "colorbar": {
             "outlinewidth": 0,
             "ticks": ""
            },
            "colorscale": [
             [
              0,
              "#0d0887"
             ],
             [
              0.1111111111111111,
              "#46039f"
             ],
             [
              0.2222222222222222,
              "#7201a8"
             ],
             [
              0.3333333333333333,
              "#9c179e"
             ],
             [
              0.4444444444444444,
              "#bd3786"
             ],
             [
              0.5555555555555556,
              "#d8576b"
             ],
             [
              0.6666666666666666,
              "#ed7953"
             ],
             [
              0.7777777777777778,
              "#fb9f3a"
             ],
             [
              0.8888888888888888,
              "#fdca26"
             ],
             [
              1,
              "#f0f921"
             ]
            ],
            "type": "histogram2dcontour"
           }
          ],
          "mesh3d": [
           {
            "colorbar": {
             "outlinewidth": 0,
             "ticks": ""
            },
            "type": "mesh3d"
           }
          ],
          "parcoords": [
           {
            "line": {
             "colorbar": {
              "outlinewidth": 0,
              "ticks": ""
             }
            },
            "type": "parcoords"
           }
          ],
          "pie": [
           {
            "automargin": true,
            "type": "pie"
           }
          ],
          "scatter": [
           {
            "marker": {
             "colorbar": {
              "outlinewidth": 0,
              "ticks": ""
             }
            },
            "type": "scatter"
           }
          ],
          "scatter3d": [
           {
            "line": {
             "colorbar": {
              "outlinewidth": 0,
              "ticks": ""
             }
            },
            "marker": {
             "colorbar": {
              "outlinewidth": 0,
              "ticks": ""
             }
            },
            "type": "scatter3d"
           }
          ],
          "scattercarpet": [
           {
            "marker": {
             "colorbar": {
              "outlinewidth": 0,
              "ticks": ""
             }
            },
            "type": "scattercarpet"
           }
          ],
          "scattergeo": [
           {
            "marker": {
             "colorbar": {
              "outlinewidth": 0,
              "ticks": ""
             }
            },
            "type": "scattergeo"
           }
          ],
          "scattergl": [
           {
            "marker": {
             "colorbar": {
              "outlinewidth": 0,
              "ticks": ""
             }
            },
            "type": "scattergl"
           }
          ],
          "scattermapbox": [
           {
            "marker": {
             "colorbar": {
              "outlinewidth": 0,
              "ticks": ""
             }
            },
            "type": "scattermapbox"
           }
          ],
          "scatterpolar": [
           {
            "marker": {
             "colorbar": {
              "outlinewidth": 0,
              "ticks": ""
             }
            },
            "type": "scatterpolar"
           }
          ],
          "scatterpolargl": [
           {
            "marker": {
             "colorbar": {
              "outlinewidth": 0,
              "ticks": ""
             }
            },
            "type": "scatterpolargl"
           }
          ],
          "scatterternary": [
           {
            "marker": {
             "colorbar": {
              "outlinewidth": 0,
              "ticks": ""
             }
            },
            "type": "scatterternary"
           }
          ],
          "surface": [
           {
            "colorbar": {
             "outlinewidth": 0,
             "ticks": ""
            },
            "colorscale": [
             [
              0,
              "#0d0887"
             ],
             [
              0.1111111111111111,
              "#46039f"
             ],
             [
              0.2222222222222222,
              "#7201a8"
             ],
             [
              0.3333333333333333,
              "#9c179e"
             ],
             [
              0.4444444444444444,
              "#bd3786"
             ],
             [
              0.5555555555555556,
              "#d8576b"
             ],
             [
              0.6666666666666666,
              "#ed7953"
             ],
             [
              0.7777777777777778,
              "#fb9f3a"
             ],
             [
              0.8888888888888888,
              "#fdca26"
             ],
             [
              1,
              "#f0f921"
             ]
            ],
            "type": "surface"
           }
          ],
          "table": [
           {
            "cells": {
             "fill": {
              "color": "#EBF0F8"
             },
             "line": {
              "color": "white"
             }
            },
            "header": {
             "fill": {
              "color": "#C8D4E3"
             },
             "line": {
              "color": "white"
             }
            },
            "type": "table"
           }
          ]
         },
         "layout": {
          "annotationdefaults": {
           "arrowcolor": "#2a3f5f",
           "arrowhead": 0,
           "arrowwidth": 1
          },
          "autotypenumbers": "strict",
          "coloraxis": {
           "colorbar": {
            "outlinewidth": 0,
            "ticks": ""
           }
          },
          "colorscale": {
           "diverging": [
            [
             0,
             "#8e0152"
            ],
            [
             0.1,
             "#c51b7d"
            ],
            [
             0.2,
             "#de77ae"
            ],
            [
             0.3,
             "#f1b6da"
            ],
            [
             0.4,
             "#fde0ef"
            ],
            [
             0.5,
             "#f7f7f7"
            ],
            [
             0.6,
             "#e6f5d0"
            ],
            [
             0.7,
             "#b8e186"
            ],
            [
             0.8,
             "#7fbc41"
            ],
            [
             0.9,
             "#4d9221"
            ],
            [
             1,
             "#276419"
            ]
           ],
           "sequential": [
            [
             0,
             "#0d0887"
            ],
            [
             0.1111111111111111,
             "#46039f"
            ],
            [
             0.2222222222222222,
             "#7201a8"
            ],
            [
             0.3333333333333333,
             "#9c179e"
            ],
            [
             0.4444444444444444,
             "#bd3786"
            ],
            [
             0.5555555555555556,
             "#d8576b"
            ],
            [
             0.6666666666666666,
             "#ed7953"
            ],
            [
             0.7777777777777778,
             "#fb9f3a"
            ],
            [
             0.8888888888888888,
             "#fdca26"
            ],
            [
             1,
             "#f0f921"
            ]
           ],
           "sequentialminus": [
            [
             0,
             "#0d0887"
            ],
            [
             0.1111111111111111,
             "#46039f"
            ],
            [
             0.2222222222222222,
             "#7201a8"
            ],
            [
             0.3333333333333333,
             "#9c179e"
            ],
            [
             0.4444444444444444,
             "#bd3786"
            ],
            [
             0.5555555555555556,
             "#d8576b"
            ],
            [
             0.6666666666666666,
             "#ed7953"
            ],
            [
             0.7777777777777778,
             "#fb9f3a"
            ],
            [
             0.8888888888888888,
             "#fdca26"
            ],
            [
             1,
             "#f0f921"
            ]
           ]
          },
          "colorway": [
           "#636efa",
           "#EF553B",
           "#00cc96",
           "#ab63fa",
           "#FFA15A",
           "#19d3f3",
           "#FF6692",
           "#B6E880",
           "#FF97FF",
           "#FECB52"
          ],
          "font": {
           "color": "#2a3f5f"
          },
          "geo": {
           "bgcolor": "white",
           "lakecolor": "white",
           "landcolor": "#E5ECF6",
           "showlakes": true,
           "showland": true,
           "subunitcolor": "white"
          },
          "hoverlabel": {
           "align": "left"
          },
          "hovermode": "closest",
          "mapbox": {
           "style": "light"
          },
          "paper_bgcolor": "white",
          "plot_bgcolor": "#E5ECF6",
          "polar": {
           "angularaxis": {
            "gridcolor": "white",
            "linecolor": "white",
            "ticks": ""
           },
           "bgcolor": "#E5ECF6",
           "radialaxis": {
            "gridcolor": "white",
            "linecolor": "white",
            "ticks": ""
           }
          },
          "scene": {
           "xaxis": {
            "backgroundcolor": "#E5ECF6",
            "gridcolor": "white",
            "gridwidth": 2,
            "linecolor": "white",
            "showbackground": true,
            "ticks": "",
            "zerolinecolor": "white"
           },
           "yaxis": {
            "backgroundcolor": "#E5ECF6",
            "gridcolor": "white",
            "gridwidth": 2,
            "linecolor": "white",
            "showbackground": true,
            "ticks": "",
            "zerolinecolor": "white"
           },
           "zaxis": {
            "backgroundcolor": "#E5ECF6",
            "gridcolor": "white",
            "gridwidth": 2,
            "linecolor": "white",
            "showbackground": true,
            "ticks": "",
            "zerolinecolor": "white"
           }
          },
          "shapedefaults": {
           "line": {
            "color": "#2a3f5f"
           }
          },
          "ternary": {
           "aaxis": {
            "gridcolor": "white",
            "linecolor": "white",
            "ticks": ""
           },
           "baxis": {
            "gridcolor": "white",
            "linecolor": "white",
            "ticks": ""
           },
           "bgcolor": "#E5ECF6",
           "caxis": {
            "gridcolor": "white",
            "linecolor": "white",
            "ticks": ""
           }
          },
          "title": {
           "x": 0.05
          },
          "xaxis": {
           "automargin": true,
           "gridcolor": "white",
           "linecolor": "white",
           "ticks": "",
           "title": {
            "standoff": 15
           },
           "zerolinecolor": "white",
           "zerolinewidth": 2
          },
          "yaxis": {
           "automargin": true,
           "gridcolor": "white",
           "linecolor": "white",
           "ticks": "",
           "title": {
            "standoff": 15
           },
           "zerolinecolor": "white",
           "zerolinewidth": 2
          }
         }
        },
        "title": {
         "text": "Evolution de la sous-nutrition par continent :"
        },
        "xaxis": {
         "anchor": "y",
         "autorange": true,
         "domain": [
          0,
          0.15
         ],
         "range": [
          -0.5,
          3.5
         ],
         "title": {
          "text": "Année"
         },
         "type": "category"
        },
        "xaxis2": {
         "anchor": "y2",
         "autorange": true,
         "domain": [
          0.16999999999999998,
          0.31999999999999995
         ],
         "matches": "x",
         "range": [
          -0.5,
          3.5
         ],
         "title": {
          "text": "Année"
         },
         "type": "category"
        },
        "xaxis3": {
         "anchor": "y3",
         "autorange": true,
         "domain": [
          0.33999999999999997,
          0.49
         ],
         "matches": "x",
         "range": [
          -0.5,
          3.5
         ],
         "title": {
          "text": "Année"
         },
         "type": "category"
        },
        "xaxis4": {
         "anchor": "y4",
         "autorange": true,
         "domain": [
          0.51,
          0.66
         ],
         "matches": "x",
         "range": [
          -0.5,
          3.5
         ],
         "title": {
          "text": "Année"
         },
         "type": "category"
        },
        "xaxis5": {
         "anchor": "y5",
         "autorange": true,
         "domain": [
          0.6799999999999999,
          0.83
         ],
         "matches": "x",
         "range": [
          -0.5,
          3.5
         ],
         "title": {
          "text": "Année"
         },
         "type": "category"
        },
        "xaxis6": {
         "anchor": "y6",
         "autorange": true,
         "domain": [
          0.85,
          1
         ],
         "matches": "x",
         "range": [
          -0.5,
          3.5
         ],
         "title": {
          "text": "Année"
         },
         "type": "category"
        },
        "yaxis": {
         "anchor": "x",
         "autorange": true,
         "domain": [
          0,
          1
         ],
         "range": [
          0,
          354.3157894736842
         ],
         "title": {
          "text": "sum of Valeur"
         },
         "type": "linear"
        },
        "yaxis2": {
         "anchor": "x2",
         "autorange": true,
         "domain": [
          0,
          1
         ],
         "matches": "y",
         "range": [
          0,
          354.3157894736842
         ],
         "showticklabels": false,
         "type": "linear"
        },
        "yaxis3": {
         "anchor": "x3",
         "autorange": true,
         "domain": [
          0,
          1
         ],
         "matches": "y",
         "range": [
          0,
          354.3157894736842
         ],
         "showticklabels": false,
         "type": "linear"
        },
        "yaxis4": {
         "anchor": "x4",
         "autorange": true,
         "domain": [
          0,
          1
         ],
         "matches": "y",
         "range": [
          0,
          354.3157894736842
         ],
         "showticklabels": false,
         "type": "linear"
        },
        "yaxis5": {
         "anchor": "x5",
         "autorange": true,
         "domain": [
          0,
          1
         ],
         "matches": "y",
         "range": [
          0,
          354.3157894736842
         ],
         "showticklabels": false,
         "type": "linear"
        },
        "yaxis6": {
         "anchor": "x6",
         "autorange": true,
         "domain": [
          0,
          1
         ],
         "matches": "y",
         "range": [
          0,
          354.3157894736842
         ],
         "showticklabels": false,
         "type": "linear"
        }
       }
      },
      "text/html": [
       "<div>                            <div id=\"a4852521-644b-49b1-b18e-65a80b9f5bef\" class=\"plotly-graph-div\" style=\"height:525px; width:100%;\"></div>            <script type=\"text/javascript\">                require([\"plotly\"], function(Plotly) {                    window.PLOTLYENV=window.PLOTLYENV || {};                                    if (document.getElementById(\"a4852521-644b-49b1-b18e-65a80b9f5bef\")) {                    Plotly.newPlot(                        \"a4852521-644b-49b1-b18e-65a80b9f5bef\",                        [{\"alignmentgroup\":\"True\",\"bingroup\":\"x\",\"histfunc\":\"sum\",\"hovertemplate\":\"R\\u00e9gion=Proche Orient<br>Ann\\u00e9e=%{x}<br>sum of Valeur=%{y}<extra></extra>\",\"legendgroup\":\"Proche Orient\",\"marker\":{\"color\":\"#636efa\",\"pattern\":{\"shape\":\"\"}},\"name\":\"Proche Orient\",\"offsetgroup\":\"Proche Orient\",\"orientation\":\"v\",\"showlegend\":true,\"x\":[\"2012-2014\",\"2013-2015\",\"2014-2016\",\"2015-2017\",\"2012-2014\",\"2013-2015\",\"2014-2016\",\"2015-2017\",\"2012-2014\",\"2013-2015\",\"2014-2016\",\"2015-2017\",\"2012-2014\",\"2013-2015\",\"2014-2016\",\"2015-2017\",\"2012-2014\",\"2013-2015\",\"2014-2016\",\"2015-2017\",\"2012-2014\",\"2013-2015\",\"2014-2016\",\"2015-2017\",\"2012-2014\",\"2013-2015\",\"2014-2016\",\"2015-2017\",\"2012-2014\",\"2013-2015\",\"2014-2016\",\"2015-2017\",\"2012-2014\",\"2013-2015\",\"2014-2016\",\"2015-2017\",\"2012-2014\",\"2013-2015\",\"2014-2016\",\"2015-2017\",\"2012-2014\",\"2013-2015\",\"2014-2016\",\"2015-2017\",\"2012-2014\",\"2013-2015\",\"2014-2016\",\"2015-2017\",\"2012-2014\",\"2013-2015\",\"2014-2016\",\"2015-2017\",\"2012-2014\",\"2013-2015\",\"2014-2016\",\"2015-2017\",\"2012-2014\",\"2013-2015\",\"2014-2016\",\"2015-2017\",\"2012-2014\",\"2013-2015\",\"2014-2016\",\"2015-2017\",\"2012-2014\",\"2013-2015\",\"2014-2016\",\"2015-2017\"],\"xaxis\":\"x\",\"y\":[8.6,8.8,8.9,9.7,1.5,1.5,1.5,1.5,0.0,0.0,0.0,0.0,0.3,0.3,0.3,0.3,3.6,3.7,3.9,3.9,7.3,7.8,8.4,8.8,0.8,0.8,0.8,0.8,0.4,0.4,0.4,0.4,0.0,0.0,0.0,0.0,0.7,0.6,0.4,0.4,0.3,0.3,0.3,0.4,0.0,0.0,0.0,0.0,0.0,0.0,0.0,0.0,0.0,0.0,0.0,0.0,0.0,0.0,0.0,0.0,0.3,0.2,0.2,0.2,0.0,0.0,0.0,0.0],\"yaxis\":\"y\",\"type\":\"histogram\"},{\"alignmentgroup\":\"True\",\"bingroup\":\"x\",\"histfunc\":\"sum\",\"hovertemplate\":\"R\\u00e9gion=Afrique<br>Ann\\u00e9e=%{x}<br>sum of Valeur=%{y}<extra></extra>\",\"legendgroup\":\"Afrique\",\"marker\":{\"color\":\"#EF553B\",\"pattern\":{\"shape\":\"\"}},\"name\":\"Afrique\",\"offsetgroup\":\"Afrique\",\"orientation\":\"v\",\"showlegend\":true,\"x\":[\"2012-2014\",\"2013-2015\",\"2014-2016\",\"2015-2017\",\"2012-2014\",\"2013-2015\",\"2014-2016\",\"2015-2017\",\"2012-2014\",\"2013-2015\",\"2014-2016\",\"2015-2017\",\"2012-2014\",\"2013-2015\",\"2014-2016\",\"2015-2017\",\"2012-2014\",\"2013-2015\",\"2014-2016\",\"2015-2017\",\"2012-2014\",\"2013-2015\",\"2014-2016\",\"2015-2017\",\"2012-2014\",\"2013-2015\",\"2014-2016\",\"2015-2017\",\"2012-2014\",\"2013-2015\",\"2014-2016\",\"2015-2017\",\"2012-2014\",\"2013-2015\",\"2014-2016\",\"2015-2017\",\"2012-2014\",\"2013-2015\",\"2014-2016\",\"2015-2017\",\"2012-2014\",\"2013-2015\",\"2014-2016\",\"2015-2017\",\"2012-2014\",\"2013-2015\",\"2014-2016\",\"2015-2017\",\"2012-2014\",\"2013-2015\",\"2014-2016\",\"2015-2017\",\"2012-2014\",\"2013-2015\",\"2014-2016\",\"2015-2017\",\"2012-2014\",\"2013-2015\",\"2014-2016\",\"2015-2017\",\"2012-2014\",\"2013-2015\",\"2014-2016\",\"2015-2017\",\"2012-2014\",\"2013-2015\",\"2014-2016\",\"2015-2017\",\"2012-2014\",\"2013-2015\",\"2014-2016\",\"2015-2017\",\"2012-2014\",\"2013-2015\",\"2014-2016\",\"2015-2017\",\"2012-2014\",\"2013-2015\",\"2014-2016\",\"2015-2017\",\"2012-2014\",\"2013-2015\",\"2014-2016\",\"2015-2017\",\"2012-2014\",\"2013-2015\",\"2014-2016\",\"2015-2017\",\"2012-2014\",\"2013-2015\",\"2014-2016\",\"2015-2017\",\"2012-2014\",\"2013-2015\",\"2014-2016\",\"2015-2017\",\"2012-2014\",\"2013-2015\",\"2014-2016\",\"2015-2017\",\"2012-2014\",\"2013-2015\",\"2014-2016\",\"2015-2017\",\"2012-2014\",\"2013-2015\",\"2014-2016\",\"2015-2017\",\"2012-2014\",\"2013-2015\",\"2014-2016\",\"2015-2017\",\"2012-2014\",\"2013-2015\",\"2014-2016\",\"2015-2017\",\"2012-2014\",\"2013-2015\",\"2014-2016\",\"2015-2017\",\"2012-2014\",\"2013-2015\",\"2014-2016\",\"2015-2017\",\"2012-2014\",\"2013-2015\",\"2014-2016\",\"2015-2017\",\"2012-2014\",\"2013-2015\",\"2014-2016\",\"2015-2017\",\"2012-2014\",\"2013-2015\",\"2014-2016\",\"2015-2017\",\"2012-2014\",\"2013-2015\",\"2014-2016\",\"2015-2017\",\"2012-2014\",\"2013-2015\",\"2014-2016\",\"2015-2017\",\"2012-2014\",\"2013-2015\",\"2014-2016\",\"2015-2017\",\"2012-2014\",\"2013-2015\",\"2014-2016\",\"2015-2017\",\"2012-2014\",\"2013-2015\",\"2014-2016\",\"2015-2017\",\"2012-2014\",\"2013-2015\",\"2014-2016\",\"2015-2017\",\"2012-2014\",\"2013-2015\",\"2014-2016\",\"2015-2017\",\"2012-2014\",\"2013-2015\",\"2014-2016\",\"2015-2017\",\"2012-2014\",\"2013-2015\",\"2014-2016\",\"2015-2017\",\"2012-2014\",\"2013-2015\",\"2014-2016\",\"2015-2017\",\"2012-2014\",\"2013-2015\",\"2014-2016\",\"2015-2017\",\"2012-2014\",\"2013-2015\",\"2014-2016\",\"2015-2017\",\"2012-2014\",\"2013-2015\",\"2014-2016\",\"2015-2017\",\"2012-2014\",\"2013-2015\",\"2014-2016\",\"2015-2017\",\"2012-2014\",\"2013-2015\",\"2014-2016\",\"2015-2017\",\"2012-2014\",\"2013-2015\",\"2014-2016\",\"2015-2017\",\"2012-2014\",\"2013-2015\",\"2014-2016\",\"2015-2017\",\"2012-2014\",\"2013-2015\",\"2014-2016\",\"2015-2017\",\"2012-2014\",\"2013-2015\",\"2014-2016\",\"2015-2017\",\"2012-2014\",\"2013-2015\",\"2014-2016\",\"2015-2017\"],\"xaxis\":\"x2\",\"y\":[2.2,2.5,2.8,3.0,1.3,1.3,1.3,1.3,7.6,6.2,5.3,5.6,0.8,0.8,0.8,0.8,0.4,0.4,0.4,0.4,3.1,3.1,3.2,3.4,0.0,0.0,0.0,0.0,0.0,0.0,0.0,0.0,1.5,1.5,1.6,1.6,0.0,0.0,0.0,0.0,1.4,1.2,1.2,1.3,4.8,4.6,4.6,4.6,0.0,0.0,0.0,0.0,4.4,4.3,4.2,4.5,0.0,0.0,0.0,0.0,0.1,0.2,0.2,0.2,26.2,24.3,21.7,21.3,0.3,0.3,0.3,0.3,0.2,0.2,0.2,0.3,1.9,2.1,2.1,2.1,0.0,0.0,0.0,0.0,0.0,0.0,0.0,0.0,0.0,0.0,0.0,0.0,10.1,10.0,10.7,11.5,0.3,0.5,0.8,0.8,1.5,1.6,1.7,1.8,0.0,0.0,0.0,0.0,7.6,8.7,9.7,10.3,2.7,2.7,2.9,2.9,1.1,1.0,0.9,0.9,1.5,1.4,1.3,1.3,0.0,0.0,0.0,0.0,0.3,0.3,0.4,0.5,5.9,7.0,8.4,9.2,0.5,0.4,0.3,0.3,0.0,0.0,0.0,0.0,14.7,17.4,20.2,22.2,0.0,0.0,0.0,0.0,0.0,0.0,0.0,0.0,0.0,0.0,0.0,0.0,13.5,13.2,12.8,13.0,2.8,3.3,3.9,4.1,0.0,0.0,0.0,0.0,1.4,1.6,1.7,1.5,0.0,0.0,0.0,0.0,0.0,0.0,0.0,0.0,5.9,5.1,4.4,4.8,0.0,0.0,0.0,0.0,4.9,5.0,5.0,5.3,1.5,1.5,1.6,1.6,0.0,0.0,0.0,0.0,0.3,0.3,0.0,0.0,0.0,0.0,0.0,0.0,0.0,0.0,0.0,0.0],\"yaxis\":\"y2\",\"type\":\"histogram\"},{\"alignmentgroup\":\"True\",\"bingroup\":\"x\",\"histfunc\":\"sum\",\"hovertemplate\":\"R\\u00e9gion=Europe<br>Ann\\u00e9e=%{x}<br>sum of Valeur=%{y}<extra></extra>\",\"legendgroup\":\"Europe\",\"marker\":{\"color\":\"#00cc96\",\"pattern\":{\"shape\":\"\"}},\"name\":\"Europe\",\"offsetgroup\":\"Europe\",\"orientation\":\"v\",\"showlegend\":true,\"x\":[\"2012-2014\",\"2013-2015\",\"2014-2016\",\"2015-2017\",\"2012-2014\",\"2013-2015\",\"2014-2016\",\"2015-2017\",\"2012-2014\",\"2013-2015\",\"2014-2016\",\"2015-2017\",\"2012-2014\",\"2013-2015\",\"2014-2016\",\"2015-2017\",\"2012-2014\",\"2013-2015\",\"2014-2016\",\"2015-2017\",\"2012-2014\",\"2013-2015\",\"2014-2016\",\"2015-2017\",\"2012-2014\",\"2013-2015\",\"2014-2016\",\"2015-2017\",\"2012-2014\",\"2013-2015\",\"2014-2016\",\"2015-2017\",\"2012-2014\",\"2013-2015\",\"2014-2016\",\"2015-2017\",\"2012-2014\",\"2013-2015\",\"2014-2016\",\"2015-2017\",\"2012-2014\",\"2013-2015\",\"2014-2016\",\"2015-2017\",\"2012-2014\",\"2013-2015\",\"2014-2016\",\"2015-2017\",\"2012-2014\",\"2013-2015\",\"2014-2016\",\"2015-2017\",\"2012-2014\",\"2013-2015\",\"2014-2016\",\"2015-2017\",\"2012-2014\",\"2013-2015\",\"2014-2016\",\"2015-2017\",\"2012-2014\",\"2013-2015\",\"2014-2016\",\"2015-2017\",\"2012-2014\",\"2013-2015\",\"2014-2016\",\"2015-2017\",\"2012-2014\",\"2013-2015\",\"2014-2016\",\"2015-2017\",\"2012-2014\",\"2013-2015\",\"2014-2016\",\"2015-2017\",\"2012-2014\",\"2013-2015\",\"2014-2016\",\"2015-2017\",\"2012-2014\",\"2013-2015\",\"2014-2016\",\"2015-2017\",\"2012-2014\",\"2013-2015\",\"2014-2016\",\"2015-2017\",\"2012-2014\",\"2013-2015\",\"2014-2016\",\"2015-2017\",\"2012-2014\",\"2013-2015\",\"2014-2016\",\"2015-2017\",\"2012-2014\",\"2013-2015\",\"2014-2016\",\"2015-2017\",\"2012-2014\",\"2013-2015\",\"2014-2016\",\"2015-2017\",\"2012-2014\",\"2013-2015\",\"2014-2016\",\"2015-2017\",\"2012-2014\",\"2013-2015\",\"2014-2016\",\"2015-2017\",\"2012-2014\",\"2013-2015\",\"2014-2016\",\"2015-2017\",\"2012-2014\",\"2013-2015\",\"2014-2016\",\"2015-2017\",\"2012-2014\",\"2013-2015\",\"2014-2016\",\"2015-2017\",\"2012-2014\",\"2013-2015\",\"2014-2016\",\"2015-2017\",\"2012-2014\",\"2013-2015\",\"2014-2016\",\"2015-2017\",\"2012-2014\",\"2013-2015\",\"2014-2016\",\"2015-2017\",\"2012-2014\",\"2013-2015\",\"2014-2016\",\"2015-2017\",\"2012-2014\",\"2013-2015\",\"2014-2016\",\"2015-2017\",\"2012-2014\",\"2013-2015\",\"2014-2016\",\"2015-2017\",\"2012-2014\",\"2013-2015\",\"2014-2016\",\"2015-2017\",\"2012-2014\",\"2013-2015\",\"2014-2016\",\"2015-2017\",\"2012-2014\",\"2013-2015\",\"2014-2016\",\"2015-2017\",\"2012-2014\",\"2013-2015\",\"2014-2016\",\"2015-2017\",\"2012-2014\",\"2013-2015\",\"2014-2016\",\"2015-2017\",\"2012-2014\",\"2013-2015\",\"2014-2016\",\"2015-2017\",\"2012-2014\",\"2013-2015\",\"2014-2016\",\"2015-2017\",\"2012-2014\",\"2013-2015\",\"2014-2016\",\"2015-2017\",\"2012-2014\",\"2013-2015\",\"2014-2016\",\"2015-2017\"],\"xaxis\":\"x3\",\"y\":[0.1,0.1,0.1,0.1,0.0,0.0,0.0,0.0,0.0,0.0,0.0,0.0,0.0,0.0,0.0,0.0,0.0,0.0,0.0,0.0,0.0,0.0,0.0,0.0,0.0,0.0,0.0,0.0,0.0,0.0,0.0,0.0,0.0,0.0,0.0,0.0,0.3,0.3,0.2,0.2,0.0,0.0,0.0,0.0,0.0,0.0,0.0,0.0,0.0,0.0,0.0,0.0,0.0,0.0,0.0,0.0,0.0,0.0,0.0,0.0,0.0,0.0,0.0,0.0,0.0,0.0,0.0,0.0,0.0,0.0,0.0,0.0,0.2,0.2,0.2,0.2,0.0,0.0,0.0,0.0,0.0,0.0,0.0,0.0,0.0,0.0,0.0,0.0,0.0,0.0,0.0,0.0,0.0,0.0,0.0,0.0,0.0,0.0,0.0,0.0,0.0,0.0,0.0,0.0,0.0,0.0,0.0,0.0,0.0,0.0,0.0,0.0,0.0,0.0,0.0,0.0,0.0,0.0,0.0,0.0,0.0,0.0,0.0,0.0,0.0,0.0,0.0,0.0,0.0,0.0,0.0,0.0,0.0,0.0,0.0,0.0,0.0,0.0,0.0,0.0,0.0,0.0,0.0,0.0,0.0,0.0,0.0,0.0,0.0,0.0,0.0,0.0,0.3,0.3,0.4,0.4,0.2,0.3,0.3,0.4,0.0,0.0,0.0,0.0,0.0,0.0,0.0,0.0,0.0,0.0,0.0,0.0,0.0,0.0,0.0,0.0,0.0,0.0,0.0,0.0,0.0,0.0,1.3,0.0],\"yaxis\":\"y3\",\"type\":\"histogram\"},{\"alignmentgroup\":\"True\",\"bingroup\":\"x\",\"histfunc\":\"sum\",\"hovertemplate\":\"R\\u00e9gion=Ameriques<br>Ann\\u00e9e=%{x}<br>sum of Valeur=%{y}<extra></extra>\",\"legendgroup\":\"Ameriques\",\"marker\":{\"color\":\"#ab63fa\",\"pattern\":{\"shape\":\"\"}},\"name\":\"Ameriques\",\"offsetgroup\":\"Ameriques\",\"orientation\":\"v\",\"showlegend\":true,\"x\":[\"2012-2014\",\"2013-2015\",\"2014-2016\",\"2015-2017\",\"2012-2014\",\"2013-2015\",\"2014-2016\",\"2015-2017\",\"2012-2014\",\"2013-2015\",\"2014-2016\",\"2015-2017\",\"2012-2014\",\"2013-2015\",\"2014-2016\",\"2015-2017\",\"2012-2014\",\"2013-2015\",\"2014-2016\",\"2015-2017\",\"2012-2014\",\"2013-2015\",\"2014-2016\",\"2015-2017\",\"2012-2014\",\"2013-2015\",\"2014-2016\",\"2015-2017\",\"2012-2014\",\"2013-2015\",\"2014-2016\",\"2015-2017\",\"2012-2014\",\"2013-2015\",\"2014-2016\",\"2015-2017\",\"2012-2014\",\"2013-2015\",\"2014-2016\",\"2015-2017\",\"2012-2014\",\"2013-2015\",\"2014-2016\",\"2015-2017\",\"2012-2014\",\"2013-2015\",\"2014-2016\",\"2015-2017\",\"2012-2014\",\"2013-2015\",\"2014-2016\",\"2015-2017\",\"2012-2014\",\"2013-2015\",\"2014-2016\",\"2015-2017\",\"2012-2014\",\"2013-2015\",\"2014-2016\",\"2015-2017\",\"2012-2014\",\"2013-2015\",\"2014-2016\",\"2015-2017\",\"2012-2014\",\"2013-2015\",\"2014-2016\",\"2015-2017\",\"2012-2014\",\"2013-2015\",\"2014-2016\",\"2015-2017\",\"2012-2014\",\"2013-2015\",\"2014-2016\",\"2015-2017\",\"2012-2014\",\"2013-2015\",\"2014-2016\",\"2015-2017\",\"2012-2014\",\"2013-2015\",\"2014-2016\",\"2015-2017\",\"2012-2014\",\"2013-2015\",\"2014-2016\",\"2015-2017\",\"2012-2014\",\"2013-2015\",\"2014-2016\",\"2015-2017\",\"2012-2014\",\"2013-2015\",\"2014-2016\",\"2015-2017\",\"2012-2014\",\"2013-2015\",\"2014-2016\",\"2015-2017\",\"2012-2014\",\"2013-2015\",\"2014-2016\",\"2015-2017\",\"2012-2014\",\"2013-2015\",\"2014-2016\",\"2015-2017\",\"2012-2014\",\"2013-2015\",\"2014-2016\",\"2015-2017\",\"2012-2014\",\"2013-2015\",\"2014-2016\",\"2015-2017\",\"2012-2014\",\"2013-2015\",\"2014-2016\",\"2015-2017\",\"2012-2014\",\"2013-2015\",\"2014-2016\",\"2015-2017\",\"2012-2014\",\"2013-2015\",\"2014-2016\",\"2015-2017\",\"2012-2014\",\"2013-2015\",\"2014-2016\",\"2015-2017\",\"2012-2014\",\"2013-2015\",\"2014-2016\",\"2015-2017\",\"2012-2014\",\"2013-2015\",\"2014-2016\",\"2015-2017\",\"2012-2014\",\"2013-2015\",\"2014-2016\",\"2015-2017\",\"2012-2014\",\"2013-2015\",\"2014-2016\",\"2015-2017\",\"2012-2014\",\"2013-2015\",\"2014-2016\",\"2015-2017\"],\"xaxis\":\"x4\",\"y\":[0.0,0.0,0.0,0.0,1.2,0.0,1.1,1.3,0.0,0.0,0.0,0.0,0.0,0.0,0.0,0.0,0.0,0.0,0.0,0.0,0.0,0.0,0.0,0.0,2.0,1.9,1.8,1.7,0.0,0.0,0.0,0.0,0.0,0.0,0.0,0.0,0.6,0.6,0.6,0.6,3.9,3.4,3.1,2.8,0.2,0.2,0.2,0.2,0.0,0.0,0.0,0.0,0.0,0.0,0.0,0.0,0.7,0.7,0.7,0.6,2.3,1.9,1.4,1.5,0.0,0.0,0.0,0.0,0.0,0.0,0.0,0.0,0.0,0.0,0.0,0.0,2.9,2.8,2.8,2.7,0.0,0.0,0.0,0.0,5.1,5.1,5.1,5.2,1.7,1.5,1.4,1.3,0.3,0.3,0.3,0.3,4.9,5.5,6.8,7.9,1.1,1.2,1.2,1.1,0.3,0.3,0.3,0.3,0.5,0.5,0.5,0.6,1.7,1.8,2.0,2.1,0.0,0.0,0.0,0.0,0.9,0.9,0.8,0.7,0.0,0.0,0.0,0.0,0.0,0.0,0.0,0.0,0.0,0.0,0.0,0.0,2.2,2.1,2.0,2.0,0.0,0.0,0.0,0.0,0.0,0.0,0.0,0.0,1.4,2.6,4.2,6.2],\"yaxis\":\"y4\",\"type\":\"histogram\"},{\"alignmentgroup\":\"True\",\"bingroup\":\"x\",\"histfunc\":\"sum\",\"hovertemplate\":\"R\\u00e9gion=Pacifique<br>Ann\\u00e9e=%{x}<br>sum of Valeur=%{y}<extra></extra>\",\"legendgroup\":\"Pacifique\",\"marker\":{\"color\":\"#FFA15A\",\"pattern\":{\"shape\":\"\"}},\"name\":\"Pacifique\",\"offsetgroup\":\"Pacifique\",\"orientation\":\"v\",\"showlegend\":true,\"x\":[\"2012-2014\",\"2013-2015\",\"2014-2016\",\"2015-2017\",\"2012-2014\",\"2013-2015\",\"2014-2016\",\"2015-2017\",\"2012-2014\",\"2013-2015\",\"2014-2016\",\"2015-2017\",\"2012-2014\",\"2013-2015\",\"2014-2016\",\"2015-2017\",\"2012-2014\",\"2013-2015\",\"2014-2016\",\"2015-2017\",\"2012-2014\",\"2013-2015\",\"2014-2016\",\"2015-2017\",\"2012-2014\",\"2013-2015\",\"2014-2016\",\"2015-2017\",\"2012-2014\",\"2013-2015\",\"2014-2016\",\"2015-2017\",\"2012-2014\",\"2013-2015\",\"2014-2016\",\"2015-2017\",\"2012-2014\",\"2013-2015\",\"2014-2016\",\"2015-2017\",\"2012-2014\",\"2013-2015\",\"2014-2016\",\"2015-2017\",\"2012-2014\",\"2013-2015\",\"2014-2016\",\"2015-2017\",\"2012-2014\",\"2013-2015\",\"2014-2016\",\"2015-2017\",\"2012-2014\",\"2013-2015\",\"2014-2016\",\"2015-2017\",\"2012-2014\",\"2013-2015\",\"2014-2016\",\"2015-2017\",\"2012-2014\",\"2013-2015\",\"2014-2016\",\"2015-2017\",\"2012-2014\",\"2013-2015\",\"2014-2016\",\"2015-2017\",\"2012-2014\",\"2013-2015\",\"2014-2016\",\"2015-2017\",\"2012-2014\",\"2013-2015\",\"2014-2016\",\"2015-2017\"],\"xaxis\":\"x5\",\"y\":[0.0,0.0,0.0,0.0,0.0,0.0,0.0,0.0,0.0,0.0,0.0,0.0,0.0,0.0,0.0,0.0,0.0,0.0,0.0,0.0,0.0,0.0,0.0,0.0,0.0,0.0,0.0,0.0,0.0,0.0,0.0,0.0,0.0,0.0,0.0,0.0,0.0,0.0,0.0,0.0,0.0,0.0,0.0,0.0,0.0,0.0,0.0,0.0,0.0,0.0,0.0,0.0,0.0,0.0,0.0,0.0,0.0,0.0,0.0,0.0,0.0,0.0,0.0,0.0,0.0,0.0,0.0,0.0,0.0,0.0,0.0,0.0,0.0,0.0,0.0,0.0],\"yaxis\":\"y5\",\"type\":\"histogram\"},{\"alignmentgroup\":\"True\",\"bingroup\":\"x\",\"histfunc\":\"sum\",\"hovertemplate\":\"R\\u00e9gion=Asie<br>Ann\\u00e9e=%{x}<br>sum of Valeur=%{y}<extra></extra>\",\"legendgroup\":\"Asie\",\"marker\":{\"color\":\"#19d3f3\",\"pattern\":{\"shape\":\"\"}},\"name\":\"Asie\",\"offsetgroup\":\"Asie\",\"orientation\":\"v\",\"showlegend\":true,\"x\":[\"2012-2014\",\"2013-2015\",\"2014-2016\",\"2015-2017\",\"2012-2014\",\"2013-2015\",\"2014-2016\",\"2015-2017\",\"2012-2014\",\"2013-2015\",\"2014-2016\",\"2015-2017\",\"2012-2014\",\"2013-2015\",\"2014-2016\",\"2015-2017\",\"2012-2014\",\"2013-2015\",\"2014-2016\",\"2015-2017\",\"2012-2014\",\"2013-2015\",\"2014-2016\",\"2015-2017\",\"2012-2014\",\"2013-2015\",\"2014-2016\",\"2015-2017\",\"2012-2014\",\"2013-2015\",\"2014-2016\",\"2015-2017\",\"2012-2014\",\"2013-2015\",\"2014-2016\",\"2015-2017\",\"2012-2014\",\"2013-2015\",\"2014-2016\",\"2015-2017\",\"2012-2014\",\"2013-2015\",\"2014-2016\",\"2015-2017\",\"2012-2014\",\"2013-2015\",\"2014-2016\",\"2015-2017\",\"2012-2014\",\"2013-2015\",\"2014-2016\",\"2015-2017\",\"2012-2014\",\"2013-2015\",\"2014-2016\",\"2015-2017\",\"2012-2014\",\"2013-2015\",\"2014-2016\",\"2015-2017\",\"2012-2014\",\"2013-2015\",\"2014-2016\",\"2015-2017\",\"2012-2014\",\"2013-2015\",\"2014-2016\",\"2015-2017\",\"2012-2014\",\"2013-2015\",\"2014-2016\",\"2015-2017\",\"2012-2014\",\"2013-2015\",\"2014-2016\",\"2015-2017\",\"2012-2014\",\"2013-2015\",\"2014-2016\",\"2015-2017\",\"2012-2014\",\"2013-2015\",\"2014-2016\",\"2015-2017\",\"2012-2014\",\"2013-2015\",\"2014-2016\",\"2015-2017\",\"2012-2014\",\"2013-2015\",\"2014-2016\",\"2015-2017\",\"2012-2014\",\"2013-2015\",\"2014-2016\",\"2015-2017\",\"2012-2014\",\"2013-2015\",\"2014-2016\",\"2015-2017\",\"2012-2014\",\"2013-2015\",\"2014-2016\",\"2015-2017\",\"2012-2014\",\"2013-2015\",\"2014-2016\",\"2015-2017\",\"2012-2014\",\"2013-2015\",\"2014-2016\",\"2015-2017\",\"2012-2014\",\"2013-2015\",\"2014-2016\",\"2015-2017\"],\"xaxis\":\"x6\",\"y\":[21.7,22.4,23.3,22.3,0.0,0.0,0.0,0.0,0.0,0.0,0.0,0.0,2.1,2.3,2.4,2.4,0.0,0.0,0.0,0.0,0.0,0.0,0.0,0.0,0.0,0.0,0.0,0.0,0.9,0.9,0.9,0.9,203.8,198.3,193.1,190.9,22.4,23.6,24.0,24.0,0.0,0.0,0.0,0.0,0.5,0.0,0.0,0.0,1.0,1.1,1.2,1.1,0.0,0.0,0.0,0.0,0.5,0.6,0.6,0.6,6.7,7.1,7.3,7.2,1.8,1.7,1.7,1.6,2.0,1.4,0.9,0.9,31.1,28.5,25.4,24.6,14.5,15.4,16.5,15.8,0.0,0.0,0.0,0.0,0.0,0.0,0.0,0.0,10.3,10.8,11.2,11.6,0.0,0.0,0.0,0.0,1.8,1.8,1.8,1.7,0.0,0.0,0.0,0.0,6.2,6.0,5.9,6.0,0.4,0.4,0.4,0.4,8.9,8.3,7.6,7.1],\"yaxis\":\"y6\",\"type\":\"histogram\"}],                        {\"template\":{\"data\":{\"bar\":[{\"error_x\":{\"color\":\"#2a3f5f\"},\"error_y\":{\"color\":\"#2a3f5f\"},\"marker\":{\"line\":{\"color\":\"#E5ECF6\",\"width\":0.5},\"pattern\":{\"fillmode\":\"overlay\",\"size\":10,\"solidity\":0.2}},\"type\":\"bar\"}],\"barpolar\":[{\"marker\":{\"line\":{\"color\":\"#E5ECF6\",\"width\":0.5},\"pattern\":{\"fillmode\":\"overlay\",\"size\":10,\"solidity\":0.2}},\"type\":\"barpolar\"}],\"carpet\":[{\"aaxis\":{\"endlinecolor\":\"#2a3f5f\",\"gridcolor\":\"white\",\"linecolor\":\"white\",\"minorgridcolor\":\"white\",\"startlinecolor\":\"#2a3f5f\"},\"baxis\":{\"endlinecolor\":\"#2a3f5f\",\"gridcolor\":\"white\",\"linecolor\":\"white\",\"minorgridcolor\":\"white\",\"startlinecolor\":\"#2a3f5f\"},\"type\":\"carpet\"}],\"choropleth\":[{\"colorbar\":{\"outlinewidth\":0,\"ticks\":\"\"},\"type\":\"choropleth\"}],\"contour\":[{\"colorbar\":{\"outlinewidth\":0,\"ticks\":\"\"},\"colorscale\":[[0.0,\"#0d0887\"],[0.1111111111111111,\"#46039f\"],[0.2222222222222222,\"#7201a8\"],[0.3333333333333333,\"#9c179e\"],[0.4444444444444444,\"#bd3786\"],[0.5555555555555556,\"#d8576b\"],[0.6666666666666666,\"#ed7953\"],[0.7777777777777778,\"#fb9f3a\"],[0.8888888888888888,\"#fdca26\"],[1.0,\"#f0f921\"]],\"type\":\"contour\"}],\"contourcarpet\":[{\"colorbar\":{\"outlinewidth\":0,\"ticks\":\"\"},\"type\":\"contourcarpet\"}],\"heatmap\":[{\"colorbar\":{\"outlinewidth\":0,\"ticks\":\"\"},\"colorscale\":[[0.0,\"#0d0887\"],[0.1111111111111111,\"#46039f\"],[0.2222222222222222,\"#7201a8\"],[0.3333333333333333,\"#9c179e\"],[0.4444444444444444,\"#bd3786\"],[0.5555555555555556,\"#d8576b\"],[0.6666666666666666,\"#ed7953\"],[0.7777777777777778,\"#fb9f3a\"],[0.8888888888888888,\"#fdca26\"],[1.0,\"#f0f921\"]],\"type\":\"heatmap\"}],\"heatmapgl\":[{\"colorbar\":{\"outlinewidth\":0,\"ticks\":\"\"},\"colorscale\":[[0.0,\"#0d0887\"],[0.1111111111111111,\"#46039f\"],[0.2222222222222222,\"#7201a8\"],[0.3333333333333333,\"#9c179e\"],[0.4444444444444444,\"#bd3786\"],[0.5555555555555556,\"#d8576b\"],[0.6666666666666666,\"#ed7953\"],[0.7777777777777778,\"#fb9f3a\"],[0.8888888888888888,\"#fdca26\"],[1.0,\"#f0f921\"]],\"type\":\"heatmapgl\"}],\"histogram\":[{\"marker\":{\"pattern\":{\"fillmode\":\"overlay\",\"size\":10,\"solidity\":0.2}},\"type\":\"histogram\"}],\"histogram2d\":[{\"colorbar\":{\"outlinewidth\":0,\"ticks\":\"\"},\"colorscale\":[[0.0,\"#0d0887\"],[0.1111111111111111,\"#46039f\"],[0.2222222222222222,\"#7201a8\"],[0.3333333333333333,\"#9c179e\"],[0.4444444444444444,\"#bd3786\"],[0.5555555555555556,\"#d8576b\"],[0.6666666666666666,\"#ed7953\"],[0.7777777777777778,\"#fb9f3a\"],[0.8888888888888888,\"#fdca26\"],[1.0,\"#f0f921\"]],\"type\":\"histogram2d\"}],\"histogram2dcontour\":[{\"colorbar\":{\"outlinewidth\":0,\"ticks\":\"\"},\"colorscale\":[[0.0,\"#0d0887\"],[0.1111111111111111,\"#46039f\"],[0.2222222222222222,\"#7201a8\"],[0.3333333333333333,\"#9c179e\"],[0.4444444444444444,\"#bd3786\"],[0.5555555555555556,\"#d8576b\"],[0.6666666666666666,\"#ed7953\"],[0.7777777777777778,\"#fb9f3a\"],[0.8888888888888888,\"#fdca26\"],[1.0,\"#f0f921\"]],\"type\":\"histogram2dcontour\"}],\"mesh3d\":[{\"colorbar\":{\"outlinewidth\":0,\"ticks\":\"\"},\"type\":\"mesh3d\"}],\"parcoords\":[{\"line\":{\"colorbar\":{\"outlinewidth\":0,\"ticks\":\"\"}},\"type\":\"parcoords\"}],\"pie\":[{\"automargin\":true,\"type\":\"pie\"}],\"scatter\":[{\"marker\":{\"colorbar\":{\"outlinewidth\":0,\"ticks\":\"\"}},\"type\":\"scatter\"}],\"scatter3d\":[{\"line\":{\"colorbar\":{\"outlinewidth\":0,\"ticks\":\"\"}},\"marker\":{\"colorbar\":{\"outlinewidth\":0,\"ticks\":\"\"}},\"type\":\"scatter3d\"}],\"scattercarpet\":[{\"marker\":{\"colorbar\":{\"outlinewidth\":0,\"ticks\":\"\"}},\"type\":\"scattercarpet\"}],\"scattergeo\":[{\"marker\":{\"colorbar\":{\"outlinewidth\":0,\"ticks\":\"\"}},\"type\":\"scattergeo\"}],\"scattergl\":[{\"marker\":{\"colorbar\":{\"outlinewidth\":0,\"ticks\":\"\"}},\"type\":\"scattergl\"}],\"scattermapbox\":[{\"marker\":{\"colorbar\":{\"outlinewidth\":0,\"ticks\":\"\"}},\"type\":\"scattermapbox\"}],\"scatterpolar\":[{\"marker\":{\"colorbar\":{\"outlinewidth\":0,\"ticks\":\"\"}},\"type\":\"scatterpolar\"}],\"scatterpolargl\":[{\"marker\":{\"colorbar\":{\"outlinewidth\":0,\"ticks\":\"\"}},\"type\":\"scatterpolargl\"}],\"scatterternary\":[{\"marker\":{\"colorbar\":{\"outlinewidth\":0,\"ticks\":\"\"}},\"type\":\"scatterternary\"}],\"surface\":[{\"colorbar\":{\"outlinewidth\":0,\"ticks\":\"\"},\"colorscale\":[[0.0,\"#0d0887\"],[0.1111111111111111,\"#46039f\"],[0.2222222222222222,\"#7201a8\"],[0.3333333333333333,\"#9c179e\"],[0.4444444444444444,\"#bd3786\"],[0.5555555555555556,\"#d8576b\"],[0.6666666666666666,\"#ed7953\"],[0.7777777777777778,\"#fb9f3a\"],[0.8888888888888888,\"#fdca26\"],[1.0,\"#f0f921\"]],\"type\":\"surface\"}],\"table\":[{\"cells\":{\"fill\":{\"color\":\"#EBF0F8\"},\"line\":{\"color\":\"white\"}},\"header\":{\"fill\":{\"color\":\"#C8D4E3\"},\"line\":{\"color\":\"white\"}},\"type\":\"table\"}]},\"layout\":{\"annotationdefaults\":{\"arrowcolor\":\"#2a3f5f\",\"arrowhead\":0,\"arrowwidth\":1},\"autotypenumbers\":\"strict\",\"coloraxis\":{\"colorbar\":{\"outlinewidth\":0,\"ticks\":\"\"}},\"colorscale\":{\"diverging\":[[0,\"#8e0152\"],[0.1,\"#c51b7d\"],[0.2,\"#de77ae\"],[0.3,\"#f1b6da\"],[0.4,\"#fde0ef\"],[0.5,\"#f7f7f7\"],[0.6,\"#e6f5d0\"],[0.7,\"#b8e186\"],[0.8,\"#7fbc41\"],[0.9,\"#4d9221\"],[1,\"#276419\"]],\"sequential\":[[0.0,\"#0d0887\"],[0.1111111111111111,\"#46039f\"],[0.2222222222222222,\"#7201a8\"],[0.3333333333333333,\"#9c179e\"],[0.4444444444444444,\"#bd3786\"],[0.5555555555555556,\"#d8576b\"],[0.6666666666666666,\"#ed7953\"],[0.7777777777777778,\"#fb9f3a\"],[0.8888888888888888,\"#fdca26\"],[1.0,\"#f0f921\"]],\"sequentialminus\":[[0.0,\"#0d0887\"],[0.1111111111111111,\"#46039f\"],[0.2222222222222222,\"#7201a8\"],[0.3333333333333333,\"#9c179e\"],[0.4444444444444444,\"#bd3786\"],[0.5555555555555556,\"#d8576b\"],[0.6666666666666666,\"#ed7953\"],[0.7777777777777778,\"#fb9f3a\"],[0.8888888888888888,\"#fdca26\"],[1.0,\"#f0f921\"]]},\"colorway\":[\"#636efa\",\"#EF553B\",\"#00cc96\",\"#ab63fa\",\"#FFA15A\",\"#19d3f3\",\"#FF6692\",\"#B6E880\",\"#FF97FF\",\"#FECB52\"],\"font\":{\"color\":\"#2a3f5f\"},\"geo\":{\"bgcolor\":\"white\",\"lakecolor\":\"white\",\"landcolor\":\"#E5ECF6\",\"showlakes\":true,\"showland\":true,\"subunitcolor\":\"white\"},\"hoverlabel\":{\"align\":\"left\"},\"hovermode\":\"closest\",\"mapbox\":{\"style\":\"light\"},\"paper_bgcolor\":\"white\",\"plot_bgcolor\":\"#E5ECF6\",\"polar\":{\"angularaxis\":{\"gridcolor\":\"white\",\"linecolor\":\"white\",\"ticks\":\"\"},\"bgcolor\":\"#E5ECF6\",\"radialaxis\":{\"gridcolor\":\"white\",\"linecolor\":\"white\",\"ticks\":\"\"}},\"scene\":{\"xaxis\":{\"backgroundcolor\":\"#E5ECF6\",\"gridcolor\":\"white\",\"gridwidth\":2,\"linecolor\":\"white\",\"showbackground\":true,\"ticks\":\"\",\"zerolinecolor\":\"white\"},\"yaxis\":{\"backgroundcolor\":\"#E5ECF6\",\"gridcolor\":\"white\",\"gridwidth\":2,\"linecolor\":\"white\",\"showbackground\":true,\"ticks\":\"\",\"zerolinecolor\":\"white\"},\"zaxis\":{\"backgroundcolor\":\"#E5ECF6\",\"gridcolor\":\"white\",\"gridwidth\":2,\"linecolor\":\"white\",\"showbackground\":true,\"ticks\":\"\",\"zerolinecolor\":\"white\"}},\"shapedefaults\":{\"line\":{\"color\":\"#2a3f5f\"}},\"ternary\":{\"aaxis\":{\"gridcolor\":\"white\",\"linecolor\":\"white\",\"ticks\":\"\"},\"baxis\":{\"gridcolor\":\"white\",\"linecolor\":\"white\",\"ticks\":\"\"},\"bgcolor\":\"#E5ECF6\",\"caxis\":{\"gridcolor\":\"white\",\"linecolor\":\"white\",\"ticks\":\"\"}},\"title\":{\"x\":0.05},\"xaxis\":{\"automargin\":true,\"gridcolor\":\"white\",\"linecolor\":\"white\",\"ticks\":\"\",\"title\":{\"standoff\":15},\"zerolinecolor\":\"white\",\"zerolinewidth\":2},\"yaxis\":{\"automargin\":true,\"gridcolor\":\"white\",\"linecolor\":\"white\",\"ticks\":\"\",\"title\":{\"standoff\":15},\"zerolinecolor\":\"white\",\"zerolinewidth\":2}}},\"xaxis\":{\"anchor\":\"y\",\"domain\":[0.0,0.15],\"title\":{\"text\":\"Ann\\u00e9e\"}},\"yaxis\":{\"anchor\":\"x\",\"domain\":[0.0,1.0],\"title\":{\"text\":\"sum of Valeur\"}},\"xaxis2\":{\"anchor\":\"y2\",\"domain\":[0.16999999999999998,0.31999999999999995],\"matches\":\"x\",\"title\":{\"text\":\"Ann\\u00e9e\"}},\"yaxis2\":{\"anchor\":\"x2\",\"domain\":[0.0,1.0],\"matches\":\"y\",\"showticklabels\":false},\"xaxis3\":{\"anchor\":\"y3\",\"domain\":[0.33999999999999997,0.49],\"matches\":\"x\",\"title\":{\"text\":\"Ann\\u00e9e\"}},\"yaxis3\":{\"anchor\":\"x3\",\"domain\":[0.0,1.0],\"matches\":\"y\",\"showticklabels\":false},\"xaxis4\":{\"anchor\":\"y4\",\"domain\":[0.51,0.66],\"matches\":\"x\",\"title\":{\"text\":\"Ann\\u00e9e\"}},\"yaxis4\":{\"anchor\":\"x4\",\"domain\":[0.0,1.0],\"matches\":\"y\",\"showticklabels\":false},\"xaxis5\":{\"anchor\":\"y5\",\"domain\":[0.6799999999999999,0.83],\"matches\":\"x\",\"title\":{\"text\":\"Ann\\u00e9e\"}},\"yaxis5\":{\"anchor\":\"x5\",\"domain\":[0.0,1.0],\"matches\":\"y\",\"showticklabels\":false},\"xaxis6\":{\"anchor\":\"y6\",\"domain\":[0.85,1.0],\"matches\":\"x\",\"title\":{\"text\":\"Ann\\u00e9e\"}},\"yaxis6\":{\"anchor\":\"x6\",\"domain\":[0.0,1.0],\"matches\":\"y\",\"showticklabels\":false},\"annotations\":[{\"font\":{},\"showarrow\":false,\"text\":\"R\\u00e9gion=Proche Orient\",\"x\":0.075,\"xanchor\":\"center\",\"xref\":\"paper\",\"y\":1.0,\"yanchor\":\"bottom\",\"yref\":\"paper\"},{\"font\":{},\"showarrow\":false,\"text\":\"R\\u00e9gion=Afrique\",\"x\":0.24499999999999997,\"xanchor\":\"center\",\"xref\":\"paper\",\"y\":1.0,\"yanchor\":\"bottom\",\"yref\":\"paper\"},{\"font\":{},\"showarrow\":false,\"text\":\"R\\u00e9gion=Europe\",\"x\":0.415,\"xanchor\":\"center\",\"xref\":\"paper\",\"y\":1.0,\"yanchor\":\"bottom\",\"yref\":\"paper\"},{\"font\":{},\"showarrow\":false,\"text\":\"R\\u00e9gion=Ameriques\",\"x\":0.585,\"xanchor\":\"center\",\"xref\":\"paper\",\"y\":1.0,\"yanchor\":\"bottom\",\"yref\":\"paper\"},{\"font\":{},\"showarrow\":false,\"text\":\"R\\u00e9gion=Pacifique\",\"x\":0.7549999999999999,\"xanchor\":\"center\",\"xref\":\"paper\",\"y\":1.0,\"yanchor\":\"bottom\",\"yref\":\"paper\"},{\"font\":{},\"showarrow\":false,\"text\":\"R\\u00e9gion=Asie\",\"x\":0.925,\"xanchor\":\"center\",\"xref\":\"paper\",\"y\":1.0,\"yanchor\":\"bottom\",\"yref\":\"paper\"}],\"legend\":{\"title\":{\"text\":\"R\\u00e9gion\"},\"tracegroupgap\":0},\"title\":{\"text\":\"Evolution de la sous-nutrition par continent :\"},\"barmode\":\"relative\"},                        {\"responsive\": true}                    ).then(function(){\n",
       "                            \n",
       "var gd = document.getElementById('a4852521-644b-49b1-b18e-65a80b9f5bef');\n",
       "var x = new MutationObserver(function (mutations, observer) {{\n",
       "        var display = window.getComputedStyle(gd).display;\n",
       "        if (!display || display === 'none') {{\n",
       "            console.log([gd, 'removed!']);\n",
       "            Plotly.purge(gd);\n",
       "            observer.disconnect();\n",
       "        }}\n",
       "}});\n",
       "\n",
       "// Listen for the removal of the full notebook cells\n",
       "var notebookContainer = gd.closest('#notebook-container');\n",
       "if (notebookContainer) {{\n",
       "    x.observe(notebookContainer, {childList: true});\n",
       "}}\n",
       "\n",
       "// Listen for the clearing of the current output cell\n",
       "var outputEl = gd.closest('.output');\n",
       "if (outputEl) {{\n",
       "    x.observe(outputEl, {childList: true});\n",
       "}}\n",
       "\n",
       "                        })                };                });            </script>        </div>"
      ]
     },
     "metadata": {},
     "output_type": "display_data"
    }
   ],
   "source": [
    "# Mise en forme du fichier avec les noms de contients et les codes iso\n",
    "sousNut_cont = sousNut\n",
    "sousNut_cont['Région'] = \"\"\n",
    "sousNut_cont['Iso']= \"\"\n",
    "sousNut_cont.to_csv('sousNut_cont.csv', index=False)\n",
    "sousNut_contT = pd.read_csv('sousNut_contT.csv', sep = ';')\n",
    "\n",
    "\n",
    "# J'enlève les années 2017 et 2018 puisque le fichier aide ne contient pas de données pour ces deux années\n",
    "sousNut_contTs= sousNut_contT[(sousNut_contT['Année']=='2012-2014')|(sousNut_contT['Année']=='2013-2015')\n",
    "                                  |(sousNut_contT['Année']=='2014-2016')| (sousNut_contT['Année']=='2015-2017')]\n",
    "sousNut_contTs\n",
    "\n",
    "# graf par continent avec historique sur les 4 ans\n",
    "px.histogram(sousNut_contTs, x=\"Année\", y=\"Valeur\", color=\"Région\", facet_col=\"Région\", title='Evolution de la sous-nutrition par continent :')"
   ]
  },
  {
   "cell_type": "code",
   "execution_count": 116,
   "id": "5b08531e",
   "metadata": {
    "jupyter": {
     "source_hidden": true
    }
   },
   "outputs": [
    {
     "name": "stdout",
     "output_type": "stream",
     "text": [
      "Répartition géographique de la sous-nutrition dans le monde en 2016 :\n"
     ]
    },
    {
     "data": {
      "application/vnd.plotly.v1+json": {
       "config": {
        "plotlyServerURL": "https://plot.ly"
       },
       "data": [
        {
         "coloraxis": "coloraxis",
         "geo": "geo",
         "hovertemplate": "<b>%{hovertext}</b><br><br>Iso=%{location}<br>Sous-Nutrition en 2016=%{z}<extra></extra>",
         "hovertext": [
          "Afghanistan",
          "Afrique du Sud",
          "Albanie",
          "Algérie",
          "Allemagne",
          "Andorre",
          "Angola",
          "Antigua-et-Barbuda",
          "Arabie saoudite",
          "Argentine",
          "Arménie",
          "Australie",
          "Autriche",
          "Azerbaïdjan",
          "Bahamas",
          "Bahreïn",
          "Bangladesh",
          "Barbade",
          "Bélarus",
          "Belgique",
          "Belize",
          "Bénin",
          "Bermudes",
          "Bhoutan",
          "Bolivie (État plurinational de)",
          "Bosnie-Herzégovine",
          "Botswana",
          "Brésil",
          "Brunéi Darussalam",
          "Bulgarie",
          "Burkina Faso",
          "Burundi",
          "Cabo Verde",
          "Cambodge",
          "Cameroun",
          "Canada",
          "Chili",
          "Chine - RAS de Hong-Kong",
          "Chine - RAS de Macao",
          "Chine continentale",
          "Chine Taiwan Province de",
          "Chypre",
          "Colombie",
          "Comores",
          "Congo",
          "Costa Rica",
          "Côte d'Ivoire",
          "Croatie",
          "Cuba",
          "Danemark",
          "Djibouti",
          "Dominique",
          "Égypte",
          "El Salvador",
          "Émirats arabes unis",
          "Équateur",
          "Érythrée",
          "Espagne",
          "Estonie",
          "Eswatini",
          "États-Unis d'Amérique",
          "Éthiopie",
          "Fédération de Russie",
          "Fidji",
          "Finlande",
          "France",
          "Gabon",
          "Gambie",
          "Géorgie",
          "Ghana",
          "Grèce",
          "Grenade",
          "Groenland",
          "Guatemala",
          "Guinée",
          "Guinée équatoriale",
          "Guinée-Bissau",
          "Guyana",
          "Haïti",
          "Honduras",
          "Hongrie",
          "Îles Cook",
          "Îles Marshall",
          "Îles Salomon",
          "Inde",
          "Indonésie",
          "Iran (République islamique d')",
          "Iraq",
          "Irlande",
          "Islande",
          "Israël",
          "Italie",
          "Jamaïque",
          "Japon",
          "Jordanie",
          "Kazakhstan",
          "Kenya",
          "Kirghizistan",
          "Kiribati",
          "Koweït",
          "Lesotho",
          "Lettonie",
          "Liban",
          "Libéria",
          "Libye",
          "Lituanie",
          "Luxembourg",
          "Macédoine du Nord",
          "Madagascar",
          "Malaisie",
          "Malawi",
          "Maldives",
          "Mali",
          "Malte",
          "Maroc",
          "Maurice",
          "Mauritanie",
          "Mexique",
          "Micronésie (États fédérés de)",
          "Mongolie",
          "Monténégro",
          "Mozambique",
          "Myanmar",
          "Namibie",
          "Nauru",
          "Népal",
          "Nicaragua",
          "Niger",
          "Nigéria",
          "Nioué",
          "Norvège",
          "Nouvelle-Calédonie",
          "Nouvelle-Zélande",
          "Oman",
          "Ouganda",
          "Ouzbékistan",
          "Pakistan",
          "Palaos",
          "Palestine",
          "Panama",
          "Papouasie-Nouvelle-Guinée",
          "Paraguay",
          "Pays-Bas",
          "Pérou",
          "Philippines",
          "Pologne",
          "Polynésie française",
          "Porto Rico",
          "Portugal",
          "Qatar",
          "République arabe syrienne",
          "République centrafricaine",
          "République de Corée",
          "République de Moldova",
          "République démocratique du Congo",
          "République démocratique populaire lao",
          "République dominicaine",
          "République populaire démocratique de Corée",
          "République-Unie de Tanzanie",
          "Roumanie",
          "Royaume-Uni de Grande-Bretagne et d'Irlande du Nord",
          "Rwanda",
          "Sainte-Lucie",
          "Saint-Kitts-et-Nevis",
          "Saint-Vincent-et-les Grenadines",
          "Samoa",
          "Samoa américaines",
          "Sao Tomé-et-Principe",
          "Sénégal",
          "Serbie",
          "Seychelles",
          "Sierra Leone",
          "Singapour",
          "Slovaquie",
          "Slovénie",
          "Somalie",
          "Soudan",
          "Soudan du Sud",
          "Sri Lanka",
          "Suède",
          "Suisse",
          "Suriname",
          "Tadjikistan",
          "Tchad",
          "Tchéquie",
          "Thaïlande",
          "Timor-Leste",
          "Togo",
          "Tokélaou",
          "Tonga",
          "Trinité-et-Tobago",
          "Tunisie",
          "Turkménistan",
          "Turquie",
          "Tuvalu",
          "Ukraine",
          "Uruguay",
          "Vanuatu",
          "Venezuela (République bolivarienne du)",
          "Viet Nam",
          "Yémen",
          "Zambie",
          "Zimbabwe"
         ],
         "locations": [
          "AFG",
          "ZAF",
          "ALB",
          "DZA",
          "DEU",
          "AND",
          "AGO",
          "ATG",
          "SAU",
          "ARG",
          "ARM",
          "AUS",
          "AUT",
          "AZE",
          "BHS",
          "BHR",
          "BGD",
          "BRB",
          "BLR",
          "BEL",
          "BLZ",
          "BEN",
          "BMU",
          "BTN",
          "BOL",
          "BIH",
          "BWA",
          "BRA",
          "BRN",
          "BGR",
          "BFA",
          "BDI",
          "CPV",
          "KHM",
          "CMR",
          "CAN",
          "CHL",
          "HGK",
          "MAC",
          "CHN",
          "TWN",
          "CYP",
          "COL",
          "COM",
          "COG",
          "CRI",
          "CIV",
          "HRV",
          "CUB",
          "DNK",
          "DJI",
          "DMA",
          "EGY",
          "SLV",
          "EAU",
          "ECU",
          "ERI",
          "ESP",
          "EST",
          "SWZ",
          "USA",
          "ETH",
          "RUS",
          "FJI",
          "FIN",
          "FRA",
          "GAB",
          "GMB",
          "GEO",
          "GHA",
          "GRC",
          "GRD",
          "GRL",
          "GTM",
          "GIN",
          "GIE",
          "GNB",
          "GUY",
          "HTI",
          "HND",
          "HUN",
          "COK",
          "MHL",
          "SLB",
          "IND",
          "IDN",
          "IRN",
          "IRQ",
          "IRL",
          "ISL",
          "ISR",
          "ITA",
          "JAM",
          "JPN",
          "JOR",
          "KAZ",
          "KEN",
          "KGZ",
          "KIR",
          "KWT",
          "LSO",
          "LVA",
          "LBN",
          "LBR",
          "LBY",
          "LTU",
          "LUX",
          "MKD",
          "MDG",
          "MYS",
          "MWI",
          "MDV",
          "MLI",
          "MLT",
          "MAR",
          "MUS",
          "MRT",
          "MEX",
          "FSM",
          "MNG",
          "MNE",
          "MOZ",
          "MMR",
          "NAM",
          "NRU",
          "NPL",
          "NIC",
          "NER",
          "NGA",
          "NIU",
          "NOR",
          "NCL",
          "NZL",
          "OMN",
          "UGA",
          "UZB",
          "PAK",
          "PLW",
          "PSE",
          "PAN",
          "PNG",
          "PRY",
          "NLD",
          "PER",
          "PHL",
          "POL",
          "PYF",
          "PRI",
          "PRT",
          "QAT",
          "SYR",
          "CAF",
          "KOR",
          "MDA",
          "COD",
          "LAO",
          "DOM",
          "PRK",
          "TZA",
          "ROU",
          "GBR",
          "RWA",
          "LCA",
          "KNA",
          "VCT",
          "WSM",
          "WSM",
          "STP",
          "SEN",
          "SRB",
          "SYC",
          "SLE",
          "SGP",
          "SVK",
          "SVN",
          "SOM",
          "SDN",
          "SSD",
          "LKA",
          "SWE",
          "CHE",
          "SUR",
          "TJK",
          "TCD",
          "CZE",
          "THA",
          "TLS",
          "TGO",
          "TKL",
          "TON",
          "TTO",
          "TUN",
          "TKM",
          "TUR",
          "TUV",
          "UKR",
          "URY",
          "VUT",
          "VEN",
          "VNM",
          "YEM",
          "ZMB",
          "ZWE"
         ],
         "name": "",
         "type": "choropleth",
         "z": [
          9.7,
          3,
          0.1,
          1.3,
          0,
          0,
          5.6,
          0,
          1.5,
          1.3,
          0,
          0,
          0,
          0,
          0,
          0,
          22.3,
          0,
          0,
          0,
          0,
          0.8,
          0,
          0,
          1.7,
          0,
          0.4,
          0,
          0,
          0.2,
          3.4,
          0,
          0,
          2.4,
          1.6,
          0,
          0.6,
          0,
          0,
          0,
          0.9,
          0,
          2.8,
          0,
          1.3,
          0.2,
          4.6,
          0,
          0,
          0,
          0,
          0,
          4.5,
          0.6,
          0.3,
          1.5,
          0,
          0,
          0,
          0.2,
          0,
          21.3,
          0,
          0,
          0,
          0,
          0.3,
          0.3,
          0.2,
          2.1,
          0,
          0,
          0,
          2.7,
          0,
          0,
          0,
          0,
          5.2,
          1.3,
          0,
          0,
          0,
          0,
          190.9,
          24,
          3.9,
          8.8,
          0,
          0,
          0,
          0,
          0.3,
          0,
          0.8,
          0,
          11.5,
          0.4,
          0,
          0,
          0.8,
          0,
          0.4,
          1.8,
          0,
          0,
          0,
          0,
          10.3,
          1.1,
          2.9,
          0,
          0.9,
          0,
          1.3,
          0,
          0.5,
          7.9,
          0,
          0.6,
          0,
          9.2,
          7.2,
          0.3,
          0,
          1.6,
          1.1,
          0,
          22.2,
          0,
          0,
          0,
          0,
          0.4,
          0,
          0.9,
          24.6,
          0,
          0,
          0.3,
          0,
          0.6,
          0,
          2.1,
          15.8,
          0,
          0,
          0,
          0,
          0,
          0,
          0,
          0,
          0,
          0,
          0,
          0.7,
          11.6,
          13,
          0,
          0,
          4.1,
          0,
          0,
          0,
          0,
          0,
          0,
          1.5,
          0.4,
          0,
          2,
          0,
          0.4,
          0,
          0,
          4.8,
          0,
          1.7,
          0,
          0,
          0,
          0,
          5.3,
          0,
          6,
          0.4,
          1.6,
          0,
          0,
          0,
          0,
          0.2,
          0,
          0,
          0,
          0,
          0,
          6.2,
          7.1,
          0,
          0,
          0
         ]
        }
       ],
       "layout": {
        "autosize": true,
        "coloraxis": {
         "cmax": 5,
         "cmin": 0,
         "colorbar": {
          "title": {
           "text": "Sous-Nutrition en 2016"
          }
         },
         "colorscale": [
          [
           0,
           "#0d0887"
          ],
          [
           0.1111111111111111,
           "#46039f"
          ],
          [
           0.2222222222222222,
           "#7201a8"
          ],
          [
           0.3333333333333333,
           "#9c179e"
          ],
          [
           0.4444444444444444,
           "#bd3786"
          ],
          [
           0.5555555555555556,
           "#d8576b"
          ],
          [
           0.6666666666666666,
           "#ed7953"
          ],
          [
           0.7777777777777778,
           "#fb9f3a"
          ],
          [
           0.8888888888888888,
           "#fdca26"
          ],
          [
           1,
           "#f0f921"
          ]
         ]
        },
        "geo": {
         "center": {},
         "domain": {
          "x": [
           0,
           1
          ],
          "y": [
           0,
           1
          ]
         }
        },
        "legend": {
         "tracegroupgap": 0
        },
        "margin": {
         "t": 60
        },
        "template": {
         "data": {
          "bar": [
           {
            "error_x": {
             "color": "#2a3f5f"
            },
            "error_y": {
             "color": "#2a3f5f"
            },
            "marker": {
             "line": {
              "color": "#E5ECF6",
              "width": 0.5
             },
             "pattern": {
              "fillmode": "overlay",
              "size": 10,
              "solidity": 0.2
             }
            },
            "type": "bar"
           }
          ],
          "barpolar": [
           {
            "marker": {
             "line": {
              "color": "#E5ECF6",
              "width": 0.5
             },
             "pattern": {
              "fillmode": "overlay",
              "size": 10,
              "solidity": 0.2
             }
            },
            "type": "barpolar"
           }
          ],
          "carpet": [
           {
            "aaxis": {
             "endlinecolor": "#2a3f5f",
             "gridcolor": "white",
             "linecolor": "white",
             "minorgridcolor": "white",
             "startlinecolor": "#2a3f5f"
            },
            "baxis": {
             "endlinecolor": "#2a3f5f",
             "gridcolor": "white",
             "linecolor": "white",
             "minorgridcolor": "white",
             "startlinecolor": "#2a3f5f"
            },
            "type": "carpet"
           }
          ],
          "choropleth": [
           {
            "colorbar": {
             "outlinewidth": 0,
             "ticks": ""
            },
            "type": "choropleth"
           }
          ],
          "contour": [
           {
            "colorbar": {
             "outlinewidth": 0,
             "ticks": ""
            },
            "colorscale": [
             [
              0,
              "#0d0887"
             ],
             [
              0.1111111111111111,
              "#46039f"
             ],
             [
              0.2222222222222222,
              "#7201a8"
             ],
             [
              0.3333333333333333,
              "#9c179e"
             ],
             [
              0.4444444444444444,
              "#bd3786"
             ],
             [
              0.5555555555555556,
              "#d8576b"
             ],
             [
              0.6666666666666666,
              "#ed7953"
             ],
             [
              0.7777777777777778,
              "#fb9f3a"
             ],
             [
              0.8888888888888888,
              "#fdca26"
             ],
             [
              1,
              "#f0f921"
             ]
            ],
            "type": "contour"
           }
          ],
          "contourcarpet": [
           {
            "colorbar": {
             "outlinewidth": 0,
             "ticks": ""
            },
            "type": "contourcarpet"
           }
          ],
          "heatmap": [
           {
            "colorbar": {
             "outlinewidth": 0,
             "ticks": ""
            },
            "colorscale": [
             [
              0,
              "#0d0887"
             ],
             [
              0.1111111111111111,
              "#46039f"
             ],
             [
              0.2222222222222222,
              "#7201a8"
             ],
             [
              0.3333333333333333,
              "#9c179e"
             ],
             [
              0.4444444444444444,
              "#bd3786"
             ],
             [
              0.5555555555555556,
              "#d8576b"
             ],
             [
              0.6666666666666666,
              "#ed7953"
             ],
             [
              0.7777777777777778,
              "#fb9f3a"
             ],
             [
              0.8888888888888888,
              "#fdca26"
             ],
             [
              1,
              "#f0f921"
             ]
            ],
            "type": "heatmap"
           }
          ],
          "heatmapgl": [
           {
            "colorbar": {
             "outlinewidth": 0,
             "ticks": ""
            },
            "colorscale": [
             [
              0,
              "#0d0887"
             ],
             [
              0.1111111111111111,
              "#46039f"
             ],
             [
              0.2222222222222222,
              "#7201a8"
             ],
             [
              0.3333333333333333,
              "#9c179e"
             ],
             [
              0.4444444444444444,
              "#bd3786"
             ],
             [
              0.5555555555555556,
              "#d8576b"
             ],
             [
              0.6666666666666666,
              "#ed7953"
             ],
             [
              0.7777777777777778,
              "#fb9f3a"
             ],
             [
              0.8888888888888888,
              "#fdca26"
             ],
             [
              1,
              "#f0f921"
             ]
            ],
            "type": "heatmapgl"
           }
          ],
          "histogram": [
           {
            "marker": {
             "pattern": {
              "fillmode": "overlay",
              "size": 10,
              "solidity": 0.2
             }
            },
            "type": "histogram"
           }
          ],
          "histogram2d": [
           {
            "colorbar": {
             "outlinewidth": 0,
             "ticks": ""
            },
            "colorscale": [
             [
              0,
              "#0d0887"
             ],
             [
              0.1111111111111111,
              "#46039f"
             ],
             [
              0.2222222222222222,
              "#7201a8"
             ],
             [
              0.3333333333333333,
              "#9c179e"
             ],
             [
              0.4444444444444444,
              "#bd3786"
             ],
             [
              0.5555555555555556,
              "#d8576b"
             ],
             [
              0.6666666666666666,
              "#ed7953"
             ],
             [
              0.7777777777777778,
              "#fb9f3a"
             ],
             [
              0.8888888888888888,
              "#fdca26"
             ],
             [
              1,
              "#f0f921"
             ]
            ],
            "type": "histogram2d"
           }
          ],
          "histogram2dcontour": [
           {
            "colorbar": {
             "outlinewidth": 0,
             "ticks": ""
            },
            "colorscale": [
             [
              0,
              "#0d0887"
             ],
             [
              0.1111111111111111,
              "#46039f"
             ],
             [
              0.2222222222222222,
              "#7201a8"
             ],
             [
              0.3333333333333333,
              "#9c179e"
             ],
             [
              0.4444444444444444,
              "#bd3786"
             ],
             [
              0.5555555555555556,
              "#d8576b"
             ],
             [
              0.6666666666666666,
              "#ed7953"
             ],
             [
              0.7777777777777778,
              "#fb9f3a"
             ],
             [
              0.8888888888888888,
              "#fdca26"
             ],
             [
              1,
              "#f0f921"
             ]
            ],
            "type": "histogram2dcontour"
           }
          ],
          "mesh3d": [
           {
            "colorbar": {
             "outlinewidth": 0,
             "ticks": ""
            },
            "type": "mesh3d"
           }
          ],
          "parcoords": [
           {
            "line": {
             "colorbar": {
              "outlinewidth": 0,
              "ticks": ""
             }
            },
            "type": "parcoords"
           }
          ],
          "pie": [
           {
            "automargin": true,
            "type": "pie"
           }
          ],
          "scatter": [
           {
            "marker": {
             "colorbar": {
              "outlinewidth": 0,
              "ticks": ""
             }
            },
            "type": "scatter"
           }
          ],
          "scatter3d": [
           {
            "line": {
             "colorbar": {
              "outlinewidth": 0,
              "ticks": ""
             }
            },
            "marker": {
             "colorbar": {
              "outlinewidth": 0,
              "ticks": ""
             }
            },
            "type": "scatter3d"
           }
          ],
          "scattercarpet": [
           {
            "marker": {
             "colorbar": {
              "outlinewidth": 0,
              "ticks": ""
             }
            },
            "type": "scattercarpet"
           }
          ],
          "scattergeo": [
           {
            "marker": {
             "colorbar": {
              "outlinewidth": 0,
              "ticks": ""
             }
            },
            "type": "scattergeo"
           }
          ],
          "scattergl": [
           {
            "marker": {
             "colorbar": {
              "outlinewidth": 0,
              "ticks": ""
             }
            },
            "type": "scattergl"
           }
          ],
          "scattermapbox": [
           {
            "marker": {
             "colorbar": {
              "outlinewidth": 0,
              "ticks": ""
             }
            },
            "type": "scattermapbox"
           }
          ],
          "scatterpolar": [
           {
            "marker": {
             "colorbar": {
              "outlinewidth": 0,
              "ticks": ""
             }
            },
            "type": "scatterpolar"
           }
          ],
          "scatterpolargl": [
           {
            "marker": {
             "colorbar": {
              "outlinewidth": 0,
              "ticks": ""
             }
            },
            "type": "scatterpolargl"
           }
          ],
          "scatterternary": [
           {
            "marker": {
             "colorbar": {
              "outlinewidth": 0,
              "ticks": ""
             }
            },
            "type": "scatterternary"
           }
          ],
          "surface": [
           {
            "colorbar": {
             "outlinewidth": 0,
             "ticks": ""
            },
            "colorscale": [
             [
              0,
              "#0d0887"
             ],
             [
              0.1111111111111111,
              "#46039f"
             ],
             [
              0.2222222222222222,
              "#7201a8"
             ],
             [
              0.3333333333333333,
              "#9c179e"
             ],
             [
              0.4444444444444444,
              "#bd3786"
             ],
             [
              0.5555555555555556,
              "#d8576b"
             ],
             [
              0.6666666666666666,
              "#ed7953"
             ],
             [
              0.7777777777777778,
              "#fb9f3a"
             ],
             [
              0.8888888888888888,
              "#fdca26"
             ],
             [
              1,
              "#f0f921"
             ]
            ],
            "type": "surface"
           }
          ],
          "table": [
           {
            "cells": {
             "fill": {
              "color": "#EBF0F8"
             },
             "line": {
              "color": "white"
             }
            },
            "header": {
             "fill": {
              "color": "#C8D4E3"
             },
             "line": {
              "color": "white"
             }
            },
            "type": "table"
           }
          ]
         },
         "layout": {
          "annotationdefaults": {
           "arrowcolor": "#2a3f5f",
           "arrowhead": 0,
           "arrowwidth": 1
          },
          "autotypenumbers": "strict",
          "coloraxis": {
           "colorbar": {
            "outlinewidth": 0,
            "ticks": ""
           }
          },
          "colorscale": {
           "diverging": [
            [
             0,
             "#8e0152"
            ],
            [
             0.1,
             "#c51b7d"
            ],
            [
             0.2,
             "#de77ae"
            ],
            [
             0.3,
             "#f1b6da"
            ],
            [
             0.4,
             "#fde0ef"
            ],
            [
             0.5,
             "#f7f7f7"
            ],
            [
             0.6,
             "#e6f5d0"
            ],
            [
             0.7,
             "#b8e186"
            ],
            [
             0.8,
             "#7fbc41"
            ],
            [
             0.9,
             "#4d9221"
            ],
            [
             1,
             "#276419"
            ]
           ],
           "sequential": [
            [
             0,
             "#0d0887"
            ],
            [
             0.1111111111111111,
             "#46039f"
            ],
            [
             0.2222222222222222,
             "#7201a8"
            ],
            [
             0.3333333333333333,
             "#9c179e"
            ],
            [
             0.4444444444444444,
             "#bd3786"
            ],
            [
             0.5555555555555556,
             "#d8576b"
            ],
            [
             0.6666666666666666,
             "#ed7953"
            ],
            [
             0.7777777777777778,
             "#fb9f3a"
            ],
            [
             0.8888888888888888,
             "#fdca26"
            ],
            [
             1,
             "#f0f921"
            ]
           ],
           "sequentialminus": [
            [
             0,
             "#0d0887"
            ],
            [
             0.1111111111111111,
             "#46039f"
            ],
            [
             0.2222222222222222,
             "#7201a8"
            ],
            [
             0.3333333333333333,
             "#9c179e"
            ],
            [
             0.4444444444444444,
             "#bd3786"
            ],
            [
             0.5555555555555556,
             "#d8576b"
            ],
            [
             0.6666666666666666,
             "#ed7953"
            ],
            [
             0.7777777777777778,
             "#fb9f3a"
            ],
            [
             0.8888888888888888,
             "#fdca26"
            ],
            [
             1,
             "#f0f921"
            ]
           ]
          },
          "colorway": [
           "#636efa",
           "#EF553B",
           "#00cc96",
           "#ab63fa",
           "#FFA15A",
           "#19d3f3",
           "#FF6692",
           "#B6E880",
           "#FF97FF",
           "#FECB52"
          ],
          "font": {
           "color": "#2a3f5f"
          },
          "geo": {
           "bgcolor": "white",
           "lakecolor": "white",
           "landcolor": "#E5ECF6",
           "showlakes": true,
           "showland": true,
           "subunitcolor": "white"
          },
          "hoverlabel": {
           "align": "left"
          },
          "hovermode": "closest",
          "mapbox": {
           "style": "light"
          },
          "paper_bgcolor": "white",
          "plot_bgcolor": "#E5ECF6",
          "polar": {
           "angularaxis": {
            "gridcolor": "white",
            "linecolor": "white",
            "ticks": ""
           },
           "bgcolor": "#E5ECF6",
           "radialaxis": {
            "gridcolor": "white",
            "linecolor": "white",
            "ticks": ""
           }
          },
          "scene": {
           "xaxis": {
            "backgroundcolor": "#E5ECF6",
            "gridcolor": "white",
            "gridwidth": 2,
            "linecolor": "white",
            "showbackground": true,
            "ticks": "",
            "zerolinecolor": "white"
           },
           "yaxis": {
            "backgroundcolor": "#E5ECF6",
            "gridcolor": "white",
            "gridwidth": 2,
            "linecolor": "white",
            "showbackground": true,
            "ticks": "",
            "zerolinecolor": "white"
           },
           "zaxis": {
            "backgroundcolor": "#E5ECF6",
            "gridcolor": "white",
            "gridwidth": 2,
            "linecolor": "white",
            "showbackground": true,
            "ticks": "",
            "zerolinecolor": "white"
           }
          },
          "shapedefaults": {
           "line": {
            "color": "#2a3f5f"
           }
          },
          "ternary": {
           "aaxis": {
            "gridcolor": "white",
            "linecolor": "white",
            "ticks": ""
           },
           "baxis": {
            "gridcolor": "white",
            "linecolor": "white",
            "ticks": ""
           },
           "bgcolor": "#E5ECF6",
           "caxis": {
            "gridcolor": "white",
            "linecolor": "white",
            "ticks": ""
           }
          },
          "title": {
           "x": 0.05
          },
          "xaxis": {
           "automargin": true,
           "gridcolor": "white",
           "linecolor": "white",
           "ticks": "",
           "title": {
            "standoff": 15
           },
           "zerolinecolor": "white",
           "zerolinewidth": 2
          },
          "yaxis": {
           "automargin": true,
           "gridcolor": "white",
           "linecolor": "white",
           "ticks": "",
           "title": {
            "standoff": 15
           },
           "zerolinecolor": "white",
           "zerolinewidth": 2
          }
         }
        }
       }
      },
      "text/html": [
       "<div>                            <div id=\"0b1ae396-2f46-4217-a789-4f012de3be0d\" class=\"plotly-graph-div\" style=\"height:525px; width:100%;\"></div>            <script type=\"text/javascript\">                require([\"plotly\"], function(Plotly) {                    window.PLOTLYENV=window.PLOTLYENV || {};                                    if (document.getElementById(\"0b1ae396-2f46-4217-a789-4f012de3be0d\")) {                    Plotly.newPlot(                        \"0b1ae396-2f46-4217-a789-4f012de3be0d\",                        [{\"coloraxis\":\"coloraxis\",\"geo\":\"geo\",\"hovertemplate\":\"<b>%{hovertext}</b><br><br>Iso=%{location}<br>Sous-Nutrition en 2016=%{z}<extra></extra>\",\"hovertext\":[\"Afghanistan\",\"Afrique du Sud\",\"Albanie\",\"Alg\\u00e9rie\",\"Allemagne\",\"Andorre\",\"Angola\",\"Antigua-et-Barbuda\",\"Arabie saoudite\",\"Argentine\",\"Arm\\u00e9nie\",\"Australie\",\"Autriche\",\"Azerba\\u00efdjan\",\"Bahamas\",\"Bahre\\u00efn\",\"Bangladesh\",\"Barbade\",\"B\\u00e9larus\",\"Belgique\",\"Belize\",\"B\\u00e9nin\",\"Bermudes\",\"Bhoutan\",\"Bolivie (\\u00c9tat plurinational de)\",\"Bosnie-Herz\\u00e9govine\",\"Botswana\",\"Br\\u00e9sil\",\"Brun\\u00e9i Darussalam\",\"Bulgarie\",\"Burkina Faso\",\"Burundi\",\"Cabo Verde\",\"Cambodge\",\"Cameroun\",\"Canada\",\"Chili\",\"Chine - RAS de Hong-Kong\",\"Chine - RAS de Macao\",\"Chine continentale\",\"Chine Taiwan Province de\",\"Chypre\",\"Colombie\",\"Comores\",\"Congo\",\"Costa Rica\",\"C\\u00f4te d'Ivoire\",\"Croatie\",\"Cuba\",\"Danemark\",\"Djibouti\",\"Dominique\",\"\\u00c9gypte\",\"El Salvador\",\"\\u00c9mirats arabes unis\",\"\\u00c9quateur\",\"\\u00c9rythr\\u00e9e\",\"Espagne\",\"Estonie\",\"Eswatini\",\"\\u00c9tats-Unis d'Am\\u00e9rique\",\"\\u00c9thiopie\",\"F\\u00e9d\\u00e9ration de Russie\",\"Fidji\",\"Finlande\",\"France\",\"Gabon\",\"Gambie\",\"G\\u00e9orgie\",\"Ghana\",\"Gr\\u00e8ce\",\"Grenade\",\"Groenland\",\"Guatemala\",\"Guin\\u00e9e\",\"Guin\\u00e9e \\u00e9quatoriale\",\"Guin\\u00e9e-Bissau\",\"Guyana\",\"Ha\\u00efti\",\"Honduras\",\"Hongrie\",\"\\u00celes Cook\",\"\\u00celes Marshall\",\"\\u00celes Salomon\",\"Inde\",\"Indon\\u00e9sie\",\"Iran (R\\u00e9publique islamique d')\",\"Iraq\",\"Irlande\",\"Islande\",\"Isra\\u00ebl\",\"Italie\",\"Jama\\u00efque\",\"Japon\",\"Jordanie\",\"Kazakhstan\",\"Kenya\",\"Kirghizistan\",\"Kiribati\",\"Kowe\\u00eft\",\"Lesotho\",\"Lettonie\",\"Liban\",\"Lib\\u00e9ria\",\"Libye\",\"Lituanie\",\"Luxembourg\",\"Mac\\u00e9doine du Nord\",\"Madagascar\",\"Malaisie\",\"Malawi\",\"Maldives\",\"Mali\",\"Malte\",\"Maroc\",\"Maurice\",\"Mauritanie\",\"Mexique\",\"Micron\\u00e9sie (\\u00c9tats f\\u00e9d\\u00e9r\\u00e9s de)\",\"Mongolie\",\"Mont\\u00e9n\\u00e9gro\",\"Mozambique\",\"Myanmar\",\"Namibie\",\"Nauru\",\"N\\u00e9pal\",\"Nicaragua\",\"Niger\",\"Nig\\u00e9ria\",\"Niou\\u00e9\",\"Norv\\u00e8ge\",\"Nouvelle-Cal\\u00e9donie\",\"Nouvelle-Z\\u00e9lande\",\"Oman\",\"Ouganda\",\"Ouzb\\u00e9kistan\",\"Pakistan\",\"Palaos\",\"Palestine\",\"Panama\",\"Papouasie-Nouvelle-Guin\\u00e9e\",\"Paraguay\",\"Pays-Bas\",\"P\\u00e9rou\",\"Philippines\",\"Pologne\",\"Polyn\\u00e9sie fran\\u00e7aise\",\"Porto Rico\",\"Portugal\",\"Qatar\",\"R\\u00e9publique arabe syrienne\",\"R\\u00e9publique centrafricaine\",\"R\\u00e9publique de Cor\\u00e9e\",\"R\\u00e9publique de Moldova\",\"R\\u00e9publique d\\u00e9mocratique du Congo\",\"R\\u00e9publique d\\u00e9mocratique populaire lao\",\"R\\u00e9publique dominicaine\",\"R\\u00e9publique populaire d\\u00e9mocratique de Cor\\u00e9e\",\"R\\u00e9publique-Unie de Tanzanie\",\"Roumanie\",\"Royaume-Uni de Grande-Bretagne et d'Irlande du Nord\",\"Rwanda\",\"Sainte-Lucie\",\"Saint-Kitts-et-Nevis\",\"Saint-Vincent-et-les Grenadines\",\"Samoa\",\"Samoa am\\u00e9ricaines\",\"Sao Tom\\u00e9-et-Principe\",\"S\\u00e9n\\u00e9gal\",\"Serbie\",\"Seychelles\",\"Sierra Leone\",\"Singapour\",\"Slovaquie\",\"Slov\\u00e9nie\",\"Somalie\",\"Soudan\",\"Soudan du Sud\",\"Sri Lanka\",\"Su\\u00e8de\",\"Suisse\",\"Suriname\",\"Tadjikistan\",\"Tchad\",\"Tch\\u00e9quie\",\"Tha\\u00eflande\",\"Timor-Leste\",\"Togo\",\"Tok\\u00e9laou\",\"Tonga\",\"Trinit\\u00e9-et-Tobago\",\"Tunisie\",\"Turkm\\u00e9nistan\",\"Turquie\",\"Tuvalu\",\"Ukraine\",\"Uruguay\",\"Vanuatu\",\"Venezuela (R\\u00e9publique bolivarienne du)\",\"Viet Nam\",\"Y\\u00e9men\",\"Zambie\",\"Zimbabwe\"],\"locations\":[\"AFG\",\"ZAF\",\"ALB\",\"DZA\",\"DEU\",\"AND\",\"AGO\",\"ATG\",\"SAU\",\"ARG\",\"ARM\",\"AUS\",\"AUT\",\"AZE\",\"BHS\",\"BHR\",\"BGD\",\"BRB\",\"BLR\",\"BEL\",\"BLZ\",\"BEN\",\"BMU\",\"BTN\",\"BOL\",\"BIH\",\"BWA\",\"BRA\",\"BRN\",\"BGR\",\"BFA\",\"BDI\",\"CPV\",\"KHM\",\"CMR\",\"CAN\",\"CHL\",\"HGK\",\"MAC\",\"CHN\",\"TWN\",\"CYP\",\"COL\",\"COM\",\"COG\",\"CRI\",\"CIV\",\"HRV\",\"CUB\",\"DNK\",\"DJI\",\"DMA\",\"EGY\",\"SLV\",\"EAU\",\"ECU\",\"ERI\",\"ESP\",\"EST\",\"SWZ\",\"USA\",\"ETH\",\"RUS\",\"FJI\",\"FIN\",\"FRA\",\"GAB\",\"GMB\",\"GEO\",\"GHA\",\"GRC\",\"GRD\",\"GRL\",\"GTM\",\"GIN\",\"GIE\",\"GNB\",\"GUY\",\"HTI\",\"HND\",\"HUN\",\"COK\",\"MHL\",\"SLB\",\"IND\",\"IDN\",\"IRN\",\"IRQ\",\"IRL\",\"ISL\",\"ISR\",\"ITA\",\"JAM\",\"JPN\",\"JOR\",\"KAZ\",\"KEN\",\"KGZ\",\"KIR\",\"KWT\",\"LSO\",\"LVA\",\"LBN\",\"LBR\",\"LBY\",\"LTU\",\"LUX\",\"MKD\",\"MDG\",\"MYS\",\"MWI\",\"MDV\",\"MLI\",\"MLT\",\"MAR\",\"MUS\",\"MRT\",\"MEX\",\"FSM\",\"MNG\",\"MNE\",\"MOZ\",\"MMR\",\"NAM\",\"NRU\",\"NPL\",\"NIC\",\"NER\",\"NGA\",\"NIU\",\"NOR\",\"NCL\",\"NZL\",\"OMN\",\"UGA\",\"UZB\",\"PAK\",\"PLW\",\"PSE\",\"PAN\",\"PNG\",\"PRY\",\"NLD\",\"PER\",\"PHL\",\"POL\",\"PYF\",\"PRI\",\"PRT\",\"QAT\",\"SYR\",\"CAF\",\"KOR\",\"MDA\",\"COD\",\"LAO\",\"DOM\",\"PRK\",\"TZA\",\"ROU\",\"GBR\",\"RWA\",\"LCA\",\"KNA\",\"VCT\",\"WSM\",\"WSM\",\"STP\",\"SEN\",\"SRB\",\"SYC\",\"SLE\",\"SGP\",\"SVK\",\"SVN\",\"SOM\",\"SDN\",\"SSD\",\"LKA\",\"SWE\",\"CHE\",\"SUR\",\"TJK\",\"TCD\",\"CZE\",\"THA\",\"TLS\",\"TGO\",\"TKL\",\"TON\",\"TTO\",\"TUN\",\"TKM\",\"TUR\",\"TUV\",\"UKR\",\"URY\",\"VUT\",\"VEN\",\"VNM\",\"YEM\",\"ZMB\",\"ZWE\"],\"name\":\"\",\"z\":[9.7,3.0,0.1,1.3,0.0,0.0,5.6,0.0,1.5,1.3,0.0,0.0,0.0,0.0,0.0,0.0,22.3,0.0,0.0,0.0,0.0,0.8,0.0,0.0,1.7,0.0,0.4,0.0,0.0,0.2,3.4,0.0,0.0,2.4,1.6,0.0,0.6,0.0,0.0,0.0,0.9,0.0,2.8,0.0,1.3,0.2,4.6,0.0,0.0,0.0,0.0,0.0,4.5,0.6,0.3,1.5,0.0,0.0,0.0,0.2,0.0,21.3,0.0,0.0,0.0,0.0,0.3,0.3,0.2,2.1,0.0,0.0,0.0,2.7,0.0,0.0,0.0,0.0,5.2,1.3,0.0,0.0,0.0,0.0,190.9,24.0,3.9,8.8,0.0,0.0,0.0,0.0,0.3,0.0,0.8,0.0,11.5,0.4,0.0,0.0,0.8,0.0,0.4,1.8,0.0,0.0,0.0,0.0,10.3,1.1,2.9,0.0,0.9,0.0,1.3,0.0,0.5,7.9,0.0,0.6,0.0,9.2,7.2,0.3,0.0,1.6,1.1,0.0,22.2,0.0,0.0,0.0,0.0,0.4,0.0,0.9,24.6,0.0,0.0,0.3,0.0,0.6,0.0,2.1,15.8,0.0,0.0,0.0,0.0,0.0,0.0,0.0,0.0,0.0,0.0,0.0,0.7,11.6,13.0,0.0,0.0,4.1,0.0,0.0,0.0,0.0,0.0,0.0,1.5,0.4,0.0,2.0,0.0,0.4,0.0,0.0,4.8,0.0,1.7,0.0,0.0,0.0,0.0,5.3,0.0,6.0,0.4,1.6,0.0,0.0,0.0,0.0,0.2,0.0,0.0,0.0,0.0,0.0,6.2,7.1,0.0,0.0,0.0],\"type\":\"choropleth\"}],                        {\"template\":{\"data\":{\"bar\":[{\"error_x\":{\"color\":\"#2a3f5f\"},\"error_y\":{\"color\":\"#2a3f5f\"},\"marker\":{\"line\":{\"color\":\"#E5ECF6\",\"width\":0.5},\"pattern\":{\"fillmode\":\"overlay\",\"size\":10,\"solidity\":0.2}},\"type\":\"bar\"}],\"barpolar\":[{\"marker\":{\"line\":{\"color\":\"#E5ECF6\",\"width\":0.5},\"pattern\":{\"fillmode\":\"overlay\",\"size\":10,\"solidity\":0.2}},\"type\":\"barpolar\"}],\"carpet\":[{\"aaxis\":{\"endlinecolor\":\"#2a3f5f\",\"gridcolor\":\"white\",\"linecolor\":\"white\",\"minorgridcolor\":\"white\",\"startlinecolor\":\"#2a3f5f\"},\"baxis\":{\"endlinecolor\":\"#2a3f5f\",\"gridcolor\":\"white\",\"linecolor\":\"white\",\"minorgridcolor\":\"white\",\"startlinecolor\":\"#2a3f5f\"},\"type\":\"carpet\"}],\"choropleth\":[{\"colorbar\":{\"outlinewidth\":0,\"ticks\":\"\"},\"type\":\"choropleth\"}],\"contour\":[{\"colorbar\":{\"outlinewidth\":0,\"ticks\":\"\"},\"colorscale\":[[0.0,\"#0d0887\"],[0.1111111111111111,\"#46039f\"],[0.2222222222222222,\"#7201a8\"],[0.3333333333333333,\"#9c179e\"],[0.4444444444444444,\"#bd3786\"],[0.5555555555555556,\"#d8576b\"],[0.6666666666666666,\"#ed7953\"],[0.7777777777777778,\"#fb9f3a\"],[0.8888888888888888,\"#fdca26\"],[1.0,\"#f0f921\"]],\"type\":\"contour\"}],\"contourcarpet\":[{\"colorbar\":{\"outlinewidth\":0,\"ticks\":\"\"},\"type\":\"contourcarpet\"}],\"heatmap\":[{\"colorbar\":{\"outlinewidth\":0,\"ticks\":\"\"},\"colorscale\":[[0.0,\"#0d0887\"],[0.1111111111111111,\"#46039f\"],[0.2222222222222222,\"#7201a8\"],[0.3333333333333333,\"#9c179e\"],[0.4444444444444444,\"#bd3786\"],[0.5555555555555556,\"#d8576b\"],[0.6666666666666666,\"#ed7953\"],[0.7777777777777778,\"#fb9f3a\"],[0.8888888888888888,\"#fdca26\"],[1.0,\"#f0f921\"]],\"type\":\"heatmap\"}],\"heatmapgl\":[{\"colorbar\":{\"outlinewidth\":0,\"ticks\":\"\"},\"colorscale\":[[0.0,\"#0d0887\"],[0.1111111111111111,\"#46039f\"],[0.2222222222222222,\"#7201a8\"],[0.3333333333333333,\"#9c179e\"],[0.4444444444444444,\"#bd3786\"],[0.5555555555555556,\"#d8576b\"],[0.6666666666666666,\"#ed7953\"],[0.7777777777777778,\"#fb9f3a\"],[0.8888888888888888,\"#fdca26\"],[1.0,\"#f0f921\"]],\"type\":\"heatmapgl\"}],\"histogram\":[{\"marker\":{\"pattern\":{\"fillmode\":\"overlay\",\"size\":10,\"solidity\":0.2}},\"type\":\"histogram\"}],\"histogram2d\":[{\"colorbar\":{\"outlinewidth\":0,\"ticks\":\"\"},\"colorscale\":[[0.0,\"#0d0887\"],[0.1111111111111111,\"#46039f\"],[0.2222222222222222,\"#7201a8\"],[0.3333333333333333,\"#9c179e\"],[0.4444444444444444,\"#bd3786\"],[0.5555555555555556,\"#d8576b\"],[0.6666666666666666,\"#ed7953\"],[0.7777777777777778,\"#fb9f3a\"],[0.8888888888888888,\"#fdca26\"],[1.0,\"#f0f921\"]],\"type\":\"histogram2d\"}],\"histogram2dcontour\":[{\"colorbar\":{\"outlinewidth\":0,\"ticks\":\"\"},\"colorscale\":[[0.0,\"#0d0887\"],[0.1111111111111111,\"#46039f\"],[0.2222222222222222,\"#7201a8\"],[0.3333333333333333,\"#9c179e\"],[0.4444444444444444,\"#bd3786\"],[0.5555555555555556,\"#d8576b\"],[0.6666666666666666,\"#ed7953\"],[0.7777777777777778,\"#fb9f3a\"],[0.8888888888888888,\"#fdca26\"],[1.0,\"#f0f921\"]],\"type\":\"histogram2dcontour\"}],\"mesh3d\":[{\"colorbar\":{\"outlinewidth\":0,\"ticks\":\"\"},\"type\":\"mesh3d\"}],\"parcoords\":[{\"line\":{\"colorbar\":{\"outlinewidth\":0,\"ticks\":\"\"}},\"type\":\"parcoords\"}],\"pie\":[{\"automargin\":true,\"type\":\"pie\"}],\"scatter\":[{\"marker\":{\"colorbar\":{\"outlinewidth\":0,\"ticks\":\"\"}},\"type\":\"scatter\"}],\"scatter3d\":[{\"line\":{\"colorbar\":{\"outlinewidth\":0,\"ticks\":\"\"}},\"marker\":{\"colorbar\":{\"outlinewidth\":0,\"ticks\":\"\"}},\"type\":\"scatter3d\"}],\"scattercarpet\":[{\"marker\":{\"colorbar\":{\"outlinewidth\":0,\"ticks\":\"\"}},\"type\":\"scattercarpet\"}],\"scattergeo\":[{\"marker\":{\"colorbar\":{\"outlinewidth\":0,\"ticks\":\"\"}},\"type\":\"scattergeo\"}],\"scattergl\":[{\"marker\":{\"colorbar\":{\"outlinewidth\":0,\"ticks\":\"\"}},\"type\":\"scattergl\"}],\"scattermapbox\":[{\"marker\":{\"colorbar\":{\"outlinewidth\":0,\"ticks\":\"\"}},\"type\":\"scattermapbox\"}],\"scatterpolar\":[{\"marker\":{\"colorbar\":{\"outlinewidth\":0,\"ticks\":\"\"}},\"type\":\"scatterpolar\"}],\"scatterpolargl\":[{\"marker\":{\"colorbar\":{\"outlinewidth\":0,\"ticks\":\"\"}},\"type\":\"scatterpolargl\"}],\"scatterternary\":[{\"marker\":{\"colorbar\":{\"outlinewidth\":0,\"ticks\":\"\"}},\"type\":\"scatterternary\"}],\"surface\":[{\"colorbar\":{\"outlinewidth\":0,\"ticks\":\"\"},\"colorscale\":[[0.0,\"#0d0887\"],[0.1111111111111111,\"#46039f\"],[0.2222222222222222,\"#7201a8\"],[0.3333333333333333,\"#9c179e\"],[0.4444444444444444,\"#bd3786\"],[0.5555555555555556,\"#d8576b\"],[0.6666666666666666,\"#ed7953\"],[0.7777777777777778,\"#fb9f3a\"],[0.8888888888888888,\"#fdca26\"],[1.0,\"#f0f921\"]],\"type\":\"surface\"}],\"table\":[{\"cells\":{\"fill\":{\"color\":\"#EBF0F8\"},\"line\":{\"color\":\"white\"}},\"header\":{\"fill\":{\"color\":\"#C8D4E3\"},\"line\":{\"color\":\"white\"}},\"type\":\"table\"}]},\"layout\":{\"annotationdefaults\":{\"arrowcolor\":\"#2a3f5f\",\"arrowhead\":0,\"arrowwidth\":1},\"autotypenumbers\":\"strict\",\"coloraxis\":{\"colorbar\":{\"outlinewidth\":0,\"ticks\":\"\"}},\"colorscale\":{\"diverging\":[[0,\"#8e0152\"],[0.1,\"#c51b7d\"],[0.2,\"#de77ae\"],[0.3,\"#f1b6da\"],[0.4,\"#fde0ef\"],[0.5,\"#f7f7f7\"],[0.6,\"#e6f5d0\"],[0.7,\"#b8e186\"],[0.8,\"#7fbc41\"],[0.9,\"#4d9221\"],[1,\"#276419\"]],\"sequential\":[[0.0,\"#0d0887\"],[0.1111111111111111,\"#46039f\"],[0.2222222222222222,\"#7201a8\"],[0.3333333333333333,\"#9c179e\"],[0.4444444444444444,\"#bd3786\"],[0.5555555555555556,\"#d8576b\"],[0.6666666666666666,\"#ed7953\"],[0.7777777777777778,\"#fb9f3a\"],[0.8888888888888888,\"#fdca26\"],[1.0,\"#f0f921\"]],\"sequentialminus\":[[0.0,\"#0d0887\"],[0.1111111111111111,\"#46039f\"],[0.2222222222222222,\"#7201a8\"],[0.3333333333333333,\"#9c179e\"],[0.4444444444444444,\"#bd3786\"],[0.5555555555555556,\"#d8576b\"],[0.6666666666666666,\"#ed7953\"],[0.7777777777777778,\"#fb9f3a\"],[0.8888888888888888,\"#fdca26\"],[1.0,\"#f0f921\"]]},\"colorway\":[\"#636efa\",\"#EF553B\",\"#00cc96\",\"#ab63fa\",\"#FFA15A\",\"#19d3f3\",\"#FF6692\",\"#B6E880\",\"#FF97FF\",\"#FECB52\"],\"font\":{\"color\":\"#2a3f5f\"},\"geo\":{\"bgcolor\":\"white\",\"lakecolor\":\"white\",\"landcolor\":\"#E5ECF6\",\"showlakes\":true,\"showland\":true,\"subunitcolor\":\"white\"},\"hoverlabel\":{\"align\":\"left\"},\"hovermode\":\"closest\",\"mapbox\":{\"style\":\"light\"},\"paper_bgcolor\":\"white\",\"plot_bgcolor\":\"#E5ECF6\",\"polar\":{\"angularaxis\":{\"gridcolor\":\"white\",\"linecolor\":\"white\",\"ticks\":\"\"},\"bgcolor\":\"#E5ECF6\",\"radialaxis\":{\"gridcolor\":\"white\",\"linecolor\":\"white\",\"ticks\":\"\"}},\"scene\":{\"xaxis\":{\"backgroundcolor\":\"#E5ECF6\",\"gridcolor\":\"white\",\"gridwidth\":2,\"linecolor\":\"white\",\"showbackground\":true,\"ticks\":\"\",\"zerolinecolor\":\"white\"},\"yaxis\":{\"backgroundcolor\":\"#E5ECF6\",\"gridcolor\":\"white\",\"gridwidth\":2,\"linecolor\":\"white\",\"showbackground\":true,\"ticks\":\"\",\"zerolinecolor\":\"white\"},\"zaxis\":{\"backgroundcolor\":\"#E5ECF6\",\"gridcolor\":\"white\",\"gridwidth\":2,\"linecolor\":\"white\",\"showbackground\":true,\"ticks\":\"\",\"zerolinecolor\":\"white\"}},\"shapedefaults\":{\"line\":{\"color\":\"#2a3f5f\"}},\"ternary\":{\"aaxis\":{\"gridcolor\":\"white\",\"linecolor\":\"white\",\"ticks\":\"\"},\"baxis\":{\"gridcolor\":\"white\",\"linecolor\":\"white\",\"ticks\":\"\"},\"bgcolor\":\"#E5ECF6\",\"caxis\":{\"gridcolor\":\"white\",\"linecolor\":\"white\",\"ticks\":\"\"}},\"title\":{\"x\":0.05},\"xaxis\":{\"automargin\":true,\"gridcolor\":\"white\",\"linecolor\":\"white\",\"ticks\":\"\",\"title\":{\"standoff\":15},\"zerolinecolor\":\"white\",\"zerolinewidth\":2},\"yaxis\":{\"automargin\":true,\"gridcolor\":\"white\",\"linecolor\":\"white\",\"ticks\":\"\",\"title\":{\"standoff\":15},\"zerolinecolor\":\"white\",\"zerolinewidth\":2}}},\"geo\":{\"domain\":{\"x\":[0.0,1.0],\"y\":[0.0,1.0]},\"center\":{}},\"coloraxis\":{\"colorbar\":{\"title\":{\"text\":\"Sous-Nutrition en 2016\"}},\"colorscale\":[[0.0,\"#0d0887\"],[0.1111111111111111,\"#46039f\"],[0.2222222222222222,\"#7201a8\"],[0.3333333333333333,\"#9c179e\"],[0.4444444444444444,\"#bd3786\"],[0.5555555555555556,\"#d8576b\"],[0.6666666666666666,\"#ed7953\"],[0.7777777777777778,\"#fb9f3a\"],[0.8888888888888888,\"#fdca26\"],[1.0,\"#f0f921\"]],\"cmin\":0,\"cmax\":5},\"legend\":{\"tracegroupgap\":0},\"margin\":{\"t\":60}},                        {\"responsive\": true}                    ).then(function(){\n",
       "                            \n",
       "var gd = document.getElementById('0b1ae396-2f46-4217-a789-4f012de3be0d');\n",
       "var x = new MutationObserver(function (mutations, observer) {{\n",
       "        var display = window.getComputedStyle(gd).display;\n",
       "        if (!display || display === 'none') {{\n",
       "            console.log([gd, 'removed!']);\n",
       "            Plotly.purge(gd);\n",
       "            observer.disconnect();\n",
       "        }}\n",
       "}});\n",
       "\n",
       "// Listen for the removal of the full notebook cells\n",
       "var notebookContainer = gd.closest('#notebook-container');\n",
       "if (notebookContainer) {{\n",
       "    x.observe(notebookContainer, {childList: true});\n",
       "}}\n",
       "\n",
       "// Listen for the clearing of the current output cell\n",
       "var outputEl = gd.closest('.output');\n",
       "if (outputEl) {{\n",
       "    x.observe(outputEl, {childList: true});\n",
       "}}\n",
       "\n",
       "                        })                };                });            </script>        </div>"
      ]
     },
     "metadata": {},
     "output_type": "display_data"
    }
   ],
   "source": [
    "# Représentation graphique de la sous-nutrition : \n",
    "\n",
    "print(\"Répartition géographique de la sous-nutrition dans le monde en 2016 :\")\n",
    "sousNut_2017_cont = sousNut_contTs[sousNut_contTs['Année']=='2015-2017']\n",
    "px.choropleth(sousNut_2017_cont, color=\"Valeur\", locations=\"Iso\", hover_name=\"Zone\", range_color=(0,5), labels={'Valeur':'Sous-Nutrition en 2016'})\n",
    "\n"
   ]
  },
  {
   "cell_type": "markdown",
   "id": "0554885b",
   "metadata": {},
   "source": [
    "### Conclusions"
   ]
  },
  {
   "cell_type": "markdown",
   "id": "9ab7dd65",
   "metadata": {},
   "source": [
    "une DA forte n'implique pas nécessairement une bonne nutrition (cf répartition homme/animal - import/export) : voir exemple du Bangladesh"
   ]
  },
  {
   "cell_type": "markdown",
   "id": "8c061339",
   "metadata": {},
   "source": [
    "On remarque sur la carte que la sous-nutrition touche quasiment exclusivement des pays de l'hémisphère sud avec une relative stabilité.\n",
    "En effet, l'histogramme du point 7.5 montre que durant les 4 années étudiées, les taux d'aide par continent ont peu évolué.\n",
    "(A la hausse, sauf pour ce qui est de l'Asie qui montre une évolution à la baisse)."
   ]
  },
  {
   "cell_type": "code",
   "execution_count": null,
   "id": "bc574e03",
   "metadata": {
    "jupyter": {
     "source_hidden": true
    }
   },
   "outputs": [],
   "source": []
  }
 ],
 "metadata": {
  "kernelspec": {
   "display_name": "Python 3 (ipykernel)",
   "language": "python",
   "name": "python3"
  },
  "language_info": {
   "codemirror_mode": {
    "name": "ipython",
    "version": 3
   },
   "file_extension": ".py",
   "mimetype": "text/x-python",
   "name": "python",
   "nbconvert_exporter": "python",
   "pygments_lexer": "ipython3",
   "version": "3.9.7"
  },
  "toc": {
   "base_numbering": "0",
   "nav_menu": {},
   "number_sections": true,
   "sideBar": false,
   "skip_h1_title": true,
   "title_cell": "Table of Contents",
   "title_sidebar": "Contents",
   "toc_cell": false,
   "toc_position": {
    "height": "797px",
    "left": "21px",
    "top": "111.125px",
    "width": "384px"
   },
   "toc_section_display": true,
   "toc_window_display": true
  },
  "varInspector": {
   "cols": {
    "lenName": 16,
    "lenType": 16,
    "lenVar": 40
   },
   "kernels_config": {
    "python": {
     "delete_cmd_postfix": "",
     "delete_cmd_prefix": "del ",
     "library": "var_list.py",
     "varRefreshCmd": "print(var_dic_list())"
    },
    "r": {
     "delete_cmd_postfix": ") ",
     "delete_cmd_prefix": "rm(",
     "library": "var_list.r",
     "varRefreshCmd": "cat(var_dic_list()) "
    }
   },
   "oldHeight": 336.844,
   "position": {
    "height": "282.844px",
    "left": "1365px",
    "right": "20px",
    "top": "128px",
    "width": "520px"
   },
   "types_to_exclude": [
    "module",
    "function",
    "builtin_function_or_method",
    "instance",
    "_Feature"
   ],
   "varInspector_section_display": "block",
   "window_display": false
  }
 },
 "nbformat": 4,
 "nbformat_minor": 5
}
